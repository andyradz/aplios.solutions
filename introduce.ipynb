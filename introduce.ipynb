{
  "nbformat": 4,
  "nbformat_minor": 0,
  "metadata": {
    "colab": {
      "provenance": [],
      "authorship_tag": "ABX9TyO52ZrlItkTXu2rtIS/ZiNK",
      "include_colab_link": true
    },
    "kernelspec": {
      "name": "python3",
      "display_name": "Python 3"
    },
    "language_info": {
      "name": "python"
    },
    "accelerator": "TPU",
    "gpuClass": "standard"
  },
  "cells": [
    {
      "cell_type": "markdown",
      "metadata": {
        "id": "view-in-github",
        "colab_type": "text"
      },
      "source": [
        "<a href=\"https://colab.research.google.com/github/andyradz/aplios.solutions/blob/master/introduce.ipynb\" target=\"_parent\"><img src=\"https://colab.research.google.com/assets/colab-badge.svg\" alt=\"Open In Colab\"/></a>"
      ]
    },
    {
      "cell_type": "markdown",
      "source": [
        "# AR-DiplomaWorkspace"
      ],
      "metadata": {
        "id": "D8heaOw48eGP"
      }
    },
    {
      "cell_type": "markdown",
      "source": [
        "#### MOUNT GOOGLE DRIVE VOLUME"
      ],
      "metadata": {
        "id": "JoFm2ebZ8wMP"
      }
    },
    {
      "cell_type": "markdown",
      "source": [],
      "metadata": {
        "id": "RS4fTjK-8s-X"
      }
    },
    {
      "cell_type": "code",
      "execution_count": 27,
      "metadata": {
        "colab": {
          "base_uri": "https://localhost:8080/"
        },
        "id": "HNEHQd6EtyLP",
        "outputId": "50795b7d-8a74-4e72-ed96-528df73700fc"
      },
      "outputs": [
        {
          "output_type": "stream",
          "name": "stdout",
          "text": [
            "Mounted at /content/gdrive\n"
          ]
        }
      ],
      "source": [
        "## MOUNT GOOGLE DRIVE VOLUME\n",
        "\n",
        "from google.colab import drive\n",
        "drive.mount('/content/gdrive')"
      ]
    },
    {
      "cell_type": "markdown",
      "source": [
        "#### LIST GOOGLE DRIVE VOLUME"
      ],
      "metadata": {
        "id": "VRENRNID9FHj"
      }
    },
    {
      "cell_type": "markdown",
      "source": [],
      "metadata": {
        "id": "hbqb3Ems-2q3"
      }
    },
    {
      "cell_type": "code",
      "source": [
        "## LIST GOOGLE DRIVE VOLUME\n",
        "!ls -laFtA --full-time /content/gdrive \n",
        "\n",
        "### CREATE REQUIRED DATA FOLDERS\n",
        "\n",
        "!mkdir input\n",
        "!mkdir output"
      ],
      "metadata": {
        "colab": {
          "base_uri": "https://localhost:8080/"
        },
        "id": "lS9HUpvUuiZE",
        "outputId": "8675a247-ca4c-4dd2-bf85-8230a28ef75c"
      },
      "execution_count": 28,
      "outputs": [
        {
          "output_type": "stream",
          "name": "stdout",
          "text": [
            "total 16\n",
            "dr-x------  2 root root 4096 2022-11-25 07:32:08.000000000 +0000 .file-revisions-by-id/\n",
            "drwx------ 22 root root 4096 2022-11-25 07:32:08.000000000 +0000 MyDrive/\n",
            "dr-x------  2 root root 4096 2022-11-25 07:32:08.000000000 +0000 .shortcut-targets-by-id/\n",
            "drwx------  5 root root 4096 2022-11-25 07:32:08.000000000 +0000 .Trash-0/\n"
          ]
        }
      ]
    },
    {
      "cell_type": "code",
      "source": [
        "### DOWNLOAD AND INSTALL JAVA VIRTUAL MACHINE(JVM)\n",
        "\n",
        "!apt-get install openjdk-8-jdk-headless -qq > /dev/null"
      ],
      "metadata": {
        "id": "l07_EefG9i9t"
      },
      "execution_count": 29,
      "outputs": []
    },
    {
      "cell_type": "code",
      "source": [
        "### DOWNLOAD APACHE SPARK AND HADOOP ENVIRONMENT\n",
        "!wget https://dlcdn.apache.org/spark/spark-3.3.1/spark-3.3.1-bin-hadoop3.tgz > /dev/null\n",
        "\n",
        "### UNZIP SPARK ENVIRONMENT\n",
        "!tar xf spark-3.3.1-bin-hadoop3.tgz > /dev/null"
      ],
      "metadata": {
        "colab": {
          "base_uri": "https://localhost:8080/"
        },
        "id": "hErp8jy39pHI",
        "outputId": "438248e3-0297-4da7-f061-2b386be94d8d"
      },
      "execution_count": 30,
      "outputs": [
        {
          "output_type": "stream",
          "name": "stdout",
          "text": [
            "--2022-11-25 07:32:26--  https://dlcdn.apache.org/spark/spark-3.3.1/spark-3.3.1-bin-hadoop3.tgz\n",
            "Resolving dlcdn.apache.org (dlcdn.apache.org)... 151.101.2.132, 2a04:4e42::644\n",
            "Connecting to dlcdn.apache.org (dlcdn.apache.org)|151.101.2.132|:443... connected.\n",
            "HTTP request sent, awaiting response... 200 OK\n",
            "Length: 299350810 (285M) [application/x-gzip]\n",
            "Saving to: ‘spark-3.3.1-bin-hadoop3.tgz’\n",
            "\n",
            "spark-3.3.1-bin-had 100%[===================>] 285.48M   175MB/s    in 1.6s    \n",
            "\n",
            "2022-11-25 07:32:28 (175 MB/s) - ‘spark-3.3.1-bin-hadoop3.tgz’ saved [299350810/299350810]\n",
            "\n"
          ]
        }
      ]
    },
    {
      "cell_type": "code",
      "source": [
        "### SET SYSTEM VARIABLES FOR PYSPARK\n",
        "\n",
        "import os\n",
        "os.environ[\"JAVA_HOME\"] = \"/usr/lib/jvm/java-8-openjdk-amd64\"\n",
        "os.environ[\"SPARK_HOME\"] = '/content/spark-3.3.1-bin-hadoop3'\n",
        "os.environ['PYSPARK_SUBMIT_ARGS'] = '---jars /content/spark-3.3.1-bin-hadoop3/jars/spark-xml_2.12-0.11.0.jar pyspark-shell'"
      ],
      "metadata": {
        "id": "KHhDUqQ-9uU4"
      },
      "execution_count": 31,
      "outputs": []
    },
    {
      "cell_type": "code",
      "source": [
        "### INSTALL PYSPARK ENVIRONMENT\n",
        "!pip install -q pyspark > /dev/null\n",
        "\n",
        "### INSTALL LIBRARY FIND PYSPARK\n",
        "!pip install -q findspark > /dev/null\n",
        "\n",
        "### INITIAL PYSPARK ENVIRONMENT\n",
        "import findspark\n",
        "findspark.init()\n",
        "\n",
        "### CHECK PYSPARK LOCATION\n",
        "findspark.find()\n"
      ],
      "metadata": {
        "colab": {
          "base_uri": "https://localhost:8080/",
          "height": 35
        },
        "id": "L2jBbISv9zh2",
        "outputId": "032d4a51-efa5-4068-b91a-925d78a79012"
      },
      "execution_count": 32,
      "outputs": [
        {
          "output_type": "execute_result",
          "data": {
            "text/plain": [
              "'/content/spark-3.3.1-bin-hadoop3'"
            ],
            "application/vnd.google.colaboratory.intrinsic+json": {
              "type": "string"
            }
          },
          "metadata": {},
          "execution_count": 32
        }
      ]
    },
    {
      "cell_type": "code",
      "source": [
        "!sudo apt install --assume-yes p7zip-full\n",
        "\n",
        "!type(7z)"
      ],
      "metadata": {
        "colab": {
          "base_uri": "https://localhost:8080/"
        },
        "id": "JmWAJ2d7vOPp",
        "outputId": "dbb5bcff-e096-432d-e971-f47e035af5e8"
      },
      "execution_count": 33,
      "outputs": [
        {
          "output_type": "stream",
          "name": "stdout",
          "text": [
            "Reading package lists... Done\n",
            "Building dependency tree       \n",
            "Reading state information... Done\n",
            "p7zip-full is already the newest version (16.02+dfsg-6).\n",
            "The following package was automatically installed and is no longer required:\n",
            "  libnvidia-common-460\n",
            "Use 'sudo apt autoremove' to remove it.\n",
            "0 upgraded, 0 newly installed, 0 to remove and 5 not upgraded.\n",
            "/bin/bash: -c: line 0: syntax error near unexpected token `7z'\n",
            "/bin/bash: -c: line 0: `type(7z)'\n"
          ]
        }
      ]
    },
    {
      "cell_type": "code",
      "source": [
        "### LIST PYTHON INSTALLED PACKAGES\n",
        "\n",
        "!pip3 list -v\n"
      ],
      "metadata": {
        "id": "21B8dajJ-Bm2",
        "colab": {
          "base_uri": "https://localhost:8080/"
        },
        "outputId": "e467f2ab-2071-4bc8-facb-e2fc199e5076"
      },
      "execution_count": 34,
      "outputs": [
        {
          "output_type": "stream",
          "name": "stdout",
          "text": [
            "Package                       Version                Location                               Installer\n",
            "----------------------------- ---------------------- -------------------------------------- ---------\n",
            "absl-py                       1.3.0                  /usr/local/lib/python3.7/dist-packages pip\n",
            "aeppl                         0.0.33                 /usr/local/lib/python3.7/dist-packages pip\n",
            "aesara                        2.7.9                  /usr/local/lib/python3.7/dist-packages pip\n",
            "aiohttp                       3.8.3                  /usr/local/lib/python3.7/dist-packages pip\n",
            "aiosignal                     1.3.1                  /usr/local/lib/python3.7/dist-packages pip\n",
            "alabaster                     0.7.12                 /usr/local/lib/python3.7/dist-packages pip\n",
            "albumentations                1.2.1                  /usr/local/lib/python3.7/dist-packages pip\n",
            "altair                        4.2.0                  /usr/local/lib/python3.7/dist-packages pip\n",
            "appdirs                       1.4.4                  /usr/local/lib/python3.7/dist-packages pip\n",
            "arviz                         0.12.1                 /usr/local/lib/python3.7/dist-packages pip\n",
            "astor                         0.8.1                  /usr/local/lib/python3.7/dist-packages pip\n",
            "astropy                       4.3.1                  /usr/local/lib/python3.7/dist-packages pip\n",
            "astunparse                    1.6.3                  /usr/local/lib/python3.7/dist-packages pip\n",
            "async-timeout                 4.0.2                  /usr/local/lib/python3.7/dist-packages pip\n",
            "asynctest                     0.13.0                 /usr/local/lib/python3.7/dist-packages pip\n",
            "atari-py                      0.2.9                  /usr/local/lib/python3.7/dist-packages pip\n",
            "atomicwrites                  1.4.1                  /usr/local/lib/python3.7/dist-packages pip\n",
            "attrs                         22.1.0                 /usr/local/lib/python3.7/dist-packages pip\n",
            "audioread                     3.0.0                  /usr/local/lib/python3.7/dist-packages pip\n",
            "autograd                      1.5                    /usr/local/lib/python3.7/dist-packages pip\n",
            "Babel                         2.11.0                 /usr/local/lib/python3.7/dist-packages pip\n",
            "backcall                      0.2.0                  /usr/local/lib/python3.7/dist-packages pip\n",
            "beautifulsoup4                4.6.3                  /usr/local/lib/python3.7/dist-packages pip\n",
            "bleach                        5.0.1                  /usr/local/lib/python3.7/dist-packages pip\n",
            "blis                          0.7.9                  /usr/local/lib/python3.7/dist-packages pip\n",
            "bokeh                         2.3.3                  /usr/local/lib/python3.7/dist-packages pip\n",
            "branca                        0.6.0                  /usr/local/lib/python3.7/dist-packages pip\n",
            "bs4                           0.0.1                  /usr/local/lib/python3.7/dist-packages pip\n",
            "CacheControl                  0.12.11                /usr/local/lib/python3.7/dist-packages pip\n",
            "cached-property               1.5.2                  /usr/local/lib/python3.7/dist-packages pip\n",
            "cachetools                    5.2.0                  /usr/local/lib/python3.7/dist-packages pip\n",
            "catalogue                     2.0.8                  /usr/local/lib/python3.7/dist-packages pip\n",
            "certifi                       2022.9.24              /usr/local/lib/python3.7/dist-packages pip\n",
            "cffi                          1.15.1                 /usr/local/lib/python3.7/dist-packages pip\n",
            "cftime                        1.6.2                  /usr/local/lib/python3.7/dist-packages pip\n",
            "chardet                       3.0.4                  /usr/local/lib/python3.7/dist-packages pip\n",
            "charset-normalizer            2.1.1                  /usr/local/lib/python3.7/dist-packages pip\n",
            "click                         7.1.2                  /usr/local/lib/python3.7/dist-packages pip\n",
            "clikit                        0.6.2                  /usr/local/lib/python3.7/dist-packages pip\n",
            "cloudpickle                   1.5.0                  /usr/local/lib/python3.7/dist-packages pip\n",
            "cmake                         3.22.6                 /usr/local/lib/python3.7/dist-packages pip\n",
            "cmdstanpy                     1.0.8                  /usr/local/lib/python3.7/dist-packages pip\n",
            "colorcet                      3.0.1                  /usr/local/lib/python3.7/dist-packages pip\n",
            "colorlover                    0.3.0                  /usr/local/lib/python3.7/dist-packages pip\n",
            "community                     1.0.0b1                /usr/local/lib/python3.7/dist-packages pip\n",
            "confection                    0.0.3                  /usr/local/lib/python3.7/dist-packages pip\n",
            "cons                          0.4.5                  /usr/local/lib/python3.7/dist-packages pip\n",
            "contextlib2                   0.5.5                  /usr/local/lib/python3.7/dist-packages pip\n",
            "convertdate                   2.4.0                  /usr/local/lib/python3.7/dist-packages pip\n",
            "crashtest                     0.3.1                  /usr/local/lib/python3.7/dist-packages pip\n",
            "crcmod                        1.7                    /usr/local/lib/python3.7/dist-packages pip\n",
            "cufflinks                     0.17.3                 /usr/local/lib/python3.7/dist-packages pip\n",
            "cvxopt                        1.3.0                  /usr/local/lib/python3.7/dist-packages pip\n",
            "cvxpy                         1.2.2                  /usr/local/lib/python3.7/dist-packages pip\n",
            "cycler                        0.11.0                 /usr/local/lib/python3.7/dist-packages pip\n",
            "cymem                         2.0.7                  /usr/local/lib/python3.7/dist-packages pip\n",
            "Cython                        0.29.32                /usr/local/lib/python3.7/dist-packages pip\n",
            "daft                          0.0.4                  /usr/local/lib/python3.7/dist-packages pip\n",
            "dask                          2022.2.0               /usr/local/lib/python3.7/dist-packages pip\n",
            "datascience                   0.17.5                 /usr/local/lib/python3.7/dist-packages pip\n",
            "db-dtypes                     1.0.4                  /usr/local/lib/python3.7/dist-packages pip\n",
            "debugpy                       1.0.0                  /usr/local/lib/python3.7/dist-packages pip\n",
            "decorator                     4.4.2                  /usr/local/lib/python3.7/dist-packages pip\n",
            "defusedxml                    0.7.1                  /usr/local/lib/python3.7/dist-packages pip\n",
            "descartes                     1.1.0                  /usr/local/lib/python3.7/dist-packages pip\n",
            "dill                          0.3.6                  /usr/local/lib/python3.7/dist-packages pip\n",
            "distributed                   2022.2.0               /usr/local/lib/python3.7/dist-packages pip\n",
            "dlib                          19.24.0                /usr/local/lib/python3.7/dist-packages pip\n",
            "dm-tree                       0.1.7                  /usr/local/lib/python3.7/dist-packages pip\n",
            "dnspython                     2.2.1                  /usr/local/lib/python3.7/dist-packages pip\n",
            "docutils                      0.17.1                 /usr/local/lib/python3.7/dist-packages pip\n",
            "dopamine-rl                   1.0.5                  /usr/local/lib/python3.7/dist-packages pip\n",
            "earthengine-api               0.1.332                /usr/local/lib/python3.7/dist-packages pip\n",
            "easydict                      1.10                   /usr/local/lib/python3.7/dist-packages pip\n",
            "ecos                          2.0.10                 /usr/local/lib/python3.7/dist-packages pip\n",
            "editdistance                  0.5.3                  /usr/local/lib/python3.7/dist-packages pip\n",
            "en-core-web-sm                3.4.1                  /usr/local/lib/python3.7/dist-packages pip\n",
            "entrypoints                   0.4                    /usr/local/lib/python3.7/dist-packages pip\n",
            "ephem                         4.1.3                  /usr/local/lib/python3.7/dist-packages pip\n",
            "et-xmlfile                    1.1.0                  /usr/local/lib/python3.7/dist-packages pip\n",
            "etils                         0.9.0                  /usr/local/lib/python3.7/dist-packages pip\n",
            "etuples                       0.3.8                  /usr/local/lib/python3.7/dist-packages pip\n",
            "fa2                           0.3.5                  /usr/local/lib/python3.7/dist-packages pip\n",
            "fastai                        2.7.10                 /usr/local/lib/python3.7/dist-packages pip\n",
            "fastcore                      1.5.27                 /usr/local/lib/python3.7/dist-packages pip\n",
            "fastdownload                  0.0.7                  /usr/local/lib/python3.7/dist-packages pip\n",
            "fastdtw                       0.3.4                  /usr/local/lib/python3.7/dist-packages pip\n",
            "fastjsonschema                2.16.2                 /usr/local/lib/python3.7/dist-packages pip\n",
            "fastprogress                  1.0.3                  /usr/local/lib/python3.7/dist-packages pip\n",
            "fastrlock                     0.8.1                  /usr/local/lib/python3.7/dist-packages pip\n",
            "feather-format                0.4.1                  /usr/local/lib/python3.7/dist-packages pip\n",
            "filelock                      3.8.0                  /usr/local/lib/python3.7/dist-packages pip\n",
            "findspark                     2.0.1                  /usr/local/lib/python3.7/dist-packages pip\n",
            "firebase-admin                5.3.0                  /usr/local/lib/python3.7/dist-packages pip\n",
            "fix-yahoo-finance             0.0.22                 /usr/local/lib/python3.7/dist-packages pip\n",
            "Flask                         1.1.4                  /usr/local/lib/python3.7/dist-packages pip\n",
            "flatbuffers                   1.12                   /usr/local/lib/python3.7/dist-packages pip\n",
            "folium                        0.12.1.post1           /usr/local/lib/python3.7/dist-packages pip\n",
            "frozenlist                    1.3.3                  /usr/local/lib/python3.7/dist-packages pip\n",
            "fsspec                        2022.11.0              /usr/local/lib/python3.7/dist-packages pip\n",
            "future                        0.16.0                 /usr/local/lib/python3.7/dist-packages pip\n",
            "gast                          0.4.0                  /usr/local/lib/python3.7/dist-packages pip\n",
            "GDAL                          2.2.2                  /usr/local/lib/python3.7/dist-packages pip\n",
            "gdown                         4.4.0                  /usr/local/lib/python3.7/dist-packages pip\n",
            "gensim                        3.6.0                  /usr/local/lib/python3.7/dist-packages pip\n",
            "geographiclib                 1.52                   /usr/local/lib/python3.7/dist-packages pip\n",
            "geopy                         1.17.0                 /usr/local/lib/python3.7/dist-packages pip\n",
            "gin-config                    0.5.0                  /usr/local/lib/python3.7/dist-packages pip\n",
            "glob2                         0.7                    /usr/local/lib/python3.7/dist-packages pip\n",
            "google                        2.0.3                  /usr/local/lib/python3.7/dist-packages pip\n",
            "google-api-core               2.8.2                  /usr/local/lib/python3.7/dist-packages pip\n",
            "google-api-python-client      1.12.11                /usr/local/lib/python3.7/dist-packages pip\n",
            "google-auth                   2.14.1                 /usr/local/lib/python3.7/dist-packages pip\n",
            "google-auth-httplib2          0.0.4                  /usr/local/lib/python3.7/dist-packages pip\n",
            "google-auth-oauthlib          0.4.6                  /usr/local/lib/python3.7/dist-packages pip\n",
            "google-cloud-bigquery         3.3.6                  /usr/local/lib/python3.7/dist-packages pip\n",
            "google-cloud-bigquery-storage 2.16.2                 /usr/local/lib/python3.7/dist-packages pip\n",
            "google-cloud-core             2.3.2                  /usr/local/lib/python3.7/dist-packages pip\n",
            "google-cloud-datastore        2.9.0                  /usr/local/lib/python3.7/dist-packages pip\n",
            "google-cloud-firestore        2.7.2                  /usr/local/lib/python3.7/dist-packages pip\n",
            "google-cloud-language         2.6.1                  /usr/local/lib/python3.7/dist-packages pip\n",
            "google-cloud-storage          2.5.0                  /usr/local/lib/python3.7/dist-packages pip\n",
            "google-cloud-translate        3.8.4                  /usr/local/lib/python3.7/dist-packages pip\n",
            "google-colab                  1.0.0                  /usr/local/lib/python3.7/dist-packages pip\n",
            "google-crc32c                 1.5.0                  /usr/local/lib/python3.7/dist-packages pip\n",
            "google-pasta                  0.2.0                  /usr/local/lib/python3.7/dist-packages pip\n",
            "google-resumable-media        2.4.0                  /usr/local/lib/python3.7/dist-packages pip\n",
            "googleapis-common-protos      1.57.0                 /usr/local/lib/python3.7/dist-packages pip\n",
            "googledrivedownloader         0.4                    /usr/local/lib/python3.7/dist-packages pip\n",
            "graphviz                      0.10.1                 /usr/local/lib/python3.7/dist-packages pip\n",
            "greenlet                      2.0.1                  /usr/local/lib/python3.7/dist-packages pip\n",
            "grpcio                        1.50.0                 /usr/local/lib/python3.7/dist-packages pip\n",
            "grpcio-status                 1.48.2                 /usr/local/lib/python3.7/dist-packages pip\n",
            "gspread                       3.4.2                  /usr/local/lib/python3.7/dist-packages pip\n",
            "gspread-dataframe             3.0.8                  /usr/local/lib/python3.7/dist-packages pip\n",
            "gym                           0.25.2                 /usr/local/lib/python3.7/dist-packages pip\n",
            "gym-notices                   0.0.8                  /usr/local/lib/python3.7/dist-packages pip\n",
            "h5py                          3.1.0                  /usr/local/lib/python3.7/dist-packages pip\n",
            "HeapDict                      1.0.1                  /usr/local/lib/python3.7/dist-packages pip\n",
            "hijri-converter               2.2.4                  /usr/local/lib/python3.7/dist-packages pip\n",
            "holidays                      0.17                   /usr/local/lib/python3.7/dist-packages pip\n",
            "holoviews                     1.14.9                 /usr/local/lib/python3.7/dist-packages pip\n",
            "html5lib                      1.0.1                  /usr/local/lib/python3.7/dist-packages pip\n",
            "httpimport                    0.5.18                 /usr/local/lib/python3.7/dist-packages pip\n",
            "httplib2                      0.17.4                 /usr/local/lib/python3.7/dist-packages pip\n",
            "httpstan                      4.6.1                  /usr/local/lib/python3.7/dist-packages pip\n",
            "humanize                      0.5.1                  /usr/local/lib/python3.7/dist-packages pip\n",
            "hyperopt                      0.1.2                  /usr/local/lib/python3.7/dist-packages pip\n",
            "idna                          2.10                   /usr/local/lib/python3.7/dist-packages pip\n",
            "imageio                       2.9.0                  /usr/local/lib/python3.7/dist-packages pip\n",
            "imagesize                     1.4.1                  /usr/local/lib/python3.7/dist-packages pip\n",
            "imbalanced-learn              0.8.1                  /usr/local/lib/python3.7/dist-packages pip\n",
            "imblearn                      0.0                    /usr/local/lib/python3.7/dist-packages pip\n",
            "imgaug                        0.4.0                  /usr/local/lib/python3.7/dist-packages pip\n",
            "importlib-metadata            4.13.0                 /usr/local/lib/python3.7/dist-packages pip\n",
            "importlib-resources           5.10.0                 /usr/local/lib/python3.7/dist-packages pip\n",
            "imutils                       0.5.4                  /usr/local/lib/python3.7/dist-packages pip\n",
            "inflect                       2.1.0                  /usr/local/lib/python3.7/dist-packages pip\n",
            "intel-openmp                  2022.2.1               /usr/local/lib/python3.7/dist-packages pip\n",
            "intervaltree                  2.1.0                  /usr/local/lib/python3.7/dist-packages pip\n",
            "ipykernel                     5.3.4                  /usr/local/lib/python3.7/dist-packages pip\n",
            "ipython                       7.9.0                  /usr/local/lib/python3.7/dist-packages pip\n",
            "ipython-genutils              0.2.0                  /usr/local/lib/python3.7/dist-packages pip\n",
            "ipython-sql                   0.3.9                  /usr/local/lib/python3.7/dist-packages pip\n",
            "ipywidgets                    7.7.1                  /usr/local/lib/python3.7/dist-packages pip\n",
            "itsdangerous                  1.1.0                  /usr/local/lib/python3.7/dist-packages pip\n",
            "jax                           0.3.25                 /usr/local/lib/python3.7/dist-packages pip\n",
            "jaxlib                        0.3.25+cuda11.cudnn805 /usr/local/lib/python3.7/dist-packages pip\n",
            "jieba                         0.42.1                 /usr/local/lib/python3.7/dist-packages pip\n",
            "Jinja2                        2.11.3                 /usr/local/lib/python3.7/dist-packages pip\n",
            "joblib                        1.2.0                  /usr/local/lib/python3.7/dist-packages pip\n",
            "jpeg4py                       0.1.4                  /usr/local/lib/python3.7/dist-packages pip\n",
            "jsonschema                    4.3.3                  /usr/local/lib/python3.7/dist-packages pip\n",
            "jupyter-client                6.1.12                 /usr/local/lib/python3.7/dist-packages pip\n",
            "jupyter-console               6.1.0                  /usr/local/lib/python3.7/dist-packages pip\n",
            "jupyter-core                  4.11.2                 /usr/local/lib/python3.7/dist-packages pip\n",
            "jupyterlab-widgets            3.0.3                  /usr/local/lib/python3.7/dist-packages pip\n",
            "kaggle                        1.5.12                 /usr/local/lib/python3.7/dist-packages pip\n",
            "kapre                         0.3.7                  /usr/local/lib/python3.7/dist-packages pip\n",
            "keras                         2.9.0                  /usr/local/lib/python3.7/dist-packages pip\n",
            "Keras-Preprocessing           1.1.2                  /usr/local/lib/python3.7/dist-packages pip\n",
            "keras-vis                     0.4.1                  /usr/local/lib/python3.7/dist-packages pip\n",
            "kiwisolver                    1.4.4                  /usr/local/lib/python3.7/dist-packages pip\n",
            "korean-lunar-calendar         0.3.1                  /usr/local/lib/python3.7/dist-packages pip\n",
            "langcodes                     3.3.0                  /usr/local/lib/python3.7/dist-packages pip\n",
            "libclang                      14.0.6                 /usr/local/lib/python3.7/dist-packages pip\n",
            "librosa                       0.8.1                  /usr/local/lib/python3.7/dist-packages pip\n",
            "lightgbm                      2.2.3                  /usr/local/lib/python3.7/dist-packages pip\n",
            "llvmlite                      0.39.1                 /usr/local/lib/python3.7/dist-packages pip\n",
            "lmdb                          0.99                   /usr/local/lib/python3.7/dist-packages pip\n",
            "locket                        1.0.0                  /usr/local/lib/python3.7/dist-packages pip\n",
            "logical-unification           0.4.5                  /usr/local/lib/python3.7/dist-packages pip\n",
            "LunarCalendar                 0.0.9                  /usr/local/lib/python3.7/dist-packages pip\n",
            "lxml                          4.9.1                  /usr/local/lib/python3.7/dist-packages pip\n",
            "Markdown                      3.4.1                  /usr/local/lib/python3.7/dist-packages pip\n",
            "MarkupSafe                    2.0.1                  /usr/local/lib/python3.7/dist-packages pip\n",
            "marshmallow                   3.19.0                 /usr/local/lib/python3.7/dist-packages pip\n",
            "matplotlib                    3.2.2                  /usr/local/lib/python3.7/dist-packages pip\n",
            "matplotlib-venn               0.11.7                 /usr/local/lib/python3.7/dist-packages pip\n",
            "miniKanren                    1.0.3                  /usr/local/lib/python3.7/dist-packages pip\n",
            "missingno                     0.5.1                  /usr/local/lib/python3.7/dist-packages pip\n",
            "mistune                       0.8.4                  /usr/local/lib/python3.7/dist-packages pip\n",
            "mizani                        0.7.3                  /usr/local/lib/python3.7/dist-packages pip\n",
            "mkl                           2019.0                 /usr/local/lib/python3.7/dist-packages pip\n",
            "mlxtend                       0.14.0                 /usr/local/lib/python3.7/dist-packages pip\n",
            "more-itertools                9.0.0                  /usr/local/lib/python3.7/dist-packages pip\n",
            "moviepy                       0.2.3.5                /usr/local/lib/python3.7/dist-packages pip\n",
            "mpmath                        1.2.1                  /usr/local/lib/python3.7/dist-packages pip\n",
            "msgpack                       1.0.4                  /usr/local/lib/python3.7/dist-packages pip\n",
            "multidict                     6.0.2                  /usr/local/lib/python3.7/dist-packages pip\n",
            "multipledispatch              0.6.0                  /usr/local/lib/python3.7/dist-packages pip\n",
            "multitasking                  0.0.11                 /usr/local/lib/python3.7/dist-packages pip\n",
            "murmurhash                    1.0.9                  /usr/local/lib/python3.7/dist-packages pip\n",
            "music21                       5.5.0                  /usr/local/lib/python3.7/dist-packages pip\n",
            "natsort                       5.5.0                  /usr/local/lib/python3.7/dist-packages pip\n",
            "nbconvert                     5.6.1                  /usr/local/lib/python3.7/dist-packages pip\n",
            "nbformat                      5.7.0                  /usr/local/lib/python3.7/dist-packages pip\n",
            "netCDF4                       1.6.2                  /usr/local/lib/python3.7/dist-packages pip\n",
            "networkx                      2.6.3                  /usr/local/lib/python3.7/dist-packages pip\n",
            "nibabel                       3.0.2                  /usr/local/lib/python3.7/dist-packages pip\n",
            "nltk                          3.7                    /usr/local/lib/python3.7/dist-packages pip\n",
            "notebook                      5.7.16                 /usr/local/lib/python3.7/dist-packages pip\n",
            "numba                         0.56.4                 /usr/local/lib/python3.7/dist-packages pip\n",
            "numexpr                       2.8.4                  /usr/local/lib/python3.7/dist-packages pip\n",
            "numpy                         1.21.6                 /usr/local/lib/python3.7/dist-packages pip\n",
            "oauth2client                  4.1.3                  /usr/local/lib/python3.7/dist-packages pip\n",
            "oauthlib                      3.2.2                  /usr/local/lib/python3.7/dist-packages pip\n",
            "okgrade                       0.4.3                  /usr/local/lib/python3.7/dist-packages pip\n",
            "opencv-contrib-python         4.6.0.66               /usr/local/lib/python3.7/dist-packages pip\n",
            "opencv-python                 4.6.0.66               /usr/local/lib/python3.7/dist-packages pip\n",
            "opencv-python-headless        4.6.0.66               /usr/local/lib/python3.7/dist-packages pip\n",
            "openpyxl                      3.0.10                 /usr/local/lib/python3.7/dist-packages pip\n",
            "opt-einsum                    3.3.0                  /usr/local/lib/python3.7/dist-packages pip\n",
            "osqp                          0.6.2.post0            /usr/local/lib/python3.7/dist-packages pip\n",
            "packaging                     21.3                   /usr/local/lib/python3.7/dist-packages pip\n",
            "palettable                    3.3.0                  /usr/local/lib/python3.7/dist-packages pip\n",
            "pandas                        1.3.5                  /usr/local/lib/python3.7/dist-packages pip\n",
            "pandas-datareader             0.9.0                  /usr/local/lib/python3.7/dist-packages pip\n",
            "pandas-gbq                    0.17.9                 /usr/local/lib/python3.7/dist-packages pip\n",
            "pandas-profiling              1.4.1                  /usr/local/lib/python3.7/dist-packages pip\n",
            "pandocfilters                 1.5.0                  /usr/local/lib/python3.7/dist-packages pip\n",
            "panel                         0.12.1                 /usr/local/lib/python3.7/dist-packages pip\n",
            "param                         1.12.2                 /usr/local/lib/python3.7/dist-packages pip\n",
            "parso                         0.8.3                  /usr/local/lib/python3.7/dist-packages pip\n",
            "partd                         1.3.0                  /usr/local/lib/python3.7/dist-packages pip\n",
            "pastel                        0.2.1                  /usr/local/lib/python3.7/dist-packages pip\n",
            "pathlib                       1.0.1                  /usr/local/lib/python3.7/dist-packages pip\n",
            "pathy                         0.8.1                  /usr/local/lib/python3.7/dist-packages pip\n",
            "patsy                         0.5.3                  /usr/local/lib/python3.7/dist-packages pip\n",
            "pep517                        0.13.0                 /usr/local/lib/python3.7/dist-packages pip\n",
            "pexpect                       4.8.0                  /usr/local/lib/python3.7/dist-packages pip\n",
            "pickleshare                   0.7.5                  /usr/local/lib/python3.7/dist-packages pip\n",
            "Pillow                        7.1.2                  /usr/local/lib/python3.7/dist-packages pip\n",
            "pip                           21.1.3                 /usr/local/lib/python3.7/dist-packages pip\n",
            "pip-tools                     6.2.0                  /usr/local/lib/python3.7/dist-packages pip\n",
            "plotly                        5.5.0                  /usr/local/lib/python3.7/dist-packages pip\n",
            "plotnine                      0.8.0                  /usr/local/lib/python3.7/dist-packages pip\n",
            "pluggy                        0.7.1                  /usr/local/lib/python3.7/dist-packages pip\n",
            "pooch                         1.6.0                  /usr/local/lib/python3.7/dist-packages pip\n",
            "portpicker                    1.3.9                  /usr/local/lib/python3.7/dist-packages pip\n",
            "prefetch-generator            1.0.1                  /usr/local/lib/python3.7/dist-packages pip\n",
            "preshed                       3.0.8                  /usr/local/lib/python3.7/dist-packages pip\n",
            "prettytable                   3.5.0                  /usr/local/lib/python3.7/dist-packages pip\n",
            "progressbar2                  3.38.0                 /usr/local/lib/python3.7/dist-packages pip\n",
            "prometheus-client             0.15.0                 /usr/local/lib/python3.7/dist-packages pip\n",
            "promise                       2.3                    /usr/local/lib/python3.7/dist-packages pip\n",
            "prompt-toolkit                2.0.10                 /usr/local/lib/python3.7/dist-packages pip\n",
            "prophet                       1.1.1                  /usr/local/lib/python3.7/dist-packages pip\n",
            "proto-plus                    1.22.1                 /usr/local/lib/python3.7/dist-packages pip\n",
            "protobuf                      3.19.6                 /usr/local/lib/python3.7/dist-packages pip\n",
            "psutil                        5.4.8                  /usr/local/lib/python3.7/dist-packages pip\n",
            "psycopg2                      2.9.5                  /usr/local/lib/python3.7/dist-packages pip\n",
            "ptyprocess                    0.7.0                  /usr/local/lib/python3.7/dist-packages pip\n",
            "py                            1.11.0                 /usr/local/lib/python3.7/dist-packages pip\n",
            "py4j                          0.10.9.5               /usr/local/lib/python3.7/dist-packages pip\n",
            "pyarrow                       9.0.0                  /usr/local/lib/python3.7/dist-packages pip\n",
            "pyasn1                        0.4.8                  /usr/local/lib/python3.7/dist-packages pip\n",
            "pyasn1-modules                0.2.8                  /usr/local/lib/python3.7/dist-packages pip\n",
            "pycocotools                   2.0.6                  /usr/local/lib/python3.7/dist-packages pip\n",
            "pycparser                     2.21                   /usr/local/lib/python3.7/dist-packages pip\n",
            "pyct                          0.4.8                  /usr/local/lib/python3.7/dist-packages pip\n",
            "pydantic                      1.10.2                 /usr/local/lib/python3.7/dist-packages pip\n",
            "pydata-google-auth            1.4.0                  /usr/local/lib/python3.7/dist-packages pip\n",
            "pydot                         1.3.0                  /usr/local/lib/python3.7/dist-packages pip\n",
            "pydot-ng                      2.0.0                  /usr/local/lib/python3.7/dist-packages pip\n",
            "pydotplus                     2.0.2                  /usr/local/lib/python3.7/dist-packages pip\n",
            "PyDrive                       1.3.1                  /usr/local/lib/python3.7/dist-packages pip\n",
            "pyemd                         0.5.1                  /usr/local/lib/python3.7/dist-packages pip\n",
            "pyerfa                        2.0.0.1                /usr/local/lib/python3.7/dist-packages pip\n",
            "Pygments                      2.6.1                  /usr/local/lib/python3.7/dist-packages pip\n",
            "pygobject                     3.26.1                 /usr/lib/python3/dist-packages\n",
            "pylev                         1.4.0                  /usr/local/lib/python3.7/dist-packages pip\n",
            "pymc                          4.1.4                  /usr/local/lib/python3.7/dist-packages pip\n",
            "PyMeeus                       0.5.11                 /usr/local/lib/python3.7/dist-packages pip\n",
            "pymongo                       4.3.3                  /usr/local/lib/python3.7/dist-packages pip\n",
            "pymystem3                     0.2.0                  /usr/local/lib/python3.7/dist-packages pip\n",
            "PyOpenGL                      3.1.6                  /usr/local/lib/python3.7/dist-packages pip\n",
            "pyparsing                     3.0.9                  /usr/local/lib/python3.7/dist-packages pip\n",
            "pyrsistent                    0.19.2                 /usr/local/lib/python3.7/dist-packages pip\n",
            "pysimdjson                    3.2.0                  /usr/local/lib/python3.7/dist-packages pip\n",
            "pysndfile                     1.3.8                  /usr/local/lib/python3.7/dist-packages pip\n",
            "PySocks                       1.7.1                  /usr/local/lib/python3.7/dist-packages pip\n",
            "pyspark                       3.3.1                  /usr/local/lib/python3.7/dist-packages pip\n",
            "pystan                        3.3.0                  /usr/local/lib/python3.7/dist-packages pip\n",
            "pytest                        3.6.4                  /usr/local/lib/python3.7/dist-packages pip\n",
            "python-apt                    0.0.0                  /usr/local/lib/python3.7/dist-packages\n",
            "python-dateutil               2.8.2                  /usr/local/lib/python3.7/dist-packages pip\n",
            "python-louvain                0.16                   /usr/local/lib/python3.7/dist-packages pip\n",
            "python-slugify                6.1.2                  /usr/local/lib/python3.7/dist-packages pip\n",
            "python-utils                  3.4.5                  /usr/local/lib/python3.7/dist-packages pip\n",
            "pytz                          2022.6                 /usr/local/lib/python3.7/dist-packages pip\n",
            "pyviz-comms                   2.2.1                  /usr/local/lib/python3.7/dist-packages pip\n",
            "PyWavelets                    1.3.0                  /usr/local/lib/python3.7/dist-packages pip\n",
            "PyYAML                        6.0                    /usr/local/lib/python3.7/dist-packages pip\n",
            "pyzmq                         23.2.1                 /usr/local/lib/python3.7/dist-packages pip\n",
            "qdldl                         0.1.5.post2            /usr/local/lib/python3.7/dist-packages pip\n",
            "qudida                        0.0.4                  /usr/local/lib/python3.7/dist-packages pip\n",
            "regex                         2022.6.2               /usr/local/lib/python3.7/dist-packages pip\n",
            "requests                      2.23.0                 /usr/local/lib/python3.7/dist-packages pip\n",
            "requests-oauthlib             1.3.1                  /usr/local/lib/python3.7/dist-packages pip\n",
            "resampy                       0.4.2                  /usr/local/lib/python3.7/dist-packages pip\n",
            "rpy2                          3.5.5                  /usr/local/lib/python3.7/dist-packages pip\n",
            "rsa                           4.9                    /usr/local/lib/python3.7/dist-packages pip\n",
            "scikit-image                  0.18.3                 /usr/local/lib/python3.7/dist-packages pip\n",
            "scikit-learn                  1.0.2                  /usr/local/lib/python3.7/dist-packages pip\n",
            "scipy                         1.7.3                  /usr/local/lib/python3.7/dist-packages pip\n",
            "screen-resolution-extra       0.0.0                  /usr/lib/python3/dist-packages\n",
            "scs                           3.2.2                  /usr/local/lib/python3.7/dist-packages pip\n",
            "seaborn                       0.11.2                 /usr/local/lib/python3.7/dist-packages pip\n",
            "Send2Trash                    1.8.0                  /usr/local/lib/python3.7/dist-packages pip\n",
            "setuptools                    57.4.0                 /usr/local/lib/python3.7/dist-packages pip\n",
            "setuptools-git                1.2                    /usr/local/lib/python3.7/dist-packages pip\n",
            "Shapely                       1.8.5.post1            /usr/local/lib/python3.7/dist-packages pip\n",
            "six                           1.15.0                 /usr/local/lib/python3.7/dist-packages pip\n",
            "sklearn-pandas                1.8.0                  /usr/local/lib/python3.7/dist-packages pip\n",
            "smart-open                    5.2.1                  /usr/local/lib/python3.7/dist-packages pip\n",
            "snowballstemmer               2.2.0                  /usr/local/lib/python3.7/dist-packages pip\n",
            "sortedcontainers              2.4.0                  /usr/local/lib/python3.7/dist-packages pip\n",
            "soundfile                     0.11.0                 /usr/local/lib/python3.7/dist-packages pip\n",
            "spacy                         3.4.3                  /usr/local/lib/python3.7/dist-packages pip\n",
            "spacy-legacy                  3.0.10                 /usr/local/lib/python3.7/dist-packages pip\n",
            "spacy-loggers                 1.0.3                  /usr/local/lib/python3.7/dist-packages pip\n",
            "Sphinx                        1.8.6                  /usr/local/lib/python3.7/dist-packages pip\n",
            "sphinxcontrib-serializinghtml 1.1.5                  /usr/local/lib/python3.7/dist-packages pip\n",
            "sphinxcontrib-websupport      1.2.4                  /usr/local/lib/python3.7/dist-packages pip\n",
            "SQLAlchemy                    1.4.44                 /usr/local/lib/python3.7/dist-packages pip\n",
            "sqlparse                      0.4.3                  /usr/local/lib/python3.7/dist-packages pip\n",
            "srsly                         2.4.5                  /usr/local/lib/python3.7/dist-packages pip\n",
            "statsmodels                   0.12.2                 /usr/local/lib/python3.7/dist-packages pip\n",
            "sympy                         1.7.1                  /usr/local/lib/python3.7/dist-packages pip\n",
            "tables                        3.7.0                  /usr/local/lib/python3.7/dist-packages pip\n",
            "tabulate                      0.8.10                 /usr/local/lib/python3.7/dist-packages pip\n",
            "tblib                         1.7.0                  /usr/local/lib/python3.7/dist-packages pip\n",
            "tenacity                      8.1.0                  /usr/local/lib/python3.7/dist-packages pip\n",
            "tensorboard                   2.9.1                  /usr/local/lib/python3.7/dist-packages pip\n",
            "tensorboard-data-server       0.6.1                  /usr/local/lib/python3.7/dist-packages pip\n",
            "tensorboard-plugin-wit        1.8.1                  /usr/local/lib/python3.7/dist-packages pip\n",
            "tensorflow                    2.9.2                  /usr/local/lib/python3.7/dist-packages pip\n",
            "tensorflow-datasets           4.6.0                  /usr/local/lib/python3.7/dist-packages pip\n",
            "tensorflow-estimator          2.9.0                  /usr/local/lib/python3.7/dist-packages pip\n",
            "tensorflow-gcs-config         2.9.1                  /usr/local/lib/python3.7/dist-packages pip\n",
            "tensorflow-hub                0.12.0                 /usr/local/lib/python3.7/dist-packages pip\n",
            "tensorflow-io-gcs-filesystem  0.27.0                 /usr/local/lib/python3.7/dist-packages pip\n",
            "tensorflow-metadata           1.11.0                 /usr/local/lib/python3.7/dist-packages pip\n",
            "tensorflow-probability        0.17.0                 /usr/local/lib/python3.7/dist-packages pip\n",
            "termcolor                     2.1.0                  /usr/local/lib/python3.7/dist-packages pip\n",
            "terminado                     0.13.3                 /usr/local/lib/python3.7/dist-packages pip\n",
            "testpath                      0.6.0                  /usr/local/lib/python3.7/dist-packages pip\n",
            "text-unidecode                1.3                    /usr/local/lib/python3.7/dist-packages pip\n",
            "textblob                      0.15.3                 /usr/local/lib/python3.7/dist-packages pip\n",
            "thinc                         8.1.5                  /usr/local/lib/python3.7/dist-packages pip\n",
            "threadpoolctl                 3.1.0                  /usr/local/lib/python3.7/dist-packages pip\n",
            "tifffile                      2021.11.2              /usr/local/lib/python3.7/dist-packages pip\n",
            "toml                          0.10.2                 /usr/local/lib/python3.7/dist-packages pip\n",
            "tomli                         2.0.1                  /usr/local/lib/python3.7/dist-packages pip\n",
            "toolz                         0.12.0                 /usr/local/lib/python3.7/dist-packages pip\n",
            "torch                         1.12.1+cu113           /usr/local/lib/python3.7/dist-packages pip\n",
            "torchaudio                    0.12.1+cu113           /usr/local/lib/python3.7/dist-packages pip\n",
            "torchsummary                  1.5.1                  /usr/local/lib/python3.7/dist-packages pip\n",
            "torchtext                     0.13.1                 /usr/local/lib/python3.7/dist-packages pip\n",
            "torchvision                   0.13.1+cu113           /usr/local/lib/python3.7/dist-packages pip\n",
            "tornado                       6.0.4                  /usr/local/lib/python3.7/dist-packages pip\n",
            "tqdm                          4.64.1                 /usr/local/lib/python3.7/dist-packages pip\n",
            "traitlets                     5.1.1                  /usr/local/lib/python3.7/dist-packages pip\n",
            "tweepy                        3.10.0                 /usr/local/lib/python3.7/dist-packages pip\n",
            "typeguard                     2.7.1                  /usr/local/lib/python3.7/dist-packages pip\n",
            "typer                         0.7.0                  /usr/local/lib/python3.7/dist-packages pip\n",
            "typing-extensions             4.1.1                  /usr/local/lib/python3.7/dist-packages pip\n",
            "tzlocal                       1.5.1                  /usr/local/lib/python3.7/dist-packages pip\n",
            "uritemplate                   3.0.1                  /usr/local/lib/python3.7/dist-packages pip\n",
            "urllib3                       1.24.3                 /usr/local/lib/python3.7/dist-packages pip\n",
            "vega-datasets                 0.9.0                  /usr/local/lib/python3.7/dist-packages pip\n",
            "wasabi                        0.10.1                 /usr/local/lib/python3.7/dist-packages pip\n",
            "wcwidth                       0.2.5                  /usr/local/lib/python3.7/dist-packages pip\n",
            "webargs                       8.2.0                  /usr/local/lib/python3.7/dist-packages pip\n",
            "webencodings                  0.5.1                  /usr/local/lib/python3.7/dist-packages pip\n",
            "Werkzeug                      1.0.1                  /usr/local/lib/python3.7/dist-packages pip\n",
            "wheel                         0.38.4                 /usr/local/lib/python3.7/dist-packages pip\n",
            "widgetsnbextension            3.6.1                  /usr/local/lib/python3.7/dist-packages pip\n",
            "wordcloud                     1.8.2.2                /usr/local/lib/python3.7/dist-packages pip\n",
            "wrapt                         1.14.1                 /usr/local/lib/python3.7/dist-packages pip\n",
            "xarray                        0.20.2                 /usr/local/lib/python3.7/dist-packages pip\n",
            "xarray-einstats               0.2.2                  /usr/local/lib/python3.7/dist-packages pip\n",
            "xgboost                       0.90                   /usr/local/lib/python3.7/dist-packages pip\n",
            "xkit                          0.0.0                  /usr/lib/python3/dist-packages\n",
            "xlrd                          1.1.0                  /usr/local/lib/python3.7/dist-packages pip\n",
            "xlwt                          1.3.0                  /usr/local/lib/python3.7/dist-packages pip\n",
            "yarl                          1.8.1                  /usr/local/lib/python3.7/dist-packages pip\n",
            "yellowbrick                   1.5                    /usr/local/lib/python3.7/dist-packages pip\n",
            "zict                          2.2.0                  /usr/local/lib/python3.7/dist-packages pip\n",
            "zipp                          3.10.0                 /usr/local/lib/python3.7/dist-packages pip\n"
          ]
        }
      ]
    },
    {
      "cell_type": "markdown",
      "source": [
        "# Download stackexchange data "
      ],
      "metadata": {
        "id": "07GZqaWEVMGD"
      }
    },
    {
      "cell_type": "code",
      "source": [
        "#!FILE=/content/input/books.xml\n",
        "#!if ![-f \"$FILE\"]; then\n",
        "#!    echo Start downloading file $FILE\n",
        "#!    wget https://github.com/databricks/spark-xml/raw/master/src/test/resources/books.xml  -P /content/input/ > /dev/null\n",
        "#!fi\n",
        "\n",
        "\n",
        "!wget https://archive.org/download/stackexchange/mathematica.stackexchange.com.7z -P /content/input/ > /dev/null\n",
        "\n",
        "!7za e -y /content/input/mathematica.stackexchange.com.7z -o/content/input/ > /dev/null"
      ],
      "metadata": {
        "colab": {
          "base_uri": "https://localhost:8080/"
        },
        "id": "eBZxivlyZQFk",
        "outputId": "8c1efe7f-998a-4ab8-b45d-40546312671a"
      },
      "execution_count": 35,
      "outputs": [
        {
          "output_type": "stream",
          "name": "stdout",
          "text": [
            "--2022-11-25 07:33:20--  https://archive.org/download/stackexchange/mathematica.stackexchange.com.7z\n",
            "Resolving archive.org (archive.org)... 207.241.224.2\n",
            "Connecting to archive.org (archive.org)|207.241.224.2|:443... connected.\n",
            "HTTP request sent, awaiting response... 302 Found\n",
            "Location: https://ia800107.us.archive.org/27/items/stackexchange/mathematica.stackexchange.com.7z [following]\n",
            "--2022-11-25 07:33:21--  https://ia800107.us.archive.org/27/items/stackexchange/mathematica.stackexchange.com.7z\n",
            "Resolving ia800107.us.archive.org (ia800107.us.archive.org)... 207.241.232.17\n",
            "Connecting to ia800107.us.archive.org (ia800107.us.archive.org)|207.241.232.17|:443... connected.\n",
            "HTTP request sent, awaiting response... 200 OK\n",
            "Length: 265738334 (253M) [application/x-7z-compressed]\n",
            "Saving to: ‘/content/input/mathematica.stackexchange.com.7z’\n",
            "\n",
            "mathematica.stackex 100%[===================>] 253.43M  18.5MB/s    in 10s     \n",
            "\n",
            "2022-11-25 07:33:31 (24.9 MB/s) - ‘/content/input/mathematica.stackexchange.com.7z’ saved [265738334/265738334]\n",
            "\n"
          ]
        }
      ]
    },
    {
      "cell_type": "code",
      "source": [
        "import pyspark\n",
        "from pyspark.sql import SparkSession\n",
        "from pyspark.sql.types import StructType, StructField, LongType, StringType, BooleanType, DateType \n",
        "from pyspark.sql.functions import to_timestamp, date_format, col\n",
        "\n",
        "spark = SparkSession.builder.master(\"local[4]\").appName('SparkByExamples.com').config('spark.jars.packages', 'com.databricks:spark-xml_2.12:0.6.0').getOrCreate()"
      ],
      "metadata": {
        "id": "WuiPfbOKVzGi"
      },
      "execution_count": 10,
      "outputs": []
    },
    {
      "cell_type": "markdown",
      "source": [
        "#### LOAD AND SAVE POSTS.XML DATASET TO PARQUET FORMAT"
      ],
      "metadata": {
        "id": "CBxtCJYV9lBl"
      }
    },
    {
      "cell_type": "code",
      "source": [
        "schema = StructType([ \\\n",
        "    StructField(\"_AnswerCount\", LongType(), True), \\\n",
        "    StructField(\"_Body\", StringType(), True), \\\n",
        "    StructField(\"_CommentCount\", LongType(), True), \\\n",
        "    StructField(\"_CreationDate\", StringType(), True), \\\n",
        "    StructField(\"_Id\", LongType(), True), \\\n",
        "    StructField(\"_LastActivityDate\", StringType(), True), \\\n",
        "    StructField(\"_OwnerUserId\", LongType(), True), \\\n",
        "    StructField(\"_ParentId\", LongType(), True), \\\n",
        "    StructField(\"_PostTypeId\", LongType(), True), \\\n",
        "    StructField(\"_Score\", LongType(), True), \\\n",
        "    StructField(\"_Tags\", StringType(), True), \\\n",
        "    StructField(\"_Title\", StringType(), True), \\\n",
        "    StructField(\"_ViewCount\", LongType(), True), \\\n",
        "    StructField(\"Year\", LongType(), True), \\\n",
        "    StructField(\"Month\", LongType(), True), \\\n",
        "    StructField(\"Data\", LongType(), True) \\\n",
        "]) \n",
        "\n",
        "postsDF = spark.read \\\n",
        "          .format('com.databricks.spark.xml') \\\n",
        "          .options(rootTag='posts') \\\n",
        "          .options(rowTag='row') \\\n",
        "          .schema(schema) \\\n",
        "          .load('/content/input/Posts.xml')     \n",
        "\n",
        "postsDF = postsDF \\\n",
        "                .withColumnRenamed(\"_AnswerCount\", \"AnswerCount\") \\\n",
        "                .withColumnRenamed(\"_Body\", \"Body\") \\\n",
        "                .withColumnRenamed(\"_CommentCount\", \"CommentCount\") \\\n",
        "                .withColumnRenamed(\"_CreationDate\", \"CreationDate\") \\\n",
        "                .withColumnRenamed(\"_Id\", \"Id\") \\\n",
        "                .withColumnRenamed(\"_LastActivityDate\", \"LastActivityDate\") \\\n",
        "                .withColumnRenamed(\"_OwnerUserId\", \"OwnerUserId\") \\\n",
        "                .withColumnRenamed(\"_ParentId\", \"ParentId\") \\\n",
        "                .withColumnRenamed(\"_PostTypeId\", \"PostTypeId\") \\\n",
        "                .withColumnRenamed(\"_Score\", \"Score\") \\\n",
        "                .withColumnRenamed(\"_Tags\", \"Tags\") \\\n",
        "                .withColumnRenamed(\"_Title\", \"Title\") \\\n",
        "                .withColumnRenamed(\"_ViewCount\", \"ViewCount\")\n",
        "\n",
        "postsDF = postsDF \\\n",
        "  .select([\"Id\", \"ParentId\", \"PostTypeId\", \"OwnerUserId\", \\\n",
        "          to_timestamp(\"CreationDate\").alias(\"CreationDate\"), \"Score\", \\\n",
        "          \"ViewCount\", \"AnswerCount\", \\\n",
        "          \"CommentCount\", to_timestamp(\"LastActivityDate\").alias(\"LastActivityDate\"), \\\n",
        "          \"Tags\", \"Title\", \"Body\"]) \\\n",
        "  .withColumn(\"Year\", date_format(col(\"CreationDate\"), \"y\").cast(\"integer\")) \\\n",
        "  .withColumn(\"Month\", date_format(col(\"CreationDate\"), \"M\").cast(\"integer\")) \\\n",
        "  .withColumn(\"Day\", date_format(col(\"CreationDate\"), \"d\").cast(\"integer\")) \\\n",
        "\n",
        "postsDF.printSchema()   \n",
        "postsDF.show(n=10, truncate=False)\n",
        "\n",
        "postsDF = postsDF \\\n",
        "      .write \\\n",
        "      .partitionBy(\"Year\", \"Month\", \"Day\") \\\n",
        "      .mode(\"overwrite\") \\\n",
        "      .parquet(\"/content/output/posts.parquet\")      "
      ],
      "metadata": {
        "colab": {
          "base_uri": "https://localhost:8080/"
        },
        "id": "tz2kAJ8Hk_L7",
        "outputId": "8ce107d7-d416-460a-e1eb-5d13eb9c1e1d"
      },
      "execution_count": 52,
      "outputs": [
        {
          "output_type": "stream",
          "name": "stdout",
          "text": [
            "root\n",
            " |-- Id: long (nullable = true)\n",
            " |-- ParentId: long (nullable = true)\n",
            " |-- PostTypeId: long (nullable = true)\n",
            " |-- OwnerUserId: long (nullable = true)\n",
            " |-- CreationDate: timestamp (nullable = true)\n",
            " |-- Score: long (nullable = true)\n",
            " |-- ViewCount: long (nullable = true)\n",
            " |-- AnswerCount: long (nullable = true)\n",
            " |-- CommentCount: long (nullable = true)\n",
            " |-- LastActivityDate: timestamp (nullable = true)\n",
            " |-- Tags: string (nullable = true)\n",
            " |-- Title: string (nullable = true)\n",
            " |-- Body: string (nullable = true)\n",
            " |-- Year: integer (nullable = true)\n",
            " |-- Month: integer (nullable = true)\n",
            " |-- Day: integer (nullable = true)\n",
            "\n",
            "+---+--------+----------+-----------+-----------------------+-----+---------+-----------+------------+-----------------------+---------------------------------------------------------------------------------+------------------------------------------------------------------------------------------------------------------+-------------------------------------------------------------------------------------------------------------------------------------------------------------------------------------------------------------------------------------------------------------------------------------------------------------------------------------------------------------------------------------------------------------------------------------------------------------------------------------------------------------------------------------------------------------------------------------------------------------------------------------------------------------------------------------------------------------------------------------------------------------------------------------------------------------------------------------------------------------------------------------------------------------------------------------------------------------------------------------------------------------------------------------------------------------------------------------------------------------------------------------------------------------------------------------------------------------------------------------------------------------------------------------------------------------------------------------------------------------------------------------------------------------------------------------------------------------------------------------------------------------------------------------------------------------------------------------------------------------------------------------------+----+-----+---+\n",
            "|Id |ParentId|PostTypeId|OwnerUserId|CreationDate           |Score|ViewCount|AnswerCount|CommentCount|LastActivityDate       |Tags                                                                             |Title                                                                                                             |Body                                                                                                                                                                                                                                                                                                                                                                                                                                                                                                                                                                                                                                                                                                                                                                                                                                                                                                                                                                                                                                                                                                                                                                                                                                                                                                                                                                                                                                                                                                                                                                                                                                       |Year|Month|Day|\n",
            "+---+--------+----------+-----------+-----------------------+-----+---------+-----------+------------+-----------------------+---------------------------------------------------------------------------------+------------------------------------------------------------------------------------------------------------------+-------------------------------------------------------------------------------------------------------------------------------------------------------------------------------------------------------------------------------------------------------------------------------------------------------------------------------------------------------------------------------------------------------------------------------------------------------------------------------------------------------------------------------------------------------------------------------------------------------------------------------------------------------------------------------------------------------------------------------------------------------------------------------------------------------------------------------------------------------------------------------------------------------------------------------------------------------------------------------------------------------------------------------------------------------------------------------------------------------------------------------------------------------------------------------------------------------------------------------------------------------------------------------------------------------------------------------------------------------------------------------------------------------------------------------------------------------------------------------------------------------------------------------------------------------------------------------------------------------------------------------------------+----+-----+---+\n",
            "|1  |null    |1         |5          |2012-01-17 21:03:59.2  |35   |1109     |4          |1           |2013-10-22 10:48:32.56 |<front-end><syntax>                                                              |Usage of \\[InvisibleApplication] and other related invisible characters                                           |<p>From the front end, <code>\\[InvisibleApplication]</code> can be entered as <kbd>Esc</kbd> <kbd>@</kbd> <kbd>Esc</kbd>, and is an invisible operator for <code>@</code>!. By an unfortunate combination of key-presses (there may have been a cat involved), this crept up in my code and I spent a great deal of time trying to figure out why in the world <code>f x</code> was being interpreted as <code>f[x]</code>. Example:</p>\\n\\n<p><img src=\"https://i.stack.imgur.com/2Hxll.png\" alt=\"enter image description here\"></p>\\n\\n<p>Now there is no way I could've spotted this visually. The <code>*Form</code>s weren't of much help either. If you're careful enough, you can see an invisible character between <code>f</code> and <code>x</code> if you move your cursor across the expression. Eventually, I found this out only by looking at the contents of the cell. </p>\\n\\n<p>There's also <code>\\[InvisibleSpace]</code>, <code>\\[InvisibleComma]</code> and <code>\\[ImplicitPlus]</code>, which are analogous to the above. There must be some use for these (perhaps internally), which is why it has been implemented in the first place. I can see the use for invisible space (lets you place superscripts/subscripts without needing anything visible to latch on to), and invisible comma (lets you use indexing like in math). It's the invisible apply that has me wondering...</p>\\n\\n<p>The only advantage I can see is to sort of visually obfuscate the code. Where (or how) is this used (perhaps internally?), and can I disable it? If it's possible to disable, will there be any side effects?</p>\\n|2012|1    |17 |\n",
            "|2  |null    |1         |8          |2012-01-17 21:10:34.68 |98   |3363     |4          |1           |2018-03-24 16:57:04.31 |<functions><performance-tuning><pattern-matching><filtering><function-comparison>|What best practices or performance considerations are there for choosing between Cases, Position, Pick and Select?|<p><code>Cases</code>, <code>Select</code>,<code>Pick</code> and <code>Position</code> each have different syntaxes and purposes, but there are times when you can express the same calculation equivalently using either of them. So with this input:</p>\\n\\n<pre><code>test = RandomInteger[{-25, 25}, {20, 2}]\\n\\n{{-15, 13}, {-8, 16}, {-8, -19}, {7, 6}, {-21, 9}, {-3, -25}, {21, -18}, {4, 4}, {2, -2}, {-24,  8}, {-17, -8}, {4, -18}, {22, -24}, {-4, -3}, {21, 0}, {19,    18}, {-23, -8}, {23, -25}, {14, -2}, {-1, -13}}\\n</code></pre>\\n\\n<p>You can get the following equivalent results:</p>\\n\\n<pre><code>Cases[test, {_, _?Positive}]\\n\\n {{-15, 13}, {-8, 16}, {7, 6}, {-21, 9}, {4, 4}, {-24, 8}, {19, 18}}\\n\\nSelect[test, #[[2]] &gt; 0 &amp;]\\n\\n {{-15, 13}, {-8, 16}, {7, 6}, {-21, 9}, {4, 4}, {-24, 8}, {19, 18}}\\n\\nPick[test, Sign[test[[All, 2]] ], 1]\\n\\n {{-15, 13}, {-8, 16}, {7, 6}, {-21, 9}, {4, 4}, {-24, 8}, {19, 18}}\\n\\n\\ntest[[Flatten@Position[test[[All, 2]], _?Positive] ]]\\n\\n {{-15, 13}, {-8, 16}, {7, 6}, {-21, 9}, {4, 4}, {-24, 8}, {19, 18}}\\n</code></pre>\\n\\n<p>Are there performance or other considerations that should guide which you should use? For example, is the pattern-matching used in <code>Cases</code> likely to be slower than the functional tests used in <code>Select</code>? Are there any generic rules of thumb, or is testing the particular case you are using the only solution?</p>\\n                                                                                                                                                                        |2012|1    |17 |\n",
            "|3  |null    |1         |5          |2012-01-17 21:15:54.66 |27   |3907     |3          |0           |2020-09-10 17:30:56.983|<cdf-format>                                                                     |How can I embed a Manipulate (or other interactive graphics) in my website using CDF?                             |<p>The new <a href=\"http://www.wolfram.com/cdf-player/\">CDF (computable document format)</a> lets you embed a <code>Manipulate</code> or other interactive graphics on your website, and users can play around with your little script using the free player. </p>\\n\\n<p>What steps do I need to follow to </p>\\n\\n<ol>\\n<li>Create the CDF file correctly so that it displays a static picture (that I choose) if the user doesn't have the player and fires up the player if they do?</li>\\n<li>Make the necessary changes to my website/server to enable this?</li>\\n</ol>\\n                                                                                                                                                                                                                                                                                                                                                                                                                                                                                                                                                                                                                                                                                                                                                                                                                                                                                                                                                                                                                                                            |2012|1    |17 |\n",
            "|4  |2       |2         |35         |2012-01-17 21:22:33.107|9    |null     |null       |1           |2012-01-17 21:22:33.107|null                                                                             |null                                                                                                              |<p>A little testing says that at least in this case <code>Position</code> wins hands down:</p>\\n\\n<pre><code>test = RandomInteger[{-25, 25}, {10^6, 2}];\\n\\nAbsoluteTiming[Length[Cases[test, {_, _?Positive}]]]\\n{2.087033, 489565}\\n\\nAbsoluteTiming[Length[Select[test, #[[2]] &gt; 0 &amp;]]]\\n{2.265396, 489565}\\n\\nAbsoluteTiming[Length[test[[Flatten@Position[test[[All, 2]], _?Positive]]]]]\\n{1.417782, 489565}\\n</code></pre>\\n\\n<p>There's some variability in the results between runs of the test, but at most a few percent.</p>\\n                                                                                                                                                                                                                                                                                                                                                                                                                                                                                                                                                                                                                                                                                                                                                                                                                                                                                                                                                                                                                                                                                          |2012|1    |17 |\n",
            "|5  |null    |1         |39         |2012-01-17 21:23:32.817|15   |872      |1          |2           |2012-01-18 15:00:01.087|<topology><graphics>                                                             |Generating a topological space diagram for an n-element set                                                       |<p>Over on StackOverflow I asked a <a href=\"https://stackoverflow.com/questions/8814059/generating-topological-space-diagram-in-mathematica\">similar question</a> for the n=3 case, but the answer given doesn't easily generalize.</p>\\n\\n<p>How can I make a diagram such as this: </p>\\n\\n<p><img src=\"https://i.stack.imgur.com/dBIAg.png\" alt=\"Finite Topological Spaces\"></p>\\n\\n<p>But for a general n-element space instead?</p>\\n                                                                                                                                                                                                                                                                                                                                                                                                                                                                                                                                                                                                                                                                                                                                                                                                                                                                                                                                                                                                                                                                                                                                                                                                 |2012|1    |17 |\n",
            "|6  |null    |1         |37         |2012-01-17 21:25:31.667|27   |1354     |2          |0           |2015-07-13 23:56:35.557|<graphics><plotting>                                                             |Is there a way to have Plot draw points on a function where the function is undefined as circles as in textbooks? |<p>A very common feature of graphs of functions used throughout textbooks are simple indications, such as open circles, of the points at which a function is undefined. Is there a way to do this in Mathematica?</p>\\n\\n<p>I understand that I can use <code>Epilog</code> (or <code>Prolog</code>, or other explicit drawing graphics functions) to \"manually\" draw these elements, but us there a way to automatically do this, or at least return the coordinates of such points for use as arguments to <code>Epilog</code>?</p>\\n                                                                                                                                                                                                                                                                                                                                                                                                                                                                                                                                                                                                                                                                                                                                                                                                                                                                                                                                                                                                                                                                                                    |2012|1    |17 |\n",
            "|7  |1       |2         |22         |2012-01-17 21:27:23.957|11   |null     |null       |3           |2012-01-17 21:27:23.957|null                                                                             |null                                                                                                              |<p>You could de-obfuscate it something like this:</p>\\n\\n<pre><code>MakeExpression[RowBox[{a_, \"\\[InvisibleApplication]\", b_}], StandardForm] :=\\n  HoldComplete[invisibleapply[a, b]]\\n</code></pre>\\n\\n<p>After which:</p>\\n\\n<pre><code>In[13]:= f\\[InvisibleApplication] x\\nOut[13]= invisibleapply[\"f\", \"x\"]\\n</code></pre>\\n\\n<p>I think these invisible characters can be useful for approximating traditional mathematical notations, but in general sticking to standard mathematica notation, square brackets and all, is less confusing.</p>\\n\\n<p>In general, for debugging this kind of problem where a cell doesn't parse as you expected, the \"Show Expression\" command (<kbd>Ctrl</kbd>+<kbd>Shift</kbd>+<kbd>E</kbd>) can be invauluable.</p>\\n                                                                                                                                                                                                                                                                                                                                                                                                                                                                                                                                                                                                                                                                                                                                                                                                                                                                           |2012|1    |17 |\n",
            "|8  |null    |1         |9          |2012-01-17 21:28:21.207|32   |5791     |3          |3           |2012-05-29 17:02:09.32 |<matrix><symbolic><inverse><linear-algebra>                                      |How to symbolically do matrix \"Block Inversion\"?                                                                  |<p>Consider a block (partitioned) matrix</p>\\n\\n<pre><code>matrix = ArrayFlatten[{{a, b}, {c, d}}]\\n</code></pre>\\n\\n<p>where, <code>a</code>, <code>b</code>, <code>c</code> and <code>d</code> are each matrices themselves. Say, for example,</p>\\n\\n<pre><code>a = {{a11, a12}, {a21, a22}}\\nb = {{b11, b12}, {b21, b22}}\\nc = {{0, 0}, {0, 0}}\\nd = {{d11, d12}, {d21, d22}}\\n</code></pre>\\n\\n<p>How can you find the <em>block</em> inverse of this matrix? A desired solution is, using the example above</p>\\n\\n<pre><code>{{Inverse[a] , -Inverse[a].b.Inverse[d]},{0,Inverse[d]}}\\n</code></pre>\\n\\n<p>which is easily verified using</p>\\n\\n<pre><code>Simplify[Inverse[ArrayFlatten[{{a, b}, {c, d}}]] == \\nArrayFlatten[{{Inverse[a], -Inverse[a].b.Inverse[d]}, {0, \\n Inverse[d]}}]]\\n</code></pre>\\n\\n<p>which yields <code>True</code>.</p>\\n\\n<p>How can you solve the block inverse problem\\nfor arbitrary submatrices, and for block matrices of larger sizes (i.e. 3x3, 4x4, etc)?</p>\\n                                                                                                                                                                                                                                                                                                                                                                                                                                                                                                                                                                                                                             |2012|1    |17 |\n",
            "|9  |1       |2         |29         |2012-01-17 21:29:59.333|34   |null     |null       |0           |2012-03-22 22:32:00.22 |null                                                                             |null                                                                                                              |<p>It is used in <code>TraditionalForm</code> output, e.g. here:</p>\\n\\n<pre><code>TraditionalForm[ Hypergeometric2F1[a,b,c,x] ]\\n</code></pre>\\n\\n<p>Without <code>\\[InvisibleApplication]</code> it would probably be hard for Mathematica to parse it back to \\n<code>InputForm</code>. Probably it is used in more places internally.</p>\\n\\n<p>In order to get rid of it:</p>\\n\\n<p>Locate the file <code>UnicodeCharacters.tr</code> in <code>/usr/local/Wolfram/Mathematica/8.0/SystemFiles/FrontEnd/TextResources</code> (or the equivalent under Windows or MacOSX), make a backup of the file, open it and delete the line </p>\\n\\n<pre><code>0xF76D         \\[InvisibleApplication]         ($@$ ...\\n</code></pre>\\n\\n<p>Then your cat can jump on the keyboard again.</p>\\n                                                                                                                                                                                                                                                                                                                                                                                                                                                                                                                                                                                                                                                                                                                                                                                                                                                   |2012|1    |17 |\n",
            "|10 |6       |2         |9          |2012-01-17 21:30:52.607|16   |null     |null       |2           |2015-07-13 23:56:35.557|null                                                                             |null                                                                                                              |<p>You can use the <code>ExclusionsStyle</code> option to control how Mathematica renders regions excluded from the Plot.</p>\\n\\n<p><strong>Edit</strong>\\nDoing something like <code>ExclusionsStyle -&gt; {None, {{Black, PointSize[Large]}}}</code> will put a large point at the excluded points. For example, modifying a function from the help documentation:</p>\\n\\n<p><img src=\"https://i.stack.imgur.com/eCtzR.png\" alt=\"Mathematica graphics\"></p>\\n                                                                                                                                                                                                                                                                                                                                                                                                                                                                                                                                                                                                                                                                                                                                                                                                                                                                                                                                                                                                                                                                                                                                                                            |2012|1    |17 |\n",
            "+---+--------+----------+-----------+-----------------------+-----+---------+-----------+------------+-----------------------+---------------------------------------------------------------------------------+------------------------------------------------------------------------------------------------------------------+-------------------------------------------------------------------------------------------------------------------------------------------------------------------------------------------------------------------------------------------------------------------------------------------------------------------------------------------------------------------------------------------------------------------------------------------------------------------------------------------------------------------------------------------------------------------------------------------------------------------------------------------------------------------------------------------------------------------------------------------------------------------------------------------------------------------------------------------------------------------------------------------------------------------------------------------------------------------------------------------------------------------------------------------------------------------------------------------------------------------------------------------------------------------------------------------------------------------------------------------------------------------------------------------------------------------------------------------------------------------------------------------------------------------------------------------------------------------------------------------------------------------------------------------------------------------------------------------------------------------------------------------+----+-----+---+\n",
            "only showing top 10 rows\n",
            "\n"
          ]
        }
      ]
    },
    {
      "cell_type": "markdown",
      "source": [
        "#### LOAD AND SAVE BADGES.XML DATASET TO PARQUET FORMAT"
      ],
      "metadata": {
        "id": "zj073VtF-IDk"
      }
    },
    {
      "cell_type": "code",
      "source": [
        "schema = StructType([ \\\n",
        "    StructField(\"_Class\", LongType(), True), \\\n",
        "    StructField(\"_Date\", StringType(), True), \\\n",
        "    StructField(\"_CommentCount\", LongType(), True), \\\n",
        "    StructField(\"_Id\", LongType(), True), \\\n",
        "    StructField(\"_Name\", StringType(), True), \\\n",
        "    StructField(\"_TagBased\", BooleanType(), True), \\\n",
        "    StructField(\"_UserId\", LongType(), True)    \n",
        "])\n",
        "\n",
        "badgesDF = spark.read \\\n",
        "          .format('com.databricks.spark.xml') \\\n",
        "          .options(rootTag='badges') \\\n",
        "          .options(rowTag='row') \\\n",
        "          .schema(schema) \\\n",
        "          .load('/content/input/Badges.xml')\n",
        "\n",
        "badgesDF = badgesDF \\\n",
        "                .withColumnRenamed(\"_Class\", \"Class\") \\\n",
        "                .withColumnRenamed(\"_Date\", \"Date\") \\\n",
        "                .withColumnRenamed(\"_CommentCount\", \"CommentCount\") \\\n",
        "                .withColumnRenamed(\"_Id\", \"Id\") \\\n",
        "                .withColumnRenamed(\"_Name\", \"Name\") \\\n",
        "                .withColumnRenamed(\"_TagBased\", \"TagBased\") \\\n",
        "                .withColumnRenamed(\"_UserId\", \"UserId\")\n",
        "\n",
        "badgesDF = badgesDF \\\n",
        "              .select([\"Id\", \"UserId\", \"Class\", \"Date\", \"CommentCount\", \\\n",
        "                      \"TagBased\",\"Name\"])\n",
        "\n",
        "badgesDF.printSchema()\n",
        "badgesDF.show(n=10, truncate=False)\n",
        "\n",
        "badgesDF \\\n",
        "      .write \\\n",
        "      .partitionBy(\"Class\") \\\n",
        "      .mode(\"overwrite\") \\\n",
        "      .parquet(\"/content/output/badges.parquet\")"
      ],
      "metadata": {
        "id": "k0mWYqay1eJR"
      },
      "execution_count": null,
      "outputs": []
    },
    {
      "cell_type": "markdown",
      "source": [
        "#### LOAD AND SAVE COMMENTS.XML DATASET TO PARQUET FORMAT"
      ],
      "metadata": {
        "id": "aSDZrFA0-eEl"
      }
    },
    {
      "cell_type": "code",
      "source": [
        "schema = StructType([ \\\n",
        "    StructField(\"_ContentLicense\", StringType(), True), \\\n",
        "    StructField(\"_CreationDate\", StringType(), True), \\\n",
        "    StructField(\"_Id\", LongType(), True), \\\n",
        "    StructField(\"_PostId\", LongType(), True), \\\n",
        "    StructField(\"_Score\", LongType(), True), \\\n",
        "    StructField(\"_Text\", StringType(), True), \\\n",
        "    StructField(\"_UserDisplayName\", StringType(), True), \\\n",
        "    StructField(\"_UserId\", LongType(), True)        \n",
        "])\n",
        "\n",
        "commentsDF = spark.read \\\n",
        "          .format('com.databricks.spark.xml') \\\n",
        "          .options(rootTag='comments') \\\n",
        "          .options(rowTag='row') \\\n",
        "          .schema(schema) \\\n",
        "          .load('/content/input/Comments.xml')\n",
        "\n",
        "commentsDF = commentsDF \\\n",
        "                .withColumnRenamed(\"_ContentLicense\", \"ContentLicense\") \\\n",
        "                .withColumnRenamed(\"_CreationDate\", \"CreationDate\") \\\n",
        "                .withColumnRenamed(\"_Id\", \"Id\") \\\n",
        "                .withColumnRenamed(\"_PostId\", \"PostId\") \\\n",
        "                .withColumnRenamed(\"_Score\", \"Score\") \\\n",
        "                .withColumnRenamed(\"_Text\", \"Text\") \\\n",
        "                .withColumnRenamed(\"_UserDisplayName\", \"UserDisplayName\") \\\n",
        "                .withColumnRenamed(\"_UserId\", \"UserId\") \\\n",
        "\n",
        "commentsDF = commentsDF \\\n",
        "  .select([\"Id\", \"PostId\", \"UserId\", \"CreationDate\", \"ContentLicense\", \\\n",
        "           \"UserDisplayName\", \"Score\", \"Text\"])\n",
        "\n",
        "commentsDF.printSchema()\n",
        "commentsDF.show(n=10, truncate=False)\n",
        "\n",
        "commentsDF \\\n",
        "    .write \\\n",
        "    .partitionBy(\"ContentLicense\") \\\n",
        "    .mode(\"overwrite\") \\\n",
        "    .parquet(\"/content/output/comments.parquet\")"
      ],
      "metadata": {
        "id": "oSb3uY7F12HG"
      },
      "execution_count": null,
      "outputs": []
    },
    {
      "cell_type": "markdown",
      "source": [
        "#### LOAD AND SAVE POSTHISTORY.XML DATASET TO PARQUET FORMAT"
      ],
      "metadata": {
        "id": "tf2A25A6-nix"
      }
    },
    {
      "cell_type": "code",
      "source": [
        "schema = StructType([ \\\n",
        "    StructField(\"_Comment\", StringType(), True), \\\n",
        "    StructField(\"_ContentLicense\", StringType(), True), \\\n",
        "    StructField(\"_CreationDate\", StringType(), True), \\\n",
        "    StructField(\"_Id\", LongType(), True), \\\n",
        "    StructField(\"_PostHistoryTypeId\", LongType(), True), \\\n",
        "    StructField(\"_PostId\", LongType(), True), \\\n",
        "    StructField(\"_RevisionGUID\", StringType(), True), \\\n",
        "    StructField(\"_Text\", StringType(), True), \\\n",
        "    StructField(\"_UserDisplayName\", StringType(), True), \\\n",
        "    StructField(\"_UserId\", LongType(), True)    \n",
        "])\n",
        "\n",
        "postHistoryDF = spark.read \\\n",
        "          .format('com.databricks.spark.xml') \\\n",
        "          .options(rootTag='posthistory') \\\n",
        "          .options(rowTag='row') \\\n",
        "          .schema(schema) \\\n",
        "          .load('/content/input/PostHistory.xml')\n",
        "               \n",
        "postHistoryDF = postHistoryDF \\\n",
        "              .withColumnRenamed(\"_Comment\", \"Comment\") \\\n",
        "              .withColumnRenamed(\"_ContentLicense\", \"ContentLicense\") \\\n",
        "              .withColumnRenamed(\"_CreationDate\", \"CreationDate\") \\\n",
        "              .withColumnRenamed(\"_Id\", \"Id\") \\\n",
        "              .withColumnRenamed(\"_PostHistoryTypeId\", \"PostHistoryTypeId\") \\\n",
        "              .withColumnRenamed(\"_PostId\", \"PostId\") \\\n",
        "              .withColumnRenamed(\"_RevisionGUID\", \"RevisionGUID\") \\\n",
        "              .withColumnRenamed(\"_Text\", \"Text\") \\\n",
        "              .withColumnRenamed(\"_UserDisplayName\", \"UserDisplayName\") \\\n",
        "              .withColumnRenamed(\"_UserId\", \"UserId\") \\\n",
        "\n",
        "postHistoryDF = postHistoryDF \\\n",
        "              .select([\"Id\", \"PostId\", \"PostHistoryTypeId\", \"UserId\", \\\n",
        "                       \"CreationDate\", \"RevisionGUID\", \"ContentLicense\", \"UserDisplayName\", \"Comment\", \"Text\"])\n",
        "\n",
        "postHistoryDF.printSchema()\n",
        "postHistoryDF.show(n=10, truncate=False)  \n",
        "\n",
        "postHistoryDF \\\n",
        "  .write \\\n",
        "  .partitionBy(\"ContentLicense\") \\\n",
        "  .mode(\"overwrite\") \\\n",
        "  .parquet(\"/content/output/posthistory.parquet\")  "
      ],
      "metadata": {
        "id": "qJGp6ztT2FdS"
      },
      "execution_count": null,
      "outputs": []
    },
    {
      "cell_type": "markdown",
      "source": [
        "#### LOAD AND SAVE TAGS.XML DATASET TO PARQUET FORMAT"
      ],
      "metadata": {
        "id": "0Kxfkq-K-xIi"
      }
    },
    {
      "cell_type": "code",
      "source": [
        "schema = StructType([ \\\n",
        "    StructField(\"_Count\", LongType(), True), \\\n",
        "    StructField(\"_ExcerptPostId\", LongType(), True), \\\n",
        "    StructField(\"_Id\", LongType(), True), \\\n",
        "    StructField(\"_TagName\", StringType(), True), \\\n",
        "    StructField(\"_WikiPostId\", LongType(), True)    \n",
        "])\n",
        "\n",
        "tagsDF = spark.read \\\n",
        "          .format('com.databricks.spark.xml') \\\n",
        "          .options(rootTag='tags') \\\n",
        "          .options(rowTag='row') \\\n",
        "          .schema(schema) \\\n",
        "          .load('/content/input/Tags.xml')\n",
        "\n",
        "tagsDF = tagsDF \\\n",
        "        .withColumnRenamed(\"_Count\", \"Count\") \\\n",
        "        .withColumnRenamed(\"_ExcerptPostId\", \"ExcerptPostId\") \\\n",
        "        .withColumnRenamed(\"_Id\", \"Id\") \\\n",
        "        .withColumnRenamed(\"_TagName\", \"TagName\") \\\n",
        "        .withColumnRenamed(\"_WikiPostId\", \"WikiPostId\")\n",
        "\n",
        "tagsDF = tagsDF \\\n",
        "        .select([\"Id\", \"ExcerptPostId\", \"WikiPostId\", \"Count\", \"TagName\"])\n",
        "\n",
        "tagsDF.printSchema()\n",
        "tagsDF.show(n=10, truncate=False)\n",
        "\n",
        "tagsDF \\\n",
        "  .write \\\n",
        "  .partitionBy(\"Id\") \\\n",
        "  .mode(\"overwrite\") \\\n",
        "  .parquet(\"/content/output/tags.parquet\") "
      ],
      "metadata": {
        "id": "facMBeo036Oq"
      },
      "execution_count": null,
      "outputs": []
    },
    {
      "cell_type": "markdown",
      "source": [
        "#### LOAD AND SAVE USERS.XML DATASET TO PARQUET FORMAT"
      ],
      "metadata": {
        "id": "oHPm50wM-4JQ"
      }
    },
    {
      "cell_type": "code",
      "source": [
        "from pyspark.sql.functions import *\n",
        "\n",
        "schema = StructType([ \\\n",
        "    StructField(\"_AboutMe\", StringType(), True), \\\n",
        "    StructField(\"_AccountId\", LongType(), True), \\\n",
        "    StructField(\"_CreationDate\", StringType(), True), \\\n",
        "    StructField(\"_DisplayName\", StringType(), True), \\\n",
        "    StructField(\"_DownVotes\", LongType(), True), \\\n",
        "    StructField(\"_Id\", LongType(), True), \\\n",
        "    StructField(\"_LastAccessDate\", StringType(), True), \\\n",
        "    StructField(\"_Location\", StringType(), True), \\\n",
        "    StructField(\"_ProfileImageUrl\", StringType(), True), \\\n",
        "    StructField(\"_Reputation\", LongType(), True), \\\n",
        "    StructField(\"_UpVotes\", LongType(), True), \\\n",
        "    StructField(\"_Views\", LongType(), True), \\\n",
        "    StructField(\"_WebsiteUrl\", StringType(), True)\n",
        "])\n",
        "\n",
        "usersDF = spark.read \\\n",
        "          .format('com.databricks.spark.xml') \\\n",
        "          .options(rootTag='Users') \\\n",
        "          .options(rowTag='row') \\\n",
        "          .schema(schema) \\\n",
        "          .load('/content/input/Users.xml')\n",
        "\n",
        "usersDF = usersDF \\\n",
        "  .withColumnRenamed(\"_AboutMe\", \"AboutMe\") \\\n",
        "  .withColumnRenamed(\"_AccountId\", \"AccountId\") \\\n",
        "  .withColumnRenamed(\"_CreationDate\", \"CreationDate\") \\\n",
        "  .withColumnRenamed(\"_DisplayName\", \"DisplayName\") \\\n",
        "  .withColumnRenamed(\"_DownVotes\", \"DownVotes\") \\\n",
        "  .withColumnRenamed(\"_Id\", \"Id\") \\\n",
        "  .withColumnRenamed(\"_LastAccessDate\", \"LastAccessDate\") \\\n",
        "  .withColumnRenamed(\"_Location\", \"Location\") \\\n",
        "  .withColumnRenamed(\"_ProfileImageUrl\", \"ProfileImageUrl\") \\\n",
        "  .withColumnRenamed(\"_Reputation\", \"Reputation\") \\\n",
        "  .withColumnRenamed(\"_UpVotes\", \"UpVotes\") \\\n",
        "  .withColumnRenamed(\"_Views\", \"Views\") \\\n",
        "  .withColumnRenamed(\"_WebsiteUrl\", \"WebsiteUrl\") \\\n",
        "\n",
        "usersDF = usersDF \\\n",
        "  .select([\"Id\", \"AccountId\", to_timestamp(\"CreationDate\").alias(\"CreationDate\"), \\\n",
        "           to_timestamp(\"LastAccessDate\").alias(\"LastAccessDate\"), \"DownVotes\", \\\n",
        "           \"UpVotes\", \"Reputation\", \"Views\", \"WebsiteUrl\", \"ProfileImageUrl\", \\\n",
        "           \"Location\", \"DisplayName\", \"AboutMe\"           \n",
        "           ]) \\\n",
        "  .withColumn(\"Year\", date_format(col(\"CreationDate\"), \"y\")) \\\n",
        "  .withColumn(\"Month\", date_format(col(\"CreationDate\"), \"M\")) \\\n",
        "  .withColumn(\"Day\", date_format(col(\"CreationDate\"), \"d\"))\n",
        "\n",
        "usersDF.printSchema()\n",
        "usersDF.show(n=10, truncate=False) \n",
        "\n",
        "usersDF \\\n",
        "  .write \\\n",
        "  .partitionBy(\"Year\", \"Month\", \"Day\") \\\n",
        "  .mode(\"overwrite\") \\\n",
        "  .parquet(\"/content/output/users.parquet\")"
      ],
      "metadata": {
        "id": "hvnYCooN4GVs"
      },
      "execution_count": null,
      "outputs": []
    },
    {
      "cell_type": "markdown",
      "source": [
        "#### LOAD AND SAVE VOTES.XML DATASET TO PARQUET FORMAT"
      ],
      "metadata": {
        "id": "KxPL78oC_DAV"
      }
    },
    {
      "cell_type": "code",
      "source": [
        "schema = StructType([ \\\n",
        "    StructField(\"_BountyAmount\", LongType(), True), \\\n",
        "    StructField(\"_CreationDate\", StringType(), True), \\\n",
        "    StructField(\"_Id\", LongType(), True), \\\n",
        "    StructField(\"_PostId\", LongType(), True), \\\n",
        "    StructField(\"_UserId\", LongType(), True), \\\n",
        "    StructField(\"_VoteTypeId\", LongType(), True)  \n",
        "])\n",
        "\n",
        "votesDF = spark.read \\\n",
        "          .format('com.databricks.spark.xml') \\\n",
        "          .options(rootTag='votes') \\\n",
        "          .options(rowTag='row') \\\n",
        "          .schema(schema) \\\n",
        "          .load('/content/input/Votes.xml')\n",
        "\n",
        "votesDF = votesDF \\\n",
        "  .withColumnRenamed(\"_BountyAmount\", \"BountyAmount\") \\\n",
        "  .withColumnRenamed(\"_CreationDate\", \"CreationDate\") \\\n",
        "  .withColumnRenamed(\"_Id\", \"Id\") \\\n",
        "  .withColumnRenamed(\"_PostId\", \"PostId\") \\\n",
        "  .withColumnRenamed(\"_UserId\", \"UserId\") \\\n",
        "  .withColumnRenamed(\"_VoteTypeId\", \"VoteTypeId\") \\\n",
        "\n",
        "votesDF = votesDF \\\n",
        "  .select([\"Id\", \"PostId\", \"UserId\", \"VoteTypeId\", \\\n",
        "          to_timestamp(\"CreationDate\").alias(\"CreationDate\"), \"BountyAmount\"]) \\\n",
        "  .withColumn(\"Year\", date_format(col(\"CreationDate\"), \"y\")) \\\n",
        "  .withColumn(\"Month\", date_format(col(\"CreationDate\"), \"M\")) \\\n",
        "  .withColumn(\"Day\", date_format(col(\"CreationDate\"), \"d\"))  \n",
        "\n",
        "votesDF.printSchema()\n",
        "votesDF.show(n=10, truncate=False) \n",
        "\n",
        "votesDF \\\n",
        "  .write \\\n",
        "  .mode(\"overwrite\") \\\n",
        "  .parquet(\"/content/output/votes.parquet\")"
      ],
      "metadata": {
        "id": "Yi0BV1LA43QM",
        "outputId": "a7d9df1c-be21-4085-f712-3b30909db2e7",
        "colab": {
          "base_uri": "https://localhost:8080/",
          "height": 970
        }
      },
      "execution_count": 18,
      "outputs": [
        {
          "output_type": "stream",
          "name": "stdout",
          "text": [
            "root\n",
            " |-- Id: long (nullable = true)\n",
            " |-- PostId: long (nullable = true)\n",
            " |-- UserId: long (nullable = true)\n",
            " |-- VoteTypeId: long (nullable = true)\n",
            " |-- CreationDate: timestamp (nullable = true)\n",
            " |-- BountyAmount: long (nullable = true)\n",
            " |-- Year: string (nullable = true)\n",
            " |-- Month: string (nullable = true)\n",
            " |-- Day: string (nullable = true)\n",
            "\n",
            "+---+------+------+----------+-------------------+------------+----+-----+---+\n",
            "|Id |PostId|UserId|VoteTypeId|CreationDate       |BountyAmount|Year|Month|Day|\n",
            "+---+------+------+----------+-------------------+------------+----+-----+---+\n",
            "|1  |1     |null  |2         |2012-01-17 00:00:00|null        |2012|1    |17 |\n",
            "|2  |1     |null  |2         |2012-01-17 00:00:00|null        |2012|1    |17 |\n",
            "|3  |1     |null  |2         |2012-01-17 00:00:00|null        |2012|1    |17 |\n",
            "|4  |1     |null  |2         |2012-01-17 00:00:00|null        |2012|1    |17 |\n",
            "|5  |1     |null  |2         |2012-01-17 00:00:00|null        |2012|1    |17 |\n",
            "|6  |2     |null  |2         |2012-01-17 00:00:00|null        |2012|1    |17 |\n",
            "|7  |2     |null  |2         |2012-01-17 00:00:00|null        |2012|1    |17 |\n",
            "|8  |2     |null  |2         |2012-01-17 00:00:00|null        |2012|1    |17 |\n",
            "|9  |2     |null  |2         |2012-01-17 00:00:00|null        |2012|1    |17 |\n",
            "|10 |1     |null  |2         |2012-01-17 00:00:00|null        |2012|1    |17 |\n",
            "+---+------+------+----------+-------------------+------------+----+-----+---+\n",
            "only showing top 10 rows\n",
            "\n"
          ]
        },
        {
          "output_type": "stream",
          "name": "stderr",
          "text": [
            "ERROR:root:KeyboardInterrupt while sending command.\n",
            "Traceback (most recent call last):\n",
            "  File \"/usr/local/lib/python3.7/dist-packages/py4j/java_gateway.py\", line 1038, in send_command\n",
            "    response = connection.send_command(command)\n",
            "  File \"/usr/local/lib/python3.7/dist-packages/py4j/clientserver.py\", line 511, in send_command\n",
            "    answer = smart_decode(self.stream.readline()[:-1])\n",
            "  File \"/usr/lib/python3.7/socket.py\", line 589, in readinto\n",
            "    return self._sock.recv_into(b)\n",
            "KeyboardInterrupt\n"
          ]
        },
        {
          "output_type": "error",
          "ename": "KeyboardInterrupt",
          "evalue": "ignored",
          "traceback": [
            "\u001b[0;31m---------------------------------------------------------------------------\u001b[0m",
            "\u001b[0;31mKeyboardInterrupt\u001b[0m                         Traceback (most recent call last)",
            "\u001b[0;32m<ipython-input-18-9f4eb5893ac0>\u001b[0m in \u001b[0;36m<module>\u001b[0;34m\u001b[0m\n\u001b[1;32m     36\u001b[0m   \u001b[0;34m.\u001b[0m\u001b[0mwrite\u001b[0m\u001b[0;31m \u001b[0m\u001b[0;31m\\\u001b[0m\u001b[0;34m\u001b[0m\u001b[0;34m\u001b[0m\u001b[0m\n\u001b[1;32m     37\u001b[0m   \u001b[0;34m.\u001b[0m\u001b[0mmode\u001b[0m\u001b[0;34m(\u001b[0m\u001b[0;34m\"overwrite\"\u001b[0m\u001b[0;34m)\u001b[0m\u001b[0;31m \u001b[0m\u001b[0;31m\\\u001b[0m\u001b[0;34m\u001b[0m\u001b[0;34m\u001b[0m\u001b[0m\n\u001b[0;32m---> 38\u001b[0;31m   \u001b[0;34m.\u001b[0m\u001b[0mparquet\u001b[0m\u001b[0;34m(\u001b[0m\u001b[0;34m\"/content/output/votes.parquet\"\u001b[0m\u001b[0;34m)\u001b[0m\u001b[0;34m\u001b[0m\u001b[0;34m\u001b[0m\u001b[0m\n\u001b[0m",
            "\u001b[0;32m/usr/local/lib/python3.7/dist-packages/pyspark/sql/readwriter.py\u001b[0m in \u001b[0;36mparquet\u001b[0;34m(self, path, mode, partitionBy, compression)\u001b[0m\n\u001b[1;32m   1138\u001b[0m             \u001b[0mself\u001b[0m\u001b[0;34m.\u001b[0m\u001b[0mpartitionBy\u001b[0m\u001b[0;34m(\u001b[0m\u001b[0mpartitionBy\u001b[0m\u001b[0;34m)\u001b[0m\u001b[0;34m\u001b[0m\u001b[0;34m\u001b[0m\u001b[0m\n\u001b[1;32m   1139\u001b[0m         \u001b[0mself\u001b[0m\u001b[0;34m.\u001b[0m\u001b[0m_set_opts\u001b[0m\u001b[0;34m(\u001b[0m\u001b[0mcompression\u001b[0m\u001b[0;34m=\u001b[0m\u001b[0mcompression\u001b[0m\u001b[0;34m)\u001b[0m\u001b[0;34m\u001b[0m\u001b[0;34m\u001b[0m\u001b[0m\n\u001b[0;32m-> 1140\u001b[0;31m         \u001b[0mself\u001b[0m\u001b[0;34m.\u001b[0m\u001b[0m_jwrite\u001b[0m\u001b[0;34m.\u001b[0m\u001b[0mparquet\u001b[0m\u001b[0;34m(\u001b[0m\u001b[0mpath\u001b[0m\u001b[0;34m)\u001b[0m\u001b[0;34m\u001b[0m\u001b[0;34m\u001b[0m\u001b[0m\n\u001b[0m\u001b[1;32m   1141\u001b[0m \u001b[0;34m\u001b[0m\u001b[0m\n\u001b[1;32m   1142\u001b[0m     def text(\n",
            "\u001b[0;32m/usr/local/lib/python3.7/dist-packages/py4j/java_gateway.py\u001b[0m in \u001b[0;36m__call__\u001b[0;34m(self, *args)\u001b[0m\n\u001b[1;32m   1318\u001b[0m             \u001b[0mproto\u001b[0m\u001b[0;34m.\u001b[0m\u001b[0mEND_COMMAND_PART\u001b[0m\u001b[0;34m\u001b[0m\u001b[0;34m\u001b[0m\u001b[0m\n\u001b[1;32m   1319\u001b[0m \u001b[0;34m\u001b[0m\u001b[0m\n\u001b[0;32m-> 1320\u001b[0;31m         \u001b[0manswer\u001b[0m \u001b[0;34m=\u001b[0m \u001b[0mself\u001b[0m\u001b[0;34m.\u001b[0m\u001b[0mgateway_client\u001b[0m\u001b[0;34m.\u001b[0m\u001b[0msend_command\u001b[0m\u001b[0;34m(\u001b[0m\u001b[0mcommand\u001b[0m\u001b[0;34m)\u001b[0m\u001b[0;34m\u001b[0m\u001b[0;34m\u001b[0m\u001b[0m\n\u001b[0m\u001b[1;32m   1321\u001b[0m         return_value = get_return_value(\n\u001b[1;32m   1322\u001b[0m             answer, self.gateway_client, self.target_id, self.name)\n",
            "\u001b[0;32m/usr/local/lib/python3.7/dist-packages/py4j/java_gateway.py\u001b[0m in \u001b[0;36msend_command\u001b[0;34m(self, command, retry, binary)\u001b[0m\n\u001b[1;32m   1036\u001b[0m         \u001b[0mconnection\u001b[0m \u001b[0;34m=\u001b[0m \u001b[0mself\u001b[0m\u001b[0;34m.\u001b[0m\u001b[0m_get_connection\u001b[0m\u001b[0;34m(\u001b[0m\u001b[0;34m)\u001b[0m\u001b[0;34m\u001b[0m\u001b[0;34m\u001b[0m\u001b[0m\n\u001b[1;32m   1037\u001b[0m         \u001b[0;32mtry\u001b[0m\u001b[0;34m:\u001b[0m\u001b[0;34m\u001b[0m\u001b[0;34m\u001b[0m\u001b[0m\n\u001b[0;32m-> 1038\u001b[0;31m             \u001b[0mresponse\u001b[0m \u001b[0;34m=\u001b[0m \u001b[0mconnection\u001b[0m\u001b[0;34m.\u001b[0m\u001b[0msend_command\u001b[0m\u001b[0;34m(\u001b[0m\u001b[0mcommand\u001b[0m\u001b[0;34m)\u001b[0m\u001b[0;34m\u001b[0m\u001b[0;34m\u001b[0m\u001b[0m\n\u001b[0m\u001b[1;32m   1039\u001b[0m             \u001b[0;32mif\u001b[0m \u001b[0mbinary\u001b[0m\u001b[0;34m:\u001b[0m\u001b[0;34m\u001b[0m\u001b[0;34m\u001b[0m\u001b[0m\n\u001b[1;32m   1040\u001b[0m                 \u001b[0;32mreturn\u001b[0m \u001b[0mresponse\u001b[0m\u001b[0;34m,\u001b[0m \u001b[0mself\u001b[0m\u001b[0;34m.\u001b[0m\u001b[0m_create_connection_guard\u001b[0m\u001b[0;34m(\u001b[0m\u001b[0mconnection\u001b[0m\u001b[0;34m)\u001b[0m\u001b[0;34m\u001b[0m\u001b[0;34m\u001b[0m\u001b[0m\n",
            "\u001b[0;32m/usr/local/lib/python3.7/dist-packages/py4j/clientserver.py\u001b[0m in \u001b[0;36msend_command\u001b[0;34m(self, command)\u001b[0m\n\u001b[1;32m    509\u001b[0m         \u001b[0;32mtry\u001b[0m\u001b[0;34m:\u001b[0m\u001b[0;34m\u001b[0m\u001b[0;34m\u001b[0m\u001b[0m\n\u001b[1;32m    510\u001b[0m             \u001b[0;32mwhile\u001b[0m \u001b[0;32mTrue\u001b[0m\u001b[0;34m:\u001b[0m\u001b[0;34m\u001b[0m\u001b[0;34m\u001b[0m\u001b[0m\n\u001b[0;32m--> 511\u001b[0;31m                 \u001b[0manswer\u001b[0m \u001b[0;34m=\u001b[0m \u001b[0msmart_decode\u001b[0m\u001b[0;34m(\u001b[0m\u001b[0mself\u001b[0m\u001b[0;34m.\u001b[0m\u001b[0mstream\u001b[0m\u001b[0;34m.\u001b[0m\u001b[0mreadline\u001b[0m\u001b[0;34m(\u001b[0m\u001b[0;34m)\u001b[0m\u001b[0;34m[\u001b[0m\u001b[0;34m:\u001b[0m\u001b[0;34m-\u001b[0m\u001b[0;36m1\u001b[0m\u001b[0;34m]\u001b[0m\u001b[0;34m)\u001b[0m\u001b[0;34m\u001b[0m\u001b[0;34m\u001b[0m\u001b[0m\n\u001b[0m\u001b[1;32m    512\u001b[0m                 \u001b[0mlogger\u001b[0m\u001b[0;34m.\u001b[0m\u001b[0mdebug\u001b[0m\u001b[0;34m(\u001b[0m\u001b[0;34m\"Answer received: {0}\"\u001b[0m\u001b[0;34m.\u001b[0m\u001b[0mformat\u001b[0m\u001b[0;34m(\u001b[0m\u001b[0manswer\u001b[0m\u001b[0;34m)\u001b[0m\u001b[0;34m)\u001b[0m\u001b[0;34m\u001b[0m\u001b[0;34m\u001b[0m\u001b[0m\n\u001b[1;32m    513\u001b[0m                 \u001b[0;31m# Happens when a the other end is dead. There might be an empty\u001b[0m\u001b[0;34m\u001b[0m\u001b[0;34m\u001b[0m\u001b[0;34m\u001b[0m\u001b[0m\n",
            "\u001b[0;32m/usr/lib/python3.7/socket.py\u001b[0m in \u001b[0;36mreadinto\u001b[0;34m(self, b)\u001b[0m\n\u001b[1;32m    587\u001b[0m         \u001b[0;32mwhile\u001b[0m \u001b[0;32mTrue\u001b[0m\u001b[0;34m:\u001b[0m\u001b[0;34m\u001b[0m\u001b[0;34m\u001b[0m\u001b[0m\n\u001b[1;32m    588\u001b[0m             \u001b[0;32mtry\u001b[0m\u001b[0;34m:\u001b[0m\u001b[0;34m\u001b[0m\u001b[0;34m\u001b[0m\u001b[0m\n\u001b[0;32m--> 589\u001b[0;31m                 \u001b[0;32mreturn\u001b[0m \u001b[0mself\u001b[0m\u001b[0;34m.\u001b[0m\u001b[0m_sock\u001b[0m\u001b[0;34m.\u001b[0m\u001b[0mrecv_into\u001b[0m\u001b[0;34m(\u001b[0m\u001b[0mb\u001b[0m\u001b[0;34m)\u001b[0m\u001b[0;34m\u001b[0m\u001b[0;34m\u001b[0m\u001b[0m\n\u001b[0m\u001b[1;32m    590\u001b[0m             \u001b[0;32mexcept\u001b[0m \u001b[0mtimeout\u001b[0m\u001b[0;34m:\u001b[0m\u001b[0;34m\u001b[0m\u001b[0;34m\u001b[0m\u001b[0m\n\u001b[1;32m    591\u001b[0m                 \u001b[0mself\u001b[0m\u001b[0;34m.\u001b[0m\u001b[0m_timeout_occurred\u001b[0m \u001b[0;34m=\u001b[0m \u001b[0;32mTrue\u001b[0m\u001b[0;34m\u001b[0m\u001b[0;34m\u001b[0m\u001b[0m\n",
            "\u001b[0;31mKeyboardInterrupt\u001b[0m: "
          ]
        }
      ]
    },
    {
      "cell_type": "code",
      "source": [
        "### ANALITYKA POSTS\n",
        "\n",
        "postsDF1 = spark.read.parquet(\"/content/output/posts.parquet\")\n",
        "\n",
        "postsDF1 = postsDF1 \\\n",
        "  .filter(col(\"Year\") == 2011) \\\n",
        "  .groupBy(\"Year\", \"Month\") \\\n",
        "  .count() \\\n",
        "  .orderBy(col(\"Year\").desc(), col(\"Month\").desc()) \\\n",
        "  .withColumnRenamed(\"count\", \"Count\") \\\n",
        "  .show(n=100, truncate=False)\n",
        "\n",
        "# postsDF1 \\\n",
        "#   .withColumn('word', explode(f.split(f.col('Description'), ' ')))\\\n",
        "#   .groupBy('word')\\\n",
        "#   .count()\\\n",
        "#   .sort('count', ascending=False)\\\n",
        "#   .show()\n",
        "\n",
        "# import pandas as pd\n",
        "# import matplotlib.pyplot as plt\n",
        "\n",
        "# plotdata = pd.DataFrame({\n",
        "#     \"2010\":[18,13,10,19, 11], #MIESIĄC/ILOŚĆ\n",
        "#     \"2017\":[7,7,7,3, 33],\n",
        "#     \"2018\":[57,67,77,83, 32],\n",
        "#     \"2019\":[68,73,80,79, 32],    \n",
        "#     \"2020\":[73,78,80,85, 34]},\n",
        "#     index=[\"Django\", \"Gafur\", \"Tommy\", \"Ronnie\", \"Python\"]) #LATA\n",
        "# plotdata.plot(kind='bar', stacked=True, figsize=(15, 8))\n",
        "\n",
        "# plt.title(\"Post ratings\")\n",
        "\n",
        "# plt.xlabel(\"Years\")\n",
        "\n",
        "# plt.ylabel(\"Number of posts\")    \n",
        "\n",
        "#plt.bar(df['Year'], df['Sample Size'])\n",
        "#plt.plot(plotdata['2017'], plotdata[7,7,7,3], '-o', color='orange')\n",
        "#https://www.dataquest.io/blog/how-to-plot-a-bar-graph-matplotlib/\n",
        "\n",
        "# from plotly.subplots import make_subplots\n",
        "\n",
        "# speed = [0.1, 17.5, 40, 48, 52, 69, 88]\n",
        "# lifespan = [2, 8, 70, 1.5, 25, 12, 28]\n",
        "# index = ['snail', 'pig', 'elephant', 'rabbit', 'giraffe', 'coyote', 'horse']\n",
        "# df = pd.DataFrame({'speed': speed,'lifespan': lifespan}, index=index)\n",
        "# df.plot.bar()\n"
      ],
      "metadata": {
        "id": "_NztslrDUTSZ",
        "outputId": "5564f092-d1e2-43da-edb1-4facc5d8f349",
        "colab": {
          "base_uri": "https://localhost:8080/"
        }
      },
      "execution_count": 63,
      "outputs": [
        {
          "output_type": "stream",
          "name": "stdout",
          "text": [
            "+----+-----+-----+\n",
            "|Year|Month|Count|\n",
            "+----+-----+-----+\n",
            "|2011|12   |12   |\n",
            "|2011|11   |13   |\n",
            "|2011|10   |9    |\n",
            "|2011|9    |3    |\n",
            "|2011|8    |8    |\n",
            "|2011|7    |16   |\n",
            "|2011|6    |5    |\n",
            "|2011|5    |5    |\n",
            "|2011|4    |6    |\n",
            "|2011|3    |10   |\n",
            "|2011|2    |1    |\n",
            "|2011|1    |6    |\n",
            "+----+-----+-----+\n",
            "\n"
          ]
        }
      ]
    },
    {
      "cell_type": "code",
      "source": [
        "#GRUPOWANIE \n",
        "\n",
        "import pyspark\n",
        "from pyspark.sql import SparkSession\n",
        "from pyspark.sql.functions import col,sum,avg,max\n",
        "\n",
        "spark = SparkSession.builder.appName('SparkByExamples.com').getOrCreate()\n",
        "\n",
        "simpleData = [(\"James\",\"Sales\",\"NY\",90000,34,10000),\n",
        "    (\"Michael\",\"Sales\",\"NY\",86000,56,20000),\n",
        "    (\"Robert\",\"Sales\",\"CA\",81000,30,23000),\n",
        "    (\"Maria\",\"Finance\",\"CA\",90000,24,23000),\n",
        "    (\"Raman\",\"Finance\",\"CA\",99000,40,24000),\n",
        "    (\"Scott\",\"Finance\",\"NY\",83000,36,19000),\n",
        "    (\"Jen\",\"Finance\",\"NY\",79000,53,15000),\n",
        "    (\"Jeff\",\"Marketing\",\"CA\",80000,25,18000),\n",
        "    (\"Kumar\",\"Marketing\",\"NY\",91000,50,21000)\n",
        "  ]\n",
        "\n",
        "schema = [\"employee_name\",\"department\",\"state\",\"salary\",\"age\",\"bonus\"]\n",
        "df = spark.createDataFrame(data=simpleData, schema = schema)\n",
        "df.printSchema()\n",
        "df.show(truncate=False)\n",
        "\n",
        "df.groupBy(\"department\").sum(\"salary\").show(truncate=False)\n",
        "\n",
        "df.groupBy(\"department\").count().show(truncate=False)\n",
        "\n",
        "\n",
        "df.groupBy(\"department\",\"state\") \\\n",
        "    .sum(\"salary\",\"bonus\") \\\n",
        "   .show(truncate=False)\n",
        "\n",
        "df.groupBy(\"department\") \\\n",
        "    .agg(sum(\"salary\").alias(\"sum_salary\"), \\\n",
        "         avg(\"salary\").alias(\"avg_salary\"), \\\n",
        "         sum(\"bonus\").alias(\"sum_bonus\"), \\\n",
        "         max(\"bonus\").alias(\"max_bonus\") \\\n",
        "     ) \\\n",
        "    .show(truncate=False)\n",
        "    \n",
        "df.groupBy(\"department\") \\\n",
        "    .agg(sum(\"salary\").alias(\"sum_salary\"), \\\n",
        "      avg(\"salary\").alias(\"avg_salary\"), \\\n",
        "      sum(\"bonus\").alias(\"sum_bonus\"), \\\n",
        "      max(\"bonus\").alias(\"max_bonus\")) \\\n",
        "    .where(col(\"sum_bonus\") >= 50000) \\\n",
        "    .show(truncate=False)"
      ],
      "metadata": {
        "id": "f3Q2FpjotfMY"
      },
      "execution_count": null,
      "outputs": []
    }
  ]
}
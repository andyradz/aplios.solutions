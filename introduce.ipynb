{
  "nbformat": 4,
  "nbformat_minor": 0,
  "metadata": {
    "colab": {
      "provenance": [],
      "authorship_tag": "ABX9TyNaxtN1zg/Yxb2cpRTq/W6L",
      "include_colab_link": true
    },
    "kernelspec": {
      "name": "python3",
      "display_name": "Python 3"
    },
    "language_info": {
      "name": "python"
    },
    "gpuClass": "standard"
  },
  "cells": [
    {
      "cell_type": "markdown",
      "metadata": {
        "id": "view-in-github",
        "colab_type": "text"
      },
      "source": [
        "<a href=\"https://colab.research.google.com/github/andyradz/aplios.solutions/blob/master/introduce.ipynb\" target=\"_parent\"><img src=\"https://colab.research.google.com/assets/colab-badge.svg\" alt=\"Open In Colab\"/></a>"
      ]
    },
    {
      "cell_type": "markdown",
      "source": [
        "# Konfiguracja środowiska"
      ],
      "metadata": {
        "id": "R2G-8VGrXlt9"
      }
    },
    {
      "cell_type": "markdown",
      "source": [
        "#### Montowanie zasobu Google Drive Volume"
      ],
      "metadata": {
        "id": "JoFm2ebZ8wMP"
      }
    },
    {
      "cell_type": "markdown",
      "source": [],
      "metadata": {
        "id": "RS4fTjK-8s-X"
      }
    },
    {
      "cell_type": "code",
      "execution_count": 34,
      "metadata": {
        "colab": {
          "base_uri": "https://localhost:8080/"
        },
        "id": "HNEHQd6EtyLP",
        "outputId": "f408c86d-d661-4871-885b-2b4bee153cdc"
      },
      "outputs": [
        {
          "output_type": "stream",
          "name": "stdout",
          "text": [
            "Drive already mounted at /content/gdrive; to attempt to forcibly remount, call drive.mount(\"/content/gdrive\", force_remount=True).\n"
          ]
        }
      ],
      "source": [
        "## MOUNT GOOGLE DRIVE VOLUME\n",
        "\n",
        "from google.colab import drive\n",
        "drive.mount('/content/gdrive')"
      ]
    },
    {
      "cell_type": "markdown",
      "source": [
        "#### Listowanie zawartości zasobu Google Drive Volume\n"
      ],
      "metadata": {
        "id": "VRENRNID9FHj"
      }
    },
    {
      "cell_type": "markdown",
      "source": [],
      "metadata": {
        "id": "hbqb3Ems-2q3"
      }
    },
    {
      "cell_type": "code",
      "source": [
        "## LIST GOOGLE DRIVE VOLUME\n",
        "!ls -laFtA --full-time /content/gdrive\n",
        "\n",
        "### CREATE REQUIRED DATA FOLDERS\n",
        "\n",
        "!mkdir input\n",
        "!mkdir output"
      ],
      "metadata": {
        "colab": {
          "base_uri": "https://localhost:8080/"
        },
        "id": "lS9HUpvUuiZE",
        "outputId": "58024cd2-96c3-4abc-8ef8-08b36d03f2ac"
      },
      "execution_count": 35,
      "outputs": [
        {
          "output_type": "stream",
          "name": "stdout",
          "text": [
            "total 16\n",
            "dr-x------  2 root root 4096 2023-11-06 09:25:27.000000000 +0000 .file-revisions-by-id/\n",
            "drwx------ 22 root root 4096 2023-11-06 09:25:27.000000000 +0000 MyDrive/\n",
            "dr-x------  2 root root 4096 2023-11-06 09:25:27.000000000 +0000 .shortcut-targets-by-id/\n",
            "drwx------  5 root root 4096 2023-11-06 09:25:27.000000000 +0000 .Trash-0/\n",
            "mkdir: cannot create directory ‘input’: File exists\n",
            "mkdir: cannot create directory ‘output’: File exists\n"
          ]
        }
      ]
    },
    {
      "cell_type": "markdown",
      "source": [
        "Aktualizacja natywnego systemu"
      ],
      "metadata": {
        "id": "7toAZ5592ufF"
      }
    },
    {
      "cell_type": "code",
      "source": [
        "!apt update\n",
        "\n",
        "!apt upgrade"
      ],
      "metadata": {
        "id": "B-z5kbz-17B-",
        "outputId": "2804f3df-f25a-4b0f-8b5b-d39110b83777",
        "colab": {
          "base_uri": "https://localhost:8080/"
        }
      },
      "execution_count": 8,
      "outputs": [
        {
          "output_type": "stream",
          "name": "stdout",
          "text": [
            "\u001b[33m\r0% [Working]\u001b[0m\r            \rGet:1 http://security.ubuntu.com/ubuntu jammy-security InRelease [110 kB]\n",
            "\u001b[33m\r0% [Connecting to archive.ubuntu.com (185.125.190.36)] [1 InRelease 12.7 kB/110 kB 12%] [Connected t\u001b[0m\r                                                                                                    \rGet:2 https://cloud.r-project.org/bin/linux/ubuntu jammy-cran40/ InRelease [3,626 B]\n",
            "Hit:3 https://developer.download.nvidia.com/compute/cuda/repos/ubuntu2204/x86_64  InRelease\n",
            "Hit:4 http://archive.ubuntu.com/ubuntu jammy InRelease\n",
            "Get:5 https://cloud.r-project.org/bin/linux/ubuntu jammy-cran40/ Packages [46.6 kB]\n",
            "Get:6 http://archive.ubuntu.com/ubuntu jammy-updates InRelease [119 kB]\n",
            "Get:7 https://ppa.launchpadcontent.net/c2d4u.team/c2d4u4.0+/ubuntu jammy InRelease [18.1 kB]\n",
            "Get:8 http://archive.ubuntu.com/ubuntu jammy-backports InRelease [109 kB]\n",
            "Hit:9 https://ppa.launchpadcontent.net/deadsnakes/ppa/ubuntu jammy InRelease\n",
            "Get:10 http://archive.ubuntu.com/ubuntu jammy-updates/multiverse amd64 Packages [49.8 kB]\n",
            "Get:11 http://archive.ubuntu.com/ubuntu jammy-updates/restricted amd64 Packages [1,419 kB]\n",
            "Hit:12 https://ppa.launchpadcontent.net/graphics-drivers/ppa/ubuntu jammy InRelease\n",
            "Hit:13 https://ppa.launchpadcontent.net/ubuntugis/ppa/ubuntu jammy InRelease\n",
            "Get:14 https://ppa.launchpadcontent.net/c2d4u.team/c2d4u4.0+/ubuntu jammy/main Sources [2,231 kB]\n",
            "Get:15 https://ppa.launchpadcontent.net/c2d4u.team/c2d4u4.0+/ubuntu jammy/main amd64 Packages [1,145 kB]\n",
            "Fetched 5,251 kB in 3s (1,578 kB/s)\n",
            "Reading package lists... Done\n",
            "Building dependency tree... Done\n",
            "Reading state information... Done\n",
            "24 packages can be upgraded. Run 'apt list --upgradable' to see them.\n",
            "Reading package lists... Done\n",
            "Building dependency tree... Done\n",
            "Reading state information... Done\n",
            "Calculating upgrade... Done\n",
            "The following packages have been kept back:\n",
            "  libcudnn8 libcudnn8-dev libnccl-dev libnccl2\n",
            "The following packages will be upgraded:\n",
            "  base-files binutils binutils-common binutils-x86-64-linux-gnu cuda-keyring\n",
            "  cuda-toolkit-config-common libbinutils libc-bin libcap2 libctf-nobfd0 libctf0 libldap-2.5-0\n",
            "  libudev1 linux-libc-dev openssl r-base r-base-core r-base-dev r-cran-utf8 r-recommended\n",
            "20 upgraded, 0 newly installed, 0 to remove and 4 not upgraded.\n",
            "Need to get 34.4 MB of archives.\n",
            "After this operation, 126 kB of additional disk space will be used.\n",
            "Get:1 https://cloud.r-project.org/bin/linux/ubuntu jammy-cran40/ r-base-core 4.3.2-1.2204.0 [27.2 MB]\n",
            "Get:2 https://developer.download.nvidia.com/compute/cuda/repos/ubuntu2204/x86_64  cuda-keyring 1.1-1 [4,332 B]\n",
            "Get:3 https://developer.download.nvidia.com/compute/cuda/repos/ubuntu2204/x86_64  cuda-toolkit-config-common 12.3.52-1 [16.4 kB]\n",
            "Get:4 http://archive.ubuntu.com/ubuntu jammy-updates/main amd64 base-files amd64 12ubuntu4.4 [62.6 kB]\n",
            "Get:5 https://ppa.launchpadcontent.net/c2d4u.team/c2d4u4.0+/ubuntu jammy/main amd64 r-cran-utf8 amd64 1.2.4-1cran1.2204.0 [131 kB]\n",
            "Get:6 https://cloud.r-project.org/bin/linux/ubuntu jammy-cran40/ r-base 4.3.2-1.2204.0 [46.4 kB]\n",
            "Get:7 https://cloud.r-project.org/bin/linux/ubuntu jammy-cran40/ r-recommended 4.3.2-1.2204.0 [2,592 B]\n",
            "Get:8 https://cloud.r-project.org/bin/linux/ubuntu jammy-cran40/ r-base-dev 4.3.2-1.2204.0 [4,292 B]\n",
            "Get:9 http://archive.ubuntu.com/ubuntu jammy-updates/main amd64 libc-bin amd64 2.35-0ubuntu3.4 [706 kB]\n",
            "Get:10 http://archive.ubuntu.com/ubuntu jammy-updates/main amd64 libcap2 amd64 1:2.44-1ubuntu0.22.04.1 [18.3 kB]\n",
            "Get:11 http://archive.ubuntu.com/ubuntu jammy-updates/main amd64 libudev1 amd64 249.11-0ubuntu3.11 [78.0 kB]\n",
            "Get:12 http://archive.ubuntu.com/ubuntu jammy-updates/main amd64 openssl amd64 3.0.2-0ubuntu1.12 [1,182 kB]\n",
            "Get:13 http://archive.ubuntu.com/ubuntu jammy-updates/main amd64 libctf0 amd64 2.38-4ubuntu2.3 [103 kB]\n",
            "Get:14 http://archive.ubuntu.com/ubuntu jammy-updates/main amd64 libctf-nobfd0 amd64 2.38-4ubuntu2.3 [107 kB]\n",
            "Get:15 http://archive.ubuntu.com/ubuntu jammy-updates/main amd64 binutils-x86-64-linux-gnu amd64 2.38-4ubuntu2.3 [2,327 kB]\n",
            "Get:16 http://archive.ubuntu.com/ubuntu jammy-updates/main amd64 libbinutils amd64 2.38-4ubuntu2.3 [662 kB]\n",
            "Get:17 http://archive.ubuntu.com/ubuntu jammy-updates/main amd64 binutils amd64 2.38-4ubuntu2.3 [3,190 B]\n",
            "Get:18 http://archive.ubuntu.com/ubuntu jammy-updates/main amd64 binutils-common amd64 2.38-4ubuntu2.3 [222 kB]\n",
            "Get:19 http://archive.ubuntu.com/ubuntu jammy-updates/main amd64 libldap-2.5-0 amd64 2.5.16+dfsg-0ubuntu0.22.04.1 [183 kB]\n",
            "Get:20 http://archive.ubuntu.com/ubuntu jammy-updates/main amd64 linux-libc-dev amd64 5.15.0-88.98 [1,346 kB]\n",
            "Fetched 34.4 MB in 2s (18.7 MB/s)\n",
            "(Reading database ... 120874 files and directories currently installed.)\n",
            "Preparing to unpack .../base-files_12ubuntu4.4_amd64.deb ...\n",
            "Unpacking base-files (12ubuntu4.4) over (12ubuntu4.3) ...\n",
            "Setting up base-files (12ubuntu4.4) ...\n",
            "Installing new version of config file /etc/issue ...\n",
            "Installing new version of config file /etc/issue.net ...\n",
            "Installing new version of config file /etc/lsb-release ...\n",
            "(Reading database ... 120874 files and directories currently installed.)\n",
            "Preparing to unpack .../libc-bin_2.35-0ubuntu3.4_amd64.deb ...\n",
            "Unpacking libc-bin (2.35-0ubuntu3.4) over (2.35-0ubuntu3.1) ...\n",
            "Setting up libc-bin (2.35-0ubuntu3.4) ...\n",
            "/sbin/ldconfig.real: /usr/local/lib/libtbbmalloc_proxy.so.2 is not a symbolic link\n",
            "\n",
            "/sbin/ldconfig.real: /usr/local/lib/libtbbbind_2_0.so.3 is not a symbolic link\n",
            "\n",
            "/sbin/ldconfig.real: /usr/local/lib/libtbbmalloc.so.2 is not a symbolic link\n",
            "\n",
            "/sbin/ldconfig.real: /usr/local/lib/libtbb.so.12 is not a symbolic link\n",
            "\n",
            "/sbin/ldconfig.real: /usr/local/lib/libtbbbind_2_5.so.3 is not a symbolic link\n",
            "\n",
            "/sbin/ldconfig.real: /usr/local/lib/libtbbbind.so.3 is not a symbolic link\n",
            "\n",
            "(Reading database ... 120874 files and directories currently installed.)\n",
            "Preparing to unpack .../libcap2_1%3a2.44-1ubuntu0.22.04.1_amd64.deb ...\n",
            "Unpacking libcap2:amd64 (1:2.44-1ubuntu0.22.04.1) over (1:2.44-1build3) ...\n",
            "Setting up libcap2:amd64 (1:2.44-1ubuntu0.22.04.1) ...\n",
            "(Reading database ... 120874 files and directories currently installed.)\n",
            "Preparing to unpack .../libudev1_249.11-0ubuntu3.11_amd64.deb ...\n",
            "Unpacking libudev1:amd64 (249.11-0ubuntu3.11) over (249.11-0ubuntu3.9) ...\n",
            "Setting up libudev1:amd64 (249.11-0ubuntu3.11) ...\n",
            "(Reading database ... 120874 files and directories currently installed.)\n",
            "Preparing to unpack .../00-openssl_3.0.2-0ubuntu1.12_amd64.deb ...\n",
            "Unpacking openssl (3.0.2-0ubuntu1.12) over (3.0.2-0ubuntu1.10) ...\n",
            "Preparing to unpack .../01-libctf0_2.38-4ubuntu2.3_amd64.deb ...\n",
            "Unpacking libctf0:amd64 (2.38-4ubuntu2.3) over (2.38-4ubuntu2.2) ...\n",
            "Preparing to unpack .../02-libctf-nobfd0_2.38-4ubuntu2.3_amd64.deb ...\n",
            "Unpacking libctf-nobfd0:amd64 (2.38-4ubuntu2.3) over (2.38-4ubuntu2.2) ...\n",
            "Preparing to unpack .../03-binutils-x86-64-linux-gnu_2.38-4ubuntu2.3_amd64.deb ...\n",
            "Unpacking binutils-x86-64-linux-gnu (2.38-4ubuntu2.3) over (2.38-4ubuntu2.2) ...\n",
            "Preparing to unpack .../04-libbinutils_2.38-4ubuntu2.3_amd64.deb ...\n",
            "Unpacking libbinutils:amd64 (2.38-4ubuntu2.3) over (2.38-4ubuntu2.2) ...\n",
            "Preparing to unpack .../05-binutils_2.38-4ubuntu2.3_amd64.deb ...\n",
            "Unpacking binutils (2.38-4ubuntu2.3) over (2.38-4ubuntu2.2) ...\n",
            "Preparing to unpack .../06-binutils-common_2.38-4ubuntu2.3_amd64.deb ...\n",
            "Unpacking binutils-common:amd64 (2.38-4ubuntu2.3) over (2.38-4ubuntu2.2) ...\n",
            "Preparing to unpack .../07-cuda-keyring_1.1-1_all.deb ...\n",
            "Unpacking cuda-keyring (1.1-1) over (1.0-1) ...\n",
            "Preparing to unpack .../08-cuda-toolkit-config-common_12.3.52-1_all.deb ...\n",
            "Unpacking cuda-toolkit-config-common (12.3.52-1) over (12.1.105-1) ...\n",
            "Preparing to unpack .../09-libldap-2.5-0_2.5.16+dfsg-0ubuntu0.22.04.1_amd64.deb ...\n",
            "Unpacking libldap-2.5-0:amd64 (2.5.16+dfsg-0ubuntu0.22.04.1) over (2.5.14+dfsg-0ubuntu0.22.04.2) ...\n",
            "Preparing to unpack .../10-linux-libc-dev_5.15.0-88.98_amd64.deb ...\n",
            "Unpacking linux-libc-dev:amd64 (5.15.0-88.98) over (5.15.0-75.82) ...\n",
            "Preparing to unpack .../11-r-base-core_4.3.2-1.2204.0_amd64.deb ...\n",
            "Unpacking r-base-core (4.3.2-1.2204.0) over (4.3.1-4.2204.0) ...\n",
            "Preparing to unpack .../12-r-base_4.3.2-1.2204.0_all.deb ...\n",
            "Unpacking r-base (4.3.2-1.2204.0) over (4.3.1-4.2204.0) ...\n",
            "Preparing to unpack .../13-r-recommended_4.3.2-1.2204.0_all.deb ...\n",
            "Unpacking r-recommended (4.3.2-1.2204.0) over (4.3.1-4.2204.0) ...\n",
            "Preparing to unpack .../14-r-base-dev_4.3.2-1.2204.0_all.deb ...\n",
            "Unpacking r-base-dev (4.3.2-1.2204.0) over (4.3.1-4.2204.0) ...\n",
            "Preparing to unpack .../15-r-cran-utf8_1.2.4-1cran1.2204.0_amd64.deb ...\n",
            "Unpacking r-cran-utf8 (1.2.4-1cran1.2204.0) over (1.2.3-1cran1.2204.0) ...\n",
            "Setting up cuda-toolkit-config-common (12.3.52-1) ...\n",
            "Setting up binutils-common:amd64 (2.38-4ubuntu2.3) ...\n",
            "Setting up linux-libc-dev:amd64 (5.15.0-88.98) ...\n",
            "Setting up libctf-nobfd0:amd64 (2.38-4ubuntu2.3) ...\n",
            "Setting up libldap-2.5-0:amd64 (2.5.16+dfsg-0ubuntu0.22.04.1) ...\n",
            "Setting up cuda-keyring (1.1-1) ...\n",
            "Setting up r-base-core (4.3.2-1.2204.0) ...\n",
            "Installing new version of config file /etc/R/Makeconf ...\n",
            "Setting up libbinutils:amd64 (2.38-4ubuntu2.3) ...\n",
            "Setting up openssl (3.0.2-0ubuntu1.12) ...\n",
            "Setting up r-recommended (4.3.2-1.2204.0) ...\n",
            "Setting up libctf0:amd64 (2.38-4ubuntu2.3) ...\n",
            "Setting up r-base-dev (4.3.2-1.2204.0) ...\n",
            "Setting up r-cran-utf8 (1.2.4-1cran1.2204.0) ...\n",
            "Setting up r-base (4.3.2-1.2204.0) ...\n",
            "Setting up binutils-x86-64-linux-gnu (2.38-4ubuntu2.3) ...\n",
            "Setting up binutils (2.38-4ubuntu2.3) ...\n",
            "Processing triggers for hicolor-icon-theme (0.17-2) ...\n",
            "Processing triggers for libc-bin (2.35-0ubuntu3.4) ...\n",
            "/sbin/ldconfig.real: /usr/local/lib/libtbbmalloc_proxy.so.2 is not a symbolic link\n",
            "\n",
            "/sbin/ldconfig.real: /usr/local/lib/libtbbbind_2_0.so.3 is not a symbolic link\n",
            "\n",
            "/sbin/ldconfig.real: /usr/local/lib/libtbbmalloc.so.2 is not a symbolic link\n",
            "\n",
            "/sbin/ldconfig.real: /usr/local/lib/libtbb.so.12 is not a symbolic link\n",
            "\n",
            "/sbin/ldconfig.real: /usr/local/lib/libtbbbind_2_5.so.3 is not a symbolic link\n",
            "\n",
            "/sbin/ldconfig.real: /usr/local/lib/libtbbbind.so.3 is not a symbolic link\n",
            "\n",
            "Processing triggers for man-db (2.10.2-1) ...\n"
          ]
        }
      ]
    },
    {
      "cell_type": "markdown",
      "source": [
        "#### Instalacja komponentu Java Development Kit"
      ],
      "metadata": {
        "id": "Kasigenj0szW"
      }
    },
    {
      "cell_type": "code",
      "source": [
        "### DOWNLOAD AND INSTALL JAVA VIRTUAL MACHINE(JVM)\n",
        "\n",
        "!apt-get install openjdk-11-jdk-headless -qq > /dev/null"
      ],
      "metadata": {
        "id": "l07_EefG9i9t"
      },
      "execution_count": 9,
      "outputs": []
    },
    {
      "cell_type": "markdown",
      "source": [
        "#### Instalacja komponentu Hadoop"
      ],
      "metadata": {
        "id": "oYBO00HF299i"
      }
    },
    {
      "cell_type": "code",
      "source": [
        "### DOWNLOAD APACHE SPARK AND HADOOP ENVIRONMENT\n",
        "!wget https://archive.apache.org/dist/spark/spark-3.3.2/spark-3.3.2-bin-hadoop3.tgz > /dev/null\n",
        "\n",
        "### UNZIP SPARK ENVIRONMENT\n",
        "!tar xf spark-3.3.2-bin-hadoop3.tgz > /dev/null"
      ],
      "metadata": {
        "colab": {
          "base_uri": "https://localhost:8080/"
        },
        "id": "hErp8jy39pHI",
        "outputId": "2aa7dad4-9399-495a-e825-7e046c96ce03"
      },
      "execution_count": 10,
      "outputs": [
        {
          "output_type": "stream",
          "name": "stdout",
          "text": [
            "--2023-11-06 09:26:09--  https://archive.apache.org/dist/spark/spark-3.3.2/spark-3.3.2-bin-hadoop3.tgz\n",
            "Resolving archive.apache.org (archive.apache.org)... 65.108.204.189, 2a01:4f9:1a:a084::2\n",
            "Connecting to archive.apache.org (archive.apache.org)|65.108.204.189|:443... connected.\n",
            "HTTP request sent, awaiting response... 200 OK\n",
            "Length: 299360284 (285M) [application/x-gzip]\n",
            "Saving to: ‘spark-3.3.2-bin-hadoop3.tgz’\n",
            "\n",
            "spark-3.3.2-bin-had 100%[===================>] 285.49M   689KB/s    in 11m 9s  \n",
            "\n",
            "2023-11-06 09:37:18 (437 KB/s) - ‘spark-3.3.2-bin-hadoop3.tgz’ saved [299360284/299360284]\n",
            "\n"
          ]
        }
      ]
    },
    {
      "cell_type": "markdown",
      "source": [
        "#### Ustawienie zmiennych środowiskowych dla Python"
      ],
      "metadata": {
        "id": "XTcBb7pE3IF5"
      }
    },
    {
      "cell_type": "code",
      "source": [
        "### SET SYSTEM VARIABLES FOR PYSPARK\n",
        "\n",
        "import os\n",
        "os.environ[\"JAVA_HOME\"] = \"/usr/lib/jvm/java-11-openjdk-amd64\"\n",
        "os.environ[\"SPARK_HOME\"] = '/content/spark-3.3.2-bin-hadoop3'\n",
        "os.environ['PYSPARK_SUBMIT_ARGS'] = '---jars /content/spark-3.3.2-bin-hadoop3/jars/spark-xml_2.12-0.11.0.jar pyspark-shell'\n",
        "os.environ['PYSPARK_SUBMIT_ARGS'] = '--master local[3] pyspark-shell'\n",
        "!java --version"
      ],
      "metadata": {
        "id": "KHhDUqQ-9uU4",
        "outputId": "65acf4e9-7330-49cb-ab99-0b56b6966ebf",
        "colab": {
          "base_uri": "https://localhost:8080/"
        }
      },
      "execution_count": 11,
      "outputs": [
        {
          "output_type": "stream",
          "name": "stdout",
          "text": [
            "openjdk 11.0.20.1 2023-08-24\n",
            "OpenJDK Runtime Environment (build 11.0.20.1+1-post-Ubuntu-0ubuntu122.04)\n",
            "OpenJDK 64-Bit Server VM (build 11.0.20.1+1-post-Ubuntu-0ubuntu122.04, mixed mode, sharing)\n"
          ]
        }
      ]
    },
    {
      "cell_type": "markdown",
      "source": [
        "#### Instalacja komponentu PySpark"
      ],
      "metadata": {
        "id": "r9kCaQNJ3W4E"
      }
    },
    {
      "cell_type": "code",
      "source": [
        "### INSTALL PYSPARK ENVIRONMENT\n",
        "! pip install -q pyspark > /dev/null\n",
        "\n",
        "### INSTALL LIBRARY FIND PYSPARK\n",
        "! pip install -q findspark > /dev/null\n",
        "\n",
        "### INITIAL PYSPARK ENVIRONMENT\n",
        "import findspark\n",
        "findspark.init()\n",
        "\n",
        "### CHECK PYSPARK LOCATION\n",
        "findspark.find()\n",
        "#print(pyspark.__version__)"
      ],
      "metadata": {
        "colab": {
          "base_uri": "https://localhost:8080/",
          "height": 36
        },
        "id": "L2jBbISv9zh2",
        "outputId": "81aaf79d-6c17-452d-926c-d44a3a8006d8"
      },
      "execution_count": 12,
      "outputs": [
        {
          "output_type": "execute_result",
          "data": {
            "text/plain": [
              "'/content/spark-3.3.2-bin-hadoop3'"
            ],
            "application/vnd.google.colaboratory.intrinsic+json": {
              "type": "string"
            }
          },
          "metadata": {},
          "execution_count": 12
        }
      ]
    },
    {
      "cell_type": "code",
      "source": [
        "! wget https://bin.equinox.io/c/4VmDzA7iaHb/ngrok-stable-linux-amd64.zip\n",
        "! unzip ngrok-stable-linux-amd64.zip\n",
        "get_ipython().system_raw('./ngrok http 4050 &')\n",
        "! curl -s http://localhost:4040/api/tunnels"
      ],
      "metadata": {
        "colab": {
          "base_uri": "https://localhost:8080/"
        },
        "id": "wdHV7F5Fu117",
        "outputId": "52030572-f479-49c4-dc48-e03ed093c4a4"
      },
      "execution_count": 13,
      "outputs": [
        {
          "output_type": "stream",
          "name": "stdout",
          "text": [
            "--2023-11-06 09:38:30--  https://bin.equinox.io/c/4VmDzA7iaHb/ngrok-stable-linux-amd64.zip\n",
            "Resolving bin.equinox.io (bin.equinox.io)... 54.161.241.46, 54.237.133.81, 52.202.168.65, ...\n",
            "Connecting to bin.equinox.io (bin.equinox.io)|54.161.241.46|:443... connected.\n",
            "HTTP request sent, awaiting response... 200 OK\n",
            "Length: 13921656 (13M) [application/octet-stream]\n",
            "Saving to: ‘ngrok-stable-linux-amd64.zip’\n",
            "\n",
            "ngrok-stable-linux- 100%[===================>]  13.28M  --.-KB/s    in 0.09s   \n",
            "\n",
            "2023-11-06 09:38:31 (150 MB/s) - ‘ngrok-stable-linux-amd64.zip’ saved [13921656/13921656]\n",
            "\n",
            "Archive:  ngrok-stable-linux-amd64.zip\n",
            "  inflating: ngrok                   \n",
            "{\"tunnels\":[],\"uri\":\"/api/tunnels\"}\n"
          ]
        }
      ]
    },
    {
      "cell_type": "markdown",
      "source": [
        " #### Instalacja aplikacji 7Zip"
      ],
      "metadata": {
        "id": "77ilT8-53qwG"
      }
    },
    {
      "cell_type": "code",
      "source": [
        "!sudo apt install --assume-yes p7zip-full\n",
        "\n",
        "!type(7z)"
      ],
      "metadata": {
        "colab": {
          "base_uri": "https://localhost:8080/"
        },
        "id": "JmWAJ2d7vOPp",
        "outputId": "a2fbecc9-30ff-4372-dae8-3cd5dc806b8b"
      },
      "execution_count": 14,
      "outputs": [
        {
          "output_type": "stream",
          "name": "stdout",
          "text": [
            "Reading package lists... Done\n",
            "Building dependency tree... Done\n",
            "Reading state information... Done\n",
            "p7zip-full is already the newest version (16.02+dfsg-8).\n",
            "0 upgraded, 0 newly installed, 0 to remove and 4 not upgraded.\n",
            "/bin/bash: -c: line 1: syntax error near unexpected token `7z'\n",
            "/bin/bash: -c: line 1: `type(7z)'\n"
          ]
        }
      ]
    },
    {
      "cell_type": "markdown",
      "source": [
        "#### Listowanie pakietów Python"
      ],
      "metadata": {
        "id": "oLsstViy3uwq"
      }
    },
    {
      "cell_type": "code",
      "source": [
        "### LIST PYTHON INSTALLED PACKAGES\n",
        "\n",
        "!pip3 list -v\n"
      ],
      "metadata": {
        "id": "21B8dajJ-Bm2",
        "colab": {
          "base_uri": "https://localhost:8080/"
        },
        "outputId": "00155f09-55cb-435f-f76b-8492b764ddc5"
      },
      "execution_count": 15,
      "outputs": [
        {
          "output_type": "stream",
          "name": "stdout",
          "text": [
            "Package                          Version               Location                                Installer\n",
            "-------------------------------- --------------------- --------------------------------------- ---------\n",
            "absl-py                          1.4.0                 /usr/local/lib/python3.10/dist-packages pip\n",
            "aiohttp                          3.8.6                 /usr/local/lib/python3.10/dist-packages pip\n",
            "aiosignal                        1.3.1                 /usr/local/lib/python3.10/dist-packages pip\n",
            "alabaster                        0.7.13                /usr/local/lib/python3.10/dist-packages pip\n",
            "albumentations                   1.3.1                 /usr/local/lib/python3.10/dist-packages pip\n",
            "altair                           4.2.2                 /usr/local/lib/python3.10/dist-packages pip\n",
            "anyio                            3.7.1                 /usr/local/lib/python3.10/dist-packages pip\n",
            "appdirs                          1.4.4                 /usr/local/lib/python3.10/dist-packages pip\n",
            "argon2-cffi                      23.1.0                /usr/local/lib/python3.10/dist-packages pip\n",
            "argon2-cffi-bindings             21.2.0                /usr/local/lib/python3.10/dist-packages pip\n",
            "array-record                     0.5.0                 /usr/local/lib/python3.10/dist-packages pip\n",
            "arviz                            0.15.1                /usr/local/lib/python3.10/dist-packages pip\n",
            "astropy                          5.3.4                 /usr/local/lib/python3.10/dist-packages pip\n",
            "astunparse                       1.6.3                 /usr/local/lib/python3.10/dist-packages pip\n",
            "async-timeout                    4.0.3                 /usr/local/lib/python3.10/dist-packages pip\n",
            "atpublic                         4.0                   /usr/local/lib/python3.10/dist-packages pip\n",
            "attrs                            23.1.0                /usr/local/lib/python3.10/dist-packages pip\n",
            "audioread                        3.0.1                 /usr/local/lib/python3.10/dist-packages pip\n",
            "autograd                         1.6.2                 /usr/local/lib/python3.10/dist-packages pip\n",
            "Babel                            2.13.1                /usr/local/lib/python3.10/dist-packages pip\n",
            "backcall                         0.2.0                 /usr/local/lib/python3.10/dist-packages pip\n",
            "beautifulsoup4                   4.11.2                /usr/local/lib/python3.10/dist-packages pip\n",
            "bidict                           0.22.1                /usr/local/lib/python3.10/dist-packages pip\n",
            "bigframes                        0.10.0                /usr/local/lib/python3.10/dist-packages pip\n",
            "bleach                           6.1.0                 /usr/local/lib/python3.10/dist-packages pip\n",
            "blinker                          1.4                   /usr/lib/python3/dist-packages\n",
            "blis                             0.7.11                /usr/local/lib/python3.10/dist-packages pip\n",
            "blosc2                           2.0.0                 /usr/local/lib/python3.10/dist-packages pip\n",
            "bokeh                            3.2.2                 /usr/local/lib/python3.10/dist-packages pip\n",
            "bqplot                           0.12.42               /usr/local/lib/python3.10/dist-packages pip\n",
            "branca                           0.6.0                 /usr/local/lib/python3.10/dist-packages pip\n",
            "build                            1.0.3                 /usr/local/lib/python3.10/dist-packages pip\n",
            "CacheControl                     0.13.1                /usr/local/lib/python3.10/dist-packages pip\n",
            "cachetools                       5.3.2                 /usr/local/lib/python3.10/dist-packages pip\n",
            "catalogue                        2.0.10                /usr/local/lib/python3.10/dist-packages pip\n",
            "certifi                          2023.7.22             /usr/local/lib/python3.10/dist-packages pip\n",
            "cffi                             1.16.0                /usr/local/lib/python3.10/dist-packages pip\n",
            "chardet                          5.2.0                 /usr/local/lib/python3.10/dist-packages pip\n",
            "charset-normalizer               3.3.1                 /usr/local/lib/python3.10/dist-packages pip\n",
            "chex                             0.1.7                 /usr/local/lib/python3.10/dist-packages pip\n",
            "click                            8.1.7                 /usr/local/lib/python3.10/dist-packages pip\n",
            "click-plugins                    1.1.1                 /usr/local/lib/python3.10/dist-packages pip\n",
            "cligj                            0.7.2                 /usr/local/lib/python3.10/dist-packages pip\n",
            "cloudpickle                      2.2.1                 /usr/local/lib/python3.10/dist-packages pip\n",
            "cmake                            3.27.7                /usr/local/lib/python3.10/dist-packages pip\n",
            "cmdstanpy                        1.2.0                 /usr/local/lib/python3.10/dist-packages pip\n",
            "colorcet                         3.0.1                 /usr/local/lib/python3.10/dist-packages pip\n",
            "colorlover                       0.3.0                 /usr/local/lib/python3.10/dist-packages pip\n",
            "colour                           0.1.5                 /usr/local/lib/python3.10/dist-packages pip\n",
            "community                        1.0.0b1               /usr/local/lib/python3.10/dist-packages pip\n",
            "confection                       0.1.3                 /usr/local/lib/python3.10/dist-packages pip\n",
            "cons                             0.4.6                 /usr/local/lib/python3.10/dist-packages pip\n",
            "contextlib2                      21.6.0                /usr/local/lib/python3.10/dist-packages pip\n",
            "contourpy                        1.1.1                 /usr/local/lib/python3.10/dist-packages pip\n",
            "cryptography                     41.0.5                /usr/local/lib/python3.10/dist-packages pip\n",
            "cufflinks                        0.17.3                /usr/local/lib/python3.10/dist-packages pip\n",
            "cupy-cuda11x                     11.0.0                /usr/local/lib/python3.10/dist-packages pip\n",
            "cvxopt                           1.3.2                 /usr/local/lib/python3.10/dist-packages pip\n",
            "cvxpy                            1.3.2                 /usr/local/lib/python3.10/dist-packages pip\n",
            "cycler                           0.12.1                /usr/local/lib/python3.10/dist-packages pip\n",
            "cymem                            2.0.8                 /usr/local/lib/python3.10/dist-packages pip\n",
            "Cython                           3.0.4                 /usr/local/lib/python3.10/dist-packages pip\n",
            "dask                             2023.8.1              /usr/local/lib/python3.10/dist-packages pip\n",
            "datascience                      0.17.6                /usr/local/lib/python3.10/dist-packages pip\n",
            "db-dtypes                        1.1.1                 /usr/local/lib/python3.10/dist-packages pip\n",
            "dbus-python                      1.2.18                /usr/lib/python3/dist-packages\n",
            "debugpy                          1.6.6                 /usr/local/lib/python3.10/dist-packages pip\n",
            "decorator                        4.4.2                 /usr/local/lib/python3.10/dist-packages pip\n",
            "defusedxml                       0.7.1                 /usr/local/lib/python3.10/dist-packages pip\n",
            "diskcache                        5.6.3                 /usr/local/lib/python3.10/dist-packages pip\n",
            "distributed                      2023.8.1              /usr/local/lib/python3.10/dist-packages pip\n",
            "distro                           1.7.0                 /usr/lib/python3/dist-packages\n",
            "dlib                             19.24.2               /usr/local/lib/python3.10/dist-packages pip\n",
            "dm-tree                          0.1.8                 /usr/local/lib/python3.10/dist-packages pip\n",
            "docutils                         0.18.1                /usr/local/lib/python3.10/dist-packages pip\n",
            "dopamine-rl                      4.0.6                 /usr/local/lib/python3.10/dist-packages pip\n",
            "duckdb                           0.8.1                 /usr/local/lib/python3.10/dist-packages pip\n",
            "earthengine-api                  0.1.375               /usr/local/lib/python3.10/dist-packages pip\n",
            "easydict                         1.11                  /usr/local/lib/python3.10/dist-packages pip\n",
            "ecos                             2.0.12                /usr/local/lib/python3.10/dist-packages pip\n",
            "editdistance                     0.6.2                 /usr/local/lib/python3.10/dist-packages pip\n",
            "eerepr                           0.0.4                 /usr/local/lib/python3.10/dist-packages pip\n",
            "en-core-web-sm                   3.6.0                 /usr/local/lib/python3.10/dist-packages pip\n",
            "entrypoints                      0.4                   /usr/local/lib/python3.10/dist-packages pip\n",
            "et-xmlfile                       1.1.0                 /usr/local/lib/python3.10/dist-packages pip\n",
            "etils                            1.5.2                 /usr/local/lib/python3.10/dist-packages pip\n",
            "etuples                          0.3.9                 /usr/local/lib/python3.10/dist-packages pip\n",
            "exceptiongroup                   1.1.3                 /usr/local/lib/python3.10/dist-packages pip\n",
            "fastai                           2.7.13                /usr/local/lib/python3.10/dist-packages pip\n",
            "fastcore                         1.5.29                /usr/local/lib/python3.10/dist-packages pip\n",
            "fastdownload                     0.0.7                 /usr/local/lib/python3.10/dist-packages pip\n",
            "fastjsonschema                   2.18.1                /usr/local/lib/python3.10/dist-packages pip\n",
            "fastprogress                     1.0.3                 /usr/local/lib/python3.10/dist-packages pip\n",
            "fastrlock                        0.8.2                 /usr/local/lib/python3.10/dist-packages pip\n",
            "filelock                         3.12.4                /usr/local/lib/python3.10/dist-packages pip\n",
            "findspark                        2.0.1                 /usr/local/lib/python3.10/dist-packages pip\n",
            "fiona                            1.9.5                 /usr/local/lib/python3.10/dist-packages pip\n",
            "firebase-admin                   5.3.0                 /usr/local/lib/python3.10/dist-packages pip\n",
            "Flask                            2.2.5                 /usr/local/lib/python3.10/dist-packages pip\n",
            "flatbuffers                      23.5.26               /usr/local/lib/python3.10/dist-packages pip\n",
            "flax                             0.7.4                 /usr/local/lib/python3.10/dist-packages pip\n",
            "folium                           0.14.0                /usr/local/lib/python3.10/dist-packages pip\n",
            "fonttools                        4.43.1                /usr/local/lib/python3.10/dist-packages pip\n",
            "frozendict                       2.3.8                 /usr/local/lib/python3.10/dist-packages pip\n",
            "frozenlist                       1.4.0                 /usr/local/lib/python3.10/dist-packages pip\n",
            "fsspec                           2023.6.0              /usr/local/lib/python3.10/dist-packages pip\n",
            "future                           0.18.3                /usr/local/lib/python3.10/dist-packages pip\n",
            "gast                             0.5.4                 /usr/local/lib/python3.10/dist-packages pip\n",
            "gcsfs                            2023.6.0              /usr/local/lib/python3.10/dist-packages pip\n",
            "GDAL                             3.4.3                 /usr/local/lib/python3.10/dist-packages pip\n",
            "gdown                            4.6.6                 /usr/local/lib/python3.10/dist-packages pip\n",
            "geemap                           0.28.2                /usr/local/lib/python3.10/dist-packages pip\n",
            "gensim                           4.3.2                 /usr/local/lib/python3.10/dist-packages pip\n",
            "geocoder                         1.38.1                /usr/local/lib/python3.10/dist-packages pip\n",
            "geographiclib                    2.0                   /usr/local/lib/python3.10/dist-packages pip\n",
            "geopandas                        0.13.2                /usr/local/lib/python3.10/dist-packages pip\n",
            "geopy                            2.3.0                 /usr/local/lib/python3.10/dist-packages pip\n",
            "gin-config                       0.5.0                 /usr/local/lib/python3.10/dist-packages pip\n",
            "glob2                            0.7                   /usr/local/lib/python3.10/dist-packages pip\n",
            "google                           2.0.3                 /usr/local/lib/python3.10/dist-packages pip\n",
            "google-api-core                  2.11.1                /usr/local/lib/python3.10/dist-packages pip\n",
            "google-api-python-client         2.84.0                /usr/local/lib/python3.10/dist-packages pip\n",
            "google-auth                      2.17.3                /usr/local/lib/python3.10/dist-packages pip\n",
            "google-auth-httplib2             0.1.1                 /usr/local/lib/python3.10/dist-packages pip\n",
            "google-auth-oauthlib             1.0.0                 /usr/local/lib/python3.10/dist-packages pip\n",
            "google-cloud-bigquery            3.12.0                /usr/local/lib/python3.10/dist-packages pip\n",
            "google-cloud-bigquery-connection 1.12.1                /usr/local/lib/python3.10/dist-packages pip\n",
            "google-cloud-bigquery-storage    2.22.0                /usr/local/lib/python3.10/dist-packages pip\n",
            "google-cloud-core                2.3.3                 /usr/local/lib/python3.10/dist-packages pip\n",
            "google-cloud-datastore           2.15.2                /usr/local/lib/python3.10/dist-packages pip\n",
            "google-cloud-firestore           2.11.1                /usr/local/lib/python3.10/dist-packages pip\n",
            "google-cloud-functions           1.13.3                /usr/local/lib/python3.10/dist-packages pip\n",
            "google-cloud-iam                 2.12.2                /usr/local/lib/python3.10/dist-packages pip\n",
            "google-cloud-language            2.9.1                 /usr/local/lib/python3.10/dist-packages pip\n",
            "google-cloud-resource-manager    1.10.4                /usr/local/lib/python3.10/dist-packages pip\n",
            "google-cloud-storage             2.8.0                 /usr/local/lib/python3.10/dist-packages pip\n",
            "google-cloud-translate           3.11.3                /usr/local/lib/python3.10/dist-packages pip\n",
            "google-colab                     1.0.0                 /usr/local/lib/python3.10/dist-packages pip\n",
            "google-crc32c                    1.5.0                 /usr/local/lib/python3.10/dist-packages pip\n",
            "google-pasta                     0.2.0                 /usr/local/lib/python3.10/dist-packages pip\n",
            "google-resumable-media           2.6.0                 /usr/local/lib/python3.10/dist-packages pip\n",
            "googleapis-common-protos         1.61.0                /usr/local/lib/python3.10/dist-packages pip\n",
            "googledrivedownloader            0.4                   /usr/local/lib/python3.10/dist-packages pip\n",
            "graphviz                         0.20.1                /usr/local/lib/python3.10/dist-packages pip\n",
            "greenlet                         3.0.0                 /usr/local/lib/python3.10/dist-packages pip\n",
            "grpc-google-iam-v1               0.12.6                /usr/local/lib/python3.10/dist-packages pip\n",
            "grpcio                           1.59.0                /usr/local/lib/python3.10/dist-packages pip\n",
            "grpcio-status                    1.48.2                /usr/local/lib/python3.10/dist-packages pip\n",
            "gspread                          3.4.2                 /usr/local/lib/python3.10/dist-packages pip\n",
            "gspread-dataframe                3.3.1                 /usr/local/lib/python3.10/dist-packages pip\n",
            "gym                              0.25.2                /usr/local/lib/python3.10/dist-packages pip\n",
            "gym-notices                      0.0.8                 /usr/local/lib/python3.10/dist-packages pip\n",
            "h5netcdf                         1.2.0                 /usr/local/lib/python3.10/dist-packages pip\n",
            "h5py                             3.9.0                 /usr/local/lib/python3.10/dist-packages pip\n",
            "holidays                         0.35                  /usr/local/lib/python3.10/dist-packages pip\n",
            "holoviews                        1.17.1                /usr/local/lib/python3.10/dist-packages pip\n",
            "html5lib                         1.1                   /usr/local/lib/python3.10/dist-packages pip\n",
            "httpimport                       1.3.1                 /usr/local/lib/python3.10/dist-packages pip\n",
            "httplib2                         0.22.0                /usr/local/lib/python3.10/dist-packages pip\n",
            "humanize                         4.7.0                 /usr/local/lib/python3.10/dist-packages pip\n",
            "hyperopt                         0.2.7                 /usr/local/lib/python3.10/dist-packages pip\n",
            "ibis-framework                   6.2.0                 /usr/local/lib/python3.10/dist-packages pip\n",
            "idna                             3.4                   /usr/local/lib/python3.10/dist-packages pip\n",
            "imageio                          2.31.6                /usr/local/lib/python3.10/dist-packages pip\n",
            "imageio-ffmpeg                   0.4.9                 /usr/local/lib/python3.10/dist-packages pip\n",
            "imagesize                        1.4.1                 /usr/local/lib/python3.10/dist-packages pip\n",
            "imbalanced-learn                 0.10.1                /usr/local/lib/python3.10/dist-packages pip\n",
            "imgaug                           0.4.0                 /usr/local/lib/python3.10/dist-packages pip\n",
            "importlib-metadata               6.8.0                 /usr/local/lib/python3.10/dist-packages pip\n",
            "importlib-resources              6.1.0                 /usr/local/lib/python3.10/dist-packages pip\n",
            "imutils                          0.5.4                 /usr/local/lib/python3.10/dist-packages pip\n",
            "inflect                          7.0.0                 /usr/local/lib/python3.10/dist-packages pip\n",
            "iniconfig                        2.0.0                 /usr/local/lib/python3.10/dist-packages pip\n",
            "install                          1.3.5                 /usr/local/lib/python3.10/dist-packages pip\n",
            "intel-openmp                     2023.2.0              /usr/local/lib/python3.10/dist-packages pip\n",
            "ipyevents                        2.0.2                 /usr/local/lib/python3.10/dist-packages pip\n",
            "ipyfilechooser                   0.6.0                 /usr/local/lib/python3.10/dist-packages pip\n",
            "ipykernel                        5.5.6                 /usr/local/lib/python3.10/dist-packages pip\n",
            "ipyleaflet                       0.17.4                /usr/local/lib/python3.10/dist-packages pip\n",
            "ipython                          7.34.0                /usr/local/lib/python3.10/dist-packages pip\n",
            "ipython-genutils                 0.2.0                 /usr/local/lib/python3.10/dist-packages pip\n",
            "ipython-sql                      0.5.0                 /usr/local/lib/python3.10/dist-packages pip\n",
            "ipytree                          0.2.2                 /usr/local/lib/python3.10/dist-packages pip\n",
            "ipywidgets                       7.7.1                 /usr/local/lib/python3.10/dist-packages pip\n",
            "itsdangerous                     2.1.2                 /usr/local/lib/python3.10/dist-packages pip\n",
            "jax                              0.4.16                /usr/local/lib/python3.10/dist-packages pip\n",
            "jaxlib                           0.4.16+cuda11.cudnn86 /usr/local/lib/python3.10/dist-packages pip\n",
            "jeepney                          0.7.1                 /usr/lib/python3/dist-packages          flit\n",
            "jieba                            0.42.1                /usr/local/lib/python3.10/dist-packages pip\n",
            "Jinja2                           3.1.2                 /usr/local/lib/python3.10/dist-packages pip\n",
            "joblib                           1.3.2                 /usr/local/lib/python3.10/dist-packages pip\n",
            "jsonpickle                       3.0.2                 /usr/local/lib/python3.10/dist-packages pip\n",
            "jsonschema                       4.19.1                /usr/local/lib/python3.10/dist-packages pip\n",
            "jsonschema-specifications        2023.7.1              /usr/local/lib/python3.10/dist-packages pip\n",
            "jupyter-client                   6.1.12                /usr/local/lib/python3.10/dist-packages pip\n",
            "jupyter-console                  6.1.0                 /usr/local/lib/python3.10/dist-packages pip\n",
            "jupyter_core                     5.4.0                 /usr/local/lib/python3.10/dist-packages pip\n",
            "jupyter-server                   1.24.0                /usr/local/lib/python3.10/dist-packages pip\n",
            "jupyterlab-pygments              0.2.2                 /usr/local/lib/python3.10/dist-packages pip\n",
            "jupyterlab-widgets               3.0.9                 /usr/local/lib/python3.10/dist-packages pip\n",
            "kaggle                           1.5.16                /usr/local/lib/python3.10/dist-packages pip\n",
            "keras                            2.14.0                /usr/local/lib/python3.10/dist-packages pip\n",
            "keyring                          23.5.0                /usr/lib/python3/dist-packages\n",
            "kiwisolver                       1.4.5                 /usr/local/lib/python3.10/dist-packages pip\n",
            "langcodes                        3.3.0                 /usr/local/lib/python3.10/dist-packages pip\n",
            "launchpadlib                     1.10.16               /usr/lib/python3/dist-packages\n",
            "lazr.restfulclient               0.14.4                /usr/lib/python3/dist-packages\n",
            "lazr.uri                         1.0.6                 /usr/lib/python3/dist-packages\n",
            "lazy_loader                      0.3                   /usr/local/lib/python3.10/dist-packages pip\n",
            "libclang                         16.0.6                /usr/local/lib/python3.10/dist-packages pip\n",
            "librosa                          0.10.1                /usr/local/lib/python3.10/dist-packages pip\n",
            "lida                             0.0.10                /usr/local/lib/python3.10/dist-packages pip\n",
            "lightgbm                         4.1.0                 /usr/local/lib/python3.10/dist-packages pip\n",
            "linkify-it-py                    2.0.2                 /usr/local/lib/python3.10/dist-packages pip\n",
            "llmx                             0.0.15a0              /usr/local/lib/python3.10/dist-packages pip\n",
            "llvmlite                         0.39.1                /usr/local/lib/python3.10/dist-packages pip\n",
            "locket                           1.0.0                 /usr/local/lib/python3.10/dist-packages pip\n",
            "logical-unification              0.4.6                 /usr/local/lib/python3.10/dist-packages pip\n",
            "lxml                             4.9.3                 /usr/local/lib/python3.10/dist-packages pip\n",
            "malloy                           2023.1058             /usr/local/lib/python3.10/dist-packages pip\n",
            "Markdown                         3.5                   /usr/local/lib/python3.10/dist-packages pip\n",
            "markdown-it-py                   3.0.0                 /usr/local/lib/python3.10/dist-packages pip\n",
            "MarkupSafe                       2.1.3                 /usr/local/lib/python3.10/dist-packages pip\n",
            "matplotlib                       3.7.1                 /usr/local/lib/python3.10/dist-packages pip\n",
            "matplotlib-inline                0.1.6                 /usr/local/lib/python3.10/dist-packages pip\n",
            "matplotlib-venn                  0.11.9                /usr/local/lib/python3.10/dist-packages pip\n",
            "mdit-py-plugins                  0.4.0                 /usr/local/lib/python3.10/dist-packages pip\n",
            "mdurl                            0.1.2                 /usr/local/lib/python3.10/dist-packages pip\n",
            "miniKanren                       1.0.3                 /usr/local/lib/python3.10/dist-packages pip\n",
            "missingno                        0.5.2                 /usr/local/lib/python3.10/dist-packages pip\n",
            "mistune                          0.8.4                 /usr/local/lib/python3.10/dist-packages pip\n",
            "mizani                           0.9.3                 /usr/local/lib/python3.10/dist-packages pip\n",
            "mkl                              2023.2.0              /usr/local/lib/python3.10/dist-packages pip\n",
            "ml-dtypes                        0.2.0                 /usr/local/lib/python3.10/dist-packages pip\n",
            "mlxtend                          0.22.0                /usr/local/lib/python3.10/dist-packages pip\n",
            "more-itertools                   10.1.0                /usr/local/lib/python3.10/dist-packages pip\n",
            "moviepy                          1.0.3                 /usr/local/lib/python3.10/dist-packages pip\n",
            "mpmath                           1.3.0                 /usr/local/lib/python3.10/dist-packages pip\n",
            "msgpack                          1.0.7                 /usr/local/lib/python3.10/dist-packages pip\n",
            "multidict                        6.0.4                 /usr/local/lib/python3.10/dist-packages pip\n",
            "multipledispatch                 1.0.0                 /usr/local/lib/python3.10/dist-packages pip\n",
            "multitasking                     0.0.11                /usr/local/lib/python3.10/dist-packages pip\n",
            "murmurhash                       1.0.10                /usr/local/lib/python3.10/dist-packages pip\n",
            "music21                          9.1.0                 /usr/local/lib/python3.10/dist-packages pip\n",
            "natsort                          8.4.0                 /usr/local/lib/python3.10/dist-packages pip\n",
            "nbclassic                        1.0.0                 /usr/local/lib/python3.10/dist-packages pip\n",
            "nbclient                         0.8.0                 /usr/local/lib/python3.10/dist-packages pip\n",
            "nbconvert                        6.5.4                 /usr/local/lib/python3.10/dist-packages pip\n",
            "nbformat                         5.9.2                 /usr/local/lib/python3.10/dist-packages pip\n",
            "nest-asyncio                     1.5.8                 /usr/local/lib/python3.10/dist-packages pip\n",
            "networkx                         3.2                   /usr/local/lib/python3.10/dist-packages pip\n",
            "nibabel                          4.0.2                 /usr/local/lib/python3.10/dist-packages pip\n",
            "nltk                             3.8.1                 /usr/local/lib/python3.10/dist-packages pip\n",
            "notebook                         6.5.5                 /usr/local/lib/python3.10/dist-packages pip\n",
            "notebook_shim                    0.2.3                 /usr/local/lib/python3.10/dist-packages pip\n",
            "numba                            0.56.4                /usr/local/lib/python3.10/dist-packages pip\n",
            "numexpr                          2.8.7                 /usr/local/lib/python3.10/dist-packages pip\n",
            "numpy                            1.23.5                /usr/local/lib/python3.10/dist-packages pip\n",
            "oauth2client                     4.1.3                 /usr/local/lib/python3.10/dist-packages pip\n",
            "oauthlib                         3.2.2                 /usr/local/lib/python3.10/dist-packages pip\n",
            "opencv-contrib-python            4.8.0.76              /usr/local/lib/python3.10/dist-packages pip\n",
            "opencv-python                    4.8.0.76              /usr/local/lib/python3.10/dist-packages pip\n",
            "opencv-python-headless           4.8.1.78              /usr/local/lib/python3.10/dist-packages pip\n",
            "openpyxl                         3.1.2                 /usr/local/lib/python3.10/dist-packages pip\n",
            "opt-einsum                       3.3.0                 /usr/local/lib/python3.10/dist-packages pip\n",
            "optax                            0.1.7                 /usr/local/lib/python3.10/dist-packages pip\n",
            "orbax-checkpoint                 0.4.1                 /usr/local/lib/python3.10/dist-packages pip\n",
            "osqp                             0.6.2.post8           /usr/local/lib/python3.10/dist-packages pip\n",
            "packaging                        23.2                  /usr/local/lib/python3.10/dist-packages pip\n",
            "pandas                           1.5.3                 /usr/local/lib/python3.10/dist-packages pip\n",
            "pandas-datareader                0.10.0                /usr/local/lib/python3.10/dist-packages pip\n",
            "pandas-gbq                       0.17.9                /usr/local/lib/python3.10/dist-packages pip\n",
            "pandas-stubs                     1.5.3.230304          /usr/local/lib/python3.10/dist-packages pip\n",
            "pandocfilters                    1.5.0                 /usr/local/lib/python3.10/dist-packages pip\n",
            "panel                            1.3.0                 /usr/local/lib/python3.10/dist-packages pip\n",
            "param                            2.0.0                 /usr/local/lib/python3.10/dist-packages pip\n",
            "parso                            0.8.3                 /usr/local/lib/python3.10/dist-packages pip\n",
            "parsy                            2.1                   /usr/local/lib/python3.10/dist-packages pip\n",
            "partd                            1.4.1                 /usr/local/lib/python3.10/dist-packages pip\n",
            "pathlib                          1.0.1                 /usr/local/lib/python3.10/dist-packages pip\n",
            "pathy                            0.10.3                /usr/local/lib/python3.10/dist-packages pip\n",
            "patsy                            0.5.3                 /usr/local/lib/python3.10/dist-packages pip\n",
            "peewee                           3.17.0                /usr/local/lib/python3.10/dist-packages pip\n",
            "pexpect                          4.8.0                 /usr/local/lib/python3.10/dist-packages pip\n",
            "pickleshare                      0.7.5                 /usr/local/lib/python3.10/dist-packages pip\n",
            "Pillow                           9.4.0                 /usr/local/lib/python3.10/dist-packages pip\n",
            "pip                              23.1.2                /usr/local/lib/python3.10/dist-packages pip\n",
            "pip-tools                        6.13.0                /usr/local/lib/python3.10/dist-packages pip\n",
            "platformdirs                     3.11.0                /usr/local/lib/python3.10/dist-packages pip\n",
            "plotly                           5.15.0                /usr/local/lib/python3.10/dist-packages pip\n",
            "plotnine                         0.12.3                /usr/local/lib/python3.10/dist-packages pip\n",
            "pluggy                           1.3.0                 /usr/local/lib/python3.10/dist-packages pip\n",
            "polars                           0.17.3                /usr/local/lib/python3.10/dist-packages pip\n",
            "pooch                            1.8.0                 /usr/local/lib/python3.10/dist-packages pip\n",
            "portpicker                       1.5.2                 /usr/local/lib/python3.10/dist-packages pip\n",
            "prefetch-generator               1.0.3                 /usr/local/lib/python3.10/dist-packages pip\n",
            "preshed                          3.0.9                 /usr/local/lib/python3.10/dist-packages pip\n",
            "prettytable                      3.9.0                 /usr/local/lib/python3.10/dist-packages pip\n",
            "proglog                          0.1.10                /usr/local/lib/python3.10/dist-packages pip\n",
            "progressbar2                     4.2.0                 /usr/local/lib/python3.10/dist-packages pip\n",
            "prometheus-client                0.17.1                /usr/local/lib/python3.10/dist-packages pip\n",
            "promise                          2.3                   /usr/local/lib/python3.10/dist-packages pip\n",
            "prompt-toolkit                   3.0.39                /usr/local/lib/python3.10/dist-packages pip\n",
            "prophet                          1.1.5                 /usr/local/lib/python3.10/dist-packages pip\n",
            "proto-plus                       1.22.3                /usr/local/lib/python3.10/dist-packages pip\n",
            "protobuf                         3.20.3                /usr/local/lib/python3.10/dist-packages pip\n",
            "psutil                           5.9.5                 /usr/local/lib/python3.10/dist-packages pip\n",
            "psycopg2                         2.9.9                 /usr/local/lib/python3.10/dist-packages pip\n",
            "ptyprocess                       0.7.0                 /usr/local/lib/python3.10/dist-packages pip\n",
            "py-cpuinfo                       9.0.0                 /usr/local/lib/python3.10/dist-packages pip\n",
            "py4j                             0.10.9.7              /usr/local/lib/python3.10/dist-packages pip\n",
            "pyarrow                          9.0.0                 /usr/local/lib/python3.10/dist-packages pip\n",
            "pyasn1                           0.5.0                 /usr/local/lib/python3.10/dist-packages pip\n",
            "pyasn1-modules                   0.3.0                 /usr/local/lib/python3.10/dist-packages pip\n",
            "pycocotools                      2.0.7                 /usr/local/lib/python3.10/dist-packages pip\n",
            "pycparser                        2.21                  /usr/local/lib/python3.10/dist-packages pip\n",
            "pyct                             0.5.0                 /usr/local/lib/python3.10/dist-packages pip\n",
            "pydantic                         1.10.13               /usr/local/lib/python3.10/dist-packages pip\n",
            "pydata-google-auth               1.8.2                 /usr/local/lib/python3.10/dist-packages pip\n",
            "pydot                            1.4.2                 /usr/local/lib/python3.10/dist-packages pip\n",
            "pydot-ng                         2.0.0                 /usr/local/lib/python3.10/dist-packages pip\n",
            "pydotplus                        2.0.2                 /usr/local/lib/python3.10/dist-packages pip\n",
            "PyDrive                          1.3.1                 /usr/local/lib/python3.10/dist-packages pip\n",
            "PyDrive2                         1.6.3                 /usr/local/lib/python3.10/dist-packages pip\n",
            "pyerfa                           2.0.1.1               /usr/local/lib/python3.10/dist-packages pip\n",
            "pygame                           2.5.2                 /usr/local/lib/python3.10/dist-packages pip\n",
            "Pygments                         2.16.1                /usr/local/lib/python3.10/dist-packages pip\n",
            "PyGObject                        3.42.1                /usr/lib/python3/dist-packages\n",
            "PyJWT                            2.3.0                 /usr/lib/python3/dist-packages\n",
            "pymc                             5.7.2                 /usr/local/lib/python3.10/dist-packages pip\n",
            "pymystem3                        0.2.0                 /usr/local/lib/python3.10/dist-packages pip\n",
            "PyOpenGL                         3.1.7                 /usr/local/lib/python3.10/dist-packages pip\n",
            "pyOpenSSL                        23.2.0                /usr/local/lib/python3.10/dist-packages pip\n",
            "pyparsing                        3.1.1                 /usr/local/lib/python3.10/dist-packages pip\n",
            "pyperclip                        1.8.2                 /usr/local/lib/python3.10/dist-packages pip\n",
            "pyproj                           3.6.1                 /usr/local/lib/python3.10/dist-packages pip\n",
            "pyproject_hooks                  1.0.0                 /usr/local/lib/python3.10/dist-packages pip\n",
            "pyshp                            2.3.1                 /usr/local/lib/python3.10/dist-packages pip\n",
            "PySocks                          1.7.1                 /usr/local/lib/python3.10/dist-packages pip\n",
            "pyspark                          3.5.0                 /usr/local/lib/python3.10/dist-packages pip\n",
            "pytensor                         2.14.2                /usr/local/lib/python3.10/dist-packages pip\n",
            "pytest                           7.4.3                 /usr/local/lib/python3.10/dist-packages pip\n",
            "python-apt                       0.0.0                 /usr/local/lib/python3.10/dist-packages\n",
            "python-box                       7.1.1                 /usr/local/lib/python3.10/dist-packages pip\n",
            "python-dateutil                  2.8.2                 /usr/local/lib/python3.10/dist-packages pip\n",
            "python-louvain                   0.16                  /usr/local/lib/python3.10/dist-packages pip\n",
            "python-slugify                   8.0.1                 /usr/local/lib/python3.10/dist-packages pip\n",
            "python-utils                     3.8.1                 /usr/local/lib/python3.10/dist-packages pip\n",
            "pytz                             2023.3.post1          /usr/local/lib/python3.10/dist-packages pip\n",
            "pyviz_comms                      3.0.0                 /usr/local/lib/python3.10/dist-packages pip\n",
            "PyWavelets                       1.4.1                 /usr/local/lib/python3.10/dist-packages pip\n",
            "PyYAML                           6.0.1                 /usr/local/lib/python3.10/dist-packages pip\n",
            "pyzmq                            23.2.1                /usr/local/lib/python3.10/dist-packages pip\n",
            "qdldl                            0.1.7.post0           /usr/local/lib/python3.10/dist-packages pip\n",
            "qudida                           0.0.4                 /usr/local/lib/python3.10/dist-packages pip\n",
            "ratelim                          0.1.6                 /usr/local/lib/python3.10/dist-packages pip\n",
            "referencing                      0.30.2                /usr/local/lib/python3.10/dist-packages pip\n",
            "regex                            2023.6.3              /usr/local/lib/python3.10/dist-packages pip\n",
            "requests                         2.31.0                /usr/local/lib/python3.10/dist-packages pip\n",
            "requests-oauthlib                1.3.1                 /usr/local/lib/python3.10/dist-packages pip\n",
            "requirements-parser              0.5.0                 /usr/local/lib/python3.10/dist-packages pip\n",
            "rich                             13.6.0                /usr/local/lib/python3.10/dist-packages pip\n",
            "rpds-py                          0.10.6                /usr/local/lib/python3.10/dist-packages pip\n",
            "rpy2                             3.4.2                 /usr/local/lib/python3.10/dist-packages pip\n",
            "rsa                              4.9                   /usr/local/lib/python3.10/dist-packages pip\n",
            "scikit-image                     0.19.3                /usr/local/lib/python3.10/dist-packages pip\n",
            "scikit-learn                     1.2.2                 /usr/local/lib/python3.10/dist-packages pip\n",
            "scipy                            1.11.3                /usr/local/lib/python3.10/dist-packages pip\n",
            "scooby                           0.9.2                 /usr/local/lib/python3.10/dist-packages pip\n",
            "scs                              3.2.3                 /usr/local/lib/python3.10/dist-packages pip\n",
            "seaborn                          0.12.2                /usr/local/lib/python3.10/dist-packages pip\n",
            "SecretStorage                    3.3.1                 /usr/lib/python3/dist-packages\n",
            "Send2Trash                       1.8.2                 /usr/local/lib/python3.10/dist-packages pip\n",
            "setuptools                       67.7.2                /usr/local/lib/python3.10/dist-packages pip\n",
            "shapely                          2.0.2                 /usr/local/lib/python3.10/dist-packages pip\n",
            "six                              1.16.0                /usr/local/lib/python3.10/dist-packages pip\n",
            "sklearn-pandas                   2.2.0                 /usr/local/lib/python3.10/dist-packages pip\n",
            "smart-open                       6.4.0                 /usr/local/lib/python3.10/dist-packages pip\n",
            "sniffio                          1.3.0                 /usr/local/lib/python3.10/dist-packages pip\n",
            "snowballstemmer                  2.2.0                 /usr/local/lib/python3.10/dist-packages pip\n",
            "sortedcontainers                 2.4.0                 /usr/local/lib/python3.10/dist-packages pip\n",
            "soundfile                        0.12.1                /usr/local/lib/python3.10/dist-packages pip\n",
            "soupsieve                        2.5                   /usr/local/lib/python3.10/dist-packages pip\n",
            "soxr                             0.3.7                 /usr/local/lib/python3.10/dist-packages pip\n",
            "spacy                            3.6.1                 /usr/local/lib/python3.10/dist-packages pip\n",
            "spacy-legacy                     3.0.12                /usr/local/lib/python3.10/dist-packages pip\n",
            "spacy-loggers                    1.0.5                 /usr/local/lib/python3.10/dist-packages pip\n",
            "Sphinx                           5.0.2                 /usr/local/lib/python3.10/dist-packages pip\n",
            "sphinxcontrib-applehelp          1.0.7                 /usr/local/lib/python3.10/dist-packages pip\n",
            "sphinxcontrib-devhelp            1.0.5                 /usr/local/lib/python3.10/dist-packages pip\n",
            "sphinxcontrib-htmlhelp           2.0.4                 /usr/local/lib/python3.10/dist-packages pip\n",
            "sphinxcontrib-jsmath             1.0.1                 /usr/local/lib/python3.10/dist-packages pip\n",
            "sphinxcontrib-qthelp             1.0.6                 /usr/local/lib/python3.10/dist-packages pip\n",
            "sphinxcontrib-serializinghtml    1.1.9                 /usr/local/lib/python3.10/dist-packages pip\n",
            "SQLAlchemy                       2.0.22                /usr/local/lib/python3.10/dist-packages pip\n",
            "sqlglot                          17.16.2               /usr/local/lib/python3.10/dist-packages pip\n",
            "sqlparse                         0.4.4                 /usr/local/lib/python3.10/dist-packages pip\n",
            "srsly                            2.4.8                 /usr/local/lib/python3.10/dist-packages pip\n",
            "stanio                           0.3.0                 /usr/local/lib/python3.10/dist-packages pip\n",
            "statsmodels                      0.14.0                /usr/local/lib/python3.10/dist-packages pip\n",
            "sympy                            1.12                  /usr/local/lib/python3.10/dist-packages pip\n",
            "tables                           3.8.0                 /usr/local/lib/python3.10/dist-packages pip\n",
            "tabulate                         0.9.0                 /usr/local/lib/python3.10/dist-packages pip\n",
            "tbb                              2021.10.0             /usr/local/lib/python3.10/dist-packages pip\n",
            "tblib                            3.0.0                 /usr/local/lib/python3.10/dist-packages pip\n",
            "tenacity                         8.2.3                 /usr/local/lib/python3.10/dist-packages pip\n",
            "tensorboard                      2.14.1                /usr/local/lib/python3.10/dist-packages pip\n",
            "tensorboard-data-server          0.7.2                 /usr/local/lib/python3.10/dist-packages pip\n",
            "tensorflow                       2.14.0                /usr/local/lib/python3.10/dist-packages pip\n",
            "tensorflow-datasets              4.9.3                 /usr/local/lib/python3.10/dist-packages pip\n",
            "tensorflow-estimator             2.14.0                /usr/local/lib/python3.10/dist-packages pip\n",
            "tensorflow-gcs-config            2.14.0                /usr/local/lib/python3.10/dist-packages pip\n",
            "tensorflow-hub                   0.15.0                /usr/local/lib/python3.10/dist-packages pip\n",
            "tensorflow-io-gcs-filesystem     0.34.0                /usr/local/lib/python3.10/dist-packages pip\n",
            "tensorflow-metadata              1.14.0                /usr/local/lib/python3.10/dist-packages pip\n",
            "tensorflow-probability           0.22.0                /usr/local/lib/python3.10/dist-packages pip\n",
            "tensorstore                      0.1.45                /usr/local/lib/python3.10/dist-packages pip\n",
            "termcolor                        2.3.0                 /usr/local/lib/python3.10/dist-packages pip\n",
            "terminado                        0.17.1                /usr/local/lib/python3.10/dist-packages pip\n",
            "text-unidecode                   1.3                   /usr/local/lib/python3.10/dist-packages pip\n",
            "textblob                         0.17.1                /usr/local/lib/python3.10/dist-packages pip\n",
            "tf-slim                          1.1.0                 /usr/local/lib/python3.10/dist-packages pip\n",
            "thinc                            8.1.12                /usr/local/lib/python3.10/dist-packages pip\n",
            "threadpoolctl                    3.2.0                 /usr/local/lib/python3.10/dist-packages pip\n",
            "tifffile                         2023.9.26             /usr/local/lib/python3.10/dist-packages pip\n",
            "tinycss2                         1.2.1                 /usr/local/lib/python3.10/dist-packages pip\n",
            "toml                             0.10.2                /usr/local/lib/python3.10/dist-packages pip\n",
            "tomli                            2.0.1                 /usr/local/lib/python3.10/dist-packages pip\n",
            "toolz                            0.12.0                /usr/local/lib/python3.10/dist-packages pip\n",
            "torch                            2.1.0+cu118           /usr/local/lib/python3.10/dist-packages pip\n",
            "torchaudio                       2.1.0+cu118           /usr/local/lib/python3.10/dist-packages pip\n",
            "torchdata                        0.7.0                 /usr/local/lib/python3.10/dist-packages pip\n",
            "torchsummary                     1.5.1                 /usr/local/lib/python3.10/dist-packages pip\n",
            "torchtext                        0.16.0                /usr/local/lib/python3.10/dist-packages pip\n",
            "torchvision                      0.16.0+cu118          /usr/local/lib/python3.10/dist-packages pip\n",
            "tornado                          6.3.2                 /usr/local/lib/python3.10/dist-packages pip\n",
            "tqdm                             4.66.1                /usr/local/lib/python3.10/dist-packages pip\n",
            "traitlets                        5.7.1                 /usr/local/lib/python3.10/dist-packages pip\n",
            "traittypes                       0.2.1                 /usr/local/lib/python3.10/dist-packages pip\n",
            "triton                           2.1.0                 /usr/local/lib/python3.10/dist-packages pip\n",
            "tweepy                           4.13.0                /usr/local/lib/python3.10/dist-packages pip\n",
            "typer                            0.9.0                 /usr/local/lib/python3.10/dist-packages pip\n",
            "types-pytz                       2023.3.1.1            /usr/local/lib/python3.10/dist-packages pip\n",
            "types-setuptools                 68.2.0.0              /usr/local/lib/python3.10/dist-packages pip\n",
            "typing_extensions                4.5.0                 /usr/local/lib/python3.10/dist-packages pip\n",
            "tzlocal                          5.2                   /usr/local/lib/python3.10/dist-packages pip\n",
            "uc-micro-py                      1.0.2                 /usr/local/lib/python3.10/dist-packages pip\n",
            "uritemplate                      4.1.1                 /usr/local/lib/python3.10/dist-packages pip\n",
            "urllib3                          2.0.7                 /usr/local/lib/python3.10/dist-packages pip\n",
            "vega-datasets                    0.9.0                 /usr/local/lib/python3.10/dist-packages pip\n",
            "wadllib                          1.3.6                 /usr/lib/python3/dist-packages\n",
            "wasabi                           1.1.2                 /usr/local/lib/python3.10/dist-packages pip\n",
            "wcwidth                          0.2.8                 /usr/local/lib/python3.10/dist-packages pip\n",
            "webcolors                        1.13                  /usr/local/lib/python3.10/dist-packages pip\n",
            "webencodings                     0.5.1                 /usr/local/lib/python3.10/dist-packages pip\n",
            "websocket-client                 1.6.4                 /usr/local/lib/python3.10/dist-packages pip\n",
            "Werkzeug                         3.0.1                 /usr/local/lib/python3.10/dist-packages pip\n",
            "wheel                            0.41.2                /usr/local/lib/python3.10/dist-packages pip\n",
            "widgetsnbextension               3.6.6                 /usr/local/lib/python3.10/dist-packages pip\n",
            "wordcloud                        1.9.2                 /usr/local/lib/python3.10/dist-packages pip\n",
            "wrapt                            1.14.1                /usr/local/lib/python3.10/dist-packages pip\n",
            "xarray                           2023.7.0              /usr/local/lib/python3.10/dist-packages pip\n",
            "xarray-einstats                  0.6.0                 /usr/local/lib/python3.10/dist-packages pip\n",
            "xgboost                          2.0.1                 /usr/local/lib/python3.10/dist-packages pip\n",
            "xlrd                             2.0.1                 /usr/local/lib/python3.10/dist-packages pip\n",
            "xxhash                           3.4.1                 /usr/local/lib/python3.10/dist-packages pip\n",
            "xyzservices                      2023.10.0             /usr/local/lib/python3.10/dist-packages pip\n",
            "yarl                             1.9.2                 /usr/local/lib/python3.10/dist-packages pip\n",
            "yellowbrick                      1.5                   /usr/local/lib/python3.10/dist-packages pip\n",
            "yfinance                         0.2.31                /usr/local/lib/python3.10/dist-packages pip\n",
            "zict                             3.0.0                 /usr/local/lib/python3.10/dist-packages pip\n",
            "zipp                             3.17.0                /usr/local/lib/python3.10/dist-packages pip\n"
          ]
        }
      ]
    },
    {
      "cell_type": "code",
      "source": [
        "#tar xzvf hbase-3.0.0-alpha-4-SNAPSHOT-bin.tar.gz"
      ],
      "metadata": {
        "id": "nuXNKB1OGOPD"
      },
      "execution_count": 16,
      "outputs": []
    },
    {
      "cell_type": "markdown",
      "source": [
        " # Pobranie archiwum danych z Stackexchange"
      ],
      "metadata": {
        "id": "07GZqaWEVMGD"
      }
    },
    {
      "cell_type": "code",
      "source": [
        "!wget https://archive.org/download/stackexchange/webapps.stackexchange.com.7z -P /content/input/ > /dev/null"
      ],
      "metadata": {
        "colab": {
          "base_uri": "https://localhost:8080/"
        },
        "id": "eBZxivlyZQFk",
        "outputId": "05b418af-c081-496f-872b-2c3971eeae3a"
      },
      "execution_count": 17,
      "outputs": [
        {
          "output_type": "stream",
          "name": "stdout",
          "text": [
            "--2023-11-06 09:38:38--  https://archive.org/download/stackexchange/webapps.stackexchange.com.7z\n",
            "Resolving archive.org (archive.org)... 207.241.224.2\n",
            "Connecting to archive.org (archive.org)|207.241.224.2|:443... connected.\n",
            "HTTP request sent, awaiting response... 302 Found\n",
            "Location: https://ia804700.us.archive.org/6/items/stackexchange/webapps.stackexchange.com.7z [following]\n",
            "--2023-11-06 09:38:39--  https://ia804700.us.archive.org/6/items/stackexchange/webapps.stackexchange.com.7z\n",
            "Resolving ia804700.us.archive.org (ia804700.us.archive.org)... 207.241.236.10\n",
            "Connecting to ia804700.us.archive.org (ia804700.us.archive.org)|207.241.236.10|:443... connected.\n",
            "HTTP request sent, awaiting response... 200 OK\n",
            "Length: 70287760 (67M) [application/x-7z-compressed]\n",
            "Saving to: ‘/content/input/webapps.stackexchange.com.7z’\n",
            "\n",
            "webapps.stackexchan 100%[===================>]  67.03M  26.9MB/s    in 2.5s    \n",
            "\n",
            "2023-11-06 09:38:41 (26.9 MB/s) - ‘/content/input/webapps.stackexchange.com.7z’ saved [70287760/70287760]\n",
            "\n"
          ]
        }
      ]
    },
    {
      "cell_type": "markdown",
      "source": [
        "#### Rozpakowanie archiwum danych"
      ],
      "metadata": {
        "id": "VWVdaBdZ7Zfr"
      }
    },
    {
      "cell_type": "code",
      "source": [
        "####EXTRACT DATA FROM 7ZIP ARCHIWUM\n",
        "!7za e -y /content/input/webapps.stackexchange.com.7z -o/content/input/ > /dev/null"
      ],
      "metadata": {
        "id": "hznIGKtyKDfg"
      },
      "execution_count": 18,
      "outputs": []
    },
    {
      "cell_type": "markdown",
      "source": [
        "# Utworzenie sesji środowiska PySpark"
      ],
      "metadata": {
        "id": "AoyoYqbl7yGR"
      }
    },
    {
      "cell_type": "code",
      "source": [
        "! export PYSPARK_SUBMIT_ARGS=\"--master local[3] pyspark-shell\"\n",
        "\n",
        "import pyspark\n",
        "from pyspark.sql import SparkSession\n",
        "from pyspark.sql.types import StructType, StructField, LongType, StringType, BooleanType, DateType\n",
        "from pyspark.sql.functions import to_timestamp, date_format, col\n",
        "\n",
        "spark = SparkSession \\\n",
        "    .builder \\\n",
        "    .master(\"local[*]\") \\\n",
        "    .appName('ARDiplomaWork') \\\n",
        "    .config('spark.ui.port', '4050')\\\n",
        "    .config('spark.jars.packages', 'com.databricks:spark-xml_2.12:0.6.0') \\\n",
        "    .getOrCreate()\n",
        "\n",
        "#! wget https://bin.equinox.io/c/4VmDzA7iaHb/ngrok-stable-linux-amd64.zip\n",
        "#! unzip ngrok-stable-linux-amd64.zip\n",
        "##get_ipython().system_raw('./ngrok http 4050 &')\n",
        "#! curl -s http://localhost:4050/api/tunnels\n",
        "\n",
        "spark"
      ],
      "metadata": {
        "id": "WuiPfbOKVzGi",
        "colab": {
          "base_uri": "https://localhost:8080/",
          "height": 222
        },
        "outputId": "398ecb7c-fbc7-4372-9fcf-a4e3c3b6fc64"
      },
      "execution_count": 19,
      "outputs": [
        {
          "output_type": "execute_result",
          "data": {
            "text/plain": [
              "<pyspark.sql.session.SparkSession at 0x7cc2c0372200>"
            ],
            "text/html": [
              "\n",
              "            <div>\n",
              "                <p><b>SparkSession - in-memory</b></p>\n",
              "                \n",
              "        <div>\n",
              "            <p><b>SparkContext</b></p>\n",
              "\n",
              "            <p><a href=\"http://c671aea8bdb4:4050\">Spark UI</a></p>\n",
              "\n",
              "            <dl>\n",
              "              <dt>Version</dt>\n",
              "                <dd><code>v3.3.2</code></dd>\n",
              "              <dt>Master</dt>\n",
              "                <dd><code>local[*]</code></dd>\n",
              "              <dt>AppName</dt>\n",
              "                <dd><code>ARDiplomaWork</code></dd>\n",
              "            </dl>\n",
              "        </div>\n",
              "        \n",
              "            </div>\n",
              "        "
            ]
          },
          "metadata": {},
          "execution_count": 19
        }
      ]
    },
    {
      "cell_type": "markdown",
      "source": [
        "# Tworzenie struktur analitycznych w formacie Parquet"
      ],
      "metadata": {
        "id": "oKEJa1xGBpx9"
      }
    },
    {
      "cell_type": "markdown",
      "source": [
        "#### Odczyt, partycjonowanie i zapis zbioru POSTS.XML"
      ],
      "metadata": {
        "id": "CBxtCJYV9lBl"
      }
    },
    {
      "cell_type": "code",
      "source": [
        "schema = StructType([ \\\n",
        "    StructField(\"_AnswerCount\", LongType(), True), \\\n",
        "    StructField(\"_Body\", StringType(), True), \\\n",
        "    StructField(\"_CommentCount\", LongType(), True), \\\n",
        "    StructField(\"_CreationDate\", StringType(), True), \\\n",
        "    StructField(\"_Id\", LongType(), True), \\\n",
        "    StructField(\"_LastActivityDate\", StringType(), True), \\\n",
        "    StructField(\"_OwnerUserId\", LongType(), True), \\\n",
        "    StructField(\"_ParentId\", LongType(), True), \\\n",
        "    StructField(\"_PostTypeId\", LongType(), True), \\\n",
        "    StructField(\"_AcceptedAnswerId\", LongType(), True), \\\n",
        "    StructField(\"_Score\", LongType(), True), \\\n",
        "    StructField(\"_Tags\", StringType(), True), \\\n",
        "    StructField(\"_Title\", StringType(), True), \\\n",
        "    StructField(\"_ViewCount\", LongType(), True), \\\n",
        "    StructField(\"Year\", LongType(), True), \\\n",
        "    StructField(\"Month\", LongType(), True), \\\n",
        "    StructField(\"Day\", LongType(), True) \\\n",
        "])\n",
        "\n",
        "postsDF = spark.read \\\n",
        "          .format('com.databricks.spark.xml') \\\n",
        "          .options(rootTag='posts') \\\n",
        "          .options(rowTag='row') \\\n",
        "          .schema(schema) \\\n",
        "          .load('/content/input/Posts.xml')\n",
        "\n",
        "postsDF = postsDF \\\n",
        "          .withColumnRenamed(\"_AnswerCount\", \"AnswerCount\") \\\n",
        "          .withColumnRenamed(\"_Body\", \"Body\") \\\n",
        "          .withColumnRenamed(\"_CommentCount\", \"CommentCount\") \\\n",
        "          .withColumnRenamed(\"_CreationDate\", \"CreationDate\") \\\n",
        "          .withColumnRenamed(\"_Id\", \"Id\") \\\n",
        "          .withColumnRenamed(\"_LastActivityDate\", \"LastActivityDate\") \\\n",
        "          .withColumnRenamed(\"_OwnerUserId\", \"OwnerUserId\") \\\n",
        "          .withColumnRenamed(\"_ParentId\", \"ParentId\") \\\n",
        "          .withColumnRenamed(\"_PostTypeId\", \"PostTypeId\") \\\n",
        "          .withColumnRenamed(\"_AcceptedAnswerId\", \"AcceptedAnswerId\") \\\n",
        "          .withColumnRenamed(\"_Score\", \"Score\") \\\n",
        "          .withColumnRenamed(\"_Tags\", \"Tags\") \\\n",
        "          .withColumnRenamed(\"_Title\", \"Title\") \\\n",
        "          .withColumnRenamed(\"_ViewCount\", \"ViewCount\")\n",
        "\n",
        "postsDF = postsDF \\\n",
        "          .select([\"Id\", \"ParentId\", \"PostTypeId\", \"AcceptedAnswerId\", \"OwnerUserId\", \\\n",
        "                  to_timestamp(\"CreationDate\").alias(\"CreationDate\"), \"Score\", \\\n",
        "                  \"ViewCount\", \"AnswerCount\", \\\n",
        "                  \"CommentCount\", to_timestamp(\"LastActivityDate\").alias(\"LastActivityDate\"), \\\n",
        "                  \"Tags\", \"Title\", \"Body\"]) \\\n",
        "          .withColumn(\"Year\", date_format(col(\"CreationDate\"), \"y\").cast(\"integer\")) \\\n",
        "          .withColumn(\"Month\", date_format(col(\"CreationDate\"), \"M\").cast(\"integer\")) \\\n",
        "          .withColumn(\"Day\", date_format(col(\"CreationDate\"), \"d\").cast(\"integer\")) \\\n",
        "\n",
        "postsDF.printSchema()\n",
        "postsDF.show(n=10, truncate=False)\n",
        "\n",
        "postsDF = postsDF \\\n",
        "          .write \\\n",
        "          .partitionBy(\"Year\", \"Month\", \"Day\") \\\n",
        "          .mode(\"overwrite\") \\\n",
        "          .parquet(\"/content/output/posts.parquet\")"
      ],
      "metadata": {
        "colab": {
          "base_uri": "https://localhost:8080/"
        },
        "id": "tz2kAJ8Hk_L7",
        "outputId": "ad859849-9b02-4272-a454-3b96140f69fb"
      },
      "execution_count": 20,
      "outputs": [
        {
          "output_type": "stream",
          "name": "stdout",
          "text": [
            "root\n",
            " |-- Id: long (nullable = true)\n",
            " |-- ParentId: long (nullable = true)\n",
            " |-- PostTypeId: long (nullable = true)\n",
            " |-- AcceptedAnswerId: long (nullable = true)\n",
            " |-- OwnerUserId: long (nullable = true)\n",
            " |-- CreationDate: timestamp (nullable = true)\n",
            " |-- Score: long (nullable = true)\n",
            " |-- ViewCount: long (nullable = true)\n",
            " |-- AnswerCount: long (nullable = true)\n",
            " |-- CommentCount: long (nullable = true)\n",
            " |-- LastActivityDate: timestamp (nullable = true)\n",
            " |-- Tags: string (nullable = true)\n",
            " |-- Title: string (nullable = true)\n",
            " |-- Body: string (nullable = true)\n",
            " |-- Year: integer (nullable = true)\n",
            " |-- Month: integer (nullable = true)\n",
            " |-- Day: integer (nullable = true)\n",
            "\n",
            "+---+--------+----------+----------------+-----------+-----------------------+-----+---------+-----------+------------+-----------------------+------------------------------------------------+-------------------------------------------------------------------+-------------------------------------------------------------------------------------------------------------------------------------------------------------------------------------------------------------------------------------------------------------------------------------------------------------------------------------------------------------------------------------------------------------------------------------------------------------------------------------------------------------------------------------------------------------------------------------------------------------------------------------------------------------------------------------------------------------------------------------------------------------------------------------------------------------------------------------------------------------------------------------------------------------------------------------------------------------------------------------------------------------------------------------------------------------------------------------------------------------------------------------------------------------------------------------------+----+-----+---+\n",
            "|Id |ParentId|PostTypeId|AcceptedAnswerId|OwnerUserId|CreationDate           |Score|ViewCount|AnswerCount|CommentCount|LastActivityDate       |Tags                                            |Title                                                              |Body                                                                                                                                                                                                                                                                                                                                                                                                                                                                                                                                                                                                                                                                                                                                                                                                                                                                                                                                                                                                                                                                                                                                                                                       |Year|Month|Day|\n",
            "+---+--------+----------+----------------+-----------+-----------------------+-----+---------+-----------+------------+-----------------------+------------------------------------------------+-------------------------------------------------------------------+-------------------------------------------------------------------------------------------------------------------------------------------------------------------------------------------------------------------------------------------------------------------------------------------------------------------------------------------------------------------------------------------------------------------------------------------------------------------------------------------------------------------------------------------------------------------------------------------------------------------------------------------------------------------------------------------------------------------------------------------------------------------------------------------------------------------------------------------------------------------------------------------------------------------------------------------------------------------------------------------------------------------------------------------------------------------------------------------------------------------------------------------------------------------------------------------+----+-----+---+\n",
            "|1  |null    |1         |22              |17         |2010-06-30 18:46:26.453|162  |52416    |3          |0           |2018-07-03 20:12:27.46 |<facebook><account-management><facebook-account>|How do I delete my Facebook account?                               |<p>I don't trust Facebook's new privacy settings and have decided to delete my account, but I can't find the kill switch.</p>\\n\\n<p>Does anyone know how I can delete my Facebook account?</p>\\n                                                                                                                                                                                                                                                                                                                                                                                                                                                                                                                                                                                                                                                                                                                                                                                                                                                                                                                                                                                           |2010|6    |30 |\n",
            "|2  |null    |1         |15              |17         |2010-06-30 18:48:59.367|35   |626135   |2          |0           |2020-06-02 14:04:04.68 |<gmail>                                         |How do I delete all my mail from my Gmail account?                 |<p>I want to clear my mail from my Gmail account, but don't feel like selecting every message (also the archived ones).</p>\\n\\n<p>Is there an easy way to delete all my mail from Gmail without having to delete my account?</p>\\n                                                                                                                                                                                                                                                                                                                                                                                                                                                                                                                                                                                                                                                                                                                                                                                                                                                                                                                                                         |2010|6    |30 |\n",
            "|3  |null    |1         |45              |17         |2010-06-30 18:53:28.03 |21   |11769    |5          |0           |2016-06-08 08:17:56.687|<outlook><google-calendar><sync>                |How do I sync Google Calendar with my Outlook Calendar?            |<p>At work we use Outlook, but I want an easy way to sync it with my private Google Calendar.</p>\\n\\n<p>However, I tried looking at the Outlook (2010) settings and couldn't find how to make a link.</p>\\n\\n<p>So how do I sync my Google Calendar with my Outlook one?</p>\\n                                                                                                                                                                                                                                                                                                                                                                                                                                                                                                                                                                                                                                                                                                                                                                                                                                                                                                             |2010|6    |30 |\n",
            "|5  |null    |1         |12              |17         |2010-06-30 19:07:36.267|18   |20938    |1          |0           |2017-11-13 16:31:49.43 |<gmail><email-forwarding>                       |Can I auto-forward my Gmail to another address?                    |<p>I'm kind of paranoid about my email and I don't want it to be on Google's servers only. Especially after my account got hacked and all my email got deleted.</p>\\n\\n<p>So I would like to auto-forward my Gmail to another address, but are there any settings I have to enable?</p>\\n                                                                                                                                                                                                                                                                                                                                                                                                                                                                                                                                                                                                                                                                                                                                                                                                                                                                                                  |2010|6    |30 |\n",
            "|6  |null    |1         |37              |17         |2010-06-30 19:11:26.07 |8    |566      |3          |0           |2017-10-08 03:59:56.71 |<blogger><wordpress><migrate-data>              |How do I transfer my blog posts from Google's Blogger to WordPress?|<p>I have a blog on Google's Blogger, but now I want to move to WordPress.</p>\\n\\n<p>Is there an easy way to transfer all my old blog posts from Blogger to WordPress?</p>\\n                                                                                                                                                                                                                                                                                                                                                                                                                                                                                                                                                                                                                                                                                                                                                                                                                                                                                                                                                                                                               |2010|6    |30 |\n",
            "|8  |null    |1         |817             |17         |2010-06-30 19:31:04.167|10   |1368     |1          |0           |2015-06-03 00:47:31.897|<picasa-web-albums>                             |Is Picasa's face tag data stored in the photo itself?              |<p>I tagged all my contacts on my Picasa Web Albums, but I was wondering if this data is stored in the photo itself or would I have to retag every picture when I import them to my desktop or share them with someone else?</p>\\n                                                                                                                                                                                                                                                                                                                                                                                                                                                                                                                                                                                                                                                                                                                                                                                                                                                                                                                                                         |2010|6    |30 |\n",
            "|9  |null    |1         |120             |17         |2010-06-30 19:32:53.99 |53   |293068   |7          |0           |2017-09-02 19:56:48.813|<twitter><search>                               |How do I search within someone's tweets?                           |<p>I remember Jeff Atwood (<a href=\"https://twitter.com/codinghorror\" rel=\"noreferrer\">@codinghorror</a>) had posted a tweet about a new website, but I can't seem to find the link.</p>\\n\\n<p>Is there any way I can search within someone's tweets to find that link?</p>\\n                                                                                                                                                                                                                                                                                                                                                                                                                                                                                                                                                                                                                                                                                                                                                                                                                                                                                                              |2010|6    |30 |\n",
            "|10 |null    |1         |27              |17         |2010-06-30 19:35:59.537|7    |10675    |4          |0           |2017-12-24 17:09:06.33 |<twitter><permissions><followers>               |How can I control who follows me on Twitter?                       |<p>I tend to get a bunch of emails every week that say:</p>\\n\\n<blockquote>\\n  <p>JaneDoe (JaneDoe343) is now following\\n  your tweets on Twitter.is now\\n  following you.</p>\\n  \\n  <p>A little information about JaneDoe:</p>\\n\\n<pre><code>0 followers\\n1 tweet\\nfollowing 483 people\\n</code></pre>\\n</blockquote>\\n\\n<p>I prefer my followers to be real people, so is there any way I can control who follows me?</p>\\n                                                                                                                                                                                                                                                                                                                                                                                                                                                                                                                                                                                                                                                                                                                                                             |2010|6    |30 |\n",
            "|12 |5       |2         |null            |22         |2010-06-30 20:25:06.22 |26   |null     |null       |0           |2012-12-06 09:34:27.253|null                                            |null                                                               |<p>In Gmail: <strong>Settings</strong> → <strong>Forwarding and POP/IMAP</strong> → <strong>Forward a copy of incoming mail to...</strong></p>\\n                                                                                                                                                                                                                                                                                                                                                                                                                                                                                                                                                                                                                                                                                                                                                                                                                                                                                                                                                                                                                                           |2010|6    |30 |\n",
            "|15 |2       |2         |null            |32         |2010-06-30 20:26:41.273|37   |null     |null       |5           |2011-10-07 15:32:20.47 |null                                            |null                                                               |<p>Go to your \\n<a href=\"https://mail.google.com/mail/?shva=1#all\"><strong>All mail</strong> view</a>, \\nand click \"Select all\" (or the drop down option <strong>All</strong> from the checkbox far left of <strong>Archive | Spam | Delete</strong> buttons). </p>\\n\\n<p>Underneath the | Archive | Spam | Delete | + | - | Move to Inbox | Labels | More |\\nbuttons... \\nYou'll see a message appear in a yellow bar that says:</p>\\n\\n<blockquote>\\n  <p>All 100 conversations on this page are selected. Select all 73795 conversations in All Mail</p>\\n</blockquote>\\n\\n<p>Click on the \"Select all conversations\" link on the right side of the message, then click delete. </p>\\n\\n<p>The actual deletion process may take a very, very long time, during which you will be unable to use Gmail or log in (don't worry, it's still churning away in the background, even if it gives you an error!)</p>\\n\\n<p>When it's done, all conversations (except spam) will be in the trash and you should see a message that says \"You don't have any mail! Our servers are feeling unloved.\" </p>\\n\\n<p>Now just empty the trash and delete all spam, and your account is now empty.</p>\\n|2010|6    |30 |\n",
            "+---+--------+----------+----------------+-----------+-----------------------+-----+---------+-----------+------------+-----------------------+------------------------------------------------+-------------------------------------------------------------------+-------------------------------------------------------------------------------------------------------------------------------------------------------------------------------------------------------------------------------------------------------------------------------------------------------------------------------------------------------------------------------------------------------------------------------------------------------------------------------------------------------------------------------------------------------------------------------------------------------------------------------------------------------------------------------------------------------------------------------------------------------------------------------------------------------------------------------------------------------------------------------------------------------------------------------------------------------------------------------------------------------------------------------------------------------------------------------------------------------------------------------------------------------------------------------------------+----+-----+---+\n",
            "only showing top 10 rows\n",
            "\n"
          ]
        }
      ]
    },
    {
      "cell_type": "markdown",
      "source": [
        "#### Odczyt, partycjonowanie i zapis zbioru BADGES.XML"
      ],
      "metadata": {
        "id": "zj073VtF-IDk"
      }
    },
    {
      "cell_type": "code",
      "source": [
        "schema = StructType([ \\\n",
        "    StructField(\"_Class\", LongType(), True), \\\n",
        "    StructField(\"_Date\", StringType(), True), \\\n",
        "    StructField(\"_CommentCount\", LongType(), True), \\\n",
        "    StructField(\"_Id\", LongType(), True), \\\n",
        "    StructField(\"_Name\", StringType(), True), \\\n",
        "    StructField(\"_TagBased\", BooleanType(), True), \\\n",
        "    StructField(\"_UserId\", LongType(), True), \\\n",
        "    StructField(\"Year\", LongType(), True), \\\n",
        "    StructField(\"Month\", LongType(), True), \\\n",
        "    StructField(\"Day\", LongType(), True)\n",
        "])\n",
        "\n",
        "badgesDF = spark.read \\\n",
        "          .format('com.databricks.spark.xml') \\\n",
        "          .options(rootTag='badges') \\\n",
        "          .options(rowTag='row') \\\n",
        "          .schema(schema) \\\n",
        "          .load('/content/input/Badges.xml')\n",
        "\n",
        "badgesDF = badgesDF \\\n",
        "           .withColumnRenamed(\"_Class\", \"Class\") \\\n",
        "           .withColumnRenamed(\"_Date\", \"Date\") \\\n",
        "           .withColumnRenamed(\"_CommentCount\", \"CommentCount\") \\\n",
        "           .withColumnRenamed(\"_Id\", \"Id\") \\\n",
        "           .withColumnRenamed(\"_Name\", \"Name\") \\\n",
        "           .withColumnRenamed(\"_TagBased\", \"TagBased\") \\\n",
        "           .withColumnRenamed(\"_UserId\", \"UserId\")\n",
        "\n",
        "badgesDF = badgesDF \\\n",
        "           .select([\"Id\", \"UserId\", \"Class\", \"Date\", \"CommentCount\", \"TagBased\",\"Name\"]) \\\n",
        "           .withColumn(\"Year\", date_format(col(\"Date\"), \"y\").cast(\"integer\")) \\\n",
        "           .withColumn(\"Month\", date_format(col(\"Date\"), \"M\").cast(\"integer\")) \\\n",
        "           .withColumn(\"Day\", date_format(col(\"Date\"), \"d\").cast(\"integer\"))\n",
        "\n",
        "badgesDF.printSchema()\n",
        "badgesDF.show(n=10, truncate=False)\n",
        "\n",
        "badgesDF = badgesDF \\\n",
        "          .write \\\n",
        "          .partitionBy(\"Year\", \"Month\", \"Day\") \\\n",
        "          .mode(\"overwrite\") \\\n",
        "          .parquet(\"/content/output/badges.parquet\")"
      ],
      "metadata": {
        "id": "k0mWYqay1eJR",
        "outputId": "8a10bd55-47f1-48a5-eb90-e7f13920f598",
        "colab": {
          "base_uri": "https://localhost:8080/"
        }
      },
      "execution_count": 21,
      "outputs": [
        {
          "output_type": "stream",
          "name": "stdout",
          "text": [
            "root\n",
            " |-- Id: long (nullable = true)\n",
            " |-- UserId: long (nullable = true)\n",
            " |-- Class: long (nullable = true)\n",
            " |-- Date: string (nullable = true)\n",
            " |-- CommentCount: long (nullable = true)\n",
            " |-- TagBased: boolean (nullable = true)\n",
            " |-- Name: string (nullable = true)\n",
            " |-- Year: integer (nullable = true)\n",
            " |-- Month: integer (nullable = true)\n",
            " |-- Day: integer (nullable = true)\n",
            "\n",
            "+---+------+-----+-----------------------+------------+--------+-------+----+-----+---+\n",
            "|Id |UserId|Class|Date                   |CommentCount|TagBased|Name   |Year|Month|Day|\n",
            "+---+------+-----+-----------------------+------------+--------+-------+----+-----+---+\n",
            "|1  |10    |3    |2010-06-30T20:33:03.520|null        |false   |Teacher|2010|6    |30 |\n",
            "|2  |20    |3    |2010-06-30T20:33:03.520|null        |false   |Teacher|2010|6    |30 |\n",
            "|3  |22    |3    |2010-06-30T20:33:03.520|null        |false   |Teacher|2010|6    |30 |\n",
            "|4  |25    |3    |2010-06-30T20:33:03.520|null        |false   |Teacher|2010|6    |30 |\n",
            "|5  |32    |3    |2010-06-30T20:33:03.520|null        |false   |Teacher|2010|6    |30 |\n",
            "|6  |35    |3    |2010-06-30T20:33:03.533|null        |false   |Teacher|2010|6    |30 |\n",
            "|7  |56    |3    |2010-06-30T20:33:03.533|null        |false   |Teacher|2010|6    |30 |\n",
            "|8  |17    |3    |2010-06-30T20:33:03.550|null        |false   |Student|2010|6    |30 |\n",
            "|9  |21    |3    |2010-06-30T20:33:03.550|null        |false   |Student|2010|6    |30 |\n",
            "|10 |23    |3    |2010-06-30T20:33:03.550|null        |false   |Student|2010|6    |30 |\n",
            "+---+------+-----+-----------------------+------------+--------+-------+----+-----+---+\n",
            "only showing top 10 rows\n",
            "\n"
          ]
        }
      ]
    },
    {
      "cell_type": "markdown",
      "source": [
        "#### Odczyt, partycjonowanie i zapis zbioru COMMENTS.XML"
      ],
      "metadata": {
        "id": "aSDZrFA0-eEl"
      }
    },
    {
      "cell_type": "code",
      "source": [
        "schema = StructType([ \\\n",
        "    StructField(\"_ContentLicense\", StringType(), True), \\\n",
        "    StructField(\"_CreationDate\", StringType(), True), \\\n",
        "    StructField(\"_Id\", LongType(), True), \\\n",
        "    StructField(\"_PostId\", LongType(), True), \\\n",
        "    StructField(\"_Score\", LongType(), True), \\\n",
        "    StructField(\"_Text\", StringType(), True), \\\n",
        "    StructField(\"_UserDisplayName\", StringType(), True), \\\n",
        "    StructField(\"_UserId\", LongType(), True),\n",
        "    StructField(\"Year\", LongType(), True), \\\n",
        "    StructField(\"Month\", LongType(), True), \\\n",
        "    StructField(\"Day\", LongType(), True)\n",
        "])\n",
        "\n",
        "commentsDF = spark.read \\\n",
        "            .format('com.databricks.spark.xml') \\\n",
        "            .options(rootTag='comments') \\\n",
        "            .options(rowTag='row') \\\n",
        "            .schema(schema) \\\n",
        "            .load('/content/input/Comments.xml')\n",
        "\n",
        "commentsDF = commentsDF \\\n",
        "             .withColumnRenamed(\"_ContentLicense\", \"ContentLicense\") \\\n",
        "             .withColumnRenamed(\"_CreationDate\", \"CreationDate\") \\\n",
        "             .withColumnRenamed(\"_Id\", \"Id\") \\\n",
        "             .withColumnRenamed(\"_PostId\", \"PostId\") \\\n",
        "             .withColumnRenamed(\"_Score\", \"Score\") \\\n",
        "             .withColumnRenamed(\"_Text\", \"Text\") \\\n",
        "             .withColumnRenamed(\"_UserDisplayName\", \"UserDisplayName\") \\\n",
        "             .withColumnRenamed(\"_UserId\", \"UserId\") \\\n",
        "\n",
        "commentsDF = commentsDF \\\n",
        "            .select([\"Id\", \"PostId\", \"UserId\", \"CreationDate\", \"ContentLicense\", \\\n",
        "                    \"UserDisplayName\", \"Score\", \"Text\"]) \\\n",
        "            .withColumn(\"Year\", date_format(col(\"CreationDate\"), \"y\").cast(\"integer\")) \\\n",
        "            .withColumn(\"Month\", date_format(col(\"CreationDate\"), \"M\").cast(\"integer\")) \\\n",
        "            .withColumn(\"Day\", date_format(col(\"CreationDate\"), \"d\").cast(\"integer\"))\n",
        "\n",
        "commentsDF.printSchema()\n",
        "commentsDF.show(n=10, truncate=False)\n",
        "\n",
        "commentsDF = commentsDF \\\n",
        "            .write \\\n",
        "            .partitionBy(\"Year\", \"Month\", \"Day\") \\\n",
        "            .mode(\"overwrite\") \\\n",
        "            .parquet(\"/content/output/comments.parquet\")"
      ],
      "metadata": {
        "id": "oSb3uY7F12HG",
        "outputId": "69f99050-71f2-4506-b088-cb319df19a75",
        "colab": {
          "base_uri": "https://localhost:8080/"
        }
      },
      "execution_count": 22,
      "outputs": [
        {
          "output_type": "stream",
          "name": "stdout",
          "text": [
            "root\n",
            " |-- Id: long (nullable = true)\n",
            " |-- PostId: long (nullable = true)\n",
            " |-- UserId: long (nullable = true)\n",
            " |-- CreationDate: string (nullable = true)\n",
            " |-- ContentLicense: string (nullable = true)\n",
            " |-- UserDisplayName: string (nullable = true)\n",
            " |-- Score: long (nullable = true)\n",
            " |-- Text: string (nullable = true)\n",
            " |-- Year: integer (nullable = true)\n",
            " |-- Month: integer (nullable = true)\n",
            " |-- Day: integer (nullable = true)\n",
            "\n",
            "+---+------+------+-----------------------+--------------+---------------+-----+-----------------------------------------------------------------------------------------------------------------------------------------------------------------------------------------------------------------------------------------------------------------------------------------------------+----+-----+---+\n",
            "|Id |PostId|UserId|CreationDate           |ContentLicense|UserDisplayName|Score|Text                                                                                                                                                                                                                                                                                                 |Year|Month|Day|\n",
            "+---+------+------+-----------------------+--------------+---------------+-----+-----------------------------------------------------------------------------------------------------------------------------------------------------------------------------------------------------------------------------------------------------------------------------------------------------+----+-----+---+\n",
            "|8  |27    |55    |2010-06-30T20:36:17.223|CC BY-SA 2.5  |null           |3    |When you report an account as spam, it also blocks it.                                                                                                                                                                                                                                               |2010|6    |30 |\n",
            "|9  |45    |17    |2010-06-30T20:37:28.923|CC BY-SA 2.5  |null           |0    |It doesn't (yet) work with 2010, though there might have been a recent update                                                                                                                                                                                                                        |2010|6    |30 |\n",
            "|11 |26    |23    |2010-06-30T20:37:53.960|CC BY-SA 2.5  |null           |0    |Do they allow HD?                                                                                                                                                                                                                                                                                    |2010|6    |30 |\n",
            "|14 |26    |95    |2010-06-30T20:41:21.660|CC BY-SA 2.5  |null           |6    |Article on steps to become a partner: http://www.edubook.com/how-to-become-a-youtube-partner/6585/                                                                                                                                                                                                   |2010|6    |30 |\n",
            "|20 |52    |32    |2010-06-30T20:43:04.103|CC BY-SA 2.5  |null           |2    |Unfortunately, that doesn't really help me know what they define \"egregious\" to be... I was hoping someone would have had some specific experience with what they'll allow or not allow                                                                                                              |2010|6    |30 |\n",
            "|21 |47    |33    |2010-06-30T20:43:10.173|CC BY-SA 2.5  |null           |2    |I feel that some people let facebook log into their web email accounts, which would give facebook a collection of a bunch of email addresses that are associated in some way... so if someone has you and someone else in their address book, facebook could guess that you might know of each other.|2010|6    |30 |\n",
            "|22 |38    |21    |2010-06-30T20:43:11.420|CC BY-SA 2.5  |null           |0    |The embarrassing thing is I have actually forgotten how to do this!                                                                                                                                                                                                                                  |2010|6    |30 |\n",
            "|23 |56    |20    |2010-06-30T20:43:11.450|CC BY-SA 2.5  |null           |1    |Wouldn't work as i'd want to be logged-into the OpenID-powered site as well.                                                                                                                                                                                                                         |2010|6    |30 |\n",
            "|26 |72    |111   |2010-06-30T20:47:02.533|CC BY-SA 2.5  |null           |1    |What country are you in, what ISP are you using?                                                                                                                                                                                                                                                     |2010|6    |30 |\n",
            "|27 |83    |17    |2010-06-30T20:47:03.970|CC BY-SA 2.5  |null           |0    |What does it do?                                                                                                                                                                                                                                                                                     |2010|6    |30 |\n",
            "+---+------+------+-----------------------+--------------+---------------+-----+-----------------------------------------------------------------------------------------------------------------------------------------------------------------------------------------------------------------------------------------------------------------------------------------------------+----+-----+---+\n",
            "only showing top 10 rows\n",
            "\n"
          ]
        }
      ]
    },
    {
      "cell_type": "markdown",
      "source": [
        "#### Odczyt, partycjonowanie i zapis zbioru POSTHISTORY.XML"
      ],
      "metadata": {
        "id": "tf2A25A6-nix"
      }
    },
    {
      "cell_type": "code",
      "source": [
        "schema = StructType([ \\\n",
        "    StructField(\"_Comment\", StringType(), True), \\\n",
        "    StructField(\"_ContentLicense\", StringType(), True), \\\n",
        "    StructField(\"_CreationDate\", StringType(), True), \\\n",
        "    StructField(\"_Id\", LongType(), True), \\\n",
        "    StructField(\"_PostHistoryTypeId\", LongType(), True), \\\n",
        "    StructField(\"_PostId\", LongType(), True), \\\n",
        "    StructField(\"_RevisionGUID\", StringType(), True), \\\n",
        "    StructField(\"_Text\", StringType(), True), \\\n",
        "    StructField(\"_UserDisplayName\", StringType(), True), \\\n",
        "    StructField(\"_UserId\", LongType(), True), \\\n",
        "    StructField(\"Year\", LongType(), True), \\\n",
        "    StructField(\"Month\", LongType(), True), \\\n",
        "    StructField(\"Day\", LongType(), True)\n",
        "])\n",
        "\n",
        "postHistoryDF = spark.read \\\n",
        "                .format('com.databricks.spark.xml') \\\n",
        "                .options(rootTag='posthistory') \\\n",
        "                .options(rowTag='row') \\\n",
        "                .schema(schema) \\\n",
        "                .load('/content/input/PostHistory.xml')\n",
        "\n",
        "postHistoryDF = postHistoryDF \\\n",
        "                .withColumnRenamed(\"_Comment\", \"Comment\") \\\n",
        "                .withColumnRenamed(\"_ContentLicense\", \"ContentLicense\") \\\n",
        "                .withColumnRenamed(\"_CreationDate\", \"CreationDate\") \\\n",
        "                .withColumnRenamed(\"_Id\", \"Id\") \\\n",
        "                .withColumnRenamed(\"_PostHistoryTypeId\", \"PostHistoryTypeId\") \\\n",
        "                .withColumnRenamed(\"_PostId\", \"PostId\") \\\n",
        "                .withColumnRenamed(\"_RevisionGUID\", \"RevisionGUID\") \\\n",
        "                .withColumnRenamed(\"_Text\", \"Text\") \\\n",
        "                .withColumnRenamed(\"_UserDisplayName\", \"UserDisplayName\") \\\n",
        "                .withColumnRenamed(\"_UserId\", \"UserId\") \\\n",
        "\n",
        "postHistoryDF = postHistoryDF \\\n",
        "                .select([\"Id\", \"PostId\", \"PostHistoryTypeId\", \"UserId\", \\\n",
        "                         \"CreationDate\", \"RevisionGUID\", \"ContentLicense\", \"UserDisplayName\", \"Comment\", \"Text\"]) \\\n",
        "                .withColumn(\"Year\", date_format(col(\"CreationDate\"), \"y\").cast(\"integer\")) \\\n",
        "                .withColumn(\"Month\", date_format(col(\"CreationDate\"), \"M\").cast(\"integer\")) \\\n",
        "                .withColumn(\"Day\", date_format(col(\"CreationDate\"), \"d\").cast(\"integer\"))\n",
        "\n",
        "postHistoryDF.printSchema()\n",
        "postHistoryDF.show(n=10, truncate=False)\n",
        "\n",
        "postHistoryDF = postHistoryDF \\\n",
        "                .write \\\n",
        "                .partitionBy(\"Year\", \"Month\", \"Day\") \\\n",
        "                .mode(\"overwrite\") \\\n",
        "                .parquet(\"/content/output/posthistory.parquet\")"
      ],
      "metadata": {
        "id": "qJGp6ztT2FdS",
        "outputId": "fd785679-f682-4397-f3c2-506824d45f70",
        "colab": {
          "base_uri": "https://localhost:8080/"
        }
      },
      "execution_count": 23,
      "outputs": [
        {
          "output_type": "stream",
          "name": "stdout",
          "text": [
            "root\n",
            " |-- Id: long (nullable = true)\n",
            " |-- PostId: long (nullable = true)\n",
            " |-- PostHistoryTypeId: long (nullable = true)\n",
            " |-- UserId: long (nullable = true)\n",
            " |-- CreationDate: string (nullable = true)\n",
            " |-- RevisionGUID: string (nullable = true)\n",
            " |-- ContentLicense: string (nullable = true)\n",
            " |-- UserDisplayName: string (nullable = true)\n",
            " |-- Comment: string (nullable = true)\n",
            " |-- Text: string (nullable = true)\n",
            " |-- Year: integer (nullable = true)\n",
            " |-- Month: integer (nullable = true)\n",
            " |-- Day: integer (nullable = true)\n",
            "\n",
            "+---+------+-----------------+------+-----------------------+------------------------------------+--------------+---------------+-------+-----------------------------------------------------------------------------------------------------------------------------------------------------------------------------------------------------------------------------------------------------------------------------+----+-----+---+\n",
            "|Id |PostId|PostHistoryTypeId|UserId|CreationDate           |RevisionGUID                        |ContentLicense|UserDisplayName|Comment|Text                                                                                                                                                                                                                                                                         |Year|Month|Day|\n",
            "+---+------+-----------------+------+-----------------------+------------------------------------+--------------+---------------+-------+-----------------------------------------------------------------------------------------------------------------------------------------------------------------------------------------------------------------------------------------------------------------------------+----+-----+---+\n",
            "|1  |1     |2                |17    |2010-06-30T18:46:26.453|47ced08e-d723-4318-8fcd-c410d7edd550|CC BY-SA 2.5  |null           |null   |I don't trust Facebook's new privacy settings and have decided to delete my account, but I can't find the kill switch.\\r\\n\\r\\nDoes anyone know how I can delete my Facebook account?                                                                                         |2010|6    |30 |\n",
            "|2  |1     |1                |17    |2010-06-30T18:46:26.453|47ced08e-d723-4318-8fcd-c410d7edd550|CC BY-SA 2.5  |null           |null   |How do I delete my Facebook account?                                                                                                                                                                                                                                         |2010|6    |30 |\n",
            "|3  |1     |3                |17    |2010-06-30T18:46:26.453|47ced08e-d723-4318-8fcd-c410d7edd550|CC BY-SA 2.5  |null           |null   |<facebook><delete><account-management>                                                                                                                                                                                                                                       |2010|6    |30 |\n",
            "|4  |2     |2                |17    |2010-06-30T18:48:59.367|b769ccb9-3ae8-45bb-ad71-c4fb199cced1|CC BY-SA 2.5  |null           |null   |I want to clear my mail from my Gmail account, but don't feel like selecting every message (also the archived ones).\\r\\n\\r\\nIs there an easy way to delete all my mail from Gmail without having to delete my account?                                                       |2010|6    |30 |\n",
            "|5  |2     |1                |17    |2010-06-30T18:48:59.367|b769ccb9-3ae8-45bb-ad71-c4fb199cced1|CC BY-SA 2.5  |null           |null   |How do I delete all my mail from my Gmail account?                                                                                                                                                                                                                           |2010|6    |30 |\n",
            "|6  |2     |3                |17    |2010-06-30T18:48:59.367|b769ccb9-3ae8-45bb-ad71-c4fb199cced1|CC BY-SA 2.5  |null           |null   |<delete><gmail>                                                                                                                                                                                                                                                              |2010|6    |30 |\n",
            "|7  |3     |2                |17    |2010-06-30T18:53:28.030|98234b90-7327-4e06-b324-33e2b6fe5bb5|CC BY-SA 2.5  |null           |null   |At work we use Outlook, but I want an easy way to sync it with my private Google Calendar.\\r\\n\\r\\nHowever, I tried looking at the Outlook (2010) settings and couldn't find how to make a link.\\r\\n\\r\\nSo how do I sync my Google Calendar with my Outlook one?              |2010|6    |30 |\n",
            "|8  |3     |1                |17    |2010-06-30T18:53:28.030|98234b90-7327-4e06-b324-33e2b6fe5bb5|CC BY-SA 2.5  |null           |null   |How do I sync Google Calendar with my Outlook Calendar?                                                                                                                                                                                                                      |2010|6    |30 |\n",
            "|9  |3     |3                |17    |2010-06-30T18:53:28.030|98234b90-7327-4e06-b324-33e2b6fe5bb5|CC BY-SA 2.5  |null           |null   |<outlook><google-calendar><sync>                                                                                                                                                                                                                                             |2010|6    |30 |\n",
            "|13 |5     |2                |17    |2010-06-30T19:07:36.267|4f0020e5-389a-49c0-bb2f-62489e1952e2|CC BY-SA 2.5  |null           |null   |I'm kind of paranoid about my email and I don't want it to be on Google's servers only. Especially after my account got hacked and all my email got deleted.\\r\\n\\r\\nSo I would like to auto-forward my Gmail to another address, but are there any settings I have to enable?|2010|6    |30 |\n",
            "+---+------+-----------------+------+-----------------------+------------------------------------+--------------+---------------+-------+-----------------------------------------------------------------------------------------------------------------------------------------------------------------------------------------------------------------------------------------------------------------------------+----+-----+---+\n",
            "only showing top 10 rows\n",
            "\n"
          ]
        }
      ]
    },
    {
      "cell_type": "markdown",
      "source": [
        "#### Odczyt, partycjonowanie i zapis zbioru TAGS.XML DATASET"
      ],
      "metadata": {
        "id": "0Kxfkq-K-xIi"
      }
    },
    {
      "cell_type": "code",
      "source": [
        "schema = StructType([ \\\n",
        "    StructField(\"_Count\", LongType(), True), \\\n",
        "    StructField(\"_ExcerptPostId\", LongType(), True), \\\n",
        "    StructField(\"_Id\", LongType(), True), \\\n",
        "    StructField(\"_TagName\", StringType(), True), \\\n",
        "    StructField(\"_WikiPostId\", LongType(), True)\n",
        "])\n",
        "\n",
        "tagsDF = spark.read \\\n",
        "         .format('com.databricks.spark.xml') \\\n",
        "         .options(rootTag='tags') \\\n",
        "         .options(rowTag='row') \\\n",
        "         .schema(schema) \\\n",
        "         .load('/content/input/Tags.xml')\n",
        "\n",
        "tagsDF = tagsDF \\\n",
        "         .withColumnRenamed(\"_Count\", \"Count\") \\\n",
        "         .withColumnRenamed(\"_ExcerptPostId\", \"ExcerptPostId\") \\\n",
        "         .withColumnRenamed(\"_Id\", \"Id\") \\\n",
        "         .withColumnRenamed(\"_TagName\", \"TagName\") \\\n",
        "         .withColumnRenamed(\"_WikiPostId\", \"WikiPostId\")\n",
        "\n",
        "tagsDF = tagsDF \\\n",
        "        .select([\"Id\", \"ExcerptPostId\", \"WikiPostId\", \"Count\", \"TagName\"])\n",
        "\n",
        "tagsDF.printSchema()\n",
        "tagsDF.show(n=10, truncate=False)\n",
        "\n",
        "tagsDF = tagsDF \\\n",
        "         .write \\\n",
        "         .partitionBy(\"Id\") \\\n",
        "         .mode(\"overwrite\") \\\n",
        "         .parquet(\"/content/output/tags.parquet\")"
      ],
      "metadata": {
        "id": "facMBeo036Oq",
        "outputId": "0f78e6fd-d633-4b44-d767-8c7c664fb1aa",
        "colab": {
          "base_uri": "https://localhost:8080/"
        }
      },
      "execution_count": 24,
      "outputs": [
        {
          "output_type": "stream",
          "name": "stdout",
          "text": [
            "root\n",
            " |-- Id: long (nullable = true)\n",
            " |-- ExcerptPostId: long (nullable = true)\n",
            " |-- WikiPostId: long (nullable = true)\n",
            " |-- Count: long (nullable = true)\n",
            " |-- TagName: string (nullable = true)\n",
            "\n",
            "+---+-------------+----------+-----+------------------+\n",
            "|Id |ExcerptPostId|WikiPostId|Count|TagName           |\n",
            "+---+-------------+----------+-----+------------------+\n",
            "|1  |6404         |6373      |3135 |facebook          |\n",
            "|2  |20843        |20842     |58   |delete            |\n",
            "|3  |13439        |13438     |309  |account-management|\n",
            "|4  |6420         |6291      |4138 |gmail             |\n",
            "|5  |20668        |20667     |80   |outlook           |\n",
            "|6  |12816        |12815     |764  |google-calendar   |\n",
            "|7  |13362        |13361     |44   |sync              |\n",
            "|8  |12818        |12817     |93   |google-reader     |\n",
            "|12 |13348        |13347     |351  |email             |\n",
            "|13 |12471        |12470     |239  |blogger           |\n",
            "+---+-------------+----------+-----+------------------+\n",
            "only showing top 10 rows\n",
            "\n"
          ]
        }
      ]
    },
    {
      "cell_type": "markdown",
      "source": [
        "#### Odczyt, partycjonowanie i zapis USERS.XML"
      ],
      "metadata": {
        "id": "oHPm50wM-4JQ"
      }
    },
    {
      "cell_type": "code",
      "source": [
        "from pyspark.sql.functions import *\n",
        "\n",
        "schema = StructType([ \\\n",
        "    StructField(\"_AboutMe\", StringType(), True), \\\n",
        "    StructField(\"_AccountId\", LongType(), True), \\\n",
        "    StructField(\"_CreationDate\", StringType(), True), \\\n",
        "    StructField(\"_DisplayName\", StringType(), True), \\\n",
        "    StructField(\"_DownVotes\", LongType(), True), \\\n",
        "    StructField(\"_Id\", LongType(), True), \\\n",
        "    StructField(\"_LastAccessDate\", StringType(), True), \\\n",
        "    StructField(\"_Location\", StringType(), True), \\\n",
        "    StructField(\"_ProfileImageUrl\", StringType(), True), \\\n",
        "    StructField(\"_Reputation\", LongType(), True), \\\n",
        "    StructField(\"_UpVotes\", LongType(), True), \\\n",
        "    StructField(\"_Views\", LongType(), True), \\\n",
        "    StructField(\"_WebsiteUrl\", StringType(), True), \\\n",
        "    StructField(\"Year\", LongType(), True), \\\n",
        "    StructField(\"Month\", LongType(), True), \\\n",
        "    StructField(\"Day\", LongType(), True)\n",
        "])\n",
        "\n",
        "usersDF = spark.read \\\n",
        "          .format('com.databricks.spark.xml') \\\n",
        "          .options(rootTag='Users') \\\n",
        "          .options(rowTag='row') \\\n",
        "          .schema(schema) \\\n",
        "          .load('/content/input/Users.xml')\n",
        "\n",
        "usersDF = usersDF \\\n",
        "          .withColumnRenamed(\"_AboutMe\", \"AboutMe\") \\\n",
        "          .withColumnRenamed(\"_AccountId\", \"AccountId\") \\\n",
        "          .withColumnRenamed(\"_CreationDate\", \"CreationDate\") \\\n",
        "          .withColumnRenamed(\"_DisplayName\", \"DisplayName\") \\\n",
        "          .withColumnRenamed(\"_DownVotes\", \"DownVotes\") \\\n",
        "          .withColumnRenamed(\"_Id\", \"Id\") \\\n",
        "          .withColumnRenamed(\"_LastAccessDate\", \"LastAccessDate\") \\\n",
        "          .withColumnRenamed(\"_Location\", \"Location\") \\\n",
        "          .withColumnRenamed(\"_ProfileImageUrl\", \"ProfileImageUrl\") \\\n",
        "          .withColumnRenamed(\"_Reputation\", \"Reputation\") \\\n",
        "          .withColumnRenamed(\"_UpVotes\", \"UpVotes\") \\\n",
        "          .withColumnRenamed(\"_Views\", \"Views\") \\\n",
        "          .withColumnRenamed(\"_WebsiteUrl\", \"WebsiteUrl\") \\\n",
        "\n",
        "usersDF = usersDF \\\n",
        "          .select([\"Id\", \"AccountId\", to_timestamp(\"CreationDate\").alias(\"CreationDate\"), \\\n",
        "                  to_timestamp(\"LastAccessDate\").alias(\"LastAccessDate\"), \"DownVotes\", \\\n",
        "                  \"UpVotes\", \"Reputation\", \"Views\", \"WebsiteUrl\", \"ProfileImageUrl\", \\\n",
        "                  \"Location\", \"DisplayName\", \"AboutMe\"\n",
        "                  ]) \\\n",
        "          .withColumn(\"Year\", date_format(col(\"CreationDate\"), \"y\")) \\\n",
        "          .withColumn(\"Month\", date_format(col(\"CreationDate\"), \"M\")) \\\n",
        "          .withColumn(\"Day\", date_format(col(\"CreationDate\"), \"d\"))\n",
        "\n",
        "usersDF.printSchema()\n",
        "usersDF.show(n=10, truncate=False)\n",
        "\n",
        "usersDF = usersDF \\\n",
        "          .write \\\n",
        "          .partitionBy(\"Year\", \"Month\", \"Day\") \\\n",
        "          .mode(\"overwrite\") \\\n",
        "          .parquet(\"/content/output/users.parquet\")"
      ],
      "metadata": {
        "id": "hvnYCooN4GVs",
        "outputId": "4689838b-f64d-443a-a989-d5b689b30bba",
        "colab": {
          "base_uri": "https://localhost:8080/"
        }
      },
      "execution_count": 25,
      "outputs": [
        {
          "output_type": "stream",
          "name": "stdout",
          "text": [
            "root\n",
            " |-- Id: long (nullable = true)\n",
            " |-- AccountId: long (nullable = true)\n",
            " |-- CreationDate: timestamp (nullable = true)\n",
            " |-- LastAccessDate: timestamp (nullable = true)\n",
            " |-- DownVotes: long (nullable = true)\n",
            " |-- UpVotes: long (nullable = true)\n",
            " |-- Reputation: long (nullable = true)\n",
            " |-- Views: long (nullable = true)\n",
            " |-- WebsiteUrl: string (nullable = true)\n",
            " |-- ProfileImageUrl: string (nullable = true)\n",
            " |-- Location: string (nullable = true)\n",
            " |-- DisplayName: string (nullable = true)\n",
            " |-- AboutMe: string (nullable = true)\n",
            " |-- Year: string (nullable = true)\n",
            " |-- Month: string (nullable = true)\n",
            " |-- Day: string (nullable = true)\n",
            "\n",
            "+---+---------+-----------------------+-----------------------+---------+-------+----------+-----+--------------------------------------------+---------------+---------------------------+----------------------+-------------------------------------------------------------------------------------------------------------------------------------------------------------------------------------------------------------------------------------------------------------------------------------------------------------------------------------------------------------------------------------------------------------------------------------------------------------------------------------------------------------------------------------------------------------------------------------------------------------------------------------------------------------------------------------------------------------------------------------------------------------------------------------------------------------------------------------------------------------------------------------------------------------------------------------------------------------------------------------------------------------------------------------------------------------------------------------------------------------------------------------------------------------------------------------------------------------------------------------------------------------------------------------------------------------------------------------------------------------------------------------------------------------------------------------------------------------------------------------------------------------------------------------------------------------------------------------------------------------------------------------------------------------------------------------------------------------------------------------+----+-----+---+\n",
            "|Id |AccountId|CreationDate           |LastAccessDate         |DownVotes|UpVotes|Reputation|Views|WebsiteUrl                                  |ProfileImageUrl|Location                   |DisplayName           |AboutMe                                                                                                                                                                                                                                                                                                                                                                                                                                                                                                                                                                                                                                                                                                                                                                                                                                                                                                                                                                                                                                                                                                                                                                                                                                                                                                                                                                                                                                                                                                                                                                                                                                                                                                                              |Year|Month|Day|\n",
            "+---+---------+-----------------------+-----------------------+---------+-------+----------+-----+--------------------------------------------+---------------+---------------------------+----------------------+-------------------------------------------------------------------------------------------------------------------------------------------------------------------------------------------------------------------------------------------------------------------------------------------------------------------------------------------------------------------------------------------------------------------------------------------------------------------------------------------------------------------------------------------------------------------------------------------------------------------------------------------------------------------------------------------------------------------------------------------------------------------------------------------------------------------------------------------------------------------------------------------------------------------------------------------------------------------------------------------------------------------------------------------------------------------------------------------------------------------------------------------------------------------------------------------------------------------------------------------------------------------------------------------------------------------------------------------------------------------------------------------------------------------------------------------------------------------------------------------------------------------------------------------------------------------------------------------------------------------------------------------------------------------------------------------------------------------------------------+----+-----+---+\n",
            "|-1 |-1       |2010-06-23 18:30:43.297|2010-06-23 18:30:43.297|30704    |13643  |1         |2876 |http://meta.stackexchange.com/              |null           |on the server farm         |Community             |<p>Hi, I'm not really a person.</p>\\n\\n<p>I'm a background process that helps keep this site clean!</p>\\n\\n<p>I do things like</p>\\n\\n<ul>\\n<li>Randomly poke old unanswered questions every hour so they get some attention</li>\\n<li>Own community questions and answers so nobody gets unnecessary reputation from them</li>\\n<li>Own downvotes on spam/evil posts that get permanently deleted</li>\\n<li>Own suggested edits from anonymous users</li>\\n<li><a href=\"http://meta.stackexchange.com/a/92006\">Remove abandoned questions</a></li>\\n</ul>\\n                                                                                                                                                                                                                                                                                                                                                                                                                                                                                                                                                                                                                                                                                                                                                                                                                                                                                                                                                                                                                                                                                                                                                                         |2010|6    |23 |\n",
            "|2  |2        |2010-06-23 19:17:45.427|2020-05-08 20:59:55.597|0        |20     |344       |76   |http://stackoverflow.com                    |null           |Corvallis, OR              |Geoff Dalgas          |<p>Dev #2 who helped create Stack Overflow currently working at Microsoft. I love all people willing to share their knowledge. Without community we are nothing.</p>\\n<p>Find me on:</p>\\n<p><a href=\"http://www.twitter.com/SuperDalgas\" rel=\"nofollow noreferrer\">Twitter</a>\\n<br><br>\\n<a href=\"http://blog.stackoverflow.com/2009/05/welcome-stack-overflow-valued-associate-00003/\">Stack Overflow Valued Associate #00003</a></p>\\n                                                                                                                                                                                                                                                                                                                                                                                                                                                                                                                                                                                                                                                                                                                                                                                                                                                                                                                                                                                                                                                                                                                                                                                                                                                                                           |2010|6    |23 |\n",
            "|3  |3        |2010-06-30 06:02:40.717|2021-08-23 17:31:14.54 |0        |115    |201       |54   |http://jarroddixon.com                      |null           |Johnson City, TN, USA      |Jarrod Dixon          |<p>Former <a href=\"http://blog.stackoverflow.com/2009/01/welcome-stack-overflow-valued-associate-00002/\">Developer on the Stack Overflow team</a>.</p>\\n<p>Was dubbed <strong>SALTY SAILOR</strong> by Jeff Atwood, as filth and flarn would oft-times fly when dealing with a particularly nasty bug!</p>\\n<ul>\\n<li>Twitter me: <a href=\"http://twitter.com/jarrod_dixon\" rel=\"nofollow noreferrer\">jarrod_dixon</a></li>\\n<li>Email me: jarrod.m.dixon@gmail.com</li>\\n</ul>\\n                                                                                                                                                                                                                                                                                                                                                                                                                                                                                                                                                                                                                                                                                                                                                                                                                                                                                                                                                                                                                                                                                                                                                                                                                                                    |2010|6    |30 |\n",
            "|4  |29738    |2010-06-30 06:09:34.807|2022-08-04 20:17:02.327|0        |35     |101       |19   |https://kevinmontrose.com                   |null           |New York, NY, United States|Kevin Montrose        |<p><a href=\"http://blog.stackoverflow.com/2010/03/welcome-stack-overflow-valued-associate-000004/\">Stack Overflow Valued Associate #00004</a></p>\\n<p><s>For no good reason, <a href=\"http://twitter.com/kevinmontrose\" rel=\"nofollow noreferrer\">I'm on twitter</a>.  I hear its compelling... somehow.<br/></s></p>\\n<p><a href=\"https://infosec.exchange/@kevinmontrose\" rel=\"nofollow noreferrer\">I'm on Mastodon now</a>, all hail the new flesh.</p>\\n<p>I also have a <a href=\"http://kevinmontrose.com\" rel=\"nofollow noreferrer\">blog</a>.</p>\\n                                                                                                                                                                                                                                                                                                                                                                                                                                                                                                                                                                                                                                                                                                                                                                                                                                                                                                                                                                                                                                                                                                                                                                            |2010|6    |30 |\n",
            "|5  |9321     |2010-06-30 06:15:17.663|2022-03-01 23:49:29.517|0        |4      |346       |34   |http://samsaffron.com                       |null           |Sydney, Australia          |Sam Saffron           |<p>Co-founder: <a href=\"http://www.discourse.org\" rel=\"nofollow noreferrer\">http://www.discourse.org</a> </p>\\n\\n<p>email: sam.saffron@gmail.com<br>\\nblog: <a href=\"http://samsaffron.com\" rel=\"nofollow noreferrer\">http://samsaffron.com</a><br>\\ntwitter: <a href=\"https://twitter.com/@samsaffron\" rel=\"nofollow noreferrer\">@samsaffron</a>   </p>\\n\\n<p>Ex <a href=\"http://blog.stackoverflow.com/2010/06/welcome-stack-overflow-valued-associate-00008/\">Stack Overflow Valued Associate #00008</a>, creator of <a href=\"http://data.stackexchange.com/\" rel=\"nofollow noreferrer\">Stack Exchange Data Explorer</a>, co-creator of Media Browser ( now Emby ) </p>\\n\\n<p>Other Projects:</p>\\n\\n<ul>\\n<li>Logster : <a href=\"https://github.com/discourse/logster\" rel=\"nofollow noreferrer\">https://github.com/discourse/logster</a></li>\\n<li>rack-mini-profiler : <a href=\"https://github.com/MiniProfiler/rack-mini-profiler\" rel=\"nofollow noreferrer\">https://github.com/MiniProfiler/rack-mini-profiler</a></li>\\n<li>message_bus : <a href=\"https://github.com/SamSaffron/message_bus\" rel=\"nofollow noreferrer\">https://github.com/SamSaffron/message_bus</a></li>\\n<li>memory_profiler: <a href=\"https://github.com/SamSaffron/memory_profiler\" rel=\"nofollow noreferrer\">https://github.com/SamSaffron/memory_profiler</a></li>\\n<li>flamegraph : <a href=\"https://github.com/SamSaffron/flamegraph\" rel=\"nofollow noreferrer\">https://github.com/SamSaffron/flamegraph</a></li>\\n</ul>\\n\\n<p>\\nAll original source snippets I post on Stack Overflow are dedicated to the <a href=\"http://en.wikipedia.org/wiki/Public_Domain\" rel=\"nofollow noreferrer\">public domain</a>. Do with them as you see fit. \\n</p>\\n|2010|6    |30 |\n",
            "|7  |1        |2010-06-30 06:16:25.4  |2023-06-14 00:11:48.097|9        |317    |3303      |993  |https://blog.codinghorror.com/              |null           |El Cerrito, CA             |Jeff Atwood           |<p><a href=\"https://blog.codinghorror.com/stack-overflow-none-of-us-is-as-dumb-as-all-of-us/\" rel=\"nofollow noreferrer\">Stack Overflow Valued Associate #00001</a></p>\\n<p>Wondering how our software development process works? <a href=\"https://www.youtube.com/watch?v=qM4zMofsI7w\" rel=\"nofollow noreferrer\">Take a look!</a></p>\\n<p>Find me <a href=\"https://twitter.com/codinghorror\" rel=\"nofollow noreferrer\">on twitter</a>, or <a href=\"https://blog.codinghorror.com/\" rel=\"nofollow noreferrer\">read my blog</a>. Don't say I didn't warn you <em>because I totally did</em>.</p>\\n<p>However, <a href=\"https://blog.codinghorror.com/farewell-stack-exchange/\" rel=\"nofollow noreferrer\">I no longer work at Stack Exchange, Inc</a>. I'll miss you all. Well, <em>some</em> of you, anyway. :)</p>\\n                                                                                                                                                                                                                                                                                                                                                                                                                                                                                                                                                                                                                                                                                                                                                                                                                                                                                                                  |2010|6    |30 |\n",
            "|8  |21721    |2010-06-30 06:31:20.613|2020-01-30 00:41:20.58 |0        |26     |642       |246  |http://www.8164.org                         |null           |Raleigh, NC                |Jin                   |<p>I used to design stuff for Stack Exchange. Also a professional bacon eater.</p>\\n<p>blog: <a href=\"http://www.8164.org\" rel=\"nofollow noreferrer\">8164.org</a></p>\\n<p>twitter: <a href=\"http://twitter.com/jzy\" rel=\"nofollow noreferrer\">@jzy</a></p>\\n                                                                                                                                                                                                                                                                                                                                                                                                                                                                                                                                                                                                                                                                                                                                                                                                                                                                                                                                                                                                                                                                                                                                                                                                                                                                                                                                                                                                                                                                         |2010|6    |30 |\n",
            "|9  |4188     |2010-06-30 11:35:01.72 |2023-01-14 23:49:36.32 |0        |3      |279       |39   |https://meta.stackexchange.com/a/390023/6212|null           |Restore the Data Dumps     |Restore the Data Dumps|<p>Chaotic Good w a splash of Data. Dad x2. Stack Overflow. He/him.</p>\\n                                                                                                                                                                                                                                                                                                                                                                                                                                                                                                                                                                                                                                                                                                                                                                                                                                                                                                                                                                                                                                                                                                                                                                                                                                                                                                                                                                                                                                                                                                                                                                                                                                                            |2010|6    |30 |\n",
            "|10 |34933    |2010-06-30 13:14:19.213|2023-06-09 17:34:15.347|27       |16     |477       |155  |                                            |null           |Palm Bay, FL               |Robert Cartaino       |<p><a href=\"http://blog.stackoverflow.com/2010/04/welcome-stack-overflow-valued-associate-00005/\">Stack Exchange Valued Associate #00005</a></p>\\n\\n<p>I was the Director of Community Development for the Stack Overflow Network for 10 years (<strong>120 million</strong> visitors per month!)</p>\\n\\n<p><strong>CURRENTLY LOOKING FOR A NEW ADVENTURE:</strong></p>\\n\\n<p>If anyone is looking to develop their brand's online community with someone who has a heck of a track record in innovative product and feature design, let's talk!</p>\\n\\n<p>&#114;&#99;&#97;&#114;&#116;&#97;&#105;&#110;&#111;&#64;&#121;&#97;&#104;&#111;&#111;&#46;&#99;&#111;&#109;</p>\\n                                                                                                                                                                                                                                                                                                                                                                                                                                                                                                                                                                                                                                                                                                                                                                                                                                                                                                                                                                                                                                                         |2010|6    |30 |\n",
            "|11 |77247    |2010-06-30 13:16:16.2  |2019-04-01 17:31:10.6  |0        |11     |654       |67   |null                                        |null           |Brooklyn, NY               |Korneel Bouman        |null                                                                                                                                                                                                                                                                                                                                                                                                                                                                                                                                                                                                                                                                                                                                                                                                                                                                                                                                                                                                                                                                                                                                                                                                                                                                                                                                                                                                                                                                                                                                                                                                                                                                                                                                 |2010|6    |30 |\n",
            "+---+---------+-----------------------+-----------------------+---------+-------+----------+-----+--------------------------------------------+---------------+---------------------------+----------------------+-------------------------------------------------------------------------------------------------------------------------------------------------------------------------------------------------------------------------------------------------------------------------------------------------------------------------------------------------------------------------------------------------------------------------------------------------------------------------------------------------------------------------------------------------------------------------------------------------------------------------------------------------------------------------------------------------------------------------------------------------------------------------------------------------------------------------------------------------------------------------------------------------------------------------------------------------------------------------------------------------------------------------------------------------------------------------------------------------------------------------------------------------------------------------------------------------------------------------------------------------------------------------------------------------------------------------------------------------------------------------------------------------------------------------------------------------------------------------------------------------------------------------------------------------------------------------------------------------------------------------------------------------------------------------------------------------------------------------------------+----+-----+---+\n",
            "only showing top 10 rows\n",
            "\n"
          ]
        }
      ]
    },
    {
      "cell_type": "markdown",
      "source": [
        "#### Odczyt, partycjonowanie i zapis zbioru VOTES.XML"
      ],
      "metadata": {
        "id": "KxPL78oC_DAV"
      }
    },
    {
      "cell_type": "code",
      "source": [
        "schema = StructType([ \\\n",
        "    StructField(\"_BountyAmount\", LongType(), True), \\\n",
        "    StructField(\"_CreationDate\", StringType(), True), \\\n",
        "    StructField(\"_Id\", LongType(), True), \\\n",
        "    StructField(\"_PostId\", LongType(), True), \\\n",
        "    StructField(\"_UserId\", LongType(), True), \\\n",
        "    StructField(\"_VoteTypeId\", LongType(), True), \\\n",
        "    StructField(\"Year\", LongType(), True), \\\n",
        "    StructField(\"Month\", LongType(), True), \\\n",
        "    StructField(\"Day\", LongType(), True)\n",
        "])\n",
        "\n",
        "votesDF = spark.read \\\n",
        "          .format('com.databricks.spark.xml') \\\n",
        "          .options(rootTag='votes') \\\n",
        "          .options(rowTag='row') \\\n",
        "          .schema(schema) \\\n",
        "          .load('/content/input/Votes.xml')\n",
        "\n",
        "votesDF = votesDF \\\n",
        "          .withColumnRenamed(\"_BountyAmount\", \"BountyAmount\") \\\n",
        "          .withColumnRenamed(\"_CreationDate\", \"CreationDate\") \\\n",
        "          .withColumnRenamed(\"_Id\", \"Id\") \\\n",
        "          .withColumnRenamed(\"_PostId\", \"PostId\") \\\n",
        "          .withColumnRenamed(\"_UserId\", \"UserId\") \\\n",
        "          .withColumnRenamed(\"_VoteTypeId\", \"VoteTypeId\") \\\n",
        "\n",
        "votesDF = votesDF \\\n",
        "          .select([\"Id\", \"PostId\", \"UserId\", \"VoteTypeId\", \\\n",
        "                  to_timestamp(\"CreationDate\").alias(\"CreationDate\"), \"BountyAmount\"]) \\\n",
        "          .withColumn(\"Year\", date_format(col(\"CreationDate\"), \"y\")) \\\n",
        "          .withColumn(\"Month\", date_format(col(\"CreationDate\"), \"M\")) \\\n",
        "          .withColumn(\"Day\", date_format(col(\"CreationDate\"), \"d\"))\n",
        "\n",
        "votesDF.printSchema()\n",
        "votesDF.show(n=10, truncate=False)\n",
        "\n",
        "votesDF = votesDF \\\n",
        "          .write \\\n",
        "          .partitionBy(\"Year\", \"Month\", \"Day\") \\\n",
        "          .mode(\"overwrite\") \\\n",
        "          .parquet(\"/content/output/votes.parquet\")"
      ],
      "metadata": {
        "id": "Yi0BV1LA43QM",
        "outputId": "b81c8a74-d4c5-4599-88ee-45546c668a8e",
        "colab": {
          "base_uri": "https://localhost:8080/"
        }
      },
      "execution_count": 26,
      "outputs": [
        {
          "output_type": "stream",
          "name": "stdout",
          "text": [
            "root\n",
            " |-- Id: long (nullable = true)\n",
            " |-- PostId: long (nullable = true)\n",
            " |-- UserId: long (nullable = true)\n",
            " |-- VoteTypeId: long (nullable = true)\n",
            " |-- CreationDate: timestamp (nullable = true)\n",
            " |-- BountyAmount: long (nullable = true)\n",
            " |-- Year: string (nullable = true)\n",
            " |-- Month: string (nullable = true)\n",
            " |-- Day: string (nullable = true)\n",
            "\n",
            "+---+------+------+----------+-------------------+------------+----+-----+---+\n",
            "|Id |PostId|UserId|VoteTypeId|CreationDate       |BountyAmount|Year|Month|Day|\n",
            "+---+------+------+----------+-------------------+------------+----+-----+---+\n",
            "|1  |1     |null  |2         |2010-06-30 00:00:00|null        |2010|6    |30 |\n",
            "|2  |1     |null  |2         |2010-06-30 00:00:00|null        |2010|6    |30 |\n",
            "|3  |2     |null  |2         |2010-06-30 00:00:00|null        |2010|6    |30 |\n",
            "|4  |1     |null  |2         |2010-06-30 00:00:00|null        |2010|6    |30 |\n",
            "|5  |5     |null  |2         |2010-06-30 00:00:00|null        |2010|6    |30 |\n",
            "|6  |6     |null  |2         |2010-06-30 00:00:00|null        |2010|6    |30 |\n",
            "|7  |4     |null  |2         |2010-06-30 00:00:00|null        |2010|6    |30 |\n",
            "|8  |3     |null  |2         |2010-06-30 00:00:00|null        |2010|6    |30 |\n",
            "|9  |1     |null  |2         |2010-06-30 00:00:00|null        |2010|6    |30 |\n",
            "|10 |1     |null  |2         |2010-06-30 00:00:00|null        |2010|6    |30 |\n",
            "+---+------+------+----------+-------------------+------------+----+-----+---+\n",
            "only showing top 10 rows\n",
            "\n"
          ]
        }
      ]
    },
    {
      "cell_type": "markdown",
      "source": [
        "# Przypadki analizy danych"
      ],
      "metadata": {
        "id": "M-NjWZ4UYBq9"
      }
    },
    {
      "cell_type": "markdown",
      "source": [
        "#### Przypadek analizy 4A\n",
        "Liczba postów na przestrzeni czasu (lineplot/barplot)"
      ],
      "metadata": {
        "id": "94hwd-HAzXDv"
      }
    },
    {
      "cell_type": "code",
      "source": [
        "### ANALITYKA POSTS\n",
        "\n",
        "from matplotlib import pyplot as plt\n",
        "import numpy as np\n",
        "import pandas as pd\n",
        "plt.rcParams[\"figure.figsize\"] = [10, 6]\n",
        "\n",
        "postsDF1 = spark.read.parquet(\"/content/output/posts.parquet\")\n",
        "\n",
        "postsDF1 = postsDF1 \\\n",
        "  .groupBy(\"Year\", \"Month\") \\\n",
        "  .count() \\\n",
        "  .orderBy(col(\"Year\").desc(), col(\"Month\").asc()) \\\n",
        "  .withColumnRenamed(\"count\", \"Count\") \\\n",
        "  .withColumn(\"MonthNm\",\n",
        "              when(col(\"Month\") == 1, '1 (Styczneń)') \\\n",
        "              .when(col(\"Month\") == 2, '2 (Luty)') \\\n",
        "              .when(col(\"Month\") == 3, '3 (Marzec)') \\\n",
        "              .when(col(\"Month\") == 4, '4 (Kwiecień)') \\\n",
        "              .when(col(\"Month\") == 5, '5 (Maj)') \\\n",
        "              .when(col(\"Month\") == 6, '6 (Czerwiec)') \\\n",
        "              .when(col(\"Month\") == 7, '7 (Lipiec)') \\\n",
        "              .when(col(\"Month\") == 8, '8 (Sierpień)') \\\n",
        "              .when(col(\"Month\") == 9, '9 (Wrzesień)') \\\n",
        "              .when(col(\"Month\") == 10, '10 (Pażdziernik)') \\\n",
        "              .when(col(\"Month\") == 11, '11 (Listopad)') \\\n",
        "              .when(col(\"Month\") == 12, '12 (Grudzień)') \\\n",
        "              .otherwise('Unknown'))\n",
        "\n",
        "postsDF1 = postsDF1.cache()\n",
        "\n",
        "pdDF = postsDF1.toPandas()\n",
        "\n",
        "# pdDF.loc[pdDF[\"Month\"] == 1, \"Month\"] = \"1 (Styczeń)\"\n",
        "# pdDF.loc[pdDF[\"Month\"] == 2, \"Month\"] = \"2 (Luty)\"\n",
        "# pdDF.loc[pdDF[\"Month\"] == 3, \"Month\"] = \"3 (Marzec)\"\n",
        "# pdDF.loc[pdDF[\"Month\"] == 4, \"Month\"] = \"4 (Kwiecień)\"\n",
        "\n",
        "pdDF = pdDF.pivot(index='MonthNm', columns='Year', values='Count')\n",
        "pdDF = pdDF.sort_values(by=['MonthNm'], ascending=False)\n",
        "pdDF = pdDF.fillna(0)\n",
        "print(pdDF)\n",
        "\n",
        "plotdata = pdDF\n",
        "ax=plotdata.plot(kind='bar', stacked=True, figsize=(20, 15))\n",
        "#ax2 = ax.twinx()\n",
        "#ax2.set_ylabel('Total number of posts', color = 'b', fontsize=18)\n",
        "ax.set_ylabel(\"Total number of posts\", color = 'g', fontsize=18)\n",
        "plt.style.use('ggplot')\n",
        "plt.title(\"Post ratings\")\n",
        "plt.xlabel(\"Months\")\n",
        "plt.ylabel(\"Number of posts\")\n",
        "plt.legend(loc=\"upper left\")\n",
        "\n",
        "\n",
        "# .patches is everything inside of the chart\n",
        "for rect in ax.patches:\n",
        "    # Find where everything is located\n",
        "    height = rect.get_height()\n",
        "    width = rect.get_width()\n",
        "    x = rect.get_x()\n",
        "    y = rect.get_y()\n",
        "\n",
        "    # The height of the bar is the data value and can be used as the label\n",
        "    label_text = f'{height}'  # f'{height:.2f}' to format decimal values\n",
        "\n",
        "    # ax.text(x, y, text)\n",
        "    label_x = x + width / 2\n",
        "    label_y = y + height / 2\n",
        "\n",
        "    # plot only when height is greater than specified value\n",
        "    if height > 0:\n",
        "        ax.text(label_x, label_y, label_text, ha='center', va='center', fontsize=8)\n",
        "\n",
        "ax.legend(bbox_to_anchor=(1.05, 1), loc='upper left', borderaxespad=0.)\n",
        "ax.set_ylabel(\"Total number of posts\", fontsize=18)\n",
        "ax.set_xlabel(\"Months\", fontsize=18)\n",
        "plt.show()\n",
        "\n",
        "# for c in plt.containers:\n",
        "\n",
        "#     # Optional: if the segment is small or 0, customize the labels\n",
        "#     labels = [v.get_height() if v.get_height() > 0 else '' for v in c]\n",
        "\n",
        "#     # remove the labels parameter if it's not needed for customized labels\n",
        "#     plt.bar_label(c, labels=labels, label_type='center')\n",
        "\n",
        "# plt.show()\n",
        "\n",
        "\n",
        "labels = ['missing', '<25', '25-34', '35-44', '45-54','55-64','65+']\n",
        "missing = np.array([0.000095, 0.024830, 0.028665, 0.029477, 0.031918,0.037073,0.026699])\n",
        "man = np.array([0.000147, 0.036311, 0.038684, 0.044761, 0.051269, 0.059542, 0.054259])\n",
        "women = np.array([0.004035, 0.032935, 0.035351, 0.041778, 0.048437, 0.056236,0.048091])\n",
        "ind = [x for x, _ in enumerate(labels)]\n",
        "\n",
        "plt.figure(figsize=(10,8))\n",
        "plt.bar(ind, women, width=0.8, label='women', color='gold', bottom=man+missing)\n",
        "plt.bar(ind, man, width=0.8, label='man', color='silver', bottom=missing)\n",
        "plt.bar(ind, missing, width=0.8, label='missing', color='#CD853F')\n",
        "\n",
        "plt.xticks(ind, labels)\n",
        "plt.ylabel(\"percentage\")\n",
        "plt.legend(loc=\"upper left\")\n",
        "plt.title(\"demo\")\n",
        "\n",
        "plt.show()\n",
        "\n"
      ],
      "metadata": {
        "id": "_NztslrDUTSZ",
        "outputId": "0d0de371-df7a-49a1-e32a-6763b4704cb4",
        "colab": {
          "base_uri": "https://localhost:8080/",
          "height": 1000
        }
      },
      "execution_count": 27,
      "outputs": [
        {
          "output_type": "stream",
          "name": "stdout",
          "text": [
            "Year              2009    2010   2011   2012    2013   2014   2015   2016  \\\n",
            "MonthNm                                                                     \n",
            "9 (Wrzesień)      36.0   684.0  560.0  605.0   549.0  472.0  588.0  491.0   \n",
            "8 (Sierpień)      28.0   842.0  505.0  647.0   649.0  486.0  576.0  529.0   \n",
            "7 (Lipiec)        26.0  2933.0  662.0  611.0   624.0  477.0  739.0  440.0   \n",
            "6 (Czerwiec)       0.0   370.0  594.0  556.0   602.0  429.0  668.0  539.0   \n",
            "5 (Maj)            0.0    14.0  552.0  825.0   648.0  547.0  632.0  513.0   \n",
            "4 (Kwiecień)       0.0     2.0  523.0  662.0   678.0  645.0  571.0  574.0   \n",
            "3 (Marzec)         0.0     5.0  591.0  559.0   710.0  671.0  631.0  581.0   \n",
            "2 (Luty)           0.0    14.0  638.0  614.0   650.0  697.0  528.0  611.0   \n",
            "12 (Grudzień)     20.0   552.0  577.0  650.0   668.0  467.0  571.0  463.0   \n",
            "11 (Listopad)     18.0   526.0  865.0  666.0   616.0  552.0  586.0  475.0   \n",
            "10 (Pażdziernik)  25.0   942.0  508.0  752.0   628.0  595.0  628.0  463.0   \n",
            "1 (Styczneń)       0.0    14.0  537.0  689.0  1070.0  809.0  529.0  681.0   \n",
            "\n",
            "Year               2017   2018   2019   2020   2021   2022   2023  \n",
            "MonthNm                                                            \n",
            "9 (Wrzesień)      604.0  412.0  489.0  309.0  256.0  396.0   14.0  \n",
            "8 (Sierpień)      620.0  540.0  469.0  374.0  360.0  324.0  223.0  \n",
            "7 (Lipiec)        444.0  551.0  614.0  390.0  354.0  311.0  218.0  \n",
            "6 (Czerwiec)      414.0  393.0  598.0  448.0  375.0  275.0  202.0  \n",
            "5 (Maj)           531.0  443.0  729.0  548.0  416.0  332.0  236.0  \n",
            "4 (Kwiecień)      531.0  472.0  689.0  470.0  444.0  301.0  174.0  \n",
            "3 (Marzec)        676.0  508.0  664.0  392.0  408.0  313.0  266.0  \n",
            "2 (Luty)          599.0  357.0  583.0  387.0  399.0  284.0  333.0  \n",
            "12 (Grudzień)     665.0  410.0  444.0  405.0  292.0  332.0    0.0  \n",
            "11 (Listopad)     534.0  354.0  430.0  343.0  321.0  320.0    0.0  \n",
            "10 (Pażdziernik)  611.0  426.0  466.0  341.0  344.0  437.0    0.0  \n",
            "1 (Styczneń)      545.0  495.0  781.0  441.0  475.0  342.0  345.0  \n"
          ]
        },
        {
          "output_type": "display_data",
          "data": {
            "text/plain": [
              "<Figure size 2000x1500 with 1 Axes>"
            ],
            "image/png": "[encoded data removed]"
          },
          "metadata": {}
        },
        {
          "output_type": "display_data",
          "data": {
            "text/plain": [
              "<Figure size 1000x800 with 1 Axes>"
            ],
            "image/png": "[encoded data removed]"
          },
          "metadata": {}
        }
      ]
    },
    {
      "cell_type": "markdown",
      "source": [
        "#### Przypadek analizy 4B\n",
        "Czas na forum (od pojawienia się użytkownika do ostatniego posta/komentarza) 10 najdłużej aktywnych użytkowników (pomijając boty) (barplot)"
      ],
      "metadata": {
        "id": "7sA_thE4Wc30"
      }
    },
    {
      "cell_type": "code",
      "source": [
        "postsDFAnalize2A = spark.read.parquet(\"/content/output/posts.parquet\") \\\n",
        "    .filter( (col(\"OwnerUserId\").isNotNull()) | (col(\"OwnerUserId\") != -1) ) \\\n",
        "    .groupBy(\"OwnerUserId\") \\\n",
        "    .agg(min(\"CreationDate\").alias(\"CreationDateMin\"), \\\n",
        "         max(\"LastActivityDate\").alias(\"LastActivityDateMax\")) \\\n",
        "    .withColumn(\"DiffInSeconds\", col(\"LastActivityDateMax\").cast(\"long\") - col(\"CreationDateMin\").cast(\"long\")) \\\n",
        "    .withColumn(\"DiffInMinutes\", floor(col(\"DiffInSeconds\") / 60)) \\\n",
        "    .withColumn(\"DiffInHours\", floor(col(\"DiffInSeconds\") / 3_600)) \\\n",
        "    .withColumn(\"DiffInDays\", floor(col(\"DiffInHours\") / 24)) \\\n",
        "    .withColumn(\"DiffInYears\", floor(col(\"DiffInDays\") / 365)) \\\n",
        "    .orderBy(col(\"DiffInSeconds\").desc()) \\\n",
        "    .cache() \\\n",
        "    .show(n=10, truncate=False)"
      ],
      "metadata": {
        "id": "ZNyp9F7KWiyq",
        "outputId": "3bc42715-e8b5-41cd-cfda-8443d0f9a3ad",
        "colab": {
          "base_uri": "https://localhost:8080/"
        }
      },
      "execution_count": 28,
      "outputs": [
        {
          "output_type": "stream",
          "name": "stdout",
          "text": [
            "+-----------+-----------------------+-----------------------+-------------+-------------+-----------+----------+-----------+\n",
            "|OwnerUserId|CreationDateMin        |LastActivityDateMax    |DiffInSeconds|DiffInMinutes|DiffInHours|DiffInDays|DiffInYears|\n",
            "+-----------+-----------------------+-----------------------+-------------+-------------+-----------+----------+-----------+\n",
            "|410        |2009-08-10 09:14:41.517|2023-08-29 23:32:00.617|443456239    |7390937      |123182     |5132      |14         |\n",
            "|2264       |2009-09-19 01:23:52.89 |2023-08-10 01:08:46.01 |438306294    |7305104      |121751     |5072      |13         |\n",
            "|21         |2009-09-11 09:14:13.42 |2023-06-18 20:02:36.443|434458103    |7240968      |120682     |5028      |13         |\n",
            "|1530       |2009-08-10 08:57:21.677|2023-05-15 08:13:31.603|434243770    |7237396      |120623     |5025      |13         |\n",
            "|60433      |2009-07-21 13:53:19.377|2023-03-29 08:48:15.903|431895296    |7198254      |119970     |4998      |13         |\n",
            "|3237       |2009-09-04 20:18:25.407|2023-03-27 04:23:31.98 |427795506    |7129925      |118832     |4951      |13         |\n",
            "|6806       |2010-01-07 14:26:52.603|2023-07-19 14:52:24.753|426903932    |7115065      |118584     |4941      |13         |\n",
            "|12388      |2010-01-14 22:41:45.873|2023-07-20 17:17:33.057|426364548    |7106075      |118434     |4934      |13         |\n",
            "|1880       |2009-10-27 23:42:43.103|2023-03-27 04:30:39.647|423204476    |7053407      |117556     |4898      |13         |\n",
            "|29675      |2009-09-16 19:19:16.97 |2023-02-06 21:38:05.443|422590729    |7043178      |117386     |4891      |13         |\n",
            "+-----------+-----------------------+-----------------------+-------------+-------------+-----------+----------+-----------+\n",
            "only showing top 10 rows\n",
            "\n"
          ]
        }
      ]
    },
    {
      "cell_type": "markdown",
      "source": [
        "#### Przypadek analizy 4C\n",
        "Porównanie najwyżej i najniżej ocenianych pytań (długość, tagi, liczba odpowiedzi)"
      ],
      "metadata": {
        "id": "SWurcwHhzSGz"
      }
    },
    {
      "cell_type": "markdown",
      "source": [
        "#### Przypadek analizy 4D\n",
        "Procent przypadków kiedy najwyżej oceniana odpowiedź to nie zaakceptowana odpowiedź"
      ],
      "metadata": {
        "id": "klwFNfzMzNue"
      }
    },
    {
      "cell_type": "markdown",
      "source": [
        "#### Przypadek analizy 4E\n",
        "Rozkład ocen odpowiedzi zaakceptowanych vs pozostałych (średnia, odchylenie, minimum, maksimum)"
      ],
      "metadata": {
        "id": "JJTwfvBlzHcX"
      }
    },
    {
      "cell_type": "markdown",
      "source": [
        "#### Przypadek analizy 4F\n",
        "Top N tagów które wygenerowały najwięcej wyświetleń"
      ],
      "metadata": {
        "id": "0sc9y8TdzCh6"
      }
    },
    {
      "cell_type": "markdown",
      "source": [],
      "metadata": {
        "id": "HuJR5b9gLXag"
      }
    },
    {
      "cell_type": "code",
      "source": [
        "from pyspark.sql.functions import col, explode, regexp_replace, split, format_number, countDistinct\n",
        "\n",
        "postsDFAnalize4F = spark \\\n",
        "                   .read \\\n",
        "                   .parquet(\"/content/output/posts.parquet\") \\\n",
        "                   .cache() \\\n",
        "                   .filter( (col('PostTypeId') == 1) ) \\\n",
        "                   .withColumn(\"Tags\", explode(split(col(\"Tags\"), \"><\"))) \\\n",
        "                   .withColumn(\"Tags\", regexp_replace(col(\"Tags\"), \"(^\\<)|(\\>$)\", \"\")) \\\n",
        "                   .groupBy(col('Tags')) \\\n",
        "                   .agg(sum(\"ViewCount\").alias(\"Viewed\")) \\\n",
        "                   .orderBy(col('Viewed').desc()) \\\n",
        "                   .withColumn(\"Viewed\", format_number(\"Viewed\" ,0)) \\\n",
        "                   .show(n=10, truncate=False)"
      ],
      "metadata": {
        "id": "YXho17j01CLv",
        "outputId": "739314e6-65bc-4598-aeb6-c0a43d178588",
        "colab": {
          "base_uri": "https://localhost:8080/"
        }
      },
      "execution_count": 29,
      "outputs": [
        {
          "output_type": "stream",
          "name": "stdout",
          "text": [
            "+------------------+----------+\n",
            "|Tags              |Viewed    |\n",
            "+------------------+----------+\n",
            "|gmail             |45,335,017|\n",
            "|google-sheets     |40,905,804|\n",
            "|facebook          |40,484,016|\n",
            "|youtube           |15,397,415|\n",
            "|google-docs       |14,607,468|\n",
            "|google-account    |13,710,840|\n",
            "|google-drive      |13,341,160|\n",
            "|google-apps-script|8,567,261 |\n",
            "|twitter           |8,096,228 |\n",
            "|facebook-messenger|7,162,756 |\n",
            "+------------------+----------+\n",
            "only showing top 10 rows\n",
            "\n"
          ]
        }
      ]
    },
    {
      "cell_type": "markdown",
      "source": [
        "#### Przypadek analizy 4G\n",
        "Liczba postów w czasie dla każdego z top N tagów (lineplot/barplot)"
      ],
      "metadata": {
        "id": "_fbkgX7ty9x2"
      }
    },
    {
      "cell_type": "markdown",
      "source": [
        "#### Przypadek analizy 4H\n",
        "Najczęściej pojawiające się słowa w tytułach (z pominięciem stopwords)"
      ],
      "metadata": {
        "id": "n2evyz-Xy6c0"
      }
    },
    {
      "cell_type": "code",
      "source": [
        "from pyspark.ml.feature import StopWordsRemover\n",
        "\n",
        "# Define a list of stop words or use default list\n",
        "remover = StopWordsRemover()\n",
        "stopwords = remover.getStopWords()\n",
        "\n",
        "postsDFAnaliza4H = spark.read.parquet(\"/content/output/posts.parquet\") \\\n",
        "                   .select(col('Title')) \\\n",
        "                   .filter(col(\"Title\").isNotNull()) \\\n",
        "                   .cache()\n",
        "\n",
        "resultDFAnalize4H = postsDFAnaliza4H.withColumn('Word', explode(split(col('Title'), ' '))) \\\n",
        "                   .filter(~lower(col(\"Word\")).isin(stopwords)) \\\n",
        "                   .groupBy('Word') \\\n",
        "                   .count() \\\n",
        "                   .sort('Count', ascending=False) \\\n",
        "                   .withColumnRenamed(\"count\", \"WordsCount\") \\\n",
        "                   .withColumn(\"WordsCount\", format_number(\"WordsCount\" ,0)) \\\n",
        "\n",
        "resultDFAnalize4H.show(n=20, truncate=False)"
      ],
      "metadata": {
        "id": "Q7_De0Z5Xmd9",
        "outputId": "1bc84519-5b17-4db1-899d-dc319fd105fa",
        "colab": {
          "base_uri": "https://localhost:8080/"
        }
      },
      "execution_count": 30,
      "outputs": [
        {
          "output_type": "stream",
          "name": "stdout",
          "text": [
            "+--------+----------+\n",
            "|Word    |WordsCount|\n",
            "+--------+----------+\n",
            "|Google  |10,447    |\n",
            "|Gmail   |2,481     |\n",
            "|Facebook|2,435     |\n",
            "|Sheets  |1,682     |\n",
            "|email   |1,356     |\n",
            "|cell    |1,303     |\n",
            "|account |1,131     |\n",
            "|way     |1,050     |\n",
            "|YouTube |1,044     |\n",
            "|search  |998       |\n",
            "|get     |983       |\n",
            "|data    |957       |\n",
            "|one     |932       |\n",
            "|multiple|914       |\n",
            "|another |848       |\n",
            "|column  |828       |\n",
            "|using   |788       |\n",
            "|new     |757       |\n",
            "|use     |756       |\n",
            "|list    |747       |\n",
            "+--------+----------+\n",
            "only showing top 20 rows\n",
            "\n"
          ]
        }
      ]
    },
    {
      "cell_type": "markdown",
      "source": [
        "#### Przypadek analizy 4I\n",
        "Procent użytkowników, którzy nigdy nic nie zapostowali\n"
      ],
      "metadata": {
        "id": "FzIiLNspyqT8"
      }
    },
    {
      "cell_type": "code",
      "source": [
        "from pyspark.sql.window import Window\n",
        "import sys\n",
        "\n",
        "print(f'Evidence of registered users count :: {spark.read.parquet(\"/content/output/users.parquet\").count()}')\n",
        "\n",
        "postsDFAnalize4I = spark.read.parquet(\"/content/output/posts.parquet\") \\\n",
        "                  .select(col('OwnerUserId')) \\\n",
        "                  .cache()\n",
        "usersDFAnalize4I = spark.read.parquet(\"/content/output/users.parquet\") \\\n",
        "                  .select(col('Id'), col('DisplayName')) \\\n",
        "                  .cache()\n",
        "\n",
        "resultDFAnalize4I = usersDFAnalize4I \\\n",
        "                    .join(postsDFAnalize4I, postsDFAnalize4I.OwnerUserId == usersDFAnalize4I.Id, 'left') \\\n",
        "                    .select(col('Id'), when(col('OwnerUserId').isNull(), 0).otherwise(1).alias('isnullable')) \\\n",
        "                    .groupBy(\"isnullable\") \\\n",
        "                    .agg(countDistinct(\"Id\",\"isnullable\").alias(\"isnullable_count\")) \\\n",
        "                    .orderBy(col('isnullable_count').desc()) \\\n",
        "                    .withColumn('percent', col('isnullable_count') / sum('isnullable_count').over(Window.partitionBy())*100) \\\n",
        "                    .withColumn('cumulate_percent', sum(col('percent')).over(Window.partitionBy().orderBy().rowsBetween(-sys.maxsize, 0))) \\\n",
        "                    .show()\n"
      ],
      "metadata": {
        "id": "1Iohco2VjSyO",
        "outputId": "111988b7-a95e-457f-d22c-2bd904dd8a80",
        "colab": {
          "base_uri": "https://localhost:8080/"
        }
      },
      "execution_count": 31,
      "outputs": [
        {
          "output_type": "stream",
          "name": "stdout",
          "text": [
            "Evidence of registered users count :: 233908\n",
            "+----------+----------------+------------------+-----------------+\n",
            "|isnullable|isnullable_count|           percent| cumulate_percent|\n",
            "+----------+----------------+------------------+-----------------+\n",
            "|         0|          200851| 85.86752056364041|85.86752056364041|\n",
            "|         1|           33057|14.132479436359594|            100.0|\n",
            "+----------+----------------+------------------+-----------------+\n",
            "\n"
          ]
        }
      ]
    },
    {
      "cell_type": "markdown",
      "source": [
        "#### Przypadek analizy 4J\n",
        "Średni czas od pojawienia się pytania do pojawienia się zaakceptowanej odpowiedzi"
      ],
      "metadata": {
        "id": "0ngNmlBXydmv"
      }
    },
    {
      "cell_type": "code",
      "source": [
        "postsDFAnalize4J = spark.read.parquet(\"/content/output/posts.parquet\") \\\n",
        "                  .filter( (col('AcceptedAnswerId').isNotNull()) ) \\\n",
        "                  .orderBy(col('Id')) \\\n",
        "                  .show(n=10, truncate=False)"
      ],
      "metadata": {
        "id": "MCCdQ9N-zjPS",
        "outputId": "b89426ab-88c2-4c6d-e7bc-bdb401521061",
        "colab": {
          "base_uri": "https://localhost:8080/"
        }
      },
      "execution_count": 32,
      "outputs": [
        {
          "output_type": "stream",
          "name": "stdout",
          "text": [
            "+---+--------+----------+----------------+-----------+-----------------------+-----+---------+-----------+------------+-----------------------+------------------------------------------------+-------------------------------------------------------------------+---------------------------------------------------------------------------------------------------------------------------------------------------------------------------------------------------------------------------------------------------------------------------------------------------------------------------------------------------------------------------------------------------------------------------------------------------------------------------------------------------------------------------------+----+-----+---+\n",
            "|Id |ParentId|PostTypeId|AcceptedAnswerId|OwnerUserId|CreationDate           |Score|ViewCount|AnswerCount|CommentCount|LastActivityDate       |Tags                                            |Title                                                              |Body                                                                                                                                                                                                                                                                                                                                                                                                                                                                                                                             |Year|Month|Day|\n",
            "+---+--------+----------+----------------+-----------+-----------------------+-----+---------+-----------+------------+-----------------------+------------------------------------------------+-------------------------------------------------------------------+---------------------------------------------------------------------------------------------------------------------------------------------------------------------------------------------------------------------------------------------------------------------------------------------------------------------------------------------------------------------------------------------------------------------------------------------------------------------------------------------------------------------------------+----+-----+---+\n",
            "|1  |null    |1         |22              |17         |2010-06-30 18:46:26.453|162  |52416    |3          |0           |2018-07-03 20:12:27.46 |<facebook><account-management><facebook-account>|How do I delete my Facebook account?                               |<p>I don't trust Facebook's new privacy settings and have decided to delete my account, but I can't find the kill switch.</p>\\n\\n<p>Does anyone know how I can delete my Facebook account?</p>\\n                                                                                                                                                                                                                                                                                                                                 |2010|6    |30 |\n",
            "|2  |null    |1         |15              |17         |2010-06-30 18:48:59.367|35   |626135   |2          |0           |2020-06-02 14:04:04.68 |<gmail>                                         |How do I delete all my mail from my Gmail account?                 |<p>I want to clear my mail from my Gmail account, but don't feel like selecting every message (also the archived ones).</p>\\n\\n<p>Is there an easy way to delete all my mail from Gmail without having to delete my account?</p>\\n                                                                                                                                                                                                                                                                                               |2010|6    |30 |\n",
            "|3  |null    |1         |45              |17         |2010-06-30 18:53:28.03 |21   |11769    |5          |0           |2016-06-08 08:17:56.687|<outlook><google-calendar><sync>                |How do I sync Google Calendar with my Outlook Calendar?            |<p>At work we use Outlook, but I want an easy way to sync it with my private Google Calendar.</p>\\n\\n<p>However, I tried looking at the Outlook (2010) settings and couldn't find how to make a link.</p>\\n\\n<p>So how do I sync my Google Calendar with my Outlook one?</p>\\n                                                                                                                                                                                                                                                   |2010|6    |30 |\n",
            "|5  |null    |1         |12              |17         |2010-06-30 19:07:36.267|18   |20938    |1          |0           |2017-11-13 16:31:49.43 |<gmail><email-forwarding>                       |Can I auto-forward my Gmail to another address?                    |<p>I'm kind of paranoid about my email and I don't want it to be on Google's servers only. Especially after my account got hacked and all my email got deleted.</p>\\n\\n<p>So I would like to auto-forward my Gmail to another address, but are there any settings I have to enable?</p>\\n                                                                                                                                                                                                                                        |2010|6    |30 |\n",
            "|6  |null    |1         |37              |17         |2010-06-30 19:11:26.07 |8    |566      |3          |0           |2017-10-08 03:59:56.71 |<blogger><wordpress><migrate-data>              |How do I transfer my blog posts from Google's Blogger to WordPress?|<p>I have a blog on Google's Blogger, but now I want to move to WordPress.</p>\\n\\n<p>Is there an easy way to transfer all my old blog posts from Blogger to WordPress?</p>\\n                                                                                                                                                                                                                                                                                                                                                     |2010|6    |30 |\n",
            "|8  |null    |1         |817             |17         |2010-06-30 19:31:04.167|10   |1368     |1          |0           |2015-06-03 00:47:31.897|<picasa-web-albums>                             |Is Picasa's face tag data stored in the photo itself?              |<p>I tagged all my contacts on my Picasa Web Albums, but I was wondering if this data is stored in the photo itself or would I have to retag every picture when I import them to my desktop or share them with someone else?</p>\\n                                                                                                                                                                                                                                                                                               |2010|6    |30 |\n",
            "|9  |null    |1         |120             |17         |2010-06-30 19:32:53.99 |53   |293068   |7          |0           |2017-09-02 19:56:48.813|<twitter><search>                               |How do I search within someone's tweets?                           |<p>I remember Jeff Atwood (<a href=\"https://twitter.com/codinghorror\" rel=\"noreferrer\">@codinghorror</a>) had posted a tweet about a new website, but I can't seem to find the link.</p>\\n\\n<p>Is there any way I can search within someone's tweets to find that link?</p>\\n                                                                                                                                                                                                                                                    |2010|6    |30 |\n",
            "|10 |null    |1         |27              |17         |2010-06-30 19:35:59.537|7    |10675    |4          |0           |2017-12-24 17:09:06.33 |<twitter><permissions><followers>               |How can I control who follows me on Twitter?                       |<p>I tend to get a bunch of emails every week that say:</p>\\n\\n<blockquote>\\n  <p>JaneDoe (JaneDoe343) is now following\\n  your tweets on Twitter.is now\\n  following you.</p>\\n  \\n  <p>A little information about JaneDoe:</p>\\n\\n<pre><code>0 followers\\n1 tweet\\nfollowing 483 people\\n</code></pre>\\n</blockquote>\\n\\n<p>I prefer my followers to be real people, so is there any way I can control who follows me?</p>\\n                                                                                                   |2010|6    |30 |\n",
            "|16 |null    |1         |31              |17         |2010-06-30 20:26:49.057|15   |1003     |4          |0           |2016-11-07 16:10:14.427|<facebook>                                      |How do I make Facebook block a friend’s Mafia Wars updates?        |<p>I like Facebook to connect with friends, but I don't like the way their favorite games spam me.</p>\\n\\n<p>They just keep giving me Mafia Wars updates!</p>\\n\\n<p>Is there any way to block a friend's Mafia Wars update? Or any other Facebook game for that matter.</p>\\n                                                                                                                                                                                                                                                    |2010|6    |30 |\n",
            "|18 |null    |1         |494             |20         |2010-06-30 20:27:07.933|5    |552      |2          |0           |2016-10-15 22:17:54.763|<google-account><openid>                        |Use Google as an OpenID without logging into the rest of it?       |<p>Every time I login to Google as my OpenID I stay signed-in. This can get annoying as I feel safer searching Google without being logged-in, even if my dynamic IP is logged.</p>\\n\\n<p>Obviously I can just immediately go to Google and log-out, but as this is a pain, i'm hoping there's a better way.</p>\\n\\n<p>I know that unchecking <strong>remember me</strong> would stop it persisting across browser sessions, but I don't want to be logged-in when I next go to Google, whether in the same session or not.</p>\\n|2010|6    |30 |\n",
            "+---+--------+----------+----------------+-----------+-----------------------+-----+---------+-----------+------------+-----------------------+------------------------------------------------+-------------------------------------------------------------------+---------------------------------------------------------------------------------------------------------------------------------------------------------------------------------------------------------------------------------------------------------------------------------------------------------------------------------------------------------------------------------------------------------------------------------------------------------------------------------------------------------------------------------+----+-----+---+\n",
            "only showing top 10 rows\n",
            "\n"
          ]
        }
      ]
    },
    {
      "cell_type": "code",
      "source": [
        "jsonString=\"\"\"{\"Zipcode\":704,\\\n",
        "  \"ZipCodeType\":\"STANDARD\",\\\n",
        "  \"City\":\"PARC PARQUE\",\\\n",
        "  \"State\":\"PR\",\\\n",
        "  \"AGE\":40}\"\"\"\n",
        "df=spark.createDataFrame([(1, jsonString)],[\"id\",\"value\"])\n",
        "df.show(truncate=False)\n",
        "\n",
        "from pyspark.sql.types import MapType,StringType\n",
        "\n",
        "df2=df.withColumn(\"value\",from_json(df.value,MapType(StringType(),StringType())))\n",
        "df2.printSchema()\n",
        "df2.show(truncate=False)\n",
        "\n",
        "\n",
        "from pyspark.sql.functions import json_tuple\n",
        "df.select(col(\"id\"),json_tuple(col(\"value\"),\"Zipcode\",\"ZipCodeType\",\"City\", \"AGE\")) \\\n",
        "    .toDF(\"id\",\"Zipcode\",\"ZipCodeType\",\"City\", \"Age\") \\\n",
        "    .show(truncate=False)\n"
      ],
      "metadata": {
        "colab": {
          "base_uri": "https://localhost:8080/"
        },
        "id": "B2UBUO-FD6s0",
        "outputId": "d3fef4e1-25cc-4c75-fd34-94b9a464e1b3"
      },
      "execution_count": 49,
      "outputs": [
        {
          "output_type": "stream",
          "name": "stdout",
          "text": [
            "+---+-------------------------------------------------------------------------------------------+\n",
            "|id |value                                                                                      |\n",
            "+---+-------------------------------------------------------------------------------------------+\n",
            "|1  |{\"Zipcode\":704,  \"ZipCodeType\":\"STANDARD\",  \"City\":\"PARC PARQUE\",  \"State\":\"PR\",  \"AGE\":40}|\n",
            "+---+-------------------------------------------------------------------------------------------+\n",
            "\n",
            "root\n",
            " |-- id: long (nullable = true)\n",
            " |-- value: map (nullable = true)\n",
            " |    |-- key: string\n",
            " |    |-- value: string (valueContainsNull = true)\n",
            "\n",
            "+---+--------------------------------------------------------------------------------------+\n",
            "|id |value                                                                                 |\n",
            "+---+--------------------------------------------------------------------------------------+\n",
            "|1  |{Zipcode -> 704, ZipCodeType -> STANDARD, City -> PARC PARQUE, State -> PR, AGE -> 40}|\n",
            "+---+--------------------------------------------------------------------------------------+\n",
            "\n",
            "+---+-------+-----------+-----------+---+\n",
            "|id |Zipcode|ZipCodeType|City       |Age|\n",
            "+---+-------+-----------+-----------+---+\n",
            "|1  |704    |STANDARD   |PARC PARQUE|40 |\n",
            "+---+-------+-----------+-----------+---+\n",
            "\n"
          ]
        }
      ]
    },
    {
      "cell_type": "code",
      "source": [
        "import pandas as pd\n",
        "import numpy as np\n",
        "from sklearn.model_selection import train_test_split\n",
        "from sklearn.impute import SimpleImputer\n",
        "from sklearn.preprocessing import OneHotEncoder\n",
        "from sklearn.compose import ColumnTransformer\n",
        "from sklearn.linear_model import LogisticRegression\n",
        "from sklearn.metrics import roc_auc_score\n",
        "\n",
        "# Wczytuje dane\n",
        "data = pd.read_csv(\"/content/titanic.csv\", sep=\",\", decimal=\".\").drop(columns=['Name', 'Ticket', 'Cabin', 'Age'])\n",
        "\n",
        "# Usuwam duplikaty\n",
        "data = data.drop_duplicates()\n",
        "\n",
        "# Dzielę dane na część uczącą i testową\n",
        "target_col = \"Survived\"\n",
        "X_train, X_test, y_train, y_test = train_test_split(data.drop(target_col, axis=1), data[target_col], test_size=0.2)\n",
        "\n",
        "print(data.head())\n",
        "print(\"Shape:\", data.shape)\n",
        "print(\"\\nInfo:\")\n",
        "print(data.info())\n",
        "print(\"\\nDescribe:\")\n",
        "print(data.describe())\n",
        "print(data.isna().sum())\n",
        "\n",
        "num_cols = X_train.select_dtypes(include=np.number).columns.tolist()\n",
        "cat_cols = X_train.select_dtypes(exclude=np.number).columns.tolist()\n",
        "\n",
        "num_transformer = SimpleImputer(strategy='median')\n",
        "cat_transformer = SimpleImputer(strategy='most_frequent')\n",
        "X_train_num = pd.DataFrame(num_transformer.fit_transform(X_train[num_cols]), columns=num_cols)\n",
        "X_train_cat = pd.DataFrame(cat_transformer.fit_transform(X_train[cat_cols]), columns=cat_cols)\n",
        "\n",
        "X_train = pd.concat([X_train_num, X_train_cat], axis=1)\n",
        "\n",
        "X_test_num = pd.DataFrame(num_transformer.transform(X_test[num_cols]), columns=num_cols)\n",
        "X_test_cat = pd.DataFrame(cat_transformer.transform(X_test[cat_cols]), columns=cat_cols)\n",
        "\n",
        "X_test = pd.concat([X_test_num, X_test_cat], axis=1)\n",
        "\n",
        "ct = ColumnTransformer(\n",
        "    transformers=[\n",
        "        ('num', num_transformer, num_cols),\n",
        "        ('cat', OneHotEncoder(), cat_cols)\n",
        "    ])\n",
        "ct.fit(pd.concat([X_train, X_test], axis=0))\n",
        "X_train = ct.transform(X_train)\n",
        "X_test = ct.transform(X_test)\n",
        "\n",
        "model = LogisticRegression(max_iter=10000)\n",
        "model.fit(X_train, y_train)\n",
        "\n",
        "pred_tr = model.predict_proba(X_train)[:, 1]\n",
        "pred_te = model.predict_proba(X_test)[:, 1]\n",
        "\n",
        "auc_tr = roc_auc_score(y_train, pred_tr) * 100\n",
        "auc_te = roc_auc_score(y_test, pred_te) * 100\n",
        "\n",
        "print(np.round([auc_tr, auc_te], 2))\n",
        "\n",
        "//https://mateuszgrzyb.pl/klasyfikacja-z-uzyciem-glebokiej-sieci-neuronowej/"
      ],
      "metadata": {
        "colab": {
          "base_uri": "https://localhost:8080/"
        },
        "id": "sAo5JekausTe",
        "outputId": "a25844cf-2392-435b-c8b6-52dcf329045e"
      },
      "execution_count": 24,
      "outputs": [
        {
          "output_type": "stream",
          "name": "stdout",
          "text": [
            "   PassengerId  Survived  Pclass     Sex  SibSp  Parch     Fare Embarked\n",
            "0            1         0       3    male      1      0   7.2500        S\n",
            "1            2         1       1  female      1      0  71.2833        C\n",
            "2            3         1       3  female      0      0   7.9250        S\n",
            "3            4         1       1  female      1      0  53.1000        S\n",
            "4            5         0       3    male      0      0   8.0500        S\n",
            "Shape: (891, 8)\n",
            "\n",
            "Info:\n",
            "<class 'pandas.core.frame.DataFrame'>\n",
            "Int64Index: 891 entries, 0 to 890\n",
            "Data columns (total 8 columns):\n",
            " #   Column       Non-Null Count  Dtype  \n",
            "---  ------       --------------  -----  \n",
            " 0   PassengerId  891 non-null    int64  \n",
            " 1   Survived     891 non-null    int64  \n",
            " 2   Pclass       891 non-null    int64  \n",
            " 3   Sex          891 non-null    object \n",
            " 4   SibSp        891 non-null    int64  \n",
            " 5   Parch        891 non-null    int64  \n",
            " 6   Fare         891 non-null    float64\n",
            " 7   Embarked     889 non-null    object \n",
            "dtypes: float64(1), int64(5), object(2)\n",
            "memory usage: 62.6+ KB\n",
            "None\n",
            "\n",
            "Describe:\n",
            "       PassengerId    Survived      Pclass       SibSp       Parch        Fare\n",
            "count   891.000000  891.000000  891.000000  891.000000  891.000000  891.000000\n",
            "mean    446.000000    0.383838    2.308642    0.523008    0.381594   32.204208\n",
            "std     257.353842    0.486592    0.836071    1.102743    0.806057   49.693429\n",
            "min       1.000000    0.000000    1.000000    0.000000    0.000000    0.000000\n",
            "25%     223.500000    0.000000    2.000000    0.000000    0.000000    7.910400\n",
            "50%     446.000000    0.000000    3.000000    0.000000    0.000000   14.454200\n",
            "75%     668.500000    1.000000    3.000000    1.000000    0.000000   31.000000\n",
            "max     891.000000    1.000000    3.000000    8.000000    6.000000  512.329200\n",
            "PassengerId    0\n",
            "Survived       0\n",
            "Pclass         0\n",
            "Sex            0\n",
            "SibSp          0\n",
            "Parch          0\n",
            "Fare           0\n",
            "Embarked       2\n",
            "dtype: int64\n",
            "[84.3  84.84]\n"
          ]
        }
      ]
    },
    {
      "cell_type": "code",
      "source": [
        "#postsDFAnalize4J = spark.read.parquet(\"/content/output/posts.parquet\").filter( (col('Id')==157305) | (col('ParentId') ==157305) | (col('Id') ==157313)  ).show(n=10, truncate=False)\n",
        "#postsDFAnalize4J = spark.read.parquet(\"/content/output/posts.parquet\").filter(col('ParentId') == 1096).show(n=10, truncate=False)\n",
        "#votesDFAnalize4J = spark.read.parquet(\"/content/output/votes.parquet\").filter(col('PostId') == 157305).show(n=10, truncate=False)\n",
        "#tagsDFAnalize4J = spark.read.parquet(\"/content/output/posthistory.parquet\").filter(col('PostId') == 157305).show(n=10, truncate=False)\n",
        "#3tagsDFAnalize4J = spark.read.parquet(\"/content/output/users.parquet\").filter( (col('Id') == 44960 ) | (col('Id') == 10917) ).show(n=10, truncate=False)\n",
        "\n",
        "#312\n",
        "#1096\n",
        "\n",
        "# postsDFAnalize4j = spark.read.parquet(\"/content/output/posts.parquet\") \\\n",
        "#     .cache() \\\n",
        "#     .show(n=10, truncate=False)\n",
        "\n",
        "\n",
        "#GRUPOWANIE\n",
        "\n",
        "#display(pdDF)\n",
        "\n",
        "# postsDF1 \\\n",
        "#   .withColumn('word', explode(f.split(f.col('Description'), ' ')))\\\n",
        "#   .groupBy('word')\\\n",
        "#   .count()\\\n",
        "#   .sort('count', ascending=False)\\\n",
        "#   .show()\n",
        "\n",
        "# import pandas as pd\n",
        "# import matplotlib.pyplot as plt\n",
        "\n",
        "# plotdata = pd.DataFrame({\n",
        "#     \"2010\":[18,13,10,19, 11], #MIESIĄC/ILOŚĆ\n",
        "#     \"2017\":[7,7,7,3, 33],\n",
        "#     \"2018\":[57,67,77,83, 32],\n",
        "#     \"2019\":[68,73,80,79, 32],\n",
        "#     \"2020\":[73,78,80,85, 34]},\n",
        "#     index=[\"Django\", \"Gafur\", \"Tommy\", \"Ronnie\", \"Python\"]) #LATA\n",
        "# plotdata.plot(kind='bar', stacked=True, figsize=(15, 8))\n",
        "\n",
        "# plt.title(\"Post ratings\")\n",
        "\n",
        "# plt.xlabel(\"Years\")\n",
        "\n",
        "# plt.ylabel(\"Number of posts\")\n",
        "\n",
        "#plt.bar(df['Year'], df['Sample Size'])\n",
        "#plt.plot(plotdata['2017'], plotdata[7,7,7,3], '-o', color='orange')\n",
        "#https://www.dataquest.io/blog/how-to-plot-a-bar-graph-matplotlib/\n",
        "\n",
        "# from plotly.subplots import make_subplots\n",
        "\n",
        "# speed = [0.1, 17.5, 40, 48, 52, 69, 88]\n",
        "# lifespan = [2, 8, 70, 1.5, 25, 12, 28]\n",
        "# index = ['snail', 'pig', 'elephant', 'rabbit', 'giraffe', 'coyote', 'horse']\n",
        "# df = pd.DataFrame({'speed': speed,'lifespan': lifespan}, index=index)\n",
        "# df.plot.bar()\n",
        "\n",
        "\n",
        "import pyspark\n",
        "from pyspark.sql import SparkSession\n",
        "from pyspark.sql.functions import col,sum,avg,max\n",
        "\n",
        "spark = SparkSession.builder.appName('SparkByExamples.com').getOrCreate()\n",
        "\n",
        "simpleData = [(\"James\",\"Sales\",\"NY\",90000,34,10000),\n",
        "    (\"Michael\",\"Sales\",\"NY\",86000,56,20000),\n",
        "    (\"Robert\",\"Sales\",\"CA\",81000,30,23000),\n",
        "    (\"Maria\",\"Finance\",\"CA\",90000,24,23000),\n",
        "    (\"Raman\",\"Finance\",\"CA\",99000,40,24000),\n",
        "    (\"Scott\",\"Finance\",\"NY\",83000,36,19000),\n",
        "    (\"Jen\",\"Finance\",\"NY\",79000,53,15000),\n",
        "    (\"Jeff\",\"Marketing\",\"CA\",80000,25,18000),\n",
        "    (\"Kumar\",\"Marketing\",\"NY\",91000,50,21000)\n",
        "  ]\n",
        "\n",
        "schema = [\"employee_name\",\"department\",\"state\",\"salary\",\"age\",\"bonus\"]\n",
        "df = spark.createDataFrame(data=simpleData, schema = schema)\n",
        "df.printSchema()\n",
        "df.show(truncate=False)\n",
        "\n",
        "df.groupBy(\"department\").sum(\"salary\").show(truncate=False)\n",
        "\n",
        "df.groupBy(\"department\").count().show(truncate=False)\n",
        "\n",
        "\n",
        "df.groupBy(\"department\",\"state\") \\\n",
        "    .sum(\"salary\",\"bonus\") \\\n",
        "   .show(truncate=False)\n",
        "\n",
        "df.groupBy(\"department\") \\\n",
        "    .agg(sum(\"salary\").alias(\"sum_salary\"), \\\n",
        "         avg(\"salary\").alias(\"avg_salary\"), \\\n",
        "         sum(\"bonus\").alias(\"sum_bonus\"), \\\n",
        "         max(\"bonus\").alias(\"max_bonus\") \\\n",
        "     ) \\\n",
        "    .show(truncate=False)\n",
        "\n",
        "df.groupBy(\"department\") \\\n",
        "    .agg(sum(\"salary\").alias(\"sum_salary\"), \\\n",
        "      avg(\"salary\").alias(\"avg_salary\"), \\\n",
        "      sum(\"bonus\").alias(\"sum_bonus\"), \\\n",
        "      max(\"bonus\").alias(\"max_bonus\")) \\\n",
        "    .where(col(\"sum_bonus\") >= 50000) \\\n",
        "    .show(truncate=False)"
      ],
      "metadata": {
        "id": "f3Q2FpjotfMY",
        "outputId": "070d6361-10e0-4581-accb-565b9f410d6d",
        "colab": {
          "base_uri": "https://localhost:8080/"
        }
      },
      "execution_count": 33,
      "outputs": [
        {
          "output_type": "stream",
          "name": "stdout",
          "text": [
            "root\n",
            " |-- employee_name: string (nullable = true)\n",
            " |-- department: string (nullable = true)\n",
            " |-- state: string (nullable = true)\n",
            " |-- salary: long (nullable = true)\n",
            " |-- age: long (nullable = true)\n",
            " |-- bonus: long (nullable = true)\n",
            "\n",
            "+-------------+----------+-----+------+---+-----+\n",
            "|employee_name|department|state|salary|age|bonus|\n",
            "+-------------+----------+-----+------+---+-----+\n",
            "|James        |Sales     |NY   |90000 |34 |10000|\n",
            "|Michael      |Sales     |NY   |86000 |56 |20000|\n",
            "|Robert       |Sales     |CA   |81000 |30 |23000|\n",
            "|Maria        |Finance   |CA   |90000 |24 |23000|\n",
            "|Raman        |Finance   |CA   |99000 |40 |24000|\n",
            "|Scott        |Finance   |NY   |83000 |36 |19000|\n",
            "|Jen          |Finance   |NY   |79000 |53 |15000|\n",
            "|Jeff         |Marketing |CA   |80000 |25 |18000|\n",
            "|Kumar        |Marketing |NY   |91000 |50 |21000|\n",
            "+-------------+----------+-----+------+---+-----+\n",
            "\n",
            "+----------+-----------+\n",
            "|department|sum(salary)|\n",
            "+----------+-----------+\n",
            "|Sales     |257000     |\n",
            "|Finance   |351000     |\n",
            "|Marketing |171000     |\n",
            "+----------+-----------+\n",
            "\n",
            "+----------+-----+\n",
            "|department|count|\n",
            "+----------+-----+\n",
            "|Sales     |3    |\n",
            "|Finance   |4    |\n",
            "|Marketing |2    |\n",
            "+----------+-----+\n",
            "\n",
            "+----------+-----+-----------+----------+\n",
            "|department|state|sum(salary)|sum(bonus)|\n",
            "+----------+-----+-----------+----------+\n",
            "|Sales     |CA   |81000      |23000     |\n",
            "|Finance   |CA   |189000     |47000     |\n",
            "|Sales     |NY   |176000     |30000     |\n",
            "|Finance   |NY   |162000     |34000     |\n",
            "|Marketing |NY   |91000      |21000     |\n",
            "|Marketing |CA   |80000      |18000     |\n",
            "+----------+-----+-----------+----------+\n",
            "\n",
            "+----------+----------+-----------------+---------+---------+\n",
            "|department|sum_salary|avg_salary       |sum_bonus|max_bonus|\n",
            "+----------+----------+-----------------+---------+---------+\n",
            "|Sales     |257000    |85666.66666666667|53000    |23000    |\n",
            "|Finance   |351000    |87750.0          |81000    |24000    |\n",
            "|Marketing |171000    |85500.0          |39000    |21000    |\n",
            "+----------+----------+-----------------+---------+---------+\n",
            "\n",
            "+----------+----------+-----------------+---------+---------+\n",
            "|department|sum_salary|avg_salary       |sum_bonus|max_bonus|\n",
            "+----------+----------+-----------------+---------+---------+\n",
            "|Sales     |257000    |85666.66666666667|53000    |23000    |\n",
            "|Finance   |351000    |87750.0          |81000    |24000    |\n",
            "+----------+----------+-----------------+---------+---------+\n",
            "\n"
          ]
        }
      ]
    }
  ]
}
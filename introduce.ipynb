{
  "nbformat": 4,
  "nbformat_minor": 0,
  "metadata": {
    "colab": {
      "provenance": [],
      "authorship_tag": "ABX9TyPgcvpZNKCspcsLiaaxo3gv",
      "include_colab_link": true
    },
    "kernelspec": {
      "name": "python3",
      "display_name": "Python 3"
    },
    "language_info": {
      "name": "python"
    },
    "gpuClass": "standard"
  },
  "cells": [
    {
      "cell_type": "markdown",
      "metadata": {
        "id": "view-in-github",
        "colab_type": "text"
      },
      "source": [
        "<a href=\"https://colab.research.google.com/github/andyradz/aplios.solutions/blob/master/introduce.ipynb\" target=\"_parent\"><img src=\"https://colab.research.google.com/assets/colab-badge.svg\" alt=\"Open In Colab\"/></a>"
      ]
    },
    {
      "cell_type": "markdown",
      "source": [
        "# AR-DiplomaWorkspace"
      ],
      "metadata": {
        "id": "D8heaOw48eGP"
      }
    },
    {
      "cell_type": "markdown",
      "source": [
        "# Environment configuration"
      ],
      "metadata": {
        "id": "R2G-8VGrXlt9"
      }
    },
    {
      "cell_type": "markdown",
      "source": [
        "#### MOUNT GOOGLE DRIVE VOLUME"
      ],
      "metadata": {
        "id": "JoFm2ebZ8wMP"
      }
    },
    {
      "cell_type": "markdown",
      "source": [],
      "metadata": {
        "id": "RS4fTjK-8s-X"
      }
    },
    {
      "cell_type": "code",
      "execution_count": 87,
      "metadata": {
        "colab": {
          "base_uri": "https://localhost:8080/"
        },
        "id": "HNEHQd6EtyLP",
        "outputId": "9f8c16d4-f90d-4f05-8de6-d82a737e5bbe"
      },
      "outputs": [
        {
          "output_type": "stream",
          "name": "stdout",
          "text": [
            "Drive already mounted at /content/gdrive; to attempt to forcibly remount, call drive.mount(\"/content/gdrive\", force_remount=True).\n"
          ]
        }
      ],
      "source": [
        "## MOUNT GOOGLE DRIVE VOLUME\n",
        "\n",
        "from google.colab import drive\n",
        "drive.mount('/content/gdrive')"
      ]
    },
    {
      "cell_type": "markdown",
      "source": [
        "#### LIST GOOGLE DRIVE VOLUME"
      ],
      "metadata": {
        "id": "VRENRNID9FHj"
      }
    },
    {
      "cell_type": "markdown",
      "source": [],
      "metadata": {
        "id": "hbqb3Ems-2q3"
      }
    },
    {
      "cell_type": "code",
      "source": [
        "## LIST GOOGLE DRIVE VOLUME\n",
        "!ls -laFtA --full-time /content/gdrive \n",
        "\n",
        "### CREATE REQUIRED DATA FOLDERS\n",
        "\n",
        "!mkdir input\n",
        "!mkdir output"
      ],
      "metadata": {
        "colab": {
          "base_uri": "https://localhost:8080/"
        },
        "id": "lS9HUpvUuiZE",
        "outputId": "e5093750-5bc5-4488-dafc-32e345b1ed73"
      },
      "execution_count": 88,
      "outputs": [
        {
          "output_type": "stream",
          "name": "stdout",
          "text": [
            "total 16\n",
            "dr-x------  2 root root 4096 2023-01-08 11:34:35.000000000 +0000 .file-revisions-by-id/\n",
            "drwx------ 22 root root 4096 2023-01-08 11:34:35.000000000 +0000 MyDrive/\n",
            "dr-x------  2 root root 4096 2023-01-08 11:34:35.000000000 +0000 .shortcut-targets-by-id/\n",
            "drwx------  5 root root 4096 2023-01-08 11:34:35.000000000 +0000 .Trash-0/\n",
            "mkdir: cannot create directory ‘input’: File exists\n",
            "mkdir: cannot create directory ‘output’: File exists\n"
          ]
        }
      ]
    },
    {
      "cell_type": "code",
      "source": [
        "### DOWNLOAD AND INSTALL JAVA VIRTUAL MACHINE(JVM)\n",
        "\n",
        "!apt-get install openjdk-8-jdk-headless -qq > /dev/null"
      ],
      "metadata": {
        "id": "l07_EefG9i9t"
      },
      "execution_count": 89,
      "outputs": []
    },
    {
      "cell_type": "code",
      "source": [
        "### DOWNLOAD APACHE SPARK AND HADOOP ENVIRONMENT\n",
        "!wget https://dlcdn.apache.org/spark/spark-3.3.1/spark-3.3.1-bin-hadoop3.tgz > /dev/null\n",
        "\n",
        "### UNZIP SPARK ENVIRONMENT\n",
        "!tar xf spark-3.3.1-bin-hadoop3.tgz > /dev/null"
      ],
      "metadata": {
        "colab": {
          "base_uri": "https://localhost:8080/"
        },
        "id": "hErp8jy39pHI",
        "outputId": "199c3e45-6a13-4e28-8d24-38b938223eac"
      },
      "execution_count": 90,
      "outputs": [
        {
          "output_type": "stream",
          "name": "stdout",
          "text": [
            "--2023-01-08 13:44:01--  https://dlcdn.apache.org/spark/spark-3.3.1/spark-3.3.1-bin-hadoop3.tgz\n",
            "Resolving dlcdn.apache.org (dlcdn.apache.org)... 151.101.2.132, 2a04:4e42::644\n",
            "Connecting to dlcdn.apache.org (dlcdn.apache.org)|151.101.2.132|:443... connected.\n",
            "HTTP request sent, awaiting response... 200 OK\n",
            "Length: 299350810 (285M) [application/x-gzip]\n",
            "Saving to: ‘spark-3.3.1-bin-hadoop3.tgz.1’\n",
            "\n",
            "spark-3.3.1-bin-had 100%[===================>] 285.48M   209MB/s    in 1.4s    \n",
            "\n",
            "2023-01-08 13:44:02 (209 MB/s) - ‘spark-3.3.1-bin-hadoop3.tgz.1’ saved [299350810/299350810]\n",
            "\n"
          ]
        }
      ]
    },
    {
      "cell_type": "code",
      "source": [
        "### SET SYSTEM VARIABLES FOR PYSPARK\n",
        "\n",
        "import os\n",
        "os.environ[\"JAVA_HOME\"] = \"/usr/lib/jvm/java-8-openjdk-amd64\"\n",
        "os.environ[\"SPARK_HOME\"] = '/content/spark-3.3.1-bin-hadoop3'\n",
        "os.environ['PYSPARK_SUBMIT_ARGS'] = '---jars /content/spark-3.3.1-bin-hadoop3/jars/spark-xml_2.12-0.11.0.jar pyspark-shell'"
      ],
      "metadata": {
        "id": "KHhDUqQ-9uU4"
      },
      "execution_count": 91,
      "outputs": []
    },
    {
      "cell_type": "code",
      "source": [
        "### INSTALL PYSPARK ENVIRONMENT\n",
        "!pip install -q pyspark > /dev/null\n",
        "\n",
        "### INSTALL LIBRARY FIND PYSPARK\n",
        "!pip install -q findspark > /dev/null\n",
        "\n",
        "### INITIAL PYSPARK ENVIRONMENT\n",
        "import findspark\n",
        "findspark.init()\n",
        "\n",
        "### CHECK PYSPARK LOCATION\n",
        "findspark.find()\n"
      ],
      "metadata": {
        "colab": {
          "base_uri": "https://localhost:8080/",
          "height": 36
        },
        "id": "L2jBbISv9zh2",
        "outputId": "b3567ad9-ade0-4279-a6f2-c581d31d4fc1"
      },
      "execution_count": 92,
      "outputs": [
        {
          "output_type": "execute_result",
          "data": {
            "text/plain": [
              "'/content/spark-3.3.1-bin-hadoop3'"
            ],
            "application/vnd.google.colaboratory.intrinsic+json": {
              "type": "string"
            }
          },
          "metadata": {},
          "execution_count": 92
        }
      ]
    },
    {
      "cell_type": "code",
      "source": [
        "!sudo apt install --assume-yes p7zip-full\n",
        "\n",
        "!type(7z)"
      ],
      "metadata": {
        "colab": {
          "base_uri": "https://localhost:8080/"
        },
        "id": "JmWAJ2d7vOPp",
        "outputId": "42746fcf-3f57-4fe0-b215-c7819205b1ab"
      },
      "execution_count": 93,
      "outputs": [
        {
          "output_type": "stream",
          "name": "stdout",
          "text": [
            "Reading package lists... Done\n",
            "Building dependency tree       \n",
            "Reading state information... Done\n",
            "p7zip-full is already the newest version (16.02+dfsg-6).\n",
            "The following package was automatically installed and is no longer required:\n",
            "  libnvidia-common-460\n",
            "Use 'sudo apt autoremove' to remove it.\n",
            "0 upgraded, 0 newly installed, 0 to remove and 21 not upgraded.\n",
            "/bin/bash: -c: line 0: syntax error near unexpected token `7z'\n",
            "/bin/bash: -c: line 0: `type(7z)'\n"
          ]
        }
      ]
    },
    {
      "cell_type": "code",
      "source": [
        "### LIST PYTHON INSTALLED PACKAGES\n",
        "\n",
        "!pip3 list -v\n"
      ],
      "metadata": {
        "id": "21B8dajJ-Bm2",
        "colab": {
          "base_uri": "https://localhost:8080/"
        },
        "outputId": "4c7007f7-06cc-48ff-a171-182d53ec13b7"
      },
      "execution_count": 94,
      "outputs": [
        {
          "output_type": "stream",
          "name": "stdout",
          "text": [
            "Package                       Version                Location                               Installer\n",
            "----------------------------- ---------------------- -------------------------------------- ---------\n",
            "absl-py                       1.3.0                  /usr/local/lib/python3.8/dist-packages pip\n",
            "aeppl                         0.0.33                 /usr/local/lib/python3.8/dist-packages pip\n",
            "aesara                        2.7.9                  /usr/local/lib/python3.8/dist-packages pip\n",
            "aiohttp                       3.8.3                  /usr/local/lib/python3.8/dist-packages pip\n",
            "aiosignal                     1.3.1                  /usr/local/lib/python3.8/dist-packages pip\n",
            "alabaster                     0.7.12                 /usr/local/lib/python3.8/dist-packages pip\n",
            "albumentations                1.2.1                  /usr/local/lib/python3.8/dist-packages pip\n",
            "altair                        4.2.0                  /usr/local/lib/python3.8/dist-packages pip\n",
            "appdirs                       1.4.4                  /usr/local/lib/python3.8/dist-packages pip\n",
            "arviz                         0.12.1                 /usr/local/lib/python3.8/dist-packages pip\n",
            "astor                         0.8.1                  /usr/local/lib/python3.8/dist-packages pip\n",
            "astropy                       4.3.1                  /usr/local/lib/python3.8/dist-packages pip\n",
            "astunparse                    1.6.3                  /usr/local/lib/python3.8/dist-packages pip\n",
            "async-timeout                 4.0.2                  /usr/local/lib/python3.8/dist-packages pip\n",
            "atari-py                      0.2.9                  /usr/local/lib/python3.8/dist-packages pip\n",
            "atomicwrites                  1.4.1                  /usr/local/lib/python3.8/dist-packages pip\n",
            "attrs                         22.2.0                 /usr/local/lib/python3.8/dist-packages pip\n",
            "audioread                     3.0.0                  /usr/local/lib/python3.8/dist-packages pip\n",
            "autograd                      1.5                    /usr/local/lib/python3.8/dist-packages pip\n",
            "Babel                         2.11.0                 /usr/local/lib/python3.8/dist-packages pip\n",
            "backcall                      0.2.0                  /usr/local/lib/python3.8/dist-packages pip\n",
            "beautifulsoup4                4.6.3                  /usr/local/lib/python3.8/dist-packages pip\n",
            "bleach                        5.0.1                  /usr/local/lib/python3.8/dist-packages pip\n",
            "blis                          0.7.9                  /usr/local/lib/python3.8/dist-packages pip\n",
            "bokeh                         2.3.3                  /usr/local/lib/python3.8/dist-packages pip\n",
            "branca                        0.6.0                  /usr/local/lib/python3.8/dist-packages pip\n",
            "bs4                           0.0.1                  /usr/local/lib/python3.8/dist-packages pip\n",
            "CacheControl                  0.12.11                /usr/local/lib/python3.8/dist-packages pip\n",
            "cachetools                    5.2.0                  /usr/local/lib/python3.8/dist-packages pip\n",
            "catalogue                     2.0.8                  /usr/local/lib/python3.8/dist-packages pip\n",
            "certifi                       2022.12.7              /usr/local/lib/python3.8/dist-packages pip\n",
            "cffi                          1.15.1                 /usr/local/lib/python3.8/dist-packages pip\n",
            "cftime                        1.6.2                  /usr/local/lib/python3.8/dist-packages pip\n",
            "chardet                       4.0.0                  /usr/local/lib/python3.8/dist-packages pip\n",
            "charset-normalizer            2.1.1                  /usr/local/lib/python3.8/dist-packages pip\n",
            "click                         7.1.2                  /usr/local/lib/python3.8/dist-packages pip\n",
            "clikit                        0.6.2                  /usr/local/lib/python3.8/dist-packages pip\n",
            "cloudpickle                   1.5.0                  /usr/local/lib/python3.8/dist-packages pip\n",
            "cmake                         3.22.6                 /usr/local/lib/python3.8/dist-packages pip\n",
            "cmdstanpy                     1.0.8                  /usr/local/lib/python3.8/dist-packages pip\n",
            "colorcet                      3.0.1                  /usr/local/lib/python3.8/dist-packages pip\n",
            "colorlover                    0.3.0                  /usr/local/lib/python3.8/dist-packages pip\n",
            "community                     1.0.0b1                /usr/local/lib/python3.8/dist-packages pip\n",
            "confection                    0.0.3                  /usr/local/lib/python3.8/dist-packages pip\n",
            "cons                          0.4.5                  /usr/local/lib/python3.8/dist-packages pip\n",
            "contextlib2                   0.5.5                  /usr/local/lib/python3.8/dist-packages pip\n",
            "convertdate                   2.4.0                  /usr/local/lib/python3.8/dist-packages pip\n",
            "crashtest                     0.3.1                  /usr/local/lib/python3.8/dist-packages pip\n",
            "crcmod                        1.7                    /usr/local/lib/python3.8/dist-packages pip\n",
            "cufflinks                     0.17.3                 /usr/local/lib/python3.8/dist-packages pip\n",
            "cvxopt                        1.3.0                  /usr/local/lib/python3.8/dist-packages pip\n",
            "cvxpy                         1.2.2                  /usr/local/lib/python3.8/dist-packages pip\n",
            "cycler                        0.11.0                 /usr/local/lib/python3.8/dist-packages pip\n",
            "cymem                         2.0.7                  /usr/local/lib/python3.8/dist-packages pip\n",
            "Cython                        0.29.32                /usr/local/lib/python3.8/dist-packages pip\n",
            "daft                          0.0.4                  /usr/local/lib/python3.8/dist-packages pip\n",
            "dask                          2022.2.1               /usr/local/lib/python3.8/dist-packages pip\n",
            "datascience                   0.17.5                 /usr/local/lib/python3.8/dist-packages pip\n",
            "db-dtypes                     1.0.5                  /usr/local/lib/python3.8/dist-packages pip\n",
            "debugpy                       1.0.0                  /usr/local/lib/python3.8/dist-packages pip\n",
            "decorator                     4.4.2                  /usr/local/lib/python3.8/dist-packages pip\n",
            "defusedxml                    0.7.1                  /usr/local/lib/python3.8/dist-packages pip\n",
            "descartes                     1.1.0                  /usr/local/lib/python3.8/dist-packages pip\n",
            "dill                          0.3.6                  /usr/local/lib/python3.8/dist-packages pip\n",
            "distributed                   2022.2.1               /usr/local/lib/python3.8/dist-packages pip\n",
            "dlib                          19.24.0                /usr/local/lib/python3.8/dist-packages pip\n",
            "dm-tree                       0.1.8                  /usr/local/lib/python3.8/dist-packages pip\n",
            "dnspython                     2.2.1                  /usr/local/lib/python3.8/dist-packages pip\n",
            "docutils                      0.17.1                 /usr/local/lib/python3.8/dist-packages pip\n",
            "dopamine-rl                   1.0.5                  /usr/local/lib/python3.8/dist-packages pip\n",
            "earthengine-api               0.1.335                /usr/local/lib/python3.8/dist-packages pip\n",
            "easydict                      1.10                   /usr/local/lib/python3.8/dist-packages pip\n",
            "ecos                          2.0.11                 /usr/local/lib/python3.8/dist-packages pip\n",
            "editdistance                  0.5.3                  /usr/local/lib/python3.8/dist-packages pip\n",
            "en-core-web-sm                3.4.1                  /usr/local/lib/python3.8/dist-packages pip\n",
            "entrypoints                   0.4                    /usr/local/lib/python3.8/dist-packages pip\n",
            "ephem                         4.1.4                  /usr/local/lib/python3.8/dist-packages pip\n",
            "et-xmlfile                    1.1.0                  /usr/local/lib/python3.8/dist-packages pip\n",
            "etils                         0.9.0                  /usr/local/lib/python3.8/dist-packages pip\n",
            "etuples                       0.3.8                  /usr/local/lib/python3.8/dist-packages pip\n",
            "fa2                           0.3.5                  /usr/local/lib/python3.8/dist-packages pip\n",
            "fastai                        2.7.10                 /usr/local/lib/python3.8/dist-packages pip\n",
            "fastcore                      1.5.27                 /usr/local/lib/python3.8/dist-packages pip\n",
            "fastdownload                  0.0.7                  /usr/local/lib/python3.8/dist-packages pip\n",
            "fastdtw                       0.3.4                  /usr/local/lib/python3.8/dist-packages pip\n",
            "fastjsonschema                2.16.2                 /usr/local/lib/python3.8/dist-packages pip\n",
            "fastprogress                  1.0.3                  /usr/local/lib/python3.8/dist-packages pip\n",
            "fastrlock                     0.8.1                  /usr/local/lib/python3.8/dist-packages pip\n",
            "feather-format                0.4.1                  /usr/local/lib/python3.8/dist-packages pip\n",
            "filelock                      3.8.2                  /usr/local/lib/python3.8/dist-packages pip\n",
            "findspark                     2.0.1                  /usr/local/lib/python3.8/dist-packages pip\n",
            "firebase-admin                5.3.0                  /usr/local/lib/python3.8/dist-packages pip\n",
            "fix-yahoo-finance             0.0.22                 /usr/local/lib/python3.8/dist-packages pip\n",
            "Flask                         1.1.4                  /usr/local/lib/python3.8/dist-packages pip\n",
            "flatbuffers                   1.12                   /usr/local/lib/python3.8/dist-packages pip\n",
            "folium                        0.12.1.post1           /usr/local/lib/python3.8/dist-packages pip\n",
            "frozenlist                    1.3.3                  /usr/local/lib/python3.8/dist-packages pip\n",
            "fsspec                        2022.11.0              /usr/local/lib/python3.8/dist-packages pip\n",
            "future                        0.16.0                 /usr/local/lib/python3.8/dist-packages pip\n",
            "gast                          0.4.0                  /usr/local/lib/python3.8/dist-packages pip\n",
            "GDAL                          2.2.3                  /usr/local/lib/python3.8/dist-packages pip\n",
            "gdown                         4.4.0                  /usr/local/lib/python3.8/dist-packages pip\n",
            "gensim                        3.6.0                  /usr/local/lib/python3.8/dist-packages pip\n",
            "geographiclib                 1.52                   /usr/local/lib/python3.8/dist-packages pip\n",
            "geopy                         1.17.0                 /usr/local/lib/python3.8/dist-packages pip\n",
            "gin-config                    0.5.0                  /usr/local/lib/python3.8/dist-packages pip\n",
            "glob2                         0.7                    /usr/local/lib/python3.8/dist-packages pip\n",
            "google                        2.0.3                  /usr/local/lib/python3.8/dist-packages pip\n",
            "google-api-core               2.11.0                 /usr/local/lib/python3.8/dist-packages pip\n",
            "google-api-python-client      2.70.0                 /usr/local/lib/python3.8/dist-packages pip\n",
            "google-auth                   2.15.0                 /usr/local/lib/python3.8/dist-packages pip\n",
            "google-auth-httplib2          0.1.0                  /usr/local/lib/python3.8/dist-packages pip\n",
            "google-auth-oauthlib          0.4.6                  /usr/local/lib/python3.8/dist-packages pip\n",
            "google-cloud-bigquery         3.4.1                  /usr/local/lib/python3.8/dist-packages pip\n",
            "google-cloud-bigquery-storage 2.17.0                 /usr/local/lib/python3.8/dist-packages pip\n",
            "google-cloud-core             2.3.2                  /usr/local/lib/python3.8/dist-packages pip\n",
            "google-cloud-datastore        2.11.0                 /usr/local/lib/python3.8/dist-packages pip\n",
            "google-cloud-firestore        2.7.3                  /usr/local/lib/python3.8/dist-packages pip\n",
            "google-cloud-language         2.6.1                  /usr/local/lib/python3.8/dist-packages pip\n",
            "google-cloud-storage          2.7.0                  /usr/local/lib/python3.8/dist-packages pip\n",
            "google-cloud-translate        3.8.4                  /usr/local/lib/python3.8/dist-packages pip\n",
            "google-colab                  1.0.0                  /usr/local/lib/python3.8/dist-packages pip\n",
            "google-crc32c                 1.5.0                  /usr/local/lib/python3.8/dist-packages pip\n",
            "google-pasta                  0.2.0                  /usr/local/lib/python3.8/dist-packages pip\n",
            "google-resumable-media        2.4.0                  /usr/local/lib/python3.8/dist-packages pip\n",
            "googleapis-common-protos      1.57.0                 /usr/local/lib/python3.8/dist-packages pip\n",
            "googledrivedownloader         0.4                    /usr/local/lib/python3.8/dist-packages pip\n",
            "graphviz                      0.10.1                 /usr/local/lib/python3.8/dist-packages pip\n",
            "greenlet                      2.0.1                  /usr/local/lib/python3.8/dist-packages pip\n",
            "grpcio                        1.51.1                 /usr/local/lib/python3.8/dist-packages pip\n",
            "grpcio-status                 1.48.2                 /usr/local/lib/python3.8/dist-packages pip\n",
            "gspread                       3.4.2                  /usr/local/lib/python3.8/dist-packages pip\n",
            "gspread-dataframe             3.0.8                  /usr/local/lib/python3.8/dist-packages pip\n",
            "gym                           0.25.2                 /usr/local/lib/python3.8/dist-packages pip\n",
            "gym-notices                   0.0.8                  /usr/local/lib/python3.8/dist-packages pip\n",
            "h5py                          3.1.0                  /usr/local/lib/python3.8/dist-packages pip\n",
            "HeapDict                      1.0.1                  /usr/local/lib/python3.8/dist-packages pip\n",
            "hijri-converter               2.2.4                  /usr/local/lib/python3.8/dist-packages pip\n",
            "holidays                      0.17.2                 /usr/local/lib/python3.8/dist-packages pip\n",
            "holoviews                     1.14.9                 /usr/local/lib/python3.8/dist-packages pip\n",
            "html5lib                      1.0.1                  /usr/local/lib/python3.8/dist-packages pip\n",
            "httpimport                    0.5.18                 /usr/local/lib/python3.8/dist-packages pip\n",
            "httplib2                      0.17.4                 /usr/local/lib/python3.8/dist-packages pip\n",
            "httpstan                      4.6.1                  /usr/local/lib/python3.8/dist-packages pip\n",
            "humanize                      0.5.1                  /usr/local/lib/python3.8/dist-packages pip\n",
            "hyperopt                      0.1.2                  /usr/local/lib/python3.8/dist-packages pip\n",
            "idna                          2.10                   /usr/local/lib/python3.8/dist-packages pip\n",
            "imageio                       2.9.0                  /usr/local/lib/python3.8/dist-packages pip\n",
            "imagesize                     1.4.1                  /usr/local/lib/python3.8/dist-packages pip\n",
            "imbalanced-learn              0.8.1                  /usr/local/lib/python3.8/dist-packages pip\n",
            "imblearn                      0.0                    /usr/local/lib/python3.8/dist-packages pip\n",
            "imgaug                        0.4.0                  /usr/local/lib/python3.8/dist-packages pip\n",
            "importlib-metadata            5.2.0                  /usr/local/lib/python3.8/dist-packages pip\n",
            "importlib-resources           5.10.1                 /usr/local/lib/python3.8/dist-packages pip\n",
            "imutils                       0.5.4                  /usr/local/lib/python3.8/dist-packages pip\n",
            "inflect                       2.1.0                  /usr/local/lib/python3.8/dist-packages pip\n",
            "intel-openmp                  2023.0.0               /usr/local/lib/python3.8/dist-packages pip\n",
            "intervaltree                  2.1.0                  /usr/local/lib/python3.8/dist-packages pip\n",
            "ipykernel                     5.3.4                  /usr/local/lib/python3.8/dist-packages pip\n",
            "ipython                       7.9.0                  /usr/local/lib/python3.8/dist-packages pip\n",
            "ipython-genutils              0.2.0                  /usr/local/lib/python3.8/dist-packages pip\n",
            "ipython-sql                   0.3.9                  /usr/local/lib/python3.8/dist-packages pip\n",
            "ipywidgets                    7.7.1                  /usr/local/lib/python3.8/dist-packages pip\n",
            "itsdangerous                  1.1.0                  /usr/local/lib/python3.8/dist-packages pip\n",
            "jax                           0.3.25                 /usr/local/lib/python3.8/dist-packages pip\n",
            "jaxlib                        0.3.25+cuda11.cudnn805 /usr/local/lib/python3.8/dist-packages pip\n",
            "jieba                         0.42.1                 /usr/local/lib/python3.8/dist-packages pip\n",
            "Jinja2                        2.11.3                 /usr/local/lib/python3.8/dist-packages pip\n",
            "joblib                        1.2.0                  /usr/local/lib/python3.8/dist-packages pip\n",
            "jpeg4py                       0.1.4                  /usr/local/lib/python3.8/dist-packages pip\n",
            "jsonschema                    4.3.3                  /usr/local/lib/python3.8/dist-packages pip\n",
            "jupyter-client                6.1.12                 /usr/local/lib/python3.8/dist-packages pip\n",
            "jupyter-console               6.1.0                  /usr/local/lib/python3.8/dist-packages pip\n",
            "jupyter_core                  5.1.1                  /usr/local/lib/python3.8/dist-packages pip\n",
            "jupyterlab-widgets            3.0.5                  /usr/local/lib/python3.8/dist-packages pip\n",
            "kaggle                        1.5.12                 /usr/local/lib/python3.8/dist-packages pip\n",
            "kapre                         0.3.7                  /usr/local/lib/python3.8/dist-packages pip\n",
            "keras                         2.9.0                  /usr/local/lib/python3.8/dist-packages pip\n",
            "Keras-Preprocessing           1.1.2                  /usr/local/lib/python3.8/dist-packages pip\n",
            "keras-vis                     0.4.1                  /usr/local/lib/python3.8/dist-packages pip\n",
            "kiwisolver                    1.4.4                  /usr/local/lib/python3.8/dist-packages pip\n",
            "korean-lunar-calendar         0.3.1                  /usr/local/lib/python3.8/dist-packages pip\n",
            "langcodes                     3.3.0                  /usr/local/lib/python3.8/dist-packages pip\n",
            "libclang                      14.0.6                 /usr/local/lib/python3.8/dist-packages pip\n",
            "librosa                       0.8.1                  /usr/local/lib/python3.8/dist-packages pip\n",
            "lightgbm                      2.2.3                  /usr/local/lib/python3.8/dist-packages pip\n",
            "llvmlite                      0.39.1                 /usr/local/lib/python3.8/dist-packages pip\n",
            "lmdb                          0.99                   /usr/local/lib/python3.8/dist-packages pip\n",
            "locket                        1.0.0                  /usr/local/lib/python3.8/dist-packages pip\n",
            "logical-unification           0.4.5                  /usr/local/lib/python3.8/dist-packages pip\n",
            "LunarCalendar                 0.0.9                  /usr/local/lib/python3.8/dist-packages pip\n",
            "lxml                          4.9.2                  /usr/local/lib/python3.8/dist-packages pip\n",
            "Markdown                      3.4.1                  /usr/local/lib/python3.8/dist-packages pip\n",
            "MarkupSafe                    2.0.1                  /usr/local/lib/python3.8/dist-packages pip\n",
            "marshmallow                   3.19.0                 /usr/local/lib/python3.8/dist-packages pip\n",
            "matplotlib                    3.2.2                  /usr/local/lib/python3.8/dist-packages pip\n",
            "matplotlib-venn               0.11.7                 /usr/local/lib/python3.8/dist-packages pip\n",
            "miniKanren                    1.0.3                  /usr/local/lib/python3.8/dist-packages pip\n",
            "missingno                     0.5.1                  /usr/local/lib/python3.8/dist-packages pip\n",
            "mistune                       0.8.4                  /usr/local/lib/python3.8/dist-packages pip\n",
            "mizani                        0.7.3                  /usr/local/lib/python3.8/dist-packages pip\n",
            "mkl                           2019.0                 /usr/local/lib/python3.8/dist-packages pip\n",
            "mlxtend                       0.14.0                 /usr/local/lib/python3.8/dist-packages pip\n",
            "more-itertools                9.0.0                  /usr/local/lib/python3.8/dist-packages pip\n",
            "moviepy                       0.2.3.5                /usr/local/lib/python3.8/dist-packages pip\n",
            "mpmath                        1.2.1                  /usr/local/lib/python3.8/dist-packages pip\n",
            "msgpack                       1.0.4                  /usr/local/lib/python3.8/dist-packages pip\n",
            "multidict                     6.0.3                  /usr/local/lib/python3.8/dist-packages pip\n",
            "multipledispatch              0.6.0                  /usr/local/lib/python3.8/dist-packages pip\n",
            "multitasking                  0.0.11                 /usr/local/lib/python3.8/dist-packages pip\n",
            "murmurhash                    1.0.9                  /usr/local/lib/python3.8/dist-packages pip\n",
            "music21                       5.5.0                  /usr/local/lib/python3.8/dist-packages pip\n",
            "natsort                       5.5.0                  /usr/local/lib/python3.8/dist-packages pip\n",
            "nbconvert                     5.6.1                  /usr/local/lib/python3.8/dist-packages pip\n",
            "nbformat                      5.7.1                  /usr/local/lib/python3.8/dist-packages pip\n",
            "netCDF4                       1.6.2                  /usr/local/lib/python3.8/dist-packages pip\n",
            "networkx                      2.8.8                  /usr/local/lib/python3.8/dist-packages pip\n",
            "nibabel                       3.0.2                  /usr/local/lib/python3.8/dist-packages pip\n",
            "nltk                          3.7                    /usr/local/lib/python3.8/dist-packages pip\n",
            "notebook                      5.7.16                 /usr/local/lib/python3.8/dist-packages pip\n",
            "numba                         0.56.4                 /usr/local/lib/python3.8/dist-packages pip\n",
            "numexpr                       2.8.4                  /usr/local/lib/python3.8/dist-packages pip\n",
            "numpy                         1.21.6                 /usr/local/lib/python3.8/dist-packages pip\n",
            "oauth2client                  4.1.3                  /usr/local/lib/python3.8/dist-packages pip\n",
            "oauthlib                      3.2.2                  /usr/local/lib/python3.8/dist-packages pip\n",
            "okgrade                       0.4.3                  /usr/local/lib/python3.8/dist-packages pip\n",
            "opencv-contrib-python         4.6.0.66               /usr/local/lib/python3.8/dist-packages pip\n",
            "opencv-python                 4.6.0.66               /usr/local/lib/python3.8/dist-packages pip\n",
            "opencv-python-headless        4.6.0.66               /usr/local/lib/python3.8/dist-packages pip\n",
            "openpyxl                      3.0.10                 /usr/local/lib/python3.8/dist-packages pip\n",
            "opt-einsum                    3.3.0                  /usr/local/lib/python3.8/dist-packages pip\n",
            "osqp                          0.6.2.post0            /usr/local/lib/python3.8/dist-packages pip\n",
            "packaging                     21.3                   /usr/local/lib/python3.8/dist-packages pip\n",
            "palettable                    3.3.0                  /usr/local/lib/python3.8/dist-packages pip\n",
            "pandas                        1.3.5                  /usr/local/lib/python3.8/dist-packages pip\n",
            "pandas-datareader             0.9.0                  /usr/local/lib/python3.8/dist-packages pip\n",
            "pandas-gbq                    0.17.9                 /usr/local/lib/python3.8/dist-packages pip\n",
            "pandas-profiling              1.4.1                  /usr/local/lib/python3.8/dist-packages pip\n",
            "pandocfilters                 1.5.0                  /usr/local/lib/python3.8/dist-packages pip\n",
            "panel                         0.12.1                 /usr/local/lib/python3.8/dist-packages pip\n",
            "param                         1.12.3                 /usr/local/lib/python3.8/dist-packages pip\n",
            "parso                         0.8.3                  /usr/local/lib/python3.8/dist-packages pip\n",
            "partd                         1.3.0                  /usr/local/lib/python3.8/dist-packages pip\n",
            "pastel                        0.2.1                  /usr/local/lib/python3.8/dist-packages pip\n",
            "pathlib                       1.0.1                  /usr/local/lib/python3.8/dist-packages pip\n",
            "pathy                         0.10.1                 /usr/local/lib/python3.8/dist-packages pip\n",
            "patsy                         0.5.3                  /usr/local/lib/python3.8/dist-packages pip\n",
            "pep517                        0.13.0                 /usr/local/lib/python3.8/dist-packages pip\n",
            "pexpect                       4.8.0                  /usr/local/lib/python3.8/dist-packages pip\n",
            "pickleshare                   0.7.5                  /usr/local/lib/python3.8/dist-packages pip\n",
            "Pillow                        7.1.2                  /usr/local/lib/python3.8/dist-packages pip\n",
            "pip                           22.0.4                 /usr/local/lib/python3.8/dist-packages pip\n",
            "pip-tools                     6.6.2                  /usr/local/lib/python3.8/dist-packages pip\n",
            "platformdirs                  2.6.0                  /usr/local/lib/python3.8/dist-packages pip\n",
            "plotly                        5.5.0                  /usr/local/lib/python3.8/dist-packages pip\n",
            "plotnine                      0.8.0                  /usr/local/lib/python3.8/dist-packages pip\n",
            "pluggy                        0.7.1                  /usr/local/lib/python3.8/dist-packages pip\n",
            "pooch                         1.6.0                  /usr/local/lib/python3.8/dist-packages pip\n",
            "portpicker                    1.3.9                  /usr/local/lib/python3.8/dist-packages pip\n",
            "prefetch-generator            1.0.3                  /usr/local/lib/python3.8/dist-packages pip\n",
            "preshed                       3.0.8                  /usr/local/lib/python3.8/dist-packages pip\n",
            "prettytable                   3.5.0                  /usr/local/lib/python3.8/dist-packages pip\n",
            "progressbar2                  3.38.0                 /usr/local/lib/python3.8/dist-packages pip\n",
            "prometheus-client             0.15.0                 /usr/local/lib/python3.8/dist-packages pip\n",
            "promise                       2.3                    /usr/local/lib/python3.8/dist-packages pip\n",
            "prompt-toolkit                2.0.10                 /usr/local/lib/python3.8/dist-packages pip\n",
            "prophet                       1.1.1                  /usr/local/lib/python3.8/dist-packages pip\n",
            "proto-plus                    1.22.1                 /usr/local/lib/python3.8/dist-packages pip\n",
            "protobuf                      3.19.6                 /usr/local/lib/python3.8/dist-packages pip\n",
            "psutil                        5.4.8                  /usr/local/lib/python3.8/dist-packages pip\n",
            "psycopg2                      2.9.5                  /usr/local/lib/python3.8/dist-packages pip\n",
            "ptyprocess                    0.7.0                  /usr/local/lib/python3.8/dist-packages pip\n",
            "py                            1.11.0                 /usr/local/lib/python3.8/dist-packages pip\n",
            "py4j                          0.10.9.5               /usr/local/lib/python3.8/dist-packages pip\n",
            "pyarrow                       9.0.0                  /usr/local/lib/python3.8/dist-packages pip\n",
            "pyasn1                        0.4.8                  /usr/local/lib/python3.8/dist-packages pip\n",
            "pyasn1-modules                0.2.8                  /usr/local/lib/python3.8/dist-packages pip\n",
            "pycocotools                   2.0.6                  /usr/local/lib/python3.8/dist-packages pip\n",
            "pycparser                     2.21                   /usr/local/lib/python3.8/dist-packages pip\n",
            "pyct                          0.4.8                  /usr/local/lib/python3.8/dist-packages pip\n",
            "pydantic                      1.10.2                 /usr/local/lib/python3.8/dist-packages pip\n",
            "pydata-google-auth            1.4.0                  /usr/local/lib/python3.8/dist-packages pip\n",
            "pydot                         1.3.0                  /usr/local/lib/python3.8/dist-packages pip\n",
            "pydot-ng                      2.0.0                  /usr/local/lib/python3.8/dist-packages pip\n",
            "pydotplus                     2.0.2                  /usr/local/lib/python3.8/dist-packages pip\n",
            "PyDrive                       1.3.1                  /usr/local/lib/python3.8/dist-packages pip\n",
            "pyemd                         0.5.1                  /usr/local/lib/python3.8/dist-packages pip\n",
            "pyerfa                        2.0.0.1                /usr/local/lib/python3.8/dist-packages pip\n",
            "Pygments                      2.6.1                  /usr/local/lib/python3.8/dist-packages pip\n",
            "PyGObject                     3.26.1                 /usr/lib/python3/dist-packages\n",
            "pylev                         1.4.0                  /usr/local/lib/python3.8/dist-packages pip\n",
            "pymc                          4.1.4                  /usr/local/lib/python3.8/dist-packages pip\n",
            "PyMeeus                       0.5.12                 /usr/local/lib/python3.8/dist-packages pip\n",
            "pymongo                       4.3.3                  /usr/local/lib/python3.8/dist-packages pip\n",
            "pymystem3                     0.2.0                  /usr/local/lib/python3.8/dist-packages pip\n",
            "PyOpenGL                      3.1.6                  /usr/local/lib/python3.8/dist-packages pip\n",
            "pyparsing                     3.0.9                  /usr/local/lib/python3.8/dist-packages pip\n",
            "pyrsistent                    0.19.2                 /usr/local/lib/python3.8/dist-packages pip\n",
            "pysimdjson                    3.2.0                  /usr/local/lib/python3.8/dist-packages pip\n",
            "pysndfile                     1.3.8                  /usr/local/lib/python3.8/dist-packages pip\n",
            "PySocks                       1.7.1                  /usr/local/lib/python3.8/dist-packages pip\n",
            "pyspark                       3.3.1                  /usr/local/lib/python3.8/dist-packages pip\n",
            "pystan                        3.3.0                  /usr/local/lib/python3.8/dist-packages pip\n",
            "pytest                        3.6.4                  /usr/local/lib/python3.8/dist-packages pip\n",
            "python-apt                    0.0.0                  /usr/local/lib/python3.8/dist-packages\n",
            "python-dateutil               2.8.2                  /usr/local/lib/python3.8/dist-packages pip\n",
            "python-louvain                0.16                   /usr/local/lib/python3.8/dist-packages pip\n",
            "python-slugify                7.0.0                  /usr/local/lib/python3.8/dist-packages pip\n",
            "python-utils                  3.4.5                  /usr/local/lib/python3.8/dist-packages pip\n",
            "pytz                          2022.7                 /usr/local/lib/python3.8/dist-packages pip\n",
            "pyviz-comms                   2.2.1                  /usr/local/lib/python3.8/dist-packages pip\n",
            "PyWavelets                    1.4.1                  /usr/local/lib/python3.8/dist-packages pip\n",
            "PyYAML                        6.0                    /usr/local/lib/python3.8/dist-packages pip\n",
            "pyzmq                         23.2.1                 /usr/local/lib/python3.8/dist-packages pip\n",
            "qdldl                         0.1.5.post2            /usr/local/lib/python3.8/dist-packages pip\n",
            "qudida                        0.0.4                  /usr/local/lib/python3.8/dist-packages pip\n",
            "regex                         2022.6.2               /usr/local/lib/python3.8/dist-packages pip\n",
            "requests                      2.25.1                 /usr/local/lib/python3.8/dist-packages pip\n",
            "requests-oauthlib             1.3.1                  /usr/local/lib/python3.8/dist-packages pip\n",
            "resampy                       0.4.2                  /usr/local/lib/python3.8/dist-packages pip\n",
            "rpy2                          3.5.5                  /usr/local/lib/python3.8/dist-packages pip\n",
            "rsa                           4.9                    /usr/local/lib/python3.8/dist-packages pip\n",
            "scikit-image                  0.18.3                 /usr/local/lib/python3.8/dist-packages pip\n",
            "scikit-learn                  1.0.2                  /usr/local/lib/python3.8/dist-packages pip\n",
            "scipy                         1.7.3                  /usr/local/lib/python3.8/dist-packages pip\n",
            "screen-resolution-extra       0.0.0                  /usr/lib/python3/dist-packages\n",
            "scs                           3.2.2                  /usr/local/lib/python3.8/dist-packages pip\n",
            "seaborn                       0.11.2                 /usr/local/lib/python3.8/dist-packages pip\n",
            "Send2Trash                    1.8.0                  /usr/local/lib/python3.8/dist-packages pip\n",
            "setuptools                    57.4.0                 /usr/local/lib/python3.8/dist-packages pip\n",
            "setuptools-git                1.2                    /usr/local/lib/python3.8/dist-packages pip\n",
            "shapely                       2.0.0                  /usr/local/lib/python3.8/dist-packages pip\n",
            "six                           1.15.0                 /usr/local/lib/python3.8/dist-packages pip\n",
            "sklearn-pandas                1.8.0                  /usr/local/lib/python3.8/dist-packages pip\n",
            "smart-open                    6.3.0                  /usr/local/lib/python3.8/dist-packages pip\n",
            "snowballstemmer               2.2.0                  /usr/local/lib/python3.8/dist-packages pip\n",
            "sortedcontainers              2.4.0                  /usr/local/lib/python3.8/dist-packages pip\n",
            "soundfile                     0.11.0                 /usr/local/lib/python3.8/dist-packages pip\n",
            "spacy                         3.4.4                  /usr/local/lib/python3.8/dist-packages pip\n",
            "spacy-legacy                  3.0.10                 /usr/local/lib/python3.8/dist-packages pip\n",
            "spacy-loggers                 1.0.4                  /usr/local/lib/python3.8/dist-packages pip\n",
            "Sphinx                        1.8.6                  /usr/local/lib/python3.8/dist-packages pip\n",
            "sphinxcontrib-serializinghtml 1.1.5                  /usr/local/lib/python3.8/dist-packages pip\n",
            "sphinxcontrib-websupport      1.2.4                  /usr/local/lib/python3.8/dist-packages pip\n",
            "SQLAlchemy                    1.4.45                 /usr/local/lib/python3.8/dist-packages pip\n",
            "sqlparse                      0.4.3                  /usr/local/lib/python3.8/dist-packages pip\n",
            "srsly                         2.4.5                  /usr/local/lib/python3.8/dist-packages pip\n",
            "statsmodels                   0.12.2                 /usr/local/lib/python3.8/dist-packages pip\n",
            "sympy                         1.7.1                  /usr/local/lib/python3.8/dist-packages pip\n",
            "tables                        3.7.0                  /usr/local/lib/python3.8/dist-packages pip\n",
            "tabulate                      0.8.10                 /usr/local/lib/python3.8/dist-packages pip\n",
            "tblib                         1.7.0                  /usr/local/lib/python3.8/dist-packages pip\n",
            "tenacity                      8.1.0                  /usr/local/lib/python3.8/dist-packages pip\n",
            "tensorboard                   2.9.1                  /usr/local/lib/python3.8/dist-packages pip\n",
            "tensorboard-data-server       0.6.1                  /usr/local/lib/python3.8/dist-packages pip\n",
            "tensorboard-plugin-wit        1.8.1                  /usr/local/lib/python3.8/dist-packages pip\n",
            "tensorflow                    2.9.2                  /usr/local/lib/python3.8/dist-packages pip\n",
            "tensorflow-datasets           4.6.0                  /usr/local/lib/python3.8/dist-packages pip\n",
            "tensorflow-estimator          2.9.0                  /usr/local/lib/python3.8/dist-packages pip\n",
            "tensorflow-gcs-config         2.9.1                  /usr/local/lib/python3.8/dist-packages pip\n",
            "tensorflow-hub                0.12.0                 /usr/local/lib/python3.8/dist-packages pip\n",
            "tensorflow-io-gcs-filesystem  0.29.0                 /usr/local/lib/python3.8/dist-packages pip\n",
            "tensorflow-metadata           1.12.0                 /usr/local/lib/python3.8/dist-packages pip\n",
            "tensorflow-probability        0.17.0                 /usr/local/lib/python3.8/dist-packages pip\n",
            "termcolor                     2.1.1                  /usr/local/lib/python3.8/dist-packages pip\n",
            "terminado                     0.13.3                 /usr/local/lib/python3.8/dist-packages pip\n",
            "testpath                      0.6.0                  /usr/local/lib/python3.8/dist-packages pip\n",
            "text-unidecode                1.3                    /usr/local/lib/python3.8/dist-packages pip\n",
            "textblob                      0.15.3                 /usr/local/lib/python3.8/dist-packages pip\n",
            "thinc                         8.1.6                  /usr/local/lib/python3.8/dist-packages pip\n",
            "threadpoolctl                 3.1.0                  /usr/local/lib/python3.8/dist-packages pip\n",
            "tifffile                      2022.10.10             /usr/local/lib/python3.8/dist-packages pip\n",
            "toml                          0.10.2                 /usr/local/lib/python3.8/dist-packages pip\n",
            "tomli                         2.0.1                  /usr/local/lib/python3.8/dist-packages pip\n",
            "toolz                         0.12.0                 /usr/local/lib/python3.8/dist-packages pip\n",
            "torch                         1.13.0+cu116           /usr/local/lib/python3.8/dist-packages pip\n",
            "torchaudio                    0.13.0+cu116           /usr/local/lib/python3.8/dist-packages pip\n",
            "torchsummary                  1.5.1                  /usr/local/lib/python3.8/dist-packages pip\n",
            "torchtext                     0.14.0                 /usr/local/lib/python3.8/dist-packages pip\n",
            "torchvision                   0.14.0+cu116           /usr/local/lib/python3.8/dist-packages pip\n",
            "tornado                       6.0.4                  /usr/local/lib/python3.8/dist-packages pip\n",
            "tqdm                          4.64.1                 /usr/local/lib/python3.8/dist-packages pip\n",
            "traitlets                     5.7.1                  /usr/local/lib/python3.8/dist-packages pip\n",
            "tweepy                        3.10.0                 /usr/local/lib/python3.8/dist-packages pip\n",
            "typeguard                     2.7.1                  /usr/local/lib/python3.8/dist-packages pip\n",
            "typer                         0.7.0                  /usr/local/lib/python3.8/dist-packages pip\n",
            "typing_extensions             4.4.0                  /usr/local/lib/python3.8/dist-packages pip\n",
            "tzlocal                       1.5.1                  /usr/local/lib/python3.8/dist-packages pip\n",
            "uritemplate                   4.1.1                  /usr/local/lib/python3.8/dist-packages pip\n",
            "urllib3                       1.24.3                 /usr/local/lib/python3.8/dist-packages pip\n",
            "vega-datasets                 0.9.0                  /usr/local/lib/python3.8/dist-packages pip\n",
            "wasabi                        0.10.1                 /usr/local/lib/python3.8/dist-packages pip\n",
            "wcwidth                       0.2.5                  /usr/local/lib/python3.8/dist-packages pip\n",
            "webargs                       8.2.0                  /usr/local/lib/python3.8/dist-packages pip\n",
            "webencodings                  0.5.1                  /usr/local/lib/python3.8/dist-packages pip\n",
            "Werkzeug                      1.0.1                  /usr/local/lib/python3.8/dist-packages pip\n",
            "wheel                         0.38.4                 /usr/local/lib/python3.8/dist-packages pip\n",
            "widgetsnbextension            3.6.1                  /usr/local/lib/python3.8/dist-packages pip\n",
            "wordcloud                     1.8.2.2                /usr/local/lib/python3.8/dist-packages pip\n",
            "wrapt                         1.14.1                 /usr/local/lib/python3.8/dist-packages pip\n",
            "xarray                        2022.12.0              /usr/local/lib/python3.8/dist-packages pip\n",
            "xarray-einstats               0.4.0                  /usr/local/lib/python3.8/dist-packages pip\n",
            "xgboost                       0.90                   /usr/local/lib/python3.8/dist-packages pip\n",
            "xkit                          0.0.0                  /usr/lib/python3/dist-packages\n",
            "xlrd                          1.2.0                  /usr/local/lib/python3.8/dist-packages pip\n",
            "xlwt                          1.3.0                  /usr/local/lib/python3.8/dist-packages pip\n",
            "yarl                          1.8.2                  /usr/local/lib/python3.8/dist-packages pip\n",
            "yellowbrick                   1.5                    /usr/local/lib/python3.8/dist-packages pip\n",
            "zict                          2.2.0                  /usr/local/lib/python3.8/dist-packages pip\n",
            "zipp                          3.11.0                 /usr/local/lib/python3.8/dist-packages pip\n"
          ]
        }
      ]
    },
    {
      "cell_type": "markdown",
      "source": [
        "# Download stackexchange data "
      ],
      "metadata": {
        "id": "07GZqaWEVMGD"
      }
    },
    {
      "cell_type": "code",
      "source": [
        "#!FILE=/content/input/books.xml\n",
        "#!if ![-f \"$FILE\"]; then\n",
        "#!    echo Start downloading file $FILE\n",
        "#!    wget https://github.com/databricks/spark-xml/raw/master/src/test/resources/books.xml  -P /content/input/ > /dev/null\n",
        "#!fi\n",
        "\n",
        "\n",
        "!wget https://archive.org/download/stackexchange/mathematica.stackexchange.com.7z -P /content/input/ > /dev/null\n",
        "#!wget https://archive.org/download/stackexchange/webapps.stackexchange.com.7z -P /content/input/ > /dev/null\n",
        "\n",
        "\n",
        "\n"
      ],
      "metadata": {
        "colab": {
          "base_uri": "https://localhost:8080/"
        },
        "id": "eBZxivlyZQFk",
        "outputId": "b927d083-e82f-40ca-e429-946ca1b78a6a"
      },
      "execution_count": 95,
      "outputs": [
        {
          "output_type": "stream",
          "name": "stdout",
          "text": [
            "--2023-01-08 13:44:15--  https://archive.org/download/stackexchange/mathematica.stackexchange.com.7z\n",
            "Resolving archive.org (archive.org)... 207.241.224.2\n",
            "Connecting to archive.org (archive.org)|207.241.224.2|:443... connected.\n",
            "HTTP request sent, awaiting response... 302 Found\n",
            "Location: https://ia800107.us.archive.org/27/items/stackexchange/mathematica.stackexchange.com.7z [following]\n",
            "--2023-01-08 13:44:15--  https://ia800107.us.archive.org/27/items/stackexchange/mathematica.stackexchange.com.7z\n",
            "Resolving ia800107.us.archive.org (ia800107.us.archive.org)... 207.241.232.17\n",
            "Connecting to ia800107.us.archive.org (ia800107.us.archive.org)|207.241.232.17|:443... connected.\n",
            "HTTP request sent, awaiting response... 200 OK\n",
            "Length: 268267899 (256M) [application/x-7z-compressed]\n",
            "Saving to: ‘/content/input/mathematica.stackexchange.com.7z’\n",
            "\n",
            "mathematica.stackex 100%[===================>] 255.84M  7.94MB/s    in 23s     \n",
            "\n",
            "2023-01-08 13:44:39 (11.2 MB/s) - ‘/content/input/mathematica.stackexchange.com.7z’ saved [268267899/268267899]\n",
            "\n"
          ]
        }
      ]
    },
    {
      "cell_type": "code",
      "source": [
        "####EXTRACT DATA FROM 7ZIP ARCHIWUM\n",
        "\n",
        "!7za e -y /content/input/mathematica.stackexchange.com.7z -o/content/input/ > /dev/null\n",
        "#!7za e -y /content/input/webapps.stackexchange.com.7z -o/content/input/ > /dev/null"
      ],
      "metadata": {
        "id": "hznIGKtyKDfg"
      },
      "execution_count": 96,
      "outputs": []
    },
    {
      "cell_type": "code",
      "source": [
        "import pyspark\n",
        "from pyspark.sql import SparkSession\n",
        "from pyspark.sql.types import StructType, StructField, LongType, StringType, BooleanType, DateType \n",
        "from pyspark.sql.functions import to_timestamp, date_format, col\n",
        "\n",
        "spark = SparkSession \\\n",
        "    .builder \\\n",
        "    .master(\"local[*]\") \\\n",
        "    .appName('ARDiplomaWork') \\\n",
        "    .config('spark.jars.packages', 'com.databricks:spark-xml_2.12:0.6.0') \\\n",
        "    .getOrCreate()"
      ],
      "metadata": {
        "id": "WuiPfbOKVzGi"
      },
      "execution_count": 97,
      "outputs": []
    },
    {
      "cell_type": "markdown",
      "source": [
        "#### LOAD AND SAVE POSTS.XML DATASET TO PARQUET FORMAT"
      ],
      "metadata": {
        "id": "CBxtCJYV9lBl"
      }
    },
    {
      "cell_type": "code",
      "source": [
        "schema = StructType([ \\\n",
        "    StructField(\"_AnswerCount\", LongType(), True), \\\n",
        "    StructField(\"_Body\", StringType(), True), \\\n",
        "    StructField(\"_CommentCount\", LongType(), True), \\\n",
        "    StructField(\"_CreationDate\", StringType(), True), \\\n",
        "    StructField(\"_Id\", LongType(), True), \\\n",
        "    StructField(\"_LastActivityDate\", StringType(), True), \\\n",
        "    StructField(\"_OwnerUserId\", LongType(), True), \\\n",
        "    StructField(\"_ParentId\", LongType(), True), \\\n",
        "    StructField(\"_PostTypeId\", LongType(), True), \\\n",
        "    StructField(\"_AcceptedAnswerId\", LongType(), True), \\\n",
        "    StructField(\"_Score\", LongType(), True), \\\n",
        "    StructField(\"_Tags\", StringType(), True), \\\n",
        "    StructField(\"_Title\", StringType(), True), \\\n",
        "    StructField(\"_ViewCount\", LongType(), True), \\\n",
        "    StructField(\"Year\", LongType(), True), \\\n",
        "    StructField(\"Month\", LongType(), True), \\\n",
        "    StructField(\"Day\", LongType(), True) \\\n",
        "]) \n",
        "\n",
        "postsDF = spark.read \\\n",
        "          .format('com.databricks.spark.xml') \\\n",
        "          .options(rootTag='posts') \\\n",
        "          .options(rowTag='row') \\\n",
        "          .schema(schema) \\\n",
        "          .load('/content/input/Posts.xml')     \n",
        "\n",
        "postsDF = postsDF \\\n",
        "          .withColumnRenamed(\"_AnswerCount\", \"AnswerCount\") \\\n",
        "          .withColumnRenamed(\"_Body\", \"Body\") \\\n",
        "          .withColumnRenamed(\"_CommentCount\", \"CommentCount\") \\\n",
        "          .withColumnRenamed(\"_CreationDate\", \"CreationDate\") \\\n",
        "          .withColumnRenamed(\"_Id\", \"Id\") \\\n",
        "          .withColumnRenamed(\"_LastActivityDate\", \"LastActivityDate\") \\\n",
        "          .withColumnRenamed(\"_OwnerUserId\", \"OwnerUserId\") \\\n",
        "          .withColumnRenamed(\"_ParentId\", \"ParentId\") \\\n",
        "          .withColumnRenamed(\"_PostTypeId\", \"PostTypeId\") \\\n",
        "          .withColumnRenamed(\"_AcceptedAnswerId\", \"AcceptedAnswerId\") \\\n",
        "          .withColumnRenamed(\"_Score\", \"Score\") \\\n",
        "          .withColumnRenamed(\"_Tags\", \"Tags\") \\\n",
        "          .withColumnRenamed(\"_Title\", \"Title\") \\\n",
        "          .withColumnRenamed(\"_ViewCount\", \"ViewCount\")\n",
        "\n",
        "postsDF = postsDF \\\n",
        "          .select([\"Id\", \"ParentId\", \"PostTypeId\", \"AcceptedAnswerId\", \"OwnerUserId\", \\\n",
        "                  to_timestamp(\"CreationDate\").alias(\"CreationDate\"), \"Score\", \\\n",
        "                  \"ViewCount\", \"AnswerCount\", \\\n",
        "                  \"CommentCount\", to_timestamp(\"LastActivityDate\").alias(\"LastActivityDate\"), \\\n",
        "                  \"Tags\", \"Title\", \"Body\"]) \\\n",
        "          .withColumn(\"Year\", date_format(col(\"CreationDate\"), \"y\").cast(\"integer\")) \\\n",
        "          .withColumn(\"Month\", date_format(col(\"CreationDate\"), \"M\").cast(\"integer\")) \\\n",
        "          .withColumn(\"Day\", date_format(col(\"CreationDate\"), \"d\").cast(\"integer\")) \\\n",
        "\n",
        "postsDF.printSchema()   \n",
        "postsDF.show(n=10, truncate=False)\n",
        "\n",
        "postsDF = postsDF \\\n",
        "          .write \\\n",
        "          .partitionBy(\"Year\", \"Month\", \"Day\") \\\n",
        "          .mode(\"overwrite\") \\\n",
        "          .parquet(\"/content/output/posts.parquet\")      "
      ],
      "metadata": {
        "colab": {
          "base_uri": "https://localhost:8080/"
        },
        "id": "tz2kAJ8Hk_L7",
        "outputId": "015c7d6b-fcc8-4a3e-f07b-71d6a58e01f0"
      },
      "execution_count": 98,
      "outputs": [
        {
          "output_type": "stream",
          "name": "stdout",
          "text": [
            "root\n",
            " |-- Id: long (nullable = true)\n",
            " |-- ParentId: long (nullable = true)\n",
            " |-- PostTypeId: long (nullable = true)\n",
            " |-- AcceptedAnswerId: long (nullable = true)\n",
            " |-- OwnerUserId: long (nullable = true)\n",
            " |-- CreationDate: timestamp (nullable = true)\n",
            " |-- Score: long (nullable = true)\n",
            " |-- ViewCount: long (nullable = true)\n",
            " |-- AnswerCount: long (nullable = true)\n",
            " |-- CommentCount: long (nullable = true)\n",
            " |-- LastActivityDate: timestamp (nullable = true)\n",
            " |-- Tags: string (nullable = true)\n",
            " |-- Title: string (nullable = true)\n",
            " |-- Body: string (nullable = true)\n",
            " |-- Year: integer (nullable = true)\n",
            " |-- Month: integer (nullable = true)\n",
            " |-- Day: integer (nullable = true)\n",
            "\n",
            "+---+--------+----------+----------------+-----------+-----------------------+-----+---------+-----------+------------+-----------------------+---------------------------------------------------------------------------------+------------------------------------------------------------------------------------------------------------------+-------------------------------------------------------------------------------------------------------------------------------------------------------------------------------------------------------------------------------------------------------------------------------------------------------------------------------------------------------------------------------------------------------------------------------------------------------------------------------------------------------------------------------------------------------------------------------------------------------------------------------------------------------------------------------------------------------------------------------------------------------------------------------------------------------------------------------------------------------------------------------------------------------------------------------------------------------------------------------------------------------------------------------------------------------------------------------------------------------------------------------------------------------------------------------------------------------------------------------------------------------------------------------------------------------------------------------------------------------------------------------------------------------------------------------------------------------------------------------------------------------------------------------------------------------------------------------------------------------------------------------------------+----+-----+---+\n",
            "|Id |ParentId|PostTypeId|AcceptedAnswerId|OwnerUserId|CreationDate           |Score|ViewCount|AnswerCount|CommentCount|LastActivityDate       |Tags                                                                             |Title                                                                                                             |Body                                                                                                                                                                                                                                                                                                                                                                                                                                                                                                                                                                                                                                                                                                                                                                                                                                                                                                                                                                                                                                                                                                                                                                                                                                                                                                                                                                                                                                                                                                                                                                                                                                       |Year|Month|Day|\n",
            "+---+--------+----------+----------------+-----------+-----------------------+-----+---------+-----------+------------+-----------------------+---------------------------------------------------------------------------------+------------------------------------------------------------------------------------------------------------------+-------------------------------------------------------------------------------------------------------------------------------------------------------------------------------------------------------------------------------------------------------------------------------------------------------------------------------------------------------------------------------------------------------------------------------------------------------------------------------------------------------------------------------------------------------------------------------------------------------------------------------------------------------------------------------------------------------------------------------------------------------------------------------------------------------------------------------------------------------------------------------------------------------------------------------------------------------------------------------------------------------------------------------------------------------------------------------------------------------------------------------------------------------------------------------------------------------------------------------------------------------------------------------------------------------------------------------------------------------------------------------------------------------------------------------------------------------------------------------------------------------------------------------------------------------------------------------------------------------------------------------------------+----+-----+---+\n",
            "|1  |null    |1         |9               |5          |2012-01-17 21:03:59.2  |35   |1121     |4          |1           |2013-10-22 10:48:32.56 |<front-end><syntax>                                                              |Usage of \\[InvisibleApplication] and other related invisible characters                                           |<p>From the front end, <code>\\[InvisibleApplication]</code> can be entered as <kbd>Esc</kbd> <kbd>@</kbd> <kbd>Esc</kbd>, and is an invisible operator for <code>@</code>!. By an unfortunate combination of key-presses (there may have been a cat involved), this crept up in my code and I spent a great deal of time trying to figure out why in the world <code>f x</code> was being interpreted as <code>f[x]</code>. Example:</p>\\n\\n<p><img src=\"https://i.stack.imgur.com/2Hxll.png\" alt=\"enter image description here\"></p>\\n\\n<p>Now there is no way I could've spotted this visually. The <code>*Form</code>s weren't of much help either. If you're careful enough, you can see an invisible character between <code>f</code> and <code>x</code> if you move your cursor across the expression. Eventually, I found this out only by looking at the contents of the cell. </p>\\n\\n<p>There's also <code>\\[InvisibleSpace]</code>, <code>\\[InvisibleComma]</code> and <code>\\[ImplicitPlus]</code>, which are analogous to the above. There must be some use for these (perhaps internally), which is why it has been implemented in the first place. I can see the use for invisible space (lets you place superscripts/subscripts without needing anything visible to latch on to), and invisible comma (lets you use indexing like in math). It's the invisible apply that has me wondering...</p>\\n\\n<p>The only advantage I can see is to sort of visually obfuscate the code. Where (or how) is this used (perhaps internally?), and can I disable it? If it's possible to disable, will there be any side effects?</p>\\n|2012|1    |17 |\n",
            "|2  |null    |1         |42              |8          |2012-01-17 21:10:34.68 |98   |3388     |4          |1           |2018-03-24 16:57:04.31 |<functions><performance-tuning><pattern-matching><filtering><function-comparison>|What best practices or performance considerations are there for choosing between Cases, Position, Pick and Select?|<p><code>Cases</code>, <code>Select</code>,<code>Pick</code> and <code>Position</code> each have different syntaxes and purposes, but there are times when you can express the same calculation equivalently using either of them. So with this input:</p>\\n\\n<pre><code>test = RandomInteger[{-25, 25}, {20, 2}]\\n\\n{{-15, 13}, {-8, 16}, {-8, -19}, {7, 6}, {-21, 9}, {-3, -25}, {21, -18}, {4, 4}, {2, -2}, {-24,  8}, {-17, -8}, {4, -18}, {22, -24}, {-4, -3}, {21, 0}, {19,    18}, {-23, -8}, {23, -25}, {14, -2}, {-1, -13}}\\n</code></pre>\\n\\n<p>You can get the following equivalent results:</p>\\n\\n<pre><code>Cases[test, {_, _?Positive}]\\n\\n {{-15, 13}, {-8, 16}, {7, 6}, {-21, 9}, {4, 4}, {-24, 8}, {19, 18}}\\n\\nSelect[test, #[[2]] &gt; 0 &amp;]\\n\\n {{-15, 13}, {-8, 16}, {7, 6}, {-21, 9}, {4, 4}, {-24, 8}, {19, 18}}\\n\\nPick[test, Sign[test[[All, 2]] ], 1]\\n\\n {{-15, 13}, {-8, 16}, {7, 6}, {-21, 9}, {4, 4}, {-24, 8}, {19, 18}}\\n\\n\\ntest[[Flatten@Position[test[[All, 2]], _?Positive] ]]\\n\\n {{-15, 13}, {-8, 16}, {7, 6}, {-21, 9}, {4, 4}, {-24, 8}, {19, 18}}\\n</code></pre>\\n\\n<p>Are there performance or other considerations that should guide which you should use? For example, is the pattern-matching used in <code>Cases</code> likely to be slower than the functional tests used in <code>Select</code>? Are there any generic rules of thumb, or is testing the particular case you are using the only solution?</p>\\n                                                                                                                                                                        |2012|1    |17 |\n",
            "|3  |null    |1         |2169            |5          |2012-01-17 21:15:54.66 |27   |3930     |3          |0           |2020-09-10 17:30:56.983|<cdf-format>                                                                     |How can I embed a Manipulate (or other interactive graphics) in my website using CDF?                             |<p>The new <a href=\"http://www.wolfram.com/cdf-player/\">CDF (computable document format)</a> lets you embed a <code>Manipulate</code> or other interactive graphics on your website, and users can play around with your little script using the free player. </p>\\n\\n<p>What steps do I need to follow to </p>\\n\\n<ol>\\n<li>Create the CDF file correctly so that it displays a static picture (that I choose) if the user doesn't have the player and fires up the player if they do?</li>\\n<li>Make the necessary changes to my website/server to enable this?</li>\\n</ol>\\n                                                                                                                                                                                                                                                                                                                                                                                                                                                                                                                                                                                                                                                                                                                                                                                                                                                                                                                                                                                                                                                            |2012|1    |17 |\n",
            "|4  |2       |2         |null            |35         |2012-01-17 21:22:33.107|9    |null     |null       |1           |2012-01-17 21:22:33.107|null                                                                             |null                                                                                                              |<p>A little testing says that at least in this case <code>Position</code> wins hands down:</p>\\n\\n<pre><code>test = RandomInteger[{-25, 25}, {10^6, 2}];\\n\\nAbsoluteTiming[Length[Cases[test, {_, _?Positive}]]]\\n{2.087033, 489565}\\n\\nAbsoluteTiming[Length[Select[test, #[[2]] &gt; 0 &amp;]]]\\n{2.265396, 489565}\\n\\nAbsoluteTiming[Length[test[[Flatten@Position[test[[All, 2]], _?Positive]]]]]\\n{1.417782, 489565}\\n</code></pre>\\n\\n<p>There's some variability in the results between runs of the test, but at most a few percent.</p>\\n                                                                                                                                                                                                                                                                                                                                                                                                                                                                                                                                                                                                                                                                                                                                                                                                                                                                                                                                                                                                                                                                                          |2012|1    |17 |\n",
            "|5  |null    |1         |165             |39         |2012-01-17 21:23:32.817|15   |877      |1          |2           |2012-01-18 15:00:01.087|<topology><graphics>                                                             |Generating a topological space diagram for an n-element set                                                       |<p>Over on StackOverflow I asked a <a href=\"https://stackoverflow.com/questions/8814059/generating-topological-space-diagram-in-mathematica\">similar question</a> for the n=3 case, but the answer given doesn't easily generalize.</p>\\n\\n<p>How can I make a diagram such as this: </p>\\n\\n<p><img src=\"https://i.stack.imgur.com/dBIAg.png\" alt=\"Finite Topological Spaces\"></p>\\n\\n<p>But for a general n-element space instead?</p>\\n                                                                                                                                                                                                                                                                                                                                                                                                                                                                                                                                                                                                                                                                                                                                                                                                                                                                                                                                                                                                                                                                                                                                                                                                 |2012|1    |17 |\n",
            "|6  |null    |1         |15              |37         |2012-01-17 21:25:31.667|27   |1366     |2          |0           |2015-07-13 23:56:35.557|<graphics><plotting>                                                             |Is there a way to have Plot draw points on a function where the function is undefined as circles as in textbooks? |<p>A very common feature of graphs of functions used throughout textbooks are simple indications, such as open circles, of the points at which a function is undefined. Is there a way to do this in Mathematica?</p>\\n\\n<p>I understand that I can use <code>Epilog</code> (or <code>Prolog</code>, or other explicit drawing graphics functions) to \"manually\" draw these elements, but us there a way to automatically do this, or at least return the coordinates of such points for use as arguments to <code>Epilog</code>?</p>\\n                                                                                                                                                                                                                                                                                                                                                                                                                                                                                                                                                                                                                                                                                                                                                                                                                                                                                                                                                                                                                                                                                                    |2012|1    |17 |\n",
            "|7  |1       |2         |null            |22         |2012-01-17 21:27:23.957|11   |null     |null       |3           |2012-01-17 21:27:23.957|null                                                                             |null                                                                                                              |<p>You could de-obfuscate it something like this:</p>\\n\\n<pre><code>MakeExpression[RowBox[{a_, \"\\[InvisibleApplication]\", b_}], StandardForm] :=\\n  HoldComplete[invisibleapply[a, b]]\\n</code></pre>\\n\\n<p>After which:</p>\\n\\n<pre><code>In[13]:= f\\[InvisibleApplication] x\\nOut[13]= invisibleapply[\"f\", \"x\"]\\n</code></pre>\\n\\n<p>I think these invisible characters can be useful for approximating traditional mathematical notations, but in general sticking to standard mathematica notation, square brackets and all, is less confusing.</p>\\n\\n<p>In general, for debugging this kind of problem where a cell doesn't parse as you expected, the \"Show Expression\" command (<kbd>Ctrl</kbd>+<kbd>Shift</kbd>+<kbd>E</kbd>) can be invauluable.</p>\\n                                                                                                                                                                                                                                                                                                                                                                                                                                                                                                                                                                                                                                                                                                                                                                                                                                                                           |2012|1    |17 |\n",
            "|8  |null    |1         |19              |9          |2012-01-17 21:28:21.207|32   |5862     |3          |3           |2012-05-29 17:02:09.32 |<matrix><symbolic><inverse><linear-algebra>                                      |How to symbolically do matrix \"Block Inversion\"?                                                                  |<p>Consider a block (partitioned) matrix</p>\\n\\n<pre><code>matrix = ArrayFlatten[{{a, b}, {c, d}}]\\n</code></pre>\\n\\n<p>where, <code>a</code>, <code>b</code>, <code>c</code> and <code>d</code> are each matrices themselves. Say, for example,</p>\\n\\n<pre><code>a = {{a11, a12}, {a21, a22}}\\nb = {{b11, b12}, {b21, b22}}\\nc = {{0, 0}, {0, 0}}\\nd = {{d11, d12}, {d21, d22}}\\n</code></pre>\\n\\n<p>How can you find the <em>block</em> inverse of this matrix? A desired solution is, using the example above</p>\\n\\n<pre><code>{{Inverse[a] , -Inverse[a].b.Inverse[d]},{0,Inverse[d]}}\\n</code></pre>\\n\\n<p>which is easily verified using</p>\\n\\n<pre><code>Simplify[Inverse[ArrayFlatten[{{a, b}, {c, d}}]] == \\nArrayFlatten[{{Inverse[a], -Inverse[a].b.Inverse[d]}, {0, \\n Inverse[d]}}]]\\n</code></pre>\\n\\n<p>which yields <code>True</code>.</p>\\n\\n<p>How can you solve the block inverse problem\\nfor arbitrary submatrices, and for block matrices of larger sizes (i.e. 3x3, 4x4, etc)?</p>\\n                                                                                                                                                                                                                                                                                                                                                                                                                                                                                                                                                                                                                             |2012|1    |17 |\n",
            "|9  |1       |2         |null            |29         |2012-01-17 21:29:59.333|34   |null     |null       |0           |2012-03-22 22:32:00.22 |null                                                                             |null                                                                                                              |<p>It is used in <code>TraditionalForm</code> output, e.g. here:</p>\\n\\n<pre><code>TraditionalForm[ Hypergeometric2F1[a,b,c,x] ]\\n</code></pre>\\n\\n<p>Without <code>\\[InvisibleApplication]</code> it would probably be hard for Mathematica to parse it back to \\n<code>InputForm</code>. Probably it is used in more places internally.</p>\\n\\n<p>In order to get rid of it:</p>\\n\\n<p>Locate the file <code>UnicodeCharacters.tr</code> in <code>/usr/local/Wolfram/Mathematica/8.0/SystemFiles/FrontEnd/TextResources</code> (or the equivalent under Windows or MacOSX), make a backup of the file, open it and delete the line </p>\\n\\n<pre><code>0xF76D         \\[InvisibleApplication]         ($@$ ...\\n</code></pre>\\n\\n<p>Then your cat can jump on the keyboard again.</p>\\n                                                                                                                                                                                                                                                                                                                                                                                                                                                                                                                                                                                                                                                                                                                                                                                                                                                   |2012|1    |17 |\n",
            "|10 |6       |2         |null            |9          |2012-01-17 21:30:52.607|16   |null     |null       |2           |2015-07-13 23:56:35.557|null                                                                             |null                                                                                                              |<p>You can use the <code>ExclusionsStyle</code> option to control how Mathematica renders regions excluded from the Plot.</p>\\n\\n<p><strong>Edit</strong>\\nDoing something like <code>ExclusionsStyle -&gt; {None, {{Black, PointSize[Large]}}}</code> will put a large point at the excluded points. For example, modifying a function from the help documentation:</p>\\n\\n<p><img src=\"https://i.stack.imgur.com/eCtzR.png\" alt=\"Mathematica graphics\"></p>\\n                                                                                                                                                                                                                                                                                                                                                                                                                                                                                                                                                                                                                                                                                                                                                                                                                                                                                                                                                                                                                                                                                                                                                                            |2012|1    |17 |\n",
            "+---+--------+----------+----------------+-----------+-----------------------+-----+---------+-----------+------------+-----------------------+---------------------------------------------------------------------------------+------------------------------------------------------------------------------------------------------------------+-------------------------------------------------------------------------------------------------------------------------------------------------------------------------------------------------------------------------------------------------------------------------------------------------------------------------------------------------------------------------------------------------------------------------------------------------------------------------------------------------------------------------------------------------------------------------------------------------------------------------------------------------------------------------------------------------------------------------------------------------------------------------------------------------------------------------------------------------------------------------------------------------------------------------------------------------------------------------------------------------------------------------------------------------------------------------------------------------------------------------------------------------------------------------------------------------------------------------------------------------------------------------------------------------------------------------------------------------------------------------------------------------------------------------------------------------------------------------------------------------------------------------------------------------------------------------------------------------------------------------------------------+----+-----+---+\n",
            "only showing top 10 rows\n",
            "\n"
          ]
        }
      ]
    },
    {
      "cell_type": "markdown",
      "source": [
        "#### LOAD AND SAVE BADGES.XML DATASET TO PARQUET FORMAT"
      ],
      "metadata": {
        "id": "zj073VtF-IDk"
      }
    },
    {
      "cell_type": "code",
      "source": [
        "schema = StructType([ \\\n",
        "    StructField(\"_Class\", LongType(), True), \\\n",
        "    StructField(\"_Date\", StringType(), True), \\\n",
        "    StructField(\"_CommentCount\", LongType(), True), \\\n",
        "    StructField(\"_Id\", LongType(), True), \\\n",
        "    StructField(\"_Name\", StringType(), True), \\\n",
        "    StructField(\"_TagBased\", BooleanType(), True), \\\n",
        "    StructField(\"_UserId\", LongType(), True), \\\n",
        "    StructField(\"Year\", LongType(), True), \\\n",
        "    StructField(\"Month\", LongType(), True), \\\n",
        "    StructField(\"Day\", LongType(), True)\n",
        "])\n",
        "\n",
        "badgesDF = spark.read \\\n",
        "          .format('com.databricks.spark.xml') \\\n",
        "          .options(rootTag='badges') \\\n",
        "          .options(rowTag='row') \\\n",
        "          .schema(schema) \\\n",
        "          .load('/content/input/Badges.xml')\n",
        "\n",
        "badgesDF = badgesDF \\\n",
        "           .withColumnRenamed(\"_Class\", \"Class\") \\\n",
        "           .withColumnRenamed(\"_Date\", \"Date\") \\\n",
        "           .withColumnRenamed(\"_CommentCount\", \"CommentCount\") \\\n",
        "           .withColumnRenamed(\"_Id\", \"Id\") \\\n",
        "           .withColumnRenamed(\"_Name\", \"Name\") \\\n",
        "           .withColumnRenamed(\"_TagBased\", \"TagBased\") \\\n",
        "           .withColumnRenamed(\"_UserId\", \"UserId\")\n",
        "\n",
        "badgesDF = badgesDF \\\n",
        "           .select([\"Id\", \"UserId\", \"Class\", \"Date\", \"CommentCount\", \"TagBased\",\"Name\"]) \\\n",
        "           .withColumn(\"Year\", date_format(col(\"Date\"), \"y\").cast(\"integer\")) \\\n",
        "           .withColumn(\"Month\", date_format(col(\"Date\"), \"M\").cast(\"integer\")) \\\n",
        "           .withColumn(\"Day\", date_format(col(\"Date\"), \"d\").cast(\"integer\"))\n",
        "\n",
        "badgesDF.printSchema()\n",
        "badgesDF.show(n=10, truncate=False)\n",
        "\n",
        "badgesDF = badgesDF \\\n",
        "          .write \\\n",
        "          .partitionBy(\"Year\", \"Month\", \"Day\") \\\n",
        "          .mode(\"overwrite\") \\\n",
        "          .parquet(\"/content/output/badges.parquet\")"
      ],
      "metadata": {
        "id": "k0mWYqay1eJR",
        "outputId": "79b3c178-5d72-4270-b96f-af6f921a3b50",
        "colab": {
          "base_uri": "https://localhost:8080/"
        }
      },
      "execution_count": 99,
      "outputs": [
        {
          "output_type": "stream",
          "name": "stdout",
          "text": [
            "root\n",
            " |-- Id: long (nullable = true)\n",
            " |-- UserId: long (nullable = true)\n",
            " |-- Class: long (nullable = true)\n",
            " |-- Date: string (nullable = true)\n",
            " |-- CommentCount: long (nullable = true)\n",
            " |-- TagBased: boolean (nullable = true)\n",
            " |-- Name: string (nullable = true)\n",
            " |-- Year: integer (nullable = true)\n",
            " |-- Month: integer (nullable = true)\n",
            " |-- Day: integer (nullable = true)\n",
            "\n",
            "+---+------+-----+-----------------------+------------+--------+--------------+----+-----+---+\n",
            "|Id |UserId|Class|Date                   |CommentCount|TagBased|Name          |Year|Month|Day|\n",
            "+---+------+-----+-----------------------+------------+--------+--------------+----+-----+---+\n",
            "|1  |1     |3    |2012-01-17T20:56:42.617|null        |false   |Autobiographer|2012|1    |17 |\n",
            "|2  |2     |3    |2012-01-17T20:56:42.617|null        |false   |Autobiographer|2012|1    |17 |\n",
            "|3  |3     |3    |2012-01-17T20:56:42.617|null        |false   |Autobiographer|2012|1    |17 |\n",
            "|4  |8     |3    |2012-01-17T21:01:42.390|null        |false   |Autobiographer|2012|1    |17 |\n",
            "|5  |7     |3    |2012-01-17T21:06:42.367|null        |false   |Analytical    |2012|1    |17 |\n",
            "|6  |11    |3    |2012-01-17T21:06:42.417|null        |false   |Autobiographer|2012|1    |17 |\n",
            "|7  |20    |3    |2012-01-17T21:11:42.347|null        |false   |Autobiographer|2012|1    |17 |\n",
            "|8  |22    |3    |2012-01-17T21:11:42.347|null        |false   |Autobiographer|2012|1    |17 |\n",
            "|9  |29    |3    |2012-01-17T21:11:42.347|null        |false   |Autobiographer|2012|1    |17 |\n",
            "|10 |5     |3    |2012-01-17T21:11:42.893|null        |false   |Student       |2012|1    |17 |\n",
            "+---+------+-----+-----------------------+------------+--------+--------------+----+-----+---+\n",
            "only showing top 10 rows\n",
            "\n"
          ]
        }
      ]
    },
    {
      "cell_type": "markdown",
      "source": [
        "#### LOAD AND SAVE COMMENTS.XML DATASET TO PARQUET FORMAT"
      ],
      "metadata": {
        "id": "aSDZrFA0-eEl"
      }
    },
    {
      "cell_type": "code",
      "source": [
        "schema = StructType([ \\\n",
        "    StructField(\"_ContentLicense\", StringType(), True), \\\n",
        "    StructField(\"_CreationDate\", StringType(), True), \\\n",
        "    StructField(\"_Id\", LongType(), True), \\\n",
        "    StructField(\"_PostId\", LongType(), True), \\\n",
        "    StructField(\"_Score\", LongType(), True), \\\n",
        "    StructField(\"_Text\", StringType(), True), \\\n",
        "    StructField(\"_UserDisplayName\", StringType(), True), \\\n",
        "    StructField(\"_UserId\", LongType(), True),\n",
        "    StructField(\"Year\", LongType(), True), \\\n",
        "    StructField(\"Month\", LongType(), True), \\\n",
        "    StructField(\"Day\", LongType(), True)        \n",
        "])\n",
        "\n",
        "commentsDF = spark.read \\\n",
        "            .format('com.databricks.spark.xml') \\\n",
        "            .options(rootTag='comments') \\\n",
        "            .options(rowTag='row') \\\n",
        "            .schema(schema) \\\n",
        "            .load('/content/input/Comments.xml')\n",
        "\n",
        "commentsDF = commentsDF \\\n",
        "             .withColumnRenamed(\"_ContentLicense\", \"ContentLicense\") \\\n",
        "             .withColumnRenamed(\"_CreationDate\", \"CreationDate\") \\\n",
        "             .withColumnRenamed(\"_Id\", \"Id\") \\\n",
        "             .withColumnRenamed(\"_PostId\", \"PostId\") \\\n",
        "             .withColumnRenamed(\"_Score\", \"Score\") \\\n",
        "             .withColumnRenamed(\"_Text\", \"Text\") \\\n",
        "             .withColumnRenamed(\"_UserDisplayName\", \"UserDisplayName\") \\\n",
        "             .withColumnRenamed(\"_UserId\", \"UserId\") \\\n",
        "\n",
        "commentsDF = commentsDF \\\n",
        "            .select([\"Id\", \"PostId\", \"UserId\", \"CreationDate\", \"ContentLicense\", \\\n",
        "                    \"UserDisplayName\", \"Score\", \"Text\"]) \\\n",
        "            .withColumn(\"Year\", date_format(col(\"CreationDate\"), \"y\").cast(\"integer\")) \\\n",
        "            .withColumn(\"Month\", date_format(col(\"CreationDate\"), \"M\").cast(\"integer\")) \\\n",
        "            .withColumn(\"Day\", date_format(col(\"CreationDate\"), \"d\").cast(\"integer\"))\n",
        "\n",
        "commentsDF.printSchema()\n",
        "commentsDF.show(n=10, truncate=False)\n",
        "\n",
        "commentsDF = commentsDF \\\n",
        "            .write \\\n",
        "            .partitionBy(\"Year\", \"Month\", \"Day\") \\\n",
        "            .mode(\"overwrite\") \\\n",
        "            .parquet(\"/content/output/comments.parquet\")"
      ],
      "metadata": {
        "id": "oSb3uY7F12HG",
        "outputId": "2f53a0cb-11c1-4d48-9aa5-cdea135bc8e3",
        "colab": {
          "base_uri": "https://localhost:8080/"
        }
      },
      "execution_count": 100,
      "outputs": [
        {
          "output_type": "stream",
          "name": "stdout",
          "text": [
            "root\n",
            " |-- Id: long (nullable = true)\n",
            " |-- PostId: long (nullable = true)\n",
            " |-- UserId: long (nullable = true)\n",
            " |-- CreationDate: string (nullable = true)\n",
            " |-- ContentLicense: string (nullable = true)\n",
            " |-- UserDisplayName: string (nullable = true)\n",
            " |-- Score: long (nullable = true)\n",
            " |-- Text: string (nullable = true)\n",
            " |-- Year: integer (nullable = true)\n",
            " |-- Month: integer (nullable = true)\n",
            " |-- Day: integer (nullable = true)\n",
            "\n",
            "+---+------+------+-----------------------+--------------+---------------+-----+-----------------------------------------------------------------------------------------------------------------------------------------------------------------------------------------------------------------------------------------------------------------------------------------------------------+----+-----+---+\n",
            "|Id |PostId|UserId|CreationDate           |ContentLicense|UserDisplayName|Score|Text                                                                                                                                                                                                                                                                                                       |Year|Month|Day|\n",
            "+---+------+------+-----------------------+--------------+---------------+-----+-----------------------------------------------------------------------------------------------------------------------------------------------------------------------------------------------------------------------------------------------------------------------------------------------------------+----+-----+---+\n",
            "|1  |7     |29    |2012-01-17T21:29:17.180|CC BY-SA 3.0  |null           |2    |but that still does not stop the cat from hitting Esc @ Esc again ...                                                                                                                                                                                                                                      |2012|1    |17 |\n",
            "|2  |7     |5     |2012-01-17T21:29:53.170|CC BY-SA 3.0  |null           |1    |Yeah, the show expression is how I figured out these functions. I can see the use for invisible space (lets you place superscripts/subscripts without needing anything visible to latch on to), and invisible comma (lets you use indexing like in math). It's the invisible apply that has me wondering...|2012|1    |17 |\n",
            "|3  |11    |43    |2012-01-17T21:33:29.797|CC BY-SA 3.0  |null           |4    |I should have mentioned that this is using version 8. In version 7 and before, Pick was not optimized for packed arrays.                                                                                                                                                                                   |2012|1    |17 |\n",
            "|5  |10    |37    |2012-01-17T21:36:18.857|CC BY-SA 3.0  |null           |0    |As near as I can tell, that simply changes how that segment of the graph is drawn (e.g. by omitting a single pixel in the figure), and provides no way to \"exaggerate\" the relevant points so they can be clearly seen.                                                                                    |2012|1    |17 |\n",
            "|7  |10    |9     |2012-01-17T21:38:15.967|CC BY-SA 3.0  |null           |0    |I've updated with another option. The second entry in that options list sets the boundary style for the exclusion.                                                                                                                                                                                         |2012|1    |17 |\n",
            "|13 |15    |37    |2012-01-17T21:46:38.620|CC BY-SA 3.0  |null           |0    |Why won't this work with `Sin[x]/x, {x, -10, 10}, Exclusions -> {0}`?                                                                                                                                                                                                                                      |2012|1    |17 |\n",
            "|14 |17    |44    |2012-01-17T21:49:56.213|CC BY-SA 3.0  |null           |2    |My question is about sums it can't compute. I gave a simple example but there are harder sums that don't give an exact result.                                                                                                                                                                             |2012|1    |17 |\n",
            "|16 |17    |9     |2012-01-17T21:52:39.733|CC BY-SA 3.0  |null           |0    |If you want Wolfram|Alpha like results, you can always use `WolframAlpha[\"Sum[1/(2 p!),{p,0,Infinity}]\"]`                                                                                                                                                                                                  |2012|1    |17 |\n",
            "|17 |17    |18    |2012-01-17T21:53:21.293|CC BY-SA 3.0  |null           |0    |@Eli I think the question being asked is \"can we get Mathematica to propose a possible exact number based on an approximation to it?\"                                                                                                                                                                      |2012|1    |17 |\n",
            "|18 |17    |50    |2012-01-17T21:53:50.730|CC BY-SA 3.0  |null           |0    |@Sky: something like a *Mathematica* interface for the [ISC](http://oldweb.cecm.sfu.ca/projects/ISC/ISCmain.html), then?                                                                                                                                                                                   |2012|1    |17 |\n",
            "+---+------+------+-----------------------+--------------+---------------+-----+-----------------------------------------------------------------------------------------------------------------------------------------------------------------------------------------------------------------------------------------------------------------------------------------------------------+----+-----+---+\n",
            "only showing top 10 rows\n",
            "\n"
          ]
        }
      ]
    },
    {
      "cell_type": "markdown",
      "source": [
        "#### LOAD AND SAVE POSTHISTORY.XML DATASET TO PARQUET FORMAT"
      ],
      "metadata": {
        "id": "tf2A25A6-nix"
      }
    },
    {
      "cell_type": "code",
      "source": [
        "schema = StructType([ \\\n",
        "    StructField(\"_Comment\", StringType(), True), \\\n",
        "    StructField(\"_ContentLicense\", StringType(), True), \\\n",
        "    StructField(\"_CreationDate\", StringType(), True), \\\n",
        "    StructField(\"_Id\", LongType(), True), \\\n",
        "    StructField(\"_PostHistoryTypeId\", LongType(), True), \\\n",
        "    StructField(\"_PostId\", LongType(), True), \\\n",
        "    StructField(\"_RevisionGUID\", StringType(), True), \\\n",
        "    StructField(\"_Text\", StringType(), True), \\\n",
        "    StructField(\"_UserDisplayName\", StringType(), True), \\\n",
        "    StructField(\"_UserId\", LongType(), True), \\\n",
        "    StructField(\"Year\", LongType(), True), \\\n",
        "    StructField(\"Month\", LongType(), True), \\\n",
        "    StructField(\"Day\", LongType(), True)    \n",
        "])\n",
        "\n",
        "postHistoryDF = spark.read \\\n",
        "                .format('com.databricks.spark.xml') \\\n",
        "                .options(rootTag='posthistory') \\\n",
        "                .options(rowTag='row') \\\n",
        "                .schema(schema) \\\n",
        "                .load('/content/input/PostHistory.xml')\n",
        "               \n",
        "postHistoryDF = postHistoryDF \\\n",
        "                .withColumnRenamed(\"_Comment\", \"Comment\") \\\n",
        "                .withColumnRenamed(\"_ContentLicense\", \"ContentLicense\") \\\n",
        "                .withColumnRenamed(\"_CreationDate\", \"CreationDate\") \\\n",
        "                .withColumnRenamed(\"_Id\", \"Id\") \\\n",
        "                .withColumnRenamed(\"_PostHistoryTypeId\", \"PostHistoryTypeId\") \\\n",
        "                .withColumnRenamed(\"_PostId\", \"PostId\") \\\n",
        "                .withColumnRenamed(\"_RevisionGUID\", \"RevisionGUID\") \\\n",
        "                .withColumnRenamed(\"_Text\", \"Text\") \\\n",
        "                .withColumnRenamed(\"_UserDisplayName\", \"UserDisplayName\") \\\n",
        "                .withColumnRenamed(\"_UserId\", \"UserId\") \\\n",
        "\n",
        "postHistoryDF = postHistoryDF \\\n",
        "                .select([\"Id\", \"PostId\", \"PostHistoryTypeId\", \"UserId\", \\\n",
        "                         \"CreationDate\", \"RevisionGUID\", \"ContentLicense\", \"UserDisplayName\", \"Comment\", \"Text\"]) \\\n",
        "                .withColumn(\"Year\", date_format(col(\"CreationDate\"), \"y\").cast(\"integer\")) \\\n",
        "                .withColumn(\"Month\", date_format(col(\"CreationDate\"), \"M\").cast(\"integer\")) \\\n",
        "                .withColumn(\"Day\", date_format(col(\"CreationDate\"), \"d\").cast(\"integer\"))                       \n",
        "\n",
        "postHistoryDF.printSchema()\n",
        "postHistoryDF.show(n=10, truncate=False)  \n",
        "\n",
        "postHistoryDF = postHistoryDF \\\n",
        "                .write \\\n",
        "                .partitionBy(\"Year\", \"Month\", \"Day\") \\\n",
        "                .mode(\"overwrite\") \\\n",
        "                .parquet(\"/content/output/posthistory.parquet\")  "
      ],
      "metadata": {
        "id": "qJGp6ztT2FdS",
        "outputId": "ae260e3b-f9f2-489c-c8bb-c838ad485d62",
        "colab": {
          "base_uri": "https://localhost:8080/"
        }
      },
      "execution_count": 101,
      "outputs": [
        {
          "output_type": "stream",
          "name": "stdout",
          "text": [
            "root\n",
            " |-- Id: long (nullable = true)\n",
            " |-- PostId: long (nullable = true)\n",
            " |-- PostHistoryTypeId: long (nullable = true)\n",
            " |-- UserId: long (nullable = true)\n",
            " |-- CreationDate: string (nullable = true)\n",
            " |-- RevisionGUID: string (nullable = true)\n",
            " |-- ContentLicense: string (nullable = true)\n",
            " |-- UserDisplayName: string (nullable = true)\n",
            " |-- Comment: string (nullable = true)\n",
            " |-- Text: string (nullable = true)\n",
            " |-- Year: integer (nullable = true)\n",
            " |-- Month: integer (nullable = true)\n",
            " |-- Day: integer (nullable = true)\n",
            "\n",
            "+---+------+-----------------+------+-----------------------+------------------------------------+--------------+---------------+-------+------------------------------------------------------------------------------------------------------------------------------------------------------------------------------------------------------------------------------------------------------------------------------------------------------------------------------------------------------------------------------------------------------------------------------------------------------------------------------------------------------------------------------------------------------------------------------------------------------------------------------------------------------------------------------------------------------------------------------------------------------------------------------------------------------------------------------------------------------------------------------------------------------------------------------------------------------------------------------------------------------------------------------------------------------------------------------------------------------------------------------------------------------------------------------------------------------------------------------------------------------------------------------------------+----+-----+---+\n",
            "|Id |PostId|PostHistoryTypeId|UserId|CreationDate           |RevisionGUID                        |ContentLicense|UserDisplayName|Comment|Text                                                                                                                                                                                                                                                                                                                                                                                                                                                                                                                                                                                                                                                                                                                                                                                                                                                                                                                                                                                                                                                                                                                                                                                                                                                                                      |Year|Month|Day|\n",
            "+---+------+-----------------+------+-----------------------+------------------------------------+--------------+---------------+-------+------------------------------------------------------------------------------------------------------------------------------------------------------------------------------------------------------------------------------------------------------------------------------------------------------------------------------------------------------------------------------------------------------------------------------------------------------------------------------------------------------------------------------------------------------------------------------------------------------------------------------------------------------------------------------------------------------------------------------------------------------------------------------------------------------------------------------------------------------------------------------------------------------------------------------------------------------------------------------------------------------------------------------------------------------------------------------------------------------------------------------------------------------------------------------------------------------------------------------------------------------------------------------------------+----+-----+---+\n",
            "|1  |1     |2                |5     |2012-01-17T21:03:59.200|1bdde89b-1a24-4e8f-8a0d-d49618a8e4ef|CC BY-SA 3.0  |null           |null   |From the front end, `\\[InvisibleApplication]` can be entered as <kbd>Esc</kbd> <kbd>@</kbd> <kbd>Esc</kbd>, and is an invisible operator for `@`!. By an unfortunate combination of key-presses (there may have been a cat involved), this crept up in my code and I spent a great deal of time trying to figure out why in the world `f x` was being interpreted as `f[x]`. Example:\\r\\n\\r\\n![enter image description here][1]\\r\\n\\r\\nNow there is no way I could've spotted this visually. The `*Form`s weren't of much help either. If you're careful enough, you can see an invisible character between `f` and `x` if you move your cursor across the expression. Eventually, I found this out only by looking at the contents of the cell. \\r\\n\\r\\nThere's also `\\[InvisibleSpace]`, `\\[InvisibleComma]` and `\\[ImplicitPlus]`, which are analogous to the above. There must be some use for these (perhaps internally), which is why it has been implemented in the first place.\\r\\n\\r\\nThe only advantage I can see for these functions is to sort of visually obfuscate the code. Where (or how) is this used (perhaps internally?), and can I disable it? If it's possible to disable, will there be any side effects?\\r\\n\\r\\n\\r\\n \\r\\n  [1]: http://i.stack.imgur.com/2Hxll.png|2012|1    |17 |\n",
            "|2  |1     |1                |5     |2012-01-17T21:03:59.200|1bdde89b-1a24-4e8f-8a0d-d49618a8e4ef|CC BY-SA 3.0  |null           |null   |How is \\[InvisibleApplication] used and can I disable it?                                                                                                                                                                                                                                                                                                                                                                                                                                                                                                                                                                                                                                                                                                                                                                                                                                                                                                                                                                                                                                                                                                                                                                                                                                 |2012|1    |17 |\n",
            "|3  |1     |3                |5     |2012-01-17T21:03:59.200|1bdde89b-1a24-4e8f-8a0d-d49618a8e4ef|CC BY-SA 3.0  |null           |null   |<front-end>                                                                                                                                                                                                                                                                                                                                                                                                                                                                                                                                                                                                                                                                                                                                                                                                                                                                                                                                                                                                                                                                                                                                                                                                                                                                               |2012|1    |17 |\n",
            "|4  |2     |2                |8     |2012-01-17T21:10:34.680|608fbddf-c71d-4c2c-b53a-29d991abfddd|CC BY-SA 3.0  |null           |null   |`Cases`, `Select` and `Position` each have different syntaxes and purposes, but there are times when you can express the same calculation equivalently using either of them. So with this input:\\r\\n\\r\\n    test = RandomInteger[{-25, 25}, {20, 2}]\\r\\n    \\r\\n    {{-15, 13}, {-8, 16}, {-8, -19}, {7, 6}, {-21, 9}, {-3, -25}, {21, -18}, {4, 4}, {2, -2}, {-24,  8}, {-17, -8}, {4, -18}, {22, -24}, {-4, -3}, {21, 0}, {19,    18}, {-23, -8}, {23, -25}, {14, -2}, {-1, -13}}\\r\\n\\r\\nYou can get the following equivalent results:\\r\\n    \\r\\n    Cases[test, {_, _?Positive}]\\r\\n    \\r\\n    {{-15, 13}, {-8, 16}, {7, 6}, {-21, 9}, {4, 4}, {-24, 8}, {19, 18}}\\r\\n    \\r\\n    Select[test, #[[2]] > 0 &]\\r\\n    \\r\\n    {{-15, 13}, {-8, 16}, {7, 6}, {-21, 9}, {4, 4}, {-24, 8}, {19, 18}}\\r\\n    \\r\\n    test[[Flatten@Position[test[[All, 2]], _?Positive] ]]\\r\\n    \\r\\n    {{-15, 13}, {-8, 16}, {7, 6}, {-21, 9}, {4, 4}, {-24, 8}, {19, 18}}\\r\\n\\r\\nAre there performance or other considerations that should guide which you should use? For example, is the pattern-matching used in `Cases` likely to be slower than the functional tests used in `Select`? Are there any generic rules of thumb, or is testing the particular case you are using the only solution?   |2012|1    |17 |\n",
            "|5  |2     |1                |8     |2012-01-17T21:10:34.680|608fbddf-c71d-4c2c-b53a-29d991abfddd|CC BY-SA 3.0  |null           |null   |What best practices or performance considerations are there for choosing between Cases, Position, and Select?                                                                                                                                                                                                                                                                                                                                                                                                                                                                                                                                                                                                                                                                                                                                                                                                                                                                                                                                                                                                                                                                                                                                                                             |2012|1    |17 |\n",
            "|6  |2     |3                |8     |2012-01-17T21:10:34.680|608fbddf-c71d-4c2c-b53a-29d991abfddd|CC BY-SA 3.0  |null           |null   |<performance><pattern-matching>                                                                                                                                                                                                                                                                                                                                                                                                                                                                                                                                                                                                                                                                                                                                                                                                                                                                                                                                                                                                                                                                                                                                                                                                                                                           |2012|1    |17 |\n",
            "|7  |3     |2                |5     |2012-01-17T21:15:54.660|55ca5ef6-8947-4757-8f3b-5c7341287fb1|CC BY-SA 3.0  |null           |null   |The new [CDF (computable document format)](http://www.wolfram.com/cdf-player/) lets you embed a `Manipulate` or other interactive graphics on your website, and users can play around with your little script using the free player. \\r\\n\\r\\nWhat steps do I need to follow to \\r\\n\\r\\n 1. Create the CDF file correctly so that it displays a static picture (that I choose) if the user doesn't have the player and fires up the player if they do?\\r\\n 2. Make the necessary changes to my website/server to enable this?\\r\\n\\r\\n                                                                                                                                                                                                                                                                                                                                                                                                                                                                                                                                                                                                                                                                                                                                                      |2012|1    |17 |\n",
            "|8  |3     |1                |5     |2012-01-17T21:15:54.660|55ca5ef6-8947-4757-8f3b-5c7341287fb1|CC BY-SA 3.0  |null           |null   |How can I embed a Manipulate (or other interactive graphics) in my website using CDF?                                                                                                                                                                                                                                                                                                                                                                                                                                                                                                                                                                                                                                                                                                                                                                                                                                                                                                                                                                                                                                                                                                                                                                                                     |2012|1    |17 |\n",
            "|9  |3     |3                |5     |2012-01-17T21:15:54.660|55ca5ef6-8947-4757-8f3b-5c7341287fb1|CC BY-SA 3.0  |null           |null   |<cdf-format>                                                                                                                                                                                                                                                                                                                                                                                                                                                                                                                                                                                                                                                                                                                                                                                                                                                                                                                                                                                                                                                                                                                                                                                                                                                                              |2012|1    |17 |\n",
            "|10 |4     |2                |35    |2012-01-17T21:22:33.107|6c25a6dc-4b1a-4a0b-ba23-1ec048202778|CC BY-SA 3.0  |null           |null   |A little testing says that at least in this case `Position` wins hands down:\\r\\n\\r\\n    test = RandomInteger[{-25, 25}, {10^6, 2}];\\r\\n\\r\\n    AbsoluteTiming[Length[Cases[test, {_, _?Positive}]]]\\r\\n    {2.087033, 489565}\\r\\n\\r\\n    AbsoluteTiming[Length[Select[test, #[[2]] > 0 &]]]\\r\\n    {2.265396, 489565}\\r\\n\\r\\n    AbsoluteTiming[Length[test[[Flatten@Position[test[[All, 2]], _?Positive]]]]]\\r\\n    {1.417782, 489565}\\r\\n\\r\\nThere's some variability in the results between runs of the test, but at most a few percent.                                                                                                                                                                                                                                                                                                                                                                                                                                                                                                                                                                                                                                                                                                                                               |2012|1    |17 |\n",
            "+---+------+-----------------+------+-----------------------+------------------------------------+--------------+---------------+-------+------------------------------------------------------------------------------------------------------------------------------------------------------------------------------------------------------------------------------------------------------------------------------------------------------------------------------------------------------------------------------------------------------------------------------------------------------------------------------------------------------------------------------------------------------------------------------------------------------------------------------------------------------------------------------------------------------------------------------------------------------------------------------------------------------------------------------------------------------------------------------------------------------------------------------------------------------------------------------------------------------------------------------------------------------------------------------------------------------------------------------------------------------------------------------------------------------------------------------------------------------------------------------------------+----+-----+---+\n",
            "only showing top 10 rows\n",
            "\n"
          ]
        }
      ]
    },
    {
      "cell_type": "markdown",
      "source": [
        "#### LOAD AND SAVE TAGS.XML DATASET TO PARQUET FORMAT"
      ],
      "metadata": {
        "id": "0Kxfkq-K-xIi"
      }
    },
    {
      "cell_type": "code",
      "source": [
        "schema = StructType([ \\\n",
        "    StructField(\"_Count\", LongType(), True), \\\n",
        "    StructField(\"_ExcerptPostId\", LongType(), True), \\\n",
        "    StructField(\"_Id\", LongType(), True), \\\n",
        "    StructField(\"_TagName\", StringType(), True), \\\n",
        "    StructField(\"_WikiPostId\", LongType(), True)    \n",
        "])\n",
        "\n",
        "tagsDF = spark.read \\\n",
        "         .format('com.databricks.spark.xml') \\\n",
        "         .options(rootTag='tags') \\\n",
        "         .options(rowTag='row') \\\n",
        "         .schema(schema) \\\n",
        "         .load('/content/input/Tags.xml')\n",
        "\n",
        "tagsDF = tagsDF \\\n",
        "         .withColumnRenamed(\"_Count\", \"Count\") \\\n",
        "         .withColumnRenamed(\"_ExcerptPostId\", \"ExcerptPostId\") \\\n",
        "         .withColumnRenamed(\"_Id\", \"Id\") \\\n",
        "         .withColumnRenamed(\"_TagName\", \"TagName\") \\\n",
        "         .withColumnRenamed(\"_WikiPostId\", \"WikiPostId\")\n",
        "\n",
        "tagsDF = tagsDF \\\n",
        "        .select([\"Id\", \"ExcerptPostId\", \"WikiPostId\", \"Count\", \"TagName\"])\n",
        "\n",
        "tagsDF.printSchema()\n",
        "tagsDF.show(n=10, truncate=False)\n",
        "\n",
        "tagsDF = tagsDF \\\n",
        "         .write \\\n",
        "         .partitionBy(\"Id\") \\\n",
        "         .mode(\"overwrite\") \\\n",
        "         .parquet(\"/content/output/tags.parquet\") "
      ],
      "metadata": {
        "id": "facMBeo036Oq",
        "outputId": "595ebaef-22f0-4f7f-9092-601b159082b9",
        "colab": {
          "base_uri": "https://localhost:8080/"
        }
      },
      "execution_count": 102,
      "outputs": [
        {
          "output_type": "stream",
          "name": "stdout",
          "text": [
            "root\n",
            " |-- Id: long (nullable = true)\n",
            " |-- ExcerptPostId: long (nullable = true)\n",
            " |-- WikiPostId: long (nullable = true)\n",
            " |-- Count: long (nullable = true)\n",
            " |-- TagName: string (nullable = true)\n",
            "\n",
            "+---+-------------+----------+-----+-----------------+\n",
            "|Id |ExcerptPostId|WikiPostId|Count|TagName          |\n",
            "+---+-------------+----------+-----+-----------------+\n",
            "|1  |178          |177       |1811 |front-end        |\n",
            "|3  |1689         |1688      |1395 |pattern-matching |\n",
            "|4  |94           |93        |209  |cdf-format       |\n",
            "|5  |null         |null      |36   |topology         |\n",
            "|6  |143          |142       |4435 |graphics         |\n",
            "|7  |111          |110       |14628|plotting         |\n",
            "|9  |439          |438       |3281 |matrix           |\n",
            "|10 |413          |412       |1456 |symbolic         |\n",
            "|11 |89795        |89794     |185  |inverse          |\n",
            "|13 |67           |66        |132  |reference-request|\n",
            "+---+-------------+----------+-----+-----------------+\n",
            "only showing top 10 rows\n",
            "\n"
          ]
        }
      ]
    },
    {
      "cell_type": "markdown",
      "source": [
        "#### LOAD AND SAVE USERS.XML DATASET TO PARQUET FORMAT"
      ],
      "metadata": {
        "id": "oHPm50wM-4JQ"
      }
    },
    {
      "cell_type": "code",
      "source": [
        "from pyspark.sql.functions import *\n",
        "\n",
        "schema = StructType([ \\\n",
        "    StructField(\"_AboutMe\", StringType(), True), \\\n",
        "    StructField(\"_AccountId\", LongType(), True), \\\n",
        "    StructField(\"_CreationDate\", StringType(), True), \\\n",
        "    StructField(\"_DisplayName\", StringType(), True), \\\n",
        "    StructField(\"_DownVotes\", LongType(), True), \\\n",
        "    StructField(\"_Id\", LongType(), True), \\\n",
        "    StructField(\"_LastAccessDate\", StringType(), True), \\\n",
        "    StructField(\"_Location\", StringType(), True), \\\n",
        "    StructField(\"_ProfileImageUrl\", StringType(), True), \\\n",
        "    StructField(\"_Reputation\", LongType(), True), \\\n",
        "    StructField(\"_UpVotes\", LongType(), True), \\\n",
        "    StructField(\"_Views\", LongType(), True), \\\n",
        "    StructField(\"_WebsiteUrl\", StringType(), True), \\\n",
        "    StructField(\"Year\", LongType(), True), \\\n",
        "    StructField(\"Month\", LongType(), True), \\\n",
        "    StructField(\"Day\", LongType(), True)\n",
        "])\n",
        "\n",
        "usersDF = spark.read \\\n",
        "          .format('com.databricks.spark.xml') \\\n",
        "          .options(rootTag='Users') \\\n",
        "          .options(rowTag='row') \\\n",
        "          .schema(schema) \\\n",
        "          .load('/content/input/Users.xml')\n",
        "\n",
        "usersDF = usersDF \\\n",
        "          .withColumnRenamed(\"_AboutMe\", \"AboutMe\") \\\n",
        "          .withColumnRenamed(\"_AccountId\", \"AccountId\") \\\n",
        "          .withColumnRenamed(\"_CreationDate\", \"CreationDate\") \\\n",
        "          .withColumnRenamed(\"_DisplayName\", \"DisplayName\") \\\n",
        "          .withColumnRenamed(\"_DownVotes\", \"DownVotes\") \\\n",
        "          .withColumnRenamed(\"_Id\", \"Id\") \\\n",
        "          .withColumnRenamed(\"_LastAccessDate\", \"LastAccessDate\") \\\n",
        "          .withColumnRenamed(\"_Location\", \"Location\") \\\n",
        "          .withColumnRenamed(\"_ProfileImageUrl\", \"ProfileImageUrl\") \\\n",
        "          .withColumnRenamed(\"_Reputation\", \"Reputation\") \\\n",
        "          .withColumnRenamed(\"_UpVotes\", \"UpVotes\") \\\n",
        "          .withColumnRenamed(\"_Views\", \"Views\") \\\n",
        "          .withColumnRenamed(\"_WebsiteUrl\", \"WebsiteUrl\") \\\n",
        "\n",
        "usersDF = usersDF \\\n",
        "          .select([\"Id\", \"AccountId\", to_timestamp(\"CreationDate\").alias(\"CreationDate\"), \\\n",
        "                  to_timestamp(\"LastAccessDate\").alias(\"LastAccessDate\"), \"DownVotes\", \\\n",
        "                  \"UpVotes\", \"Reputation\", \"Views\", \"WebsiteUrl\", \"ProfileImageUrl\", \\\n",
        "                  \"Location\", \"DisplayName\", \"AboutMe\"           \n",
        "                  ]) \\\n",
        "          .withColumn(\"Year\", date_format(col(\"CreationDate\"), \"y\")) \\\n",
        "          .withColumn(\"Month\", date_format(col(\"CreationDate\"), \"M\")) \\\n",
        "          .withColumn(\"Day\", date_format(col(\"CreationDate\"), \"d\"))\n",
        "\n",
        "usersDF.printSchema()\n",
        "usersDF.show(n=10, truncate=False) \n",
        "\n",
        "usersDF = usersDF \\\n",
        "          .write \\\n",
        "          .partitionBy(\"Year\", \"Month\", \"Day\") \\\n",
        "          .mode(\"overwrite\") \\\n",
        "          .parquet(\"/content/output/users.parquet\")"
      ],
      "metadata": {
        "id": "hvnYCooN4GVs",
        "outputId": "1d69d573-7c62-4a35-e0ae-d29cf9915775",
        "colab": {
          "base_uri": "https://localhost:8080/"
        }
      },
      "execution_count": 103,
      "outputs": [
        {
          "output_type": "stream",
          "name": "stdout",
          "text": [
            "root\n",
            " |-- Id: long (nullable = true)\n",
            " |-- AccountId: long (nullable = true)\n",
            " |-- CreationDate: timestamp (nullable = true)\n",
            " |-- LastAccessDate: timestamp (nullable = true)\n",
            " |-- DownVotes: long (nullable = true)\n",
            " |-- UpVotes: long (nullable = true)\n",
            " |-- Reputation: long (nullable = true)\n",
            " |-- Views: long (nullable = true)\n",
            " |-- WebsiteUrl: string (nullable = true)\n",
            " |-- ProfileImageUrl: string (nullable = true)\n",
            " |-- Location: string (nullable = true)\n",
            " |-- DisplayName: string (nullable = true)\n",
            " |-- AboutMe: string (nullable = true)\n",
            " |-- Year: string (nullable = true)\n",
            " |-- Month: string (nullable = true)\n",
            " |-- Day: string (nullable = true)\n",
            "\n",
            "+---+---------+-----------------------+-----------------------+---------+-------+----------+-----+------------------------------+-------------------------------------------------------------------------------------------+-------------------+----------------+----------------------------------------------------------------------------------------------------------------------------------------------------------------------------------------------------------------------------------------------------------------------------------------------------------------------------------------------------------------------------------------------------------------------------------------------------------------------------------------------------------------------------------------------------------------------------------------------------------------------------------------------------------------------------------------------------------------------------------------------------------------------------------------------------------------------+----+-----+---+\n",
            "|Id |AccountId|CreationDate           |LastAccessDate         |DownVotes|UpVotes|Reputation|Views|WebsiteUrl                    |ProfileImageUrl                                                                            |Location           |DisplayName     |AboutMe                                                                                                                                                                                                                                                                                                                                                                                                                                                                                                                                                                                                                                                                                                                                                                                                               |Year|Month|Day|\n",
            "+---+---------+-----------------------+-----------------------+---------+-------+----------+-----+------------------------------+-------------------------------------------------------------------------------------------+-------------------+----------------+----------------------------------------------------------------------------------------------------------------------------------------------------------------------------------------------------------------------------------------------------------------------------------------------------------------------------------------------------------------------------------------------------------------------------------------------------------------------------------------------------------------------------------------------------------------------------------------------------------------------------------------------------------------------------------------------------------------------------------------------------------------------------------------------------------------------+----+-----+---+\n",
            "|-1 |-1       |2012-01-17 19:45:21.407|2012-01-17 19:45:21.407|5552     |16546  |1         |238  |http://meta.stackexchange.com/|null                                                                                       |on the server farm |Community       |<p>Hi, I'm not really a person.</p>\\n\\n<p>I'm a background process that helps keep this site clean!</p>\\n\\n<p>I do things like</p>\\n\\n<ul>\\n<li>Randomly poke old unanswered questions every hour so they get some attention</li>\\n<li>Own community questions and answers so nobody gets unnecessary reputation from them</li>\\n<li>Own downvotes on spam/evil posts that get permanently deleted</li>\\n<li>Own suggested edits from anonymous users</li>\\n<li><a href=\"http://meta.stackexchange.com/a/92006\">Remove abandoned questions</a></li>\\n</ul>\\n                                                                                                                                                                                                                                                          |2012|1    |17 |\n",
            "|1  |2        |2012-01-17 20:50:22.267|2016-11-18 21:48:33.183|0        |2      |101       |1745 |http://stackoverflow.com      |https://i.stack.imgur.com/nDllk.png?s=128&g=1                                              |Corvallis, OR      |Geoff Dalgas    |<p>Dev #2 who helped create Stack Overflow currently working at Microsoft. I love all people willing to share their knowledge. Without community we are nothing.</p>\\n<p>Find me on:</p>\\n<p><a href=\"http://www.twitter.com/SuperDalgas\" rel=\"nofollow noreferrer\">Twitter</a>\\n<br><br>\\n<a href=\"http://blog.stackoverflow.com/2009/05/welcome-stack-overflow-valued-associate-00003/\">Stack Overflow Valued Associate #00003</a></p>\\n                                                                                                                                                                                                                                                                                                                                                                            |2012|1    |17 |\n",
            "|2  |7598     |2012-01-17 20:50:28.287|2017-03-04 12:56:57.127|0        |3      |101       |100  |https://nickcraver.com/blog/  |https://i.stack.imgur.com/nGCYr.jpg?s=128&g=1                                              |Winston-Salem, NC  |Nick Craver     |<p>I am a Principal Software Engineer at Microsoft working on Azure Functions and related hosting technologies. Formerly the Architecture Lead for Stack Overflow where my day job consisted of being a Developer, Site Reliability Engineer, and DBA.</p>\\n<p>I design and build very fast things in hopes of making life easier for millions of developers.</p>\\n<p>Blog: <a href=\"https://nickcraver.com/blog/\" rel=\"nofollow noreferrer\">nickcraver.com/blog</a><br />\\nTwitter: <a href=\"https://twitter.com/Nick_Craver\" rel=\"nofollow noreferrer\">@Nick_Craver</a><br />\\nMy Developer Story: <a href=\"https://stackoverflow.com/story/ncraver\">stackoverflow.com/story/ncraver</a></p>\\n<p><sub>Disclaimer: I have <em>no idea</em> what I'm talking about, all my answers are guesses!</sub></p>\\n           |2012|1    |17 |\n",
            "|3  |60791    |2012-01-17 20:51:22.673|2012-11-14 17:00:55.33 |0        |0      |101       |98   |http://rebecca.chernoff.com   |https://www.gravatar.com/avatar/60adc7c174e7a2bdd3007df9734fafb6?s=128&d=identicon&r=PG&f=1|St Louis, MO       |Rebecca Chernoff|<p>Former Stack Exchange Community/Dev Team Member.</p>\\n\\n<p>I'm <a href=\"http://twitter.com/rchern\" rel=\"nofollow noreferrer\">@rchern</a> on Twitter.</p>\\n\\n<p>You can email me at rebecca.chernoff on gmail.</p>\\n                                                                                                                                                                                                                                                                                                                                                                                                                                                                                                                                                                                                |2012|1    |17 |\n",
            "|4  |1102655  |2012-01-17 20:52:52.78 |2022-12-03 14:08:16.59 |0        |98     |1805      |1380 |null                          |null                                                                                       |null               |FDSg            |null                                                                                                                                                                                                                                                                                                                                                                                                                                                                                                                                                                                                                                                                                                                                                                                                                  |2012|1    |17 |\n",
            "|5  |1178970  |2012-01-17 20:53:12.04 |2022-12-04 20:19:26.973|931      |6711   |87345     |10232|                              |https://i.stack.imgur.com/pTSRp.png?s=128&g=1                                              |California, USA    |rm -rf          |<p></p>\\n                                                                                                                                                                                                                                                                                                                                                                                                                                                                                                                                                                                                                                                                                                                                                                                                             |2012|1    |17 |\n",
            "|7  |110007   |2012-01-17 20:59:33.8  |2022-04-21 14:31:11.827|0        |54     |3129      |166  |null                          |null                                                                                       |null               |Isaac           |<p><a href=\"http://stackexchange.com/users/110007/isaac?tab=accounts\"><img src=\"https://se-flair.appspot.com/110007@2x.png\" width=\"208\" height=\"58\" alt=\"PNG output from se-flair\" /></a></p>\\n<ul>\\n<li><strong><a href=\"http://se-flair.appspot.com/\" rel=\"nofollow noreferrer\">se-flair</a></strong> (<a href=\"http://stackapps.com/q/2119/2490\">on StackApps</a>)</li>\\n</ul>\\n                                                                                                                                                                                                                                                                                                                                                                                                                                   |2012|1    |17 |\n",
            "|8  |395497   |2012-01-17 20:59:42.783|2022-12-02 01:17:43.337|53       |6389   |33831     |3053 |                              |https://i.stack.imgur.com/GPmgE.png?s=128&g=1                                              |Sydney, Australia  |Verbeia         |<p>Former Moderator of Mathematica.SE and current Celtic goddess.</p>\\n<p><a href=\"http://mathematica.stackexchange.com/\">Check out the Mathematica StackExchange Q+A site</a></p>\\n                                                                                                                                                                                                                                                                                                                                                                                                                                                                                                                                                                                                                                  |2012|1    |17 |\n",
            "|9  |354553   |2012-01-17 21:00:48.097|2022-11-29 18:45:31.947|2        |1574   |7339      |515  |http://eli.lansey.net         |null                                                                                       |null               |Eli Lansey      |<p>Member of the research staff at Riverside Research. PhD in physics. Blogger. Husband. Father. Very busy.</p>\\n                                                                                                                                                                                                                                                                                                                                                                                                                                                                                                                                                                                                                                                                                                     |2012|1    |17 |\n",
            "|10 |64045    |2012-01-17 21:01:29.893|2022-05-25 01:23:26.207|0        |73     |6238      |361  |http://peeterjoot.com/        |https://i.stack.imgur.com/4br0S.jpg?s=128&g=1                                              |Toronto, ON, Canada|Peeter Joot     |<p>I have worked at LzLabs as a software developer since 2016, where I am responsible for COBOL and PL/I compiler runtime development and compiler integration, and legacy C370 runtime implementation.  Before LzLabs, I worked for IBM for close to 20 years, working on the lowest level guts of DB2 LUW.  I spend too much of my free time, when I can find it, enjoying recreational mathematics, physics and engineering studies.  At <a href=\"http://peeterjoot.com/\" rel=\"nofollow noreferrer\">http://peeterjoot.com/</a> you can find my book on geometric algebra applications to electromagnetism, free pdfs of class notes for many of the physics and engineering courses that I have taken, and my musings about math, physics, programming, and other random topics that have caught my interest.</p>\\n|2012|1    |17 |\n",
            "+---+---------+-----------------------+-----------------------+---------+-------+----------+-----+------------------------------+-------------------------------------------------------------------------------------------+-------------------+----------------+----------------------------------------------------------------------------------------------------------------------------------------------------------------------------------------------------------------------------------------------------------------------------------------------------------------------------------------------------------------------------------------------------------------------------------------------------------------------------------------------------------------------------------------------------------------------------------------------------------------------------------------------------------------------------------------------------------------------------------------------------------------------------------------------------------------------+----+-----+---+\n",
            "only showing top 10 rows\n",
            "\n"
          ]
        }
      ]
    },
    {
      "cell_type": "markdown",
      "source": [
        "#### LOAD AND SAVE VOTES.XML DATASET TO PARQUET FORMAT"
      ],
      "metadata": {
        "id": "KxPL78oC_DAV"
      }
    },
    {
      "cell_type": "code",
      "source": [
        "schema = StructType([ \\\n",
        "    StructField(\"_BountyAmount\", LongType(), True), \\\n",
        "    StructField(\"_CreationDate\", StringType(), True), \\\n",
        "    StructField(\"_Id\", LongType(), True), \\\n",
        "    StructField(\"_PostId\", LongType(), True), \\\n",
        "    StructField(\"_UserId\", LongType(), True), \\\n",
        "    StructField(\"_VoteTypeId\", LongType(), True), \\\n",
        "    StructField(\"Year\", LongType(), True), \\\n",
        "    StructField(\"Month\", LongType(), True), \\\n",
        "    StructField(\"Day\", LongType(), True)\n",
        "])\n",
        "\n",
        "votesDF = spark.read \\\n",
        "          .format('com.databricks.spark.xml') \\\n",
        "          .options(rootTag='votes') \\\n",
        "          .options(rowTag='row') \\\n",
        "          .schema(schema) \\\n",
        "          .load('/content/input/Votes.xml')\n",
        "\n",
        "votesDF = votesDF \\\n",
        "          .withColumnRenamed(\"_BountyAmount\", \"BountyAmount\") \\\n",
        "          .withColumnRenamed(\"_CreationDate\", \"CreationDate\") \\\n",
        "          .withColumnRenamed(\"_Id\", \"Id\") \\\n",
        "          .withColumnRenamed(\"_PostId\", \"PostId\") \\\n",
        "          .withColumnRenamed(\"_UserId\", \"UserId\") \\\n",
        "          .withColumnRenamed(\"_VoteTypeId\", \"VoteTypeId\") \\\n",
        "\n",
        "votesDF = votesDF \\\n",
        "          .select([\"Id\", \"PostId\", \"UserId\", \"VoteTypeId\", \\\n",
        "                  to_timestamp(\"CreationDate\").alias(\"CreationDate\"), \"BountyAmount\"]) \\\n",
        "          .withColumn(\"Year\", date_format(col(\"CreationDate\"), \"y\")) \\\n",
        "          .withColumn(\"Month\", date_format(col(\"CreationDate\"), \"M\")) \\\n",
        "          .withColumn(\"Day\", date_format(col(\"CreationDate\"), \"d\"))  \n",
        "\n",
        "votesDF.printSchema()\n",
        "votesDF.show(n=10, truncate=False) \n",
        "\n",
        "votesDF = votesDF \\\n",
        "          .write \\\n",
        "          .partitionBy(\"Year\", \"Month\", \"Day\") \\\n",
        "          .mode(\"overwrite\") \\\n",
        "          .parquet(\"/content/output/votes.parquet\")"
      ],
      "metadata": {
        "id": "Yi0BV1LA43QM",
        "outputId": "1a1f27f6-f91d-458d-afeb-f5389efb9b4a",
        "colab": {
          "base_uri": "https://localhost:8080/"
        }
      },
      "execution_count": 104,
      "outputs": [
        {
          "output_type": "stream",
          "name": "stdout",
          "text": [
            "root\n",
            " |-- Id: long (nullable = true)\n",
            " |-- PostId: long (nullable = true)\n",
            " |-- UserId: long (nullable = true)\n",
            " |-- VoteTypeId: long (nullable = true)\n",
            " |-- CreationDate: timestamp (nullable = true)\n",
            " |-- BountyAmount: long (nullable = true)\n",
            " |-- Year: string (nullable = true)\n",
            " |-- Month: string (nullable = true)\n",
            " |-- Day: string (nullable = true)\n",
            "\n",
            "+---+------+------+----------+-------------------+------------+----+-----+---+\n",
            "|Id |PostId|UserId|VoteTypeId|CreationDate       |BountyAmount|Year|Month|Day|\n",
            "+---+------+------+----------+-------------------+------------+----+-----+---+\n",
            "|1  |1     |null  |2         |2012-01-17 00:00:00|null        |2012|1    |17 |\n",
            "|2  |1     |null  |2         |2012-01-17 00:00:00|null        |2012|1    |17 |\n",
            "|3  |1     |null  |2         |2012-01-17 00:00:00|null        |2012|1    |17 |\n",
            "|4  |1     |null  |2         |2012-01-17 00:00:00|null        |2012|1    |17 |\n",
            "|5  |1     |null  |2         |2012-01-17 00:00:00|null        |2012|1    |17 |\n",
            "|6  |2     |null  |2         |2012-01-17 00:00:00|null        |2012|1    |17 |\n",
            "|7  |2     |null  |2         |2012-01-17 00:00:00|null        |2012|1    |17 |\n",
            "|8  |2     |null  |2         |2012-01-17 00:00:00|null        |2012|1    |17 |\n",
            "|9  |2     |null  |2         |2012-01-17 00:00:00|null        |2012|1    |17 |\n",
            "|10 |1     |null  |2         |2012-01-17 00:00:00|null        |2012|1    |17 |\n",
            "+---+------+------+----------+-------------------+------------+----+-----+---+\n",
            "only showing top 10 rows\n",
            "\n"
          ]
        }
      ]
    },
    {
      "cell_type": "markdown",
      "source": [
        "# Data Analyzes"
      ],
      "metadata": {
        "id": "M-NjWZ4UYBq9"
      }
    },
    {
      "cell_type": "markdown",
      "source": [
        "#### ANALIZA 4A\n",
        "liczba postów na przestrzeni czasu (lineplot/barplot)"
      ],
      "metadata": {
        "id": "94hwd-HAzXDv"
      }
    },
    {
      "cell_type": "code",
      "source": [
        "### ANALITYKA POSTS\n",
        "\n",
        "from matplotlib import pyplot as plt\n",
        "import numpy as np\n",
        "import pandas as pd\n",
        "plt.rcParams[\"figure.figsize\"] = [10, 6]\n",
        "\n",
        "postsDF1 = spark.read.parquet(\"/content/output/posts.parquet\")\n",
        "\n",
        "postsDF1 = postsDF1 \\\n",
        "  .groupBy(\"Year\", \"Month\") \\\n",
        "  .count() \\\n",
        "  .orderBy(col(\"Year\").desc(), col(\"Month\").asc()) \\\n",
        "  .withColumnRenamed(\"count\", \"Count\") \\\n",
        "  .withColumn(\"Month1\", when(col(\"Month\") == 1, 'Styczneń') \\\n",
        "              .when(col(\"Month\") == 2, 'Luty') \\\n",
        "              .when(col(\"Month\") == 3, 'Marzec') \\\n",
        "              .when(col(\"Month\") == 4, 'Kwiecień') \\\n",
        "              .when(col(\"Month\") == 5, 'Maj') \\\n",
        "              .when(col(\"Month\") == 6, 'Czerwiec') \\\n",
        "              .when(col(\"Month\") == 7, 'Lipiec') \\\n",
        "              .when(col(\"Month\") == 8, 'Sierpień') \\\n",
        "              .when(col(\"Month\") == 9, 'Wrzesień') \\\n",
        "              .when(col(\"Month\") == 10, 'Pażdziernik') \\\n",
        "              .when(col(\"Month\") == 11, 'Listopad') \\\n",
        "              .when(col(\"Month\") == 12, 'Grudzień') \\\n",
        "              .otherwise('Unknown'))\n",
        "\n",
        "postsDF1 = postsDF1.cache()\n",
        "\n",
        "pdDF = postsDF1.toPandas()\n",
        "\n",
        "pdDF = pdDF.pivot(index='Month', columns='Year', values='Count')\n",
        "\n",
        "print(pdDF)\n",
        "\n",
        "plotdata = pdDF\n",
        "ax=plotdata.plot(kind='bar', stacked=True, figsize=(20, 15))\n",
        "#ax2 = ax.twinx()\n",
        "#ax2.set_ylabel('Total number of posts', color = 'b', fontsize=18)\n",
        "ax.set_ylabel(\"Total number of posts\", color = 'g', fontsize=18)\n",
        "plt.style.use('ggplot')\n",
        "plt.title(\"Post ratings\")\n",
        "plt.xlabel(\"Months\")\n",
        "plt.ylabel(\"Number of posts\") \n",
        "plt.legend(loc=\"upper left\")\n",
        "\n",
        "\n",
        "# .patches is everything inside of the chart\n",
        "for rect in ax.patches:\n",
        "    # Find where everything is located\n",
        "    height = rect.get_height()\n",
        "    width = rect.get_width()\n",
        "    x = rect.get_x()\n",
        "    y = rect.get_y()\n",
        "    \n",
        "    # The height of the bar is the data value and can be used as the label\n",
        "    label_text = f'{height}'  # f'{height:.2f}' to format decimal values\n",
        "    \n",
        "    # ax.text(x, y, text)\n",
        "    label_x = x + width / 2\n",
        "    label_y = y + height / 2\n",
        "\n",
        "    # plot only when height is greater than specified value\n",
        "    if height > 0:\n",
        "        ax.text(label_x, label_y, label_text, ha='center', va='center', fontsize=8)\n",
        "    \n",
        "ax.legend(bbox_to_anchor=(1.05, 1), loc='upper left', borderaxespad=0.)    \n",
        "ax.set_ylabel(\"Total number of posts\", fontsize=18)\n",
        "ax.set_xlabel(\"Months\", fontsize=18)\n",
        "plt.show()\n",
        "\n",
        "# for c in plt.containers:\n",
        "\n",
        "#     # Optional: if the segment is small or 0, customize the labels\n",
        "#     labels = [v.get_height() if v.get_height() > 0 else '' for v in c]\n",
        "    \n",
        "#     # remove the labels parameter if it's not needed for customized labels\n",
        "#     plt.bar_label(c, labels=labels, label_type='center')\n",
        "\n",
        "# plt.show()\n",
        "\n",
        "\n",
        "labels = ['missing', '<25', '25-34', '35-44', '45-54','55-64','65+']\n",
        "missing = np.array([0.000095, 0.024830, 0.028665, 0.029477, 0.031918,0.037073,0.026699])\n",
        "man = np.array([0.000147, 0.036311, 0.038684, 0.044761, 0.051269, 0.059542, 0.054259])\n",
        "women = np.array([0.004035, 0.032935, 0.035351, 0.041778, 0.048437, 0.056236,0.048091])\n",
        "ind = [x for x, _ in enumerate(labels)]\n",
        "\n",
        "plt.figure(figsize=(10,8))\n",
        "plt.bar(ind, women, width=0.8, label='women', color='gold', bottom=man+missing)\n",
        "plt.bar(ind, man, width=0.8, label='man', color='silver', bottom=missing)\n",
        "plt.bar(ind, missing, width=0.8, label='missing', color='#CD853F')\n",
        "\n",
        "plt.xticks(ind, labels)\n",
        "plt.ylabel(\"percentage\")\n",
        "plt.legend(loc=\"upper left\")\n",
        "plt.title(\"demo\")\n",
        "\n",
        "plt.show()\n",
        "\n"
      ],
      "metadata": {
        "id": "_NztslrDUTSZ",
        "outputId": "a25658f1-2243-429b-abf9-96936e5e9cf7",
        "colab": {
          "base_uri": "https://localhost:8080/",
          "height": 1000
        }
      },
      "execution_count": 105,
      "outputs": [
        {
          "output_type": "stream",
          "name": "stdout",
          "text": [
            "Year   2010  2011    2012    2013    2014    2015    2016    2017    2018  \\\n",
            "Month                                                                       \n",
            "1       NaN   6.0  1005.0  1425.0  1437.0  1690.0  1828.0  1760.0  1750.0   \n",
            "2       NaN   1.0  1244.0  1381.0  1210.0  1786.0  1939.0  1844.0  1653.0   \n",
            "3       NaN  10.0  1178.0  1641.0  1445.0  2183.0  2369.0  2189.0  1930.0   \n",
            "4       NaN   6.0  1019.0  1643.0  1392.0  2073.0  1992.0  1980.0  1810.0   \n",
            "5       NaN   5.0  1203.0  1515.0  1341.0  2089.0  1907.0  1986.0  1769.0   \n",
            "6       NaN   5.0  1305.0  1362.0  1536.0  1958.0  1998.0  1758.0  1728.0   \n",
            "7       NaN  16.0  1058.0  1337.0  2016.0  2027.0  1739.0  1992.0  1676.0   \n",
            "8       NaN   8.0  1006.0  1492.0  1776.0  1754.0  2077.0  1784.0  1510.0   \n",
            "9       NaN   3.0  1040.0  1478.0  1929.0  1757.0  2026.0  1777.0  1644.0   \n",
            "10      NaN   9.0  1413.0  1537.0  2024.0  2109.0  1955.0  1788.0  1867.0   \n",
            "11      NaN  13.0  1334.0  1489.0  1903.0  2125.0  1925.0  1770.0  1723.0   \n",
            "12      6.0  12.0  1399.0  1257.0  1544.0  1928.0  1666.0  1580.0  1334.0   \n",
            "\n",
            "Year     2019    2020    2021    2022  \n",
            "Month                                  \n",
            "1      1683.0  1489.0  1506.0  1316.0  \n",
            "2      1526.0  1389.0  1451.0  1318.0  \n",
            "3      1680.0  1724.0  1779.0  1338.0  \n",
            "4      1782.0  1976.0  1231.0  1421.0  \n",
            "5      1803.0  1954.0  1346.0  1116.0  \n",
            "6      1583.0  1764.0  1207.0  1137.0  \n",
            "7      1548.0  1543.0  1093.0  1161.0  \n",
            "8      1361.0  1324.0  1122.0  1172.0  \n",
            "9      1285.0  1548.0  1085.0  1177.0  \n",
            "10     1448.0  1540.0  1023.0  1112.0  \n",
            "11     1422.0  1593.0  1176.0  1172.0  \n",
            "12     1446.0  1497.0  1211.0   145.0  \n"
          ]
        },
        {
          "output_type": "display_data",
          "data": {
            "text/plain": [
              "<Figure size 1440x1080 with 1 Axes>"
            ],
            "image/png": "[encoded data removed]"
          },
          "metadata": {}
        },
        {
          "output_type": "display_data",
          "data": {
            "text/plain": [
              "<Figure size 720x576 with 1 Axes>"
            ],
            "image/png": "[encoded data removed]"
          },
          "metadata": {}
        }
      ]
    },
    {
      "cell_type": "markdown",
      "source": [
        "#### ANALIZA 4B\n",
        "czas na forum (od pojawienia się użytkownika do ostatniego posta/komentarza) 10 najdłużej aktywnych użytkowników (pomijając boty) (barplot)"
      ],
      "metadata": {
        "id": "7sA_thE4Wc30"
      }
    },
    {
      "cell_type": "code",
      "source": [
        "postsDFAnalize2A = spark.read.parquet(\"/content/output/posts.parquet\") \\\n",
        "    .filter( (col(\"OwnerUserId\").isNotNull()) | (col(\"OwnerUserId\") != -1) ) \\\n",
        "    .groupBy(\"OwnerUserId\") \\\n",
        "    .agg(min(\"CreationDate\").alias(\"CreationDateMin\"), \\\n",
        "         max(\"LastActivityDate\").alias(\"LastActivityDateMax\")) \\\n",
        "    .withColumn(\"DiffInSeconds\", col(\"LastActivityDateMax\").cast(\"long\") - col(\"CreationDateMin\").cast(\"long\")) \\\n",
        "    .withColumn(\"DiffInMinutes\", floor(col(\"DiffInSeconds\") / 60)) \\\n",
        "    .withColumn(\"DiffInHours\", floor(col(\"DiffInSeconds\") / 3_600)) \\\n",
        "    .withColumn(\"DiffInDays\", floor(col(\"DiffInHours\") / 24)) \\\n",
        "    .withColumn(\"DiffInYears\", floor(col(\"DiffInDays\") / 365)) \\\n",
        "    .orderBy(col(\"DiffInSeconds\").desc()) \\\n",
        "    .cache() \\\n",
        "    .show(n=10, truncate=False)"
      ],
      "metadata": {
        "colab": {
          "base_uri": "https://localhost:8080/"
        },
        "id": "ZNyp9F7KWiyq",
        "outputId": "80804a9b-2c45-4ef2-c01f-53a4ba5264ee"
      },
      "execution_count": 106,
      "outputs": [
        {
          "output_type": "stream",
          "name": "stdout",
          "text": [
            "+-----------+-----------------------+-----------------------+-------------+-------------+-----------+----------+-----------+\n",
            "|OwnerUserId|CreationDateMin        |LastActivityDateMax    |DiffInSeconds|DiffInMinutes|DiffInHours|DiffInDays|DiffInYears|\n",
            "+-----------+-----------------------+-----------------------+-------------+-------------+-----------+----------+-----------+\n",
            "|193        |2010-12-07 23:36:49.79 |2022-12-04 08:01:16.157|378375867    |6306264      |105104     |4379      |11         |\n",
            "|251        |2010-12-08 00:07:42.673|2022-12-02 15:35:23.863|378228461    |6303807      |105063     |4377      |11         |\n",
            "|106        |2010-12-09 09:24:55.317|2022-11-30 23:30:17.253|377964322    |6299405      |104990     |4374      |11         |\n",
            "|81         |2011-01-18 12:21:06.18 |2022-11-29 16:07:07.043|374384761    |6239746      |103995     |4333      |11         |\n",
            "|5507       |2011-01-18 06:36:45.877|2022-11-14 02:58:35.397|373062110    |6217701      |103628     |4317      |11         |\n",
            "|52         |2010-12-08 00:52:48.813|2022-09-03 15:32:44.533|370449596    |6174159      |102902     |4287      |11         |\n",
            "|1905       |2010-12-07 23:06:43.147|2022-08-09 18:23:57.643|368306234    |6138437      |102307     |4262      |11         |\n",
            "|34         |2010-12-08 00:54:21.73 |2022-07-29 11:56:08.243|367326107    |6122101      |102035     |4251      |11         |\n",
            "|57         |2011-03-26 12:27:01.513|2022-11-13 22:21:00.623|367235639    |6120593      |102009     |4250      |11         |\n",
            "|280        |2011-03-17 09:15:28.05 |2022-09-29 02:31:54.417|364065386    |6067756      |101129     |4213      |11         |\n",
            "+-----------+-----------------------+-----------------------+-------------+-------------+-----------+----------+-----------+\n",
            "only showing top 10 rows\n",
            "\n"
          ]
        }
      ]
    },
    {
      "cell_type": "markdown",
      "source": [
        "#### ANALIZA 4C\n",
        "porównanie najwyżej i najniżej ocenianych pytań (długość, tagi, liczba odpowiedzi)\n"
      ],
      "metadata": {
        "id": "SWurcwHhzSGz"
      }
    },
    {
      "cell_type": "markdown",
      "source": [
        "#### ANALIZA 4D\n",
        "procent przypadków kiedy najwyżej oceniana odpowiedź to nie zaakceptowana odpowiedź"
      ],
      "metadata": {
        "id": "klwFNfzMzNue"
      }
    },
    {
      "cell_type": "markdown",
      "source": [
        "#### ANALIZA 4E\n",
        "rozkład ocen odpowiedzi zaakceptowanych vs pozostałych (średnia, odchylenie, minimum, maksimum)"
      ],
      "metadata": {
        "id": "JJTwfvBlzHcX"
      }
    },
    {
      "cell_type": "markdown",
      "source": [
        "#### ANALIZA 4F\n",
        "top N tagów które wygenerowały najwięcej wyświetleń"
      ],
      "metadata": {
        "id": "0sc9y8TdzCh6"
      }
    },
    {
      "cell_type": "markdown",
      "source": [],
      "metadata": {
        "id": "HuJR5b9gLXag"
      }
    },
    {
      "cell_type": "code",
      "source": [
        "from pyspark.sql.functions import col, explode, regexp_replace, split, format_number, countDistinct\n",
        "\n",
        "#78 https://mathematica.stackexchange.com/questions/tagged/assignment?sort=RecentActivity&edited=true\n",
        "\n",
        "postsDFAnalize4F = spark \\\n",
        "                   .read \\\n",
        "                   .parquet(\"/content/output/posts.parquet\") \\\n",
        "                   .cache() \\\n",
        "                   .filter( (col('PostTypeId') == 1) ) \\\n",
        "                   .withColumn(\"Tags\", explode(split(col(\"Tags\"), \"><\"))) \\\n",
        "                   .withColumn(\"Tags\", regexp_replace(col(\"Tags\"), \"(^\\<)|(\\>$)\", \"\")) \\\n",
        "                   .groupBy(col('Tags')) \\\n",
        "                   .agg(sum(\"ViewCount\").alias(\"Viewed\")) \\\n",
        "                   .orderBy(col('Viewed').desc()) \\\n",
        "                   .withColumn(\"Viewed\", format_number(\"Viewed\" ,0)) \\\n",
        "                   .show(n=10, truncate=False)                                "
      ],
      "metadata": {
        "id": "YXho17j01CLv",
        "outputId": "fcc1ea8d-bafd-4a73-cf5a-729ca7cea101",
        "colab": {
          "base_uri": "https://localhost:8080/"
        }
      },
      "execution_count": 107,
      "outputs": [
        {
          "output_type": "stream",
          "name": "stdout",
          "text": [
            "+----------------------+----------+\n",
            "|Tags                  |Viewed    |\n",
            "+----------------------+----------+\n",
            "|plotting              |12,201,406|\n",
            "|list-manipulation     |5,155,025 |\n",
            "|graphics              |4,204,768 |\n",
            "|differential-equations|3,582,642 |\n",
            "|equation-solving      |3,350,869 |\n",
            "|functions             |2,371,769 |\n",
            "|calculus-and-analysis |2,340,486 |\n",
            "|matrix                |2,295,658 |\n",
            "|programming           |1,867,898 |\n",
            "|graphics3d            |1,712,714 |\n",
            "+----------------------+----------+\n",
            "only showing top 10 rows\n",
            "\n"
          ]
        }
      ]
    },
    {
      "cell_type": "markdown",
      "source": [
        "#### ANALIZA 4G\n",
        "liczba postów w czasie dla każdego z top N tagów (lineplot/barplot)"
      ],
      "metadata": {
        "id": "_fbkgX7ty9x2"
      }
    },
    {
      "cell_type": "markdown",
      "source": [
        "#### ANALIZA 4H\n",
        "najczęściej pojawiające się słowa w tytułach (z pominięciem stopwords)"
      ],
      "metadata": {
        "id": "n2evyz-Xy6c0"
      }
    },
    {
      "cell_type": "markdown",
      "source": [
        "#### ANALIZA 4I\n",
        "procent użytkowników którzy nigdy nic nie zapostowali\n"
      ],
      "metadata": {
        "id": "FzIiLNspyqT8"
      }
    },
    {
      "cell_type": "code",
      "source": [
        "from pyspark.sql.window import Window\n",
        "import sys\n",
        "#https://www.datasciencemadesimple.com/percentage-and-cumulative-percentage-of-column-in-pyspark/\n",
        "print(f'Evidence of registered users count :: {spark.read.parquet(\"/content/output/users.parquet\").count()}')\n",
        "\n",
        "postsDFAnalize4I = spark.read.parquet(\"/content/output/posts.parquet\") \\\n",
        "                  .select(col('OwnerUserId')) \\\n",
        "                  .cache()\n",
        "usersDFAnalize4I = spark.read.parquet(\"/content/output/users.parquet\") \\\n",
        "                  .select(col('Id'), col('DisplayName')) \\\n",
        "                  .cache()\n",
        "\n",
        "resultDFAnalize4I = usersDFAnalize4I \\\n",
        "                    .join(postsDFAnalize4I, postsDFAnalize4I.OwnerUserId == usersDFAnalize4I.Id, 'left') \\\n",
        "                    .select(col('Id'), when(col('OwnerUserId').isNull(), 0).otherwise(1).alias('isnullable')) \\\n",
        "                    .groupBy(\"isnullable\") \\\n",
        "                    .agg(countDistinct(\"Id\",\"isnullable\").alias(\"isnullable_count\")) \\\n",
        "                    .orderBy(col('isnullable_count').desc()) \\\n",
        "                    .withColumn('percent', col('isnullable_count') / sum('isnullable_count').over(Window.partitionBy())*100) \\\n",
        "                    .withColumn('cumulate_percent', sum(col('percent')).over(Window.partitionBy().orderBy().rowsBetween(-sys.maxsize, 0))) \\\n",
        "                    .show()\n",
        "                    "
      ],
      "metadata": {
        "id": "1Iohco2VjSyO",
        "outputId": "a2734415-c1ec-4d26-be32-44098a7c6491",
        "colab": {
          "base_uri": "https://localhost:8080/"
        }
      },
      "execution_count": 108,
      "outputs": [
        {
          "output_type": "stream",
          "name": "stdout",
          "text": [
            "Evidence of registered users count :: 65286\n",
            "+----------+----------------+-----------------+-----------------+\n",
            "|isnullable|isnullable_count|          percent| cumulate_percent|\n",
            "+----------+----------------+-----------------+-----------------+\n",
            "|         0|           40960|62.73933155653586|62.73933155653586|\n",
            "|         1|           24326|37.26066844346414|            100.0|\n",
            "+----------+----------------+-----------------+-----------------+\n",
            "\n"
          ]
        }
      ]
    },
    {
      "cell_type": "markdown",
      "source": [
        "#### ANALIZA 4J\n",
        "średni czas od pojawienia się pytania do pojawienia się zaakceptowanej odpowiedzi"
      ],
      "metadata": {
        "id": "0ngNmlBXydmv"
      }
    },
    {
      "cell_type": "code",
      "source": [
        "postsDFAnalize4JAccepted = spark.read.parquet(\"/content/output/posts.parquet\") \\\n",
        "                  .filter( (col('AcceptedAnswerId').isNotNull()) ) \\\n",
        "                  .select(col('Id').alias('QuestId'),\n",
        "                          col('ParentId').alias('QuestParentId'),\n",
        "                          col('PostTypeId').alias('QuestPostTypeId'),\n",
        "                          col('AcceptedAnswerId').alias('QuestAcceptedAnswerId'),\n",
        "                          col('CreationDate').alias('QuestCreationDate'),\n",
        "                          col('LastActivityDate').alias('QuestLastActivityDate')) \\\n",
        "                  .orderBy(col('Id')) \\\n",
        "                  .persist()\n",
        "                  #.show(n=15, truncate=False)\n",
        "\n",
        "postsDFAnalize4JAppear = spark.read.parquet(\"/content/output/posts.parquet\") \\\n",
        "                  .filter( (col('AcceptedAnswerId').isNull()) & (col('PostTypeId') == 2) ) \\\n",
        "                  .select(col('Id').alias('AnwsId'),\n",
        "                          col('ParentId').alias('AnwsParentId'),\n",
        "                          col('PostTypeId').alias('AnwsPostTypeId'),\n",
        "                          col('AcceptedAnswerId').alias('AnwsAcceptedAnswerId'),\n",
        "                          col('CreationDate').alias('AnwsCreationDate'),\n",
        "                          col('LastActivityDate').alias('AnwsLastActivityDate')) \\\n",
        "                  .orderBy(col('Id')) \\\n",
        "                  .persist()\n",
        "                  #.show(n=15, truncate=False)\n",
        "\n",
        "resultDFAnalize4J = postsDFAnalize4JAccepted \\\n",
        "                    .join(postsDFAnalize4JAppear, postsDFAnalize4JAppear.AnwsId == postsDFAnalize4JAccepted.QuestAcceptedAnswerId, 'inner') \\\n",
        "                    .select(col('QuestId'), col('AnwsId') , \\\n",
        "                            col('QuestPostTypeId'), col('AnwsPostTypeId'), \\\n",
        "                            col('QuestAcceptedAnswerId'),\n",
        "                            col('QuestLastActivityDate'), col('AnwsLastActivityDate'), \\\n",
        "                            col('QuestCreationDate'), col('AnwsCreationDate')) \\\n",
        "                    .orderBy(col('QuestId')) \\\n",
        "                    .withColumn(\"DiffInSeconds\", col(\"AnwsCreationDate\").cast(\"long\") - col(\"QuestCreationDate\").cast(\"long\")) \\\n",
        "                    .withColumn(\"DiffInMinutes\", floor(col(\"DiffInSeconds\") / 60)) \\\n",
        "                    .withColumn(\"DiffInHours\", floor(col(\"DiffInSeconds\") / 3_600)) \\\n",
        "                    .withColumn(\"DiffInDays\", floor(col(\"DiffInHours\") / 24)) \\\n",
        "                    .withColumn(\"DiffInYears\", floor(col(\"DiffInDays\") / 365)) \\\n",
        "                    .persist()\n",
        "                    #.show(n=25, truncate=False) \n",
        "\n",
        "averageDFAnalize4J = resultDFAnalize4J \\\n",
        "                    .select(avg('DiffInSeconds').alias('AvgTimeInSeconds')) \\\n",
        "                    .withColumn(\"AvgTimeInMinutes\", floor(col(\"AvgTimeInSeconds\") / 60)) \\\n",
        "                    .withColumn(\"AvgTimeInHours\", floor(col(\"AvgTimeInSeconds\") / 3_600)) \\\n",
        "                    .withColumn(\"AvgTimeInDays\", floor(col(\"AvgTimeInHours\") / 24)) \\\n",
        "                    .withColumn(\"AvgTimeInYears\", floor(col(\"AvgTimeInDays\") / 365)) \\\n",
        "                    .show(truncate=False) \n",
        "  "
      ],
      "metadata": {
        "id": "MCCdQ9N-zjPS",
        "outputId": "34998986-1e7a-424a-e545-e38916508364",
        "colab": {
          "base_uri": "https://localhost:8080/",
          "height": 1000
        }
      },
      "execution_count": 114,
      "outputs": [
        {
          "output_type": "error",
          "ename": "Py4JJavaError",
          "evalue": "ignored",
          "traceback": [
            "\u001b[0;31m---------------------------------------------------------------------------\u001b[0m",
            "\u001b[0;31mPy4JJavaError\u001b[0m                             Traceback (most recent call last)",
            "\u001b[0;32m<ipython-input-114-a20963b61903>\u001b[0m in \u001b[0;36m<module>\u001b[0;34m\u001b[0m\n\u001b[1;32m     23\u001b[0m                   \u001b[0;31m#.show(n=15, truncate=False)\u001b[0m\u001b[0;34m\u001b[0m\u001b[0;34m\u001b[0m\u001b[0;34m\u001b[0m\u001b[0m\n\u001b[1;32m     24\u001b[0m \u001b[0;34m\u001b[0m\u001b[0m\n\u001b[0;32m---> 25\u001b[0;31m \u001b[0mresultDFAnalize4J\u001b[0m \u001b[0;34m=\u001b[0m \u001b[0mpostsDFAnalize4JAccepted\u001b[0m\u001b[0;31m \u001b[0m\u001b[0;31m\\\u001b[0m\u001b[0;34m\u001b[0m\u001b[0;34m\u001b[0m\u001b[0m\n\u001b[0m\u001b[1;32m     26\u001b[0m                     \u001b[0;34m.\u001b[0m\u001b[0mjoin\u001b[0m\u001b[0;34m(\u001b[0m\u001b[0mpostsDFAnalize4JAppear\u001b[0m\u001b[0;34m,\u001b[0m \u001b[0mpostsDFAnalize4JAppear\u001b[0m\u001b[0;34m.\u001b[0m\u001b[0mAnwsId\u001b[0m \u001b[0;34m==\u001b[0m \u001b[0mpostsDFAnalize4JAccepted\u001b[0m\u001b[0;34m.\u001b[0m\u001b[0mQuestAcceptedAnswerId\u001b[0m\u001b[0;34m,\u001b[0m \u001b[0;34m'inner'\u001b[0m\u001b[0;34m)\u001b[0m\u001b[0;31m \u001b[0m\u001b[0;31m\\\u001b[0m\u001b[0;34m\u001b[0m\u001b[0;34m\u001b[0m\u001b[0m\n\u001b[1;32m     27\u001b[0m                     .select(col('QuestId'), col('AnwsId') , \\\n",
            "\u001b[0;32m/usr/local/lib/python3.8/dist-packages/pyspark/sql/dataframe.py\u001b[0m in \u001b[0;36mshow\u001b[0;34m(self, n, truncate, vertical)\u001b[0m\n\u001b[1;32m    613\u001b[0m                 )\n\u001b[1;32m    614\u001b[0m \u001b[0;34m\u001b[0m\u001b[0m\n\u001b[0;32m--> 615\u001b[0;31m             \u001b[0mprint\u001b[0m\u001b[0;34m(\u001b[0m\u001b[0mself\u001b[0m\u001b[0;34m.\u001b[0m\u001b[0m_jdf\u001b[0m\u001b[0;34m.\u001b[0m\u001b[0mshowString\u001b[0m\u001b[0;34m(\u001b[0m\u001b[0mn\u001b[0m\u001b[0;34m,\u001b[0m \u001b[0mint_truncate\u001b[0m\u001b[0;34m,\u001b[0m \u001b[0mvertical\u001b[0m\u001b[0;34m)\u001b[0m\u001b[0;34m)\u001b[0m\u001b[0;34m\u001b[0m\u001b[0;34m\u001b[0m\u001b[0m\n\u001b[0m\u001b[1;32m    616\u001b[0m \u001b[0;34m\u001b[0m\u001b[0m\n\u001b[1;32m    617\u001b[0m     \u001b[0;32mdef\u001b[0m \u001b[0m__repr__\u001b[0m\u001b[0;34m(\u001b[0m\u001b[0mself\u001b[0m\u001b[0;34m)\u001b[0m \u001b[0;34m->\u001b[0m \u001b[0mstr\u001b[0m\u001b[0;34m:\u001b[0m\u001b[0;34m\u001b[0m\u001b[0;34m\u001b[0m\u001b[0m\n",
            "\u001b[0;32m/usr/local/lib/python3.8/dist-packages/py4j/java_gateway.py\u001b[0m in \u001b[0;36m__call__\u001b[0;34m(self, *args)\u001b[0m\n\u001b[1;32m   1319\u001b[0m \u001b[0;34m\u001b[0m\u001b[0m\n\u001b[1;32m   1320\u001b[0m         \u001b[0manswer\u001b[0m \u001b[0;34m=\u001b[0m \u001b[0mself\u001b[0m\u001b[0;34m.\u001b[0m\u001b[0mgateway_client\u001b[0m\u001b[0;34m.\u001b[0m\u001b[0msend_command\u001b[0m\u001b[0;34m(\u001b[0m\u001b[0mcommand\u001b[0m\u001b[0;34m)\u001b[0m\u001b[0;34m\u001b[0m\u001b[0;34m\u001b[0m\u001b[0m\n\u001b[0;32m-> 1321\u001b[0;31m         return_value = get_return_value(\n\u001b[0m\u001b[1;32m   1322\u001b[0m             answer, self.gateway_client, self.target_id, self.name)\n\u001b[1;32m   1323\u001b[0m \u001b[0;34m\u001b[0m\u001b[0m\n",
            "\u001b[0;32m/usr/local/lib/python3.8/dist-packages/pyspark/sql/utils.py\u001b[0m in \u001b[0;36mdeco\u001b[0;34m(*a, **kw)\u001b[0m\n\u001b[1;32m    188\u001b[0m     \u001b[0;32mdef\u001b[0m \u001b[0mdeco\u001b[0m\u001b[0;34m(\u001b[0m\u001b[0;34m*\u001b[0m\u001b[0ma\u001b[0m\u001b[0;34m:\u001b[0m \u001b[0mAny\u001b[0m\u001b[0;34m,\u001b[0m \u001b[0;34m**\u001b[0m\u001b[0mkw\u001b[0m\u001b[0;34m:\u001b[0m \u001b[0mAny\u001b[0m\u001b[0;34m)\u001b[0m \u001b[0;34m->\u001b[0m \u001b[0mAny\u001b[0m\u001b[0;34m:\u001b[0m\u001b[0;34m\u001b[0m\u001b[0;34m\u001b[0m\u001b[0m\n\u001b[1;32m    189\u001b[0m         \u001b[0;32mtry\u001b[0m\u001b[0;34m:\u001b[0m\u001b[0;34m\u001b[0m\u001b[0;34m\u001b[0m\u001b[0m\n\u001b[0;32m--> 190\u001b[0;31m             \u001b[0;32mreturn\u001b[0m \u001b[0mf\u001b[0m\u001b[0;34m(\u001b[0m\u001b[0;34m*\u001b[0m\u001b[0ma\u001b[0m\u001b[0;34m,\u001b[0m \u001b[0;34m**\u001b[0m\u001b[0mkw\u001b[0m\u001b[0;34m)\u001b[0m\u001b[0;34m\u001b[0m\u001b[0;34m\u001b[0m\u001b[0m\n\u001b[0m\u001b[1;32m    191\u001b[0m         \u001b[0;32mexcept\u001b[0m \u001b[0mPy4JJavaError\u001b[0m \u001b[0;32mas\u001b[0m \u001b[0me\u001b[0m\u001b[0;34m:\u001b[0m\u001b[0;34m\u001b[0m\u001b[0;34m\u001b[0m\u001b[0m\n\u001b[1;32m    192\u001b[0m             \u001b[0mconverted\u001b[0m \u001b[0;34m=\u001b[0m \u001b[0mconvert_exception\u001b[0m\u001b[0;34m(\u001b[0m\u001b[0me\u001b[0m\u001b[0;34m.\u001b[0m\u001b[0mjava_exception\u001b[0m\u001b[0;34m)\u001b[0m\u001b[0;34m\u001b[0m\u001b[0;34m\u001b[0m\u001b[0m\n",
            "\u001b[0;32m/usr/local/lib/python3.8/dist-packages/py4j/protocol.py\u001b[0m in \u001b[0;36mget_return_value\u001b[0;34m(answer, gateway_client, target_id, name)\u001b[0m\n\u001b[1;32m    324\u001b[0m             \u001b[0mvalue\u001b[0m \u001b[0;34m=\u001b[0m \u001b[0mOUTPUT_CONVERTER\u001b[0m\u001b[0;34m[\u001b[0m\u001b[0mtype\u001b[0m\u001b[0;34m]\u001b[0m\u001b[0;34m(\u001b[0m\u001b[0manswer\u001b[0m\u001b[0;34m[\u001b[0m\u001b[0;36m2\u001b[0m\u001b[0;34m:\u001b[0m\u001b[0;34m]\u001b[0m\u001b[0;34m,\u001b[0m \u001b[0mgateway_client\u001b[0m\u001b[0;34m)\u001b[0m\u001b[0;34m\u001b[0m\u001b[0;34m\u001b[0m\u001b[0m\n\u001b[1;32m    325\u001b[0m             \u001b[0;32mif\u001b[0m \u001b[0manswer\u001b[0m\u001b[0;34m[\u001b[0m\u001b[0;36m1\u001b[0m\u001b[0;34m]\u001b[0m \u001b[0;34m==\u001b[0m \u001b[0mREFERENCE_TYPE\u001b[0m\u001b[0;34m:\u001b[0m\u001b[0;34m\u001b[0m\u001b[0;34m\u001b[0m\u001b[0m\n\u001b[0;32m--> 326\u001b[0;31m                 raise Py4JJavaError(\n\u001b[0m\u001b[1;32m    327\u001b[0m                     \u001b[0;34m\"An error occurred while calling {0}{1}{2}.\\n\"\u001b[0m\u001b[0;34m.\u001b[0m\u001b[0;34m\u001b[0m\u001b[0;34m\u001b[0m\u001b[0m\n\u001b[1;32m    328\u001b[0m                     format(target_id, \".\", name), value)\n",
            "\u001b[0;31mPy4JJavaError\u001b[0m: An error occurred while calling o5968.showString.\n: org.apache.spark.SparkException: Job aborted due to stage failure: Task 0 in stage 515.0 failed 1 times, most recent failure: Lost task 0.0 in stage 515.0 (TID 18541) (6e1cc4007dd4 executor driver): java.io.FileNotFoundException: \nFile file:/content/output/posts.parquet/Year=2010/Month=7/Day=1/part-00000-3c00e980-72e5-4c21-999d-4d69785737e5.c000.snappy.parquet does not exist\n\nIt is possible the underlying files have been updated. You can explicitly invalidate\nthe cache in Spark by running 'REFRESH TABLE tableName' command in SQL or by\nrecreating the Dataset/DataFrame involved.\n       \n\tat org.apache.spark.sql.errors.QueryExecutionErrors$.readCurrentFileNotFoundError(QueryExecutionErrors.scala:661)\n\tat org.apache.spark.sql.execution.datasources.FileScanRDD$$anon$1.org$apache$spark$sql$execution$datasources$FileScanRDD$$anon$$readCurrentFile(FileScanRDD.scala:212)\n\tat org.apache.spark.sql.execution.datasources.FileScanRDD$$anon$1.nextIterator(FileScanRDD.scala:270)\n\tat org.apache.spark.sql.execution.datasources.FileScanRDD$$anon$1.hasNext(FileScanRDD.scala:116)\n\tat org.apache.spark.sql.execution.FileSourceScanExec$$anon$1.hasNext(DataSourceScanExec.scala:554)\n\tat org.apache.spark.sql.catalyst.expressions.GeneratedClass$GeneratedIteratorForCodegenStage3.columnartorow_nextBatch_0$(Unknown Source)\n\tat org.apache.spark.sql.catalyst.expressions.GeneratedClass$GeneratedIteratorForCodegenStage3.processNext(Unknown Source)\n\tat org.apache.spark.sql.execution.BufferedRowIterator.hasNext(BufferedRowIterator.java:43)\n\tat org.apache.spark.sql.execution.WholeStageCodegenExec$$anon$1.hasNext(WholeStageCodegenExec.scala:760)\n\tat scala.collection.Iterator$$anon$10.hasNext(Iterator.scala:460)\n\tat org.apache.spark.shuffle.sort.BypassMergeSortShuffleWriter.write(BypassMergeSortShuffleWriter.java:140)\n\tat org.apache.spark.shuffle.ShuffleWriteProcessor.write(ShuffleWriteProcessor.scala:59)\n\tat org.apache.spark.scheduler.ShuffleMapTask.runTask(ShuffleMapTask.scala:99)\n\tat org.apache.spark.scheduler.ShuffleMapTask.runTask(ShuffleMapTask.scala:52)\n\tat org.apache.spark.scheduler.Task.run(Task.scala:136)\n\tat org.apache.spark.executor.Executor$TaskRunner.$anonfun$run$3(Executor.scala:548)\n\tat org.apache.spark.util.Utils$.tryWithSafeFinally(Utils.scala:1504)\n\tat org.apache.spark.executor.Executor$TaskRunner.run(Executor.scala:551)\n\tat java.base/java.util.concurrent.ThreadPoolExecutor.runWorker(ThreadPoolExecutor.java:1128)\n\tat java.base/java.util.concurrent.ThreadPoolExecutor$Worker.run(ThreadPoolExecutor.java:628)\n\tat java.base/java.lang.Thread.run(Thread.java:829)\n\nDriver stacktrace:\n\tat org.apache.spark.scheduler.DAGScheduler.failJobAndIndependentStages(DAGScheduler.scala:2672)\n\tat org.apache.spark.scheduler.DAGScheduler.$anonfun$abortStage$2(DAGScheduler.scala:2608)\n\tat org.apache.spark.scheduler.DAGScheduler.$anonfun$abortStage$2$adapted(DAGScheduler.scala:2607)\n\tat scala.collection.mutable.ResizableArray.foreach(ResizableArray.scala:62)\n\tat scala.collection.mutable.ResizableArray.foreach$(ResizableArray.scala:55)\n\tat scala.collection.mutable.ArrayBuffer.foreach(ArrayBuffer.scala:49)\n\tat org.apache.spark.scheduler.DAGScheduler.abortStage(DAGScheduler.scala:2607)\n\tat org.apache.spark.scheduler.DAGScheduler.$anonfun$handleTaskSetFailed$1(DAGScheduler.scala:1182)\n\tat org.apache.spark.scheduler.DAGScheduler.$anonfun$handleTaskSetFailed$1$adapted(DAGScheduler.scala:1182)\n\tat scala.Option.foreach(Option.scala:407)\n\tat org.apache.spark.scheduler.DAGScheduler.handleTaskSetFailed(DAGScheduler.scala:1182)\n\tat org.apache.spark.scheduler.DAGSchedulerEventProcessLoop.doOnReceive(DAGScheduler.scala:2860)\n\tat org.apache.spark.scheduler.DAGSchedulerEventProcessLoop.onReceive(DAGScheduler.scala:2802)\n\tat org.apache.spark.scheduler.DAGSchedulerEventProcessLoop.onReceive(DAGScheduler.scala:2791)\n\tat org.apache.spark.util.EventLoop$$anon$1.run(EventLoop.scala:49)\n\tat org.apache.spark.scheduler.DAGScheduler.runJob(DAGScheduler.scala:952)\n\tat org.apache.spark.SparkContext.runJob(SparkContext.scala:2228)\n\tat org.apache.spark.SparkContext.runJob(SparkContext.scala:2249)\n\tat org.apache.spark.SparkContext.runJob(SparkContext.scala:2268)\n\tat org.apache.spark.SparkContext.runJob(SparkContext.scala:2293)\n\tat org.apache.spark.rdd.RDD.$anonfun$collect$1(RDD.scala:1021)\n\tat org.apache.spark.rdd.RDDOperationScope$.withScope(RDDOperationScope.scala:151)\n\tat org.apache.spark.rdd.RDDOperationScope$.withScope(RDDOperationScope.scala:112)\n\tat org.apache.spark.rdd.RDD.withScope(RDD.scala:406)\n\tat org.apache.spark.rdd.RDD.collect(RDD.scala:1020)\n\tat org.apache.spark.RangePartitioner$.sketch(Partitioner.scala:304)\n\tat org.apache.spark.RangePartitioner.<init>(Partitioner.scala:171)\n\tat org.apache.spark.sql.execution.exchange.ShuffleExchangeExec$.prepareShuffleDependency(ShuffleExchangeExec.scala:293)\n\tat org.apache.spark.sql.execution.exchange.ShuffleExchangeExec.shuffleDependency$lzycompute(ShuffleExchangeExec.scala:173)\n\tat org.apache.spark.sql.execution.exchange.ShuffleExchangeExec.shuffleDependency(ShuffleExchangeExec.scala:167)\n\tat org.apache.spark.sql.execution.exchange.ShuffleExchangeExec.doExecute(ShuffleExchangeExec.scala:189)\n\tat org.apache.spark.sql.execution.SparkPlan.$anonfun$execute$1(SparkPlan.scala:194)\n\tat org.apache.spark.sql.execution.SparkPlan.$anonfun$executeQuery$1(SparkPlan.scala:232)\n\tat org.apache.spark.rdd.RDDOperationScope$.withScope(RDDOperationScope.scala:151)\n\tat org.apache.spark.sql.execution.SparkPlan.executeQuery(SparkPlan.scala:229)\n\tat org.apache.spark.sql.execution.SparkPlan.execute(SparkPlan.scala:190)\n\tat org.apache.spark.sql.execution.InputAdapter.inputRDD(WholeStageCodegenExec.scala:527)\n\tat org.apache.spark.sql.execution.InputRDDCodegen.inputRDDs(WholeStageCodegenExec.scala:455)\n\tat org.apache.spark.sql.execution.InputRDDCodegen.inputRDDs$(WholeStageCodegenExec.scala:454)\n\tat org.apache.spark.sql.execution.InputAdapter.inputRDDs(WholeStageCodegenExec.scala:498)\n\tat org.apache.spark.sql.execution.SortExec.inputRDDs(SortExec.scala:132)\n\tat org.apache.spark.sql.execution.ProjectExec.inputRDDs(basicPhysicalOperators.scala:51)\n\tat org.apache.spark.sql.execution.ProjectExec.inputRDDs(basicPhysicalOperators.scala:51)\n\tat org.apache.spark.sql.execution.ProjectExec.inputRDDs(basicPhysicalOperators.scala:51)\n\tat org.apache.spark.sql.execution.ProjectExec.inputRDDs(basicPhysicalOperators.scala:51)\n\tat org.apache.spark.sql.execution.WholeStageCodegenExec.doExecute(WholeStageCodegenExec.scala:751)\n\tat org.apache.spark.sql.execution.SparkPlan.$anonfun$execute$1(SparkPlan.scala:194)\n\tat org.apache.spark.sql.execution.SparkPlan.$anonfun$executeQuery$1(SparkPlan.scala:232)\n\tat org.apache.spark.rdd.RDDOperationScope$.withScope(RDDOperationScope.scala:151)\n\tat org.apache.spark.sql.execution.SparkPlan.executeQuery(SparkPlan.scala:229)\n\tat org.apache.spark.sql.execution.SparkPlan.execute(SparkPlan.scala:190)\n\tat org.apache.spark.sql.execution.columnar.CachedRDDBuilder.buildBuffers(InMemoryRelation.scala:273)\n\tat org.apache.spark.sql.execution.columnar.CachedRDDBuilder.cachedColumnBuffers(InMemoryRelation.scala:222)\n\tat org.apache.spark.sql.execution.columnar.InMemoryTableScanExec.filteredCachedBatches(InMemoryTableScanExec.scala:146)\n\tat org.apache.spark.sql.execution.columnar.InMemoryTableScanExec.inputRDD$lzycompute(InMemoryTableScanExec.scala:97)\n\tat org.apache.spark.sql.execution.columnar.InMemoryTableScanExec.inputRDD(InMemoryTableScanExec.scala:83)\n\tat org.apache.spark.sql.execution.columnar.InMemoryTableScanExec.doExecute(InMemoryTableScanExec.scala:157)\n\tat org.apache.spark.sql.execution.SparkPlan.$anonfun$execute$1(SparkPlan.scala:194)\n\tat org.apache.spark.sql.execution.SparkPlan.$anonfun$executeQuery$1(SparkPlan.scala:232)\n\tat org.apache.spark.rdd.RDDOperationScope$.withScope(RDDOperationScope.scala:151)\n\tat org.apache.spark.sql.execution.SparkPlan.executeQuery(SparkPlan.scala:229)\n\tat org.apache.spark.sql.execution.SparkPlan.execute(SparkPlan.scala:190)\n\tat org.apache.spark.sql.execution.InputAdapter.inputRDD(WholeStageCodegenExec.scala:527)\n\tat org.apache.spark.sql.execution.InputRDDCodegen.inputRDDs(WholeStageCodegenExec.scala:455)\n\tat org.apache.spark.sql.execution.InputRDDCodegen.inputRDDs$(WholeStageCodegenExec.scala:454)\n\tat org.apache.spark.sql.execution.InputAdapter.inputRDDs(WholeStageCodegenExec.scala:498)\n\tat org.apache.spark.sql.execution.ProjectExec.inputRDDs(basicPhysicalOperators.scala:51)\n\tat org.apache.spark.sql.execution.WholeStageCodegenExec.doExecute(WholeStageCodegenExec.scala:751)\n\tat org.apache.spark.sql.execution.SparkPlan.$anonfun$execute$1(SparkPlan.scala:194)\n\tat org.apache.spark.sql.execution.SparkPlan.$anonfun$executeQuery$1(SparkPlan.scala:232)\n\tat org.apache.spark.rdd.RDDOperationScope$.withScope(RDDOperationScope.scala:151)\n\tat org.apache.spark.sql.execution.SparkPlan.executeQuery(SparkPlan.scala:229)\n\tat org.apache.spark.sql.execution.SparkPlan.execute(SparkPlan.scala:190)\n\tat org.apache.spark.sql.execution.SparkPlan.getByteArrayRdd(SparkPlan.scala:340)\n\tat org.apache.spark.sql.execution.SparkPlan.executeTake(SparkPlan.scala:473)\n\tat org.apache.spark.sql.execution.SparkPlan.executeTake(SparkPlan.scala:459)\n\tat org.apache.spark.sql.execution.CollectLimitExec.executeCollect(limit.scala:48)\n\tat org.apache.spark.sql.Dataset.collectFromPlan(Dataset.scala:3868)\n\tat org.apache.spark.sql.Dataset.$anonfun$head$1(Dataset.scala:2863)\n\tat org.apache.spark.sql.Dataset.$anonfun$withAction$2(Dataset.scala:3858)\n\tat org.apache.spark.sql.execution.QueryExecution$.withInternalError(QueryExecution.scala:510)\n\tat org.apache.spark.sql.Dataset.$anonfun$withAction$1(Dataset.scala:3856)\n\tat org.apache.spark.sql.execution.SQLExecution$.$anonfun$withNewExecutionId$6(SQLExecution.scala:109)\n\tat org.apache.spark.sql.execution.SQLExecution$.withSQLConfPropagated(SQLExecution.scala:169)\n\tat org.apache.spark.sql.execution.SQLExecution$.$anonfun$withNewExecutionId$1(SQLExecution.scala:95)\n\tat org.apache.spark.sql.SparkSession.withActive(SparkSession.scala:779)\n\tat org.apache.spark.sql.execution.SQLExecution$.withNewExecutionId(SQLExecution.scala:64)\n\tat org.apache.spark.sql.Dataset.withAction(Dataset.scala:3856)\n\tat org.apache.spark.sql.Dataset.head(Dataset.scala:2863)\n\tat org.apache.spark.sql.Dataset.take(Dataset.scala:3084)\n\tat org.apache.spark.sql.Dataset.getRows(Dataset.scala:288)\n\tat org.apache.spark.sql.Dataset.showString(Dataset.scala:327)\n\tat jdk.internal.reflect.GeneratedMethodAccessor114.invoke(Unknown Source)\n\tat java.base/jdk.internal.reflect.DelegatingMethodAccessorImpl.invoke(DelegatingMethodAccessorImpl.java:43)\n\tat java.base/java.lang.reflect.Method.invoke(Method.java:566)\n\tat py4j.reflection.MethodInvoker.invoke(MethodInvoker.java:244)\n\tat py4j.reflection.ReflectionEngine.invoke(ReflectionEngine.java:357)\n\tat py4j.Gateway.invoke(Gateway.java:282)\n\tat py4j.commands.AbstractCommand.invokeMethod(AbstractCommand.java:132)\n\tat py4j.commands.CallCommand.execute(CallCommand.java:79)\n\tat py4j.ClientServerConnection.waitForCommands(ClientServerConnection.java:182)\n\tat py4j.ClientServerConnection.run(ClientServerConnection.java:106)\n\tat java.base/java.lang.Thread.run(Thread.java:829)\nCaused by: java.io.FileNotFoundException: \nFile file:/content/output/posts.parquet/Year=2010/Month=7/Day=1/part-00000-3c00e980-72e5-4c21-999d-4d69785737e5.c000.snappy.parquet does not exist\n\nIt is possible the underlying files have been updated. You can explicitly invalidate\nthe cache in Spark by running 'REFRESH TABLE tableName' command in SQL or by\nrecreating the Dataset/DataFrame involved.\n       \n\tat org.apache.spark.sql.errors.QueryExecutionErrors$.readCurrentFileNotFoundError(QueryExecutionErrors.scala:661)\n\tat org.apache.spark.sql.execution.datasources.FileScanRDD$$anon$1.org$apache$spark$sql$execution$datasources$FileScanRDD$$anon$$readCurrentFile(FileScanRDD.scala:212)\n\tat org.apache.spark.sql.execution.datasources.FileScanRDD$$anon$1.nextIterator(FileScanRDD.scala:270)\n\tat org.apache.spark.sql.execution.datasources.FileScanRDD$$anon$1.hasNext(FileScanRDD.scala:116)\n\tat org.apache.spark.sql.execution.FileSourceScanExec$$anon$1.hasNext(DataSourceScanExec.scala:554)\n\tat org.apache.spark.sql.catalyst.expressions.GeneratedClass$GeneratedIteratorForCodegenStage3.columnartorow_nextBatch_0$(Unknown Source)\n\tat org.apache.spark.sql.catalyst.expressions.GeneratedClass$GeneratedIteratorForCodegenStage3.processNext(Unknown Source)\n\tat org.apache.spark.sql.execution.BufferedRowIterator.hasNext(BufferedRowIterator.java:43)\n\tat org.apache.spark.sql.execution.WholeStageCodegenExec$$anon$1.hasNext(WholeStageCodegenExec.scala:760)\n\tat scala.collection.Iterator$$anon$10.hasNext(Iterator.scala:460)\n\tat org.apache.spark.shuffle.sort.BypassMergeSortShuffleWriter.write(BypassMergeSortShuffleWriter.java:140)\n\tat org.apache.spark.shuffle.ShuffleWriteProcessor.write(ShuffleWriteProcessor.scala:59)\n\tat org.apache.spark.scheduler.ShuffleMapTask.runTask(ShuffleMapTask.scala:99)\n\tat org.apache.spark.scheduler.ShuffleMapTask.runTask(ShuffleMapTask.scala:52)\n\tat org.apache.spark.scheduler.Task.run(Task.scala:136)\n\tat org.apache.spark.executor.Executor$TaskRunner.$anonfun$run$3(Executor.scala:548)\n\tat org.apache.spark.util.Utils$.tryWithSafeFinally(Utils.scala:1504)\n\tat org.apache.spark.executor.Executor$TaskRunner.run(Executor.scala:551)\n\tat java.base/java.util.concurrent.ThreadPoolExecutor.runWorker(ThreadPoolExecutor.java:1128)\n\tat java.base/java.util.concurrent.ThreadPoolExecutor$Worker.run(ThreadPoolExecutor.java:628)\n\t... 1 more\n"
          ]
        }
      ]
    },
    {
      "cell_type": "code",
      "source": [
        "#GRUPOWANIE \n",
        "\n",
        "#display(pdDF)\n",
        "\n",
        "# postsDF1 \\\n",
        "#   .withColumn('word', explode(f.split(f.col('Description'), ' ')))\\\n",
        "#   .groupBy('word')\\\n",
        "#   .count()\\\n",
        "#   .sort('count', ascending=False)\\\n",
        "#   .show()\n",
        "\n",
        "# import pandas as pd\n",
        "# import matplotlib.pyplot as plt\n",
        "\n",
        "# plotdata = pd.DataFrame({\n",
        "#     \"2010\":[18,13,10,19, 11], #MIESIĄC/ILOŚĆ\n",
        "#     \"2017\":[7,7,7,3, 33],\n",
        "#     \"2018\":[57,67,77,83, 32],\n",
        "#     \"2019\":[68,73,80,79, 32],    \n",
        "#     \"2020\":[73,78,80,85, 34]},\n",
        "#     index=[\"Django\", \"Gafur\", \"Tommy\", \"Ronnie\", \"Python\"]) #LATA\n",
        "# plotdata.plot(kind='bar', stacked=True, figsize=(15, 8))\n",
        "\n",
        "# plt.title(\"Post ratings\")\n",
        "\n",
        "# plt.xlabel(\"Years\")\n",
        "\n",
        "# plt.ylabel(\"Number of posts\")    \n",
        "\n",
        "#plt.bar(df['Year'], df['Sample Size'])\n",
        "#plt.plot(plotdata['2017'], plotdata[7,7,7,3], '-o', color='orange')\n",
        "#https://www.dataquest.io/blog/how-to-plot-a-bar-graph-matplotlib/\n",
        "\n",
        "# from plotly.subplots import make_subplots\n",
        "\n",
        "# speed = [0.1, 17.5, 40, 48, 52, 69, 88]\n",
        "# lifespan = [2, 8, 70, 1.5, 25, 12, 28]\n",
        "# index = ['snail', 'pig', 'elephant', 'rabbit', 'giraffe', 'coyote', 'horse']\n",
        "# df = pd.DataFrame({'speed': speed,'lifespan': lifespan}, index=index)\n",
        "# df.plot.bar()\n",
        "\n",
        "\n",
        "import pyspark\n",
        "from pyspark.sql import SparkSession\n",
        "from pyspark.sql.functions import col,sum,avg,max\n",
        "\n",
        "spark = SparkSession.builder.appName('SparkByExamples.com').getOrCreate()\n",
        "\n",
        "simpleData = [(\"James\",\"Sales\",\"NY\",90000,34,10000),\n",
        "    (\"Michael\",\"Sales\",\"NY\",86000,56,20000),\n",
        "    (\"Robert\",\"Sales\",\"CA\",81000,30,23000),\n",
        "    (\"Maria\",\"Finance\",\"CA\",90000,24,23000),\n",
        "    (\"Raman\",\"Finance\",\"CA\",99000,40,24000),\n",
        "    (\"Scott\",\"Finance\",\"NY\",83000,36,19000),\n",
        "    (\"Jen\",\"Finance\",\"NY\",79000,53,15000),\n",
        "    (\"Jeff\",\"Marketing\",\"CA\",80000,25,18000),\n",
        "    (\"Kumar\",\"Marketing\",\"NY\",91000,50,21000)\n",
        "  ]\n",
        "\n",
        "schema = [\"employee_name\",\"department\",\"state\",\"salary\",\"age\",\"bonus\"]\n",
        "df = spark.createDataFrame(data=simpleData, schema = schema)\n",
        "df.printSchema()\n",
        "df.show(truncate=False)\n",
        "\n",
        "df.groupBy(\"department\").sum(\"salary\").show(truncate=False)\n",
        "\n",
        "df.groupBy(\"department\").count().show(truncate=False)\n",
        "\n",
        "\n",
        "df.groupBy(\"department\",\"state\") \\\n",
        "    .sum(\"salary\",\"bonus\") \\\n",
        "   .show(truncate=False)\n",
        "\n",
        "df.groupBy(\"department\") \\\n",
        "    .agg(sum(\"salary\").alias(\"sum_salary\"), \\\n",
        "         avg(\"salary\").alias(\"avg_salary\"), \\\n",
        "         sum(\"bonus\").alias(\"sum_bonus\"), \\\n",
        "         max(\"bonus\").alias(\"max_bonus\") \\\n",
        "     ) \\\n",
        "    .show(truncate=False)\n",
        "    \n",
        "df.groupBy(\"department\") \\\n",
        "    .agg(sum(\"salary\").alias(\"sum_salary\"), \\\n",
        "      avg(\"salary\").alias(\"avg_salary\"), \\\n",
        "      sum(\"bonus\").alias(\"sum_bonus\"), \\\n",
        "      max(\"bonus\").alias(\"max_bonus\")) \\\n",
        "    .where(col(\"sum_bonus\") >= 50000) \\\n",
        "    .show(truncate=False)"
      ],
      "metadata": {
        "id": "f3Q2FpjotfMY"
      },
      "execution_count": null,
      "outputs": []
    }
  ]
}
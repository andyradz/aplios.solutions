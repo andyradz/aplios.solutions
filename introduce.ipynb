{
  "nbformat": 4,
  "nbformat_minor": 0,
  "metadata": {
    "colab": {
      "provenance": [],
      "authorship_tag": "ABX9TyPb+2h9kz5qB5jBCBLuc/Db",
      "include_colab_link": true
    },
    "kernelspec": {
      "name": "python3",
      "display_name": "Python 3"
    },
    "language_info": {
      "name": "python"
    },
    "gpuClass": "standard"
  },
  "cells": [
    {
      "cell_type": "markdown",
      "metadata": {
        "id": "view-in-github",
        "colab_type": "text"
      },
      "source": [
        "<a href=\"https://colab.research.google.com/github/andyradz/aplios.solutions/blob/master/introduce.ipynb\" target=\"_parent\"><img src=\"https://colab.research.google.com/assets/colab-badge.svg\" alt=\"Open In Colab\"/></a>"
      ]
    },
    {
      "cell_type": "markdown",
      "source": [
        "# Praca dyplomowa\n",
        "##### Student    :: Andrzej Radziszewski\n",
        "\n",
        "##### Kierunek   :: BigData\n",
        "\n",
        "##### Nr indeksu :: 0000"
      ],
      "metadata": {
        "id": "D8heaOw48eGP"
      }
    },
    {
      "cell_type": "markdown",
      "source": [
        "# Konfiguracja środowiska"
      ],
      "metadata": {
        "id": "R2G-8VGrXlt9"
      }
    },
    {
      "cell_type": "markdown",
      "source": [
        "#### Montowanie zasobu Google Drive Volume"
      ],
      "metadata": {
        "id": "JoFm2ebZ8wMP"
      }
    },
    {
      "cell_type": "markdown",
      "source": [],
      "metadata": {
        "id": "RS4fTjK-8s-X"
      }
    },
    {
      "cell_type": "code",
      "execution_count": 1,
      "metadata": {
        "colab": {
          "base_uri": "https://localhost:8080/"
        },
        "id": "HNEHQd6EtyLP",
        "outputId": "eda55a13-66e9-4755-c536-1284be499583"
      },
      "outputs": [
        {
          "output_type": "stream",
          "name": "stdout",
          "text": [
            "Drive already mounted at /content/gdrive; to attempt to forcibly remount, call drive.mount(\"/content/gdrive\", force_remount=True).\n"
          ]
        }
      ],
      "source": [
        "## MOUNT GOOGLE DRIVE VOLUME\n",
        "\n",
        "from google.colab import drive\n",
        "drive.mount('/content/gdrive')"
      ]
    },
    {
      "cell_type": "markdown",
      "source": [
        "#### Listowanie zawartości zasobu Google Drive Volume\n"
      ],
      "metadata": {
        "id": "VRENRNID9FHj"
      }
    },
    {
      "cell_type": "markdown",
      "source": [],
      "metadata": {
        "id": "hbqb3Ems-2q3"
      }
    },
    {
      "cell_type": "code",
      "source": [
        "## LIST GOOGLE DRIVE VOLUME\n",
        "!ls -laFtA --full-time /content/gdrive \n",
        "\n",
        "### CREATE REQUIRED DATA FOLDERS\n",
        "\n",
        "!mkdir input\n",
        "!mkdir output"
      ],
      "metadata": {
        "colab": {
          "base_uri": "https://localhost:8080/"
        },
        "id": "lS9HUpvUuiZE",
        "outputId": "e04546bb-cbd4-49ae-f831-0b97afa9a385"
      },
      "execution_count": 2,
      "outputs": [
        {
          "output_type": "stream",
          "name": "stdout",
          "text": [
            "total 16\n",
            "dr-x------  2 root root 4096 2023-04-06 11:25:48.000000000 +0000 .file-revisions-by-id/\n",
            "drwx------ 22 root root 4096 2023-04-06 11:25:48.000000000 +0000 MyDrive/\n",
            "dr-x------  2 root root 4096 2023-04-06 11:25:48.000000000 +0000 .shortcut-targets-by-id/\n",
            "drwx------  5 root root 4096 2023-04-06 11:25:48.000000000 +0000 .Trash-0/\n",
            "mkdir: cannot create directory ‘input’: File exists\n",
            "mkdir: cannot create directory ‘output’: File exists\n"
          ]
        }
      ]
    },
    {
      "cell_type": "markdown",
      "source": [
        "#### Instalacja komponentu Java Development Kit"
      ],
      "metadata": {
        "id": "Kasigenj0szW"
      }
    },
    {
      "cell_type": "code",
      "source": [
        "### DOWNLOAD AND INSTALL JAVA VIRTUAL MACHINE(JVM)\n",
        "\n",
        "!apt-get install openjdk-8-jdk-headless -qq > /dev/null"
      ],
      "metadata": {
        "id": "l07_EefG9i9t"
      },
      "execution_count": 3,
      "outputs": []
    },
    {
      "cell_type": "markdown",
      "source": [
        "#### Instalacja komponentu Hadoop"
      ],
      "metadata": {
        "id": "oYBO00HF299i"
      }
    },
    {
      "cell_type": "code",
      "source": [
        "### DOWNLOAD APACHE SPARK AND HADOOP ENVIRONMENT\n",
        "!wget https://dlcdn.apache.org/spark/spark-3.3.1/spark-3.3.1-bin-hadoop3.tgz > /dev/null\n",
        "\n",
        "### UNZIP SPARK ENVIRONMENT\n",
        "!tar xf spark-3.3.1-bin-hadoop3.tgz > /dev/null"
      ],
      "metadata": {
        "colab": {
          "base_uri": "https://localhost:8080/"
        },
        "id": "hErp8jy39pHI",
        "outputId": "81965109-0592-40f3-cfe7-608c0aeae3ec"
      },
      "execution_count": 4,
      "outputs": [
        {
          "output_type": "stream",
          "name": "stdout",
          "text": [
            "--2023-04-06 11:30:42--  https://dlcdn.apache.org/spark/spark-3.3.1/spark-3.3.1-bin-hadoop3.tgz\n",
            "Resolving dlcdn.apache.org (dlcdn.apache.org)... 151.101.2.132, 2a04:4e42::644\n",
            "Connecting to dlcdn.apache.org (dlcdn.apache.org)|151.101.2.132|:443... connected.\n",
            "HTTP request sent, awaiting response... 404 Not Found\n",
            "2023-04-06 11:30:42 ERROR 404: Not Found.\n",
            "\n",
            "tar: spark-3.3.1-bin-hadoop3.tgz: Cannot open: No such file or directory\n",
            "tar: Error is not recoverable: exiting now\n"
          ]
        }
      ]
    },
    {
      "cell_type": "markdown",
      "source": [
        "#### Ustawienie zmiennych środowiskowych dla Python"
      ],
      "metadata": {
        "id": "XTcBb7pE3IF5"
      }
    },
    {
      "cell_type": "code",
      "source": [
        "### SET SYSTEM VARIABLES FOR PYSPARK\n",
        "\n",
        "import os\n",
        "os.environ[\"JAVA_HOME\"] = \"/usr/lib/jvm/java-8-openjdk-amd64\"\n",
        "os.environ[\"SPARK_HOME\"] = '/content/spark-3.3.1-bin-hadoop3'\n",
        "os.environ['PYSPARK_SUBMIT_ARGS'] = '---jars /content/spark-3.3.1-bin-hadoop3/jars/spark-xml_2.12-0.11.0.jar pyspark-shell'"
      ],
      "metadata": {
        "id": "KHhDUqQ-9uU4"
      },
      "execution_count": 5,
      "outputs": []
    },
    {
      "cell_type": "markdown",
      "source": [
        "#### Instalacja komponentu PySpark"
      ],
      "metadata": {
        "id": "r9kCaQNJ3W4E"
      }
    },
    {
      "cell_type": "code",
      "source": [
        "### INSTALL PYSPARK ENVIRONMENT\n",
        "!pip install -q pyspark > /dev/null\n",
        "\n",
        "### INSTALL LIBRARY FIND PYSPARK\n",
        "!pip install -q findspark > /dev/null\n",
        "\n",
        "### INITIAL PYSPARK ENVIRONMENT\n",
        "import findspark\n",
        "findspark.init()\n",
        "\n",
        "### CHECK PYSPARK LOCATION\n",
        "findspark.find()\n"
      ],
      "metadata": {
        "colab": {
          "base_uri": "https://localhost:8080/",
          "height": 36
        },
        "id": "L2jBbISv9zh2",
        "outputId": "1799825b-5f73-47b2-f49e-0db10becae07"
      },
      "execution_count": 2,
      "outputs": [
        {
          "output_type": "execute_result",
          "data": {
            "text/plain": [
              "'/usr/local/lib/python3.9/dist-packages/pyspark'"
            ],
            "application/vnd.google.colaboratory.intrinsic+json": {
              "type": "string"
            }
          },
          "metadata": {},
          "execution_count": 2
        }
      ]
    },
    {
      "cell_type": "markdown",
      "source": [
        " #### Instalacja aplikacji 7Zip"
      ],
      "metadata": {
        "id": "77ilT8-53qwG"
      }
    },
    {
      "cell_type": "code",
      "source": [
        "!sudo apt install --assume-yes p7zip-full\n",
        "\n",
        "!type(7z)"
      ],
      "metadata": {
        "colab": {
          "base_uri": "https://localhost:8080/"
        },
        "id": "JmWAJ2d7vOPp",
        "outputId": "c39f4e1e-8cfd-4c6c-9b39-2cbcbedeeaa8"
      },
      "execution_count": 3,
      "outputs": [
        {
          "output_type": "stream",
          "name": "stdout",
          "text": [
            "Reading package lists... Done\n",
            "Building dependency tree       \n",
            "Reading state information... Done\n",
            "p7zip-full is already the newest version (16.02+dfsg-7build1).\n",
            "0 upgraded, 0 newly installed, 0 to remove and 24 not upgraded.\n",
            "/bin/bash: -c: line 0: syntax error near unexpected token `7z'\n",
            "/bin/bash: -c: line 0: `type(7z)'\n"
          ]
        }
      ]
    },
    {
      "cell_type": "markdown",
      "source": [
        "#### Listowanie pakietów Python"
      ],
      "metadata": {
        "id": "oLsstViy3uwq"
      }
    },
    {
      "cell_type": "code",
      "source": [
        "### LIST PYTHON INSTALLED PACKAGES\n",
        "\n",
        "!pip3 list -v\n"
      ],
      "metadata": {
        "id": "21B8dajJ-Bm2",
        "colab": {
          "base_uri": "https://localhost:8080/"
        },
        "outputId": "04f80192-103b-4b7c-985b-89de6811ca99"
      },
      "execution_count": 4,
      "outputs": [
        {
          "output_type": "stream",
          "name": "stdout",
          "text": [
            "Package                       Version              Location                               Installer\n",
            "----------------------------- -------------------- -------------------------------------- ---------\n",
            "absl-py                       1.4.0                /usr/local/lib/python3.9/dist-packages pip\n",
            "alabaster                     0.7.13               /usr/local/lib/python3.9/dist-packages pip\n",
            "albumentations                1.2.1                /usr/local/lib/python3.9/dist-packages pip\n",
            "altair                        4.2.2                /usr/local/lib/python3.9/dist-packages pip\n",
            "anyio                         3.6.2                /usr/local/lib/python3.9/dist-packages pip\n",
            "appdirs                       1.4.4                /usr/local/lib/python3.9/dist-packages pip\n",
            "argon2-cffi                   21.3.0               /usr/local/lib/python3.9/dist-packages pip\n",
            "argon2-cffi-bindings          21.2.0               /usr/local/lib/python3.9/dist-packages pip\n",
            "arviz                         0.15.1               /usr/local/lib/python3.9/dist-packages pip\n",
            "astropy                       5.2.2                /usr/local/lib/python3.9/dist-packages pip\n",
            "astunparse                    1.6.3                /usr/local/lib/python3.9/dist-packages pip\n",
            "attrs                         22.2.0               /usr/local/lib/python3.9/dist-packages pip\n",
            "audioread                     3.0.0                /usr/local/lib/python3.9/dist-packages pip\n",
            "autograd                      1.5                  /usr/local/lib/python3.9/dist-packages pip\n",
            "Babel                         2.12.1               /usr/local/lib/python3.9/dist-packages pip\n",
            "backcall                      0.2.0                /usr/local/lib/python3.9/dist-packages pip\n",
            "beautifulsoup4                4.11.2               /usr/local/lib/python3.9/dist-packages pip\n",
            "bleach                        6.0.0                /usr/local/lib/python3.9/dist-packages pip\n",
            "blis                          0.7.9                /usr/local/lib/python3.9/dist-packages pip\n",
            "blosc2                        2.0.0                /usr/local/lib/python3.9/dist-packages pip\n",
            "bokeh                         2.4.3                /usr/local/lib/python3.9/dist-packages pip\n",
            "branca                        0.6.0                /usr/local/lib/python3.9/dist-packages pip\n",
            "CacheControl                  0.12.11              /usr/local/lib/python3.9/dist-packages pip\n",
            "cached-property               1.5.2                /usr/local/lib/python3.9/dist-packages pip\n",
            "cachetools                    5.3.0                /usr/local/lib/python3.9/dist-packages pip\n",
            "catalogue                     2.0.8                /usr/local/lib/python3.9/dist-packages pip\n",
            "certifi                       2022.12.7            /usr/local/lib/python3.9/dist-packages pip\n",
            "cffi                          1.15.1               /usr/local/lib/python3.9/dist-packages pip\n",
            "chardet                       4.0.0                /usr/local/lib/python3.9/dist-packages pip\n",
            "charset-normalizer            2.0.12               /usr/local/lib/python3.9/dist-packages pip\n",
            "chex                          0.1.7                /usr/local/lib/python3.9/dist-packages pip\n",
            "click                         8.1.3                /usr/local/lib/python3.9/dist-packages pip\n",
            "cloudpickle                   2.2.1                /usr/local/lib/python3.9/dist-packages pip\n",
            "cmake                         3.25.2               /usr/local/lib/python3.9/dist-packages pip\n",
            "cmdstanpy                     1.1.0                /usr/local/lib/python3.9/dist-packages pip\n",
            "colorcet                      3.0.1                /usr/local/lib/python3.9/dist-packages pip\n",
            "colorlover                    0.3.0                /usr/local/lib/python3.9/dist-packages pip\n",
            "community                     1.0.0b1              /usr/local/lib/python3.9/dist-packages pip\n",
            "confection                    0.0.4                /usr/local/lib/python3.9/dist-packages pip\n",
            "cons                          0.4.5                /usr/local/lib/python3.9/dist-packages pip\n",
            "contextlib2                   0.6.0.post1          /usr/local/lib/python3.9/dist-packages pip\n",
            "contourpy                     1.0.7                /usr/local/lib/python3.9/dist-packages pip\n",
            "convertdate                   2.4.0                /usr/local/lib/python3.9/dist-packages pip\n",
            "cryptography                  40.0.1               /usr/local/lib/python3.9/dist-packages pip\n",
            "cufflinks                     0.17.3               /usr/local/lib/python3.9/dist-packages pip\n",
            "cvxopt                        1.3.0                /usr/local/lib/python3.9/dist-packages pip\n",
            "cvxpy                         1.3.1                /usr/local/lib/python3.9/dist-packages pip\n",
            "cycler                        0.11.0               /usr/local/lib/python3.9/dist-packages pip\n",
            "cymem                         2.0.7                /usr/local/lib/python3.9/dist-packages pip\n",
            "Cython                        0.29.34              /usr/local/lib/python3.9/dist-packages pip\n",
            "dask                          2022.12.1            /usr/local/lib/python3.9/dist-packages pip\n",
            "datascience                   0.17.6               /usr/local/lib/python3.9/dist-packages pip\n",
            "db-dtypes                     1.1.1                /usr/local/lib/python3.9/dist-packages pip\n",
            "dbus-python                   1.2.16               /usr/lib/python3/dist-packages\n",
            "debugpy                       1.6.6                /usr/local/lib/python3.9/dist-packages pip\n",
            "decorator                     4.4.2                /usr/local/lib/python3.9/dist-packages pip\n",
            "defusedxml                    0.7.1                /usr/local/lib/python3.9/dist-packages pip\n",
            "distributed                   2022.12.1            /usr/local/lib/python3.9/dist-packages pip\n",
            "dlib                          19.24.1              /usr/local/lib/python3.9/dist-packages pip\n",
            "dm-tree                       0.1.8                /usr/local/lib/python3.9/dist-packages pip\n",
            "docutils                      0.16                 /usr/local/lib/python3.9/dist-packages pip\n",
            "dopamine-rl                   4.0.6                /usr/local/lib/python3.9/dist-packages pip\n",
            "earthengine-api               0.1.347              /usr/local/lib/python3.9/dist-packages pip\n",
            "easydict                      1.10                 /usr/local/lib/python3.9/dist-packages pip\n",
            "ecos                          2.0.12               /usr/local/lib/python3.9/dist-packages pip\n",
            "editdistance                  0.6.2                /usr/local/lib/python3.9/dist-packages pip\n",
            "en-core-web-sm                3.5.0                /usr/local/lib/python3.9/dist-packages pip\n",
            "entrypoints                   0.4                  /usr/local/lib/python3.9/dist-packages pip\n",
            "ephem                         4.1.4                /usr/local/lib/python3.9/dist-packages pip\n",
            "et-xmlfile                    1.1.0                /usr/local/lib/python3.9/dist-packages pip\n",
            "etils                         1.1.1                /usr/local/lib/python3.9/dist-packages pip\n",
            "etuples                       0.3.8                /usr/local/lib/python3.9/dist-packages pip\n",
            "exceptiongroup                1.1.1                /usr/local/lib/python3.9/dist-packages pip\n",
            "fastai                        2.7.12               /usr/local/lib/python3.9/dist-packages pip\n",
            "fastcore                      1.5.29               /usr/local/lib/python3.9/dist-packages pip\n",
            "fastdownload                  0.0.7                /usr/local/lib/python3.9/dist-packages pip\n",
            "fastjsonschema                2.16.3               /usr/local/lib/python3.9/dist-packages pip\n",
            "fastprogress                  1.0.3                /usr/local/lib/python3.9/dist-packages pip\n",
            "fastrlock                     0.8.1                /usr/local/lib/python3.9/dist-packages pip\n",
            "filelock                      3.10.7               /usr/local/lib/python3.9/dist-packages pip\n",
            "findspark                     2.0.1                /usr/local/lib/python3.9/dist-packages pip\n",
            "firebase-admin                5.3.0                /usr/local/lib/python3.9/dist-packages pip\n",
            "Flask                         2.2.3                /usr/local/lib/python3.9/dist-packages pip\n",
            "flatbuffers                   23.3.3               /usr/local/lib/python3.9/dist-packages pip\n",
            "flax                          0.6.8                /usr/local/lib/python3.9/dist-packages pip\n",
            "folium                        0.14.0               /usr/local/lib/python3.9/dist-packages pip\n",
            "fonttools                     4.39.3               /usr/local/lib/python3.9/dist-packages pip\n",
            "frozendict                    2.3.6                /usr/local/lib/python3.9/dist-packages pip\n",
            "fsspec                        2023.3.0             /usr/local/lib/python3.9/dist-packages pip\n",
            "future                        0.18.3               /usr/local/lib/python3.9/dist-packages pip\n",
            "gast                          0.4.0                /usr/local/lib/python3.9/dist-packages pip\n",
            "GDAL                          3.3.2                /usr/local/lib/python3.9/dist-packages pip\n",
            "gdown                         4.6.6                /usr/local/lib/python3.9/dist-packages pip\n",
            "gensim                        4.3.1                /usr/local/lib/python3.9/dist-packages pip\n",
            "geographiclib                 2.0                  /usr/local/lib/python3.9/dist-packages pip\n",
            "geopy                         2.3.0                /usr/local/lib/python3.9/dist-packages pip\n",
            "gin-config                    0.5.0                /usr/local/lib/python3.9/dist-packages pip\n",
            "glob2                         0.7                  /usr/local/lib/python3.9/dist-packages pip\n",
            "google                        2.0.3                /usr/local/lib/python3.9/dist-packages pip\n",
            "google-api-core               2.11.0               /usr/local/lib/python3.9/dist-packages pip\n",
            "google-api-python-client      2.70.0               /usr/local/lib/python3.9/dist-packages pip\n",
            "google-auth                   2.17.1               /usr/local/lib/python3.9/dist-packages pip\n",
            "google-auth-httplib2          0.1.0                /usr/local/lib/python3.9/dist-packages pip\n",
            "google-auth-oauthlib          1.0.0                /usr/local/lib/python3.9/dist-packages pip\n",
            "google-cloud-bigquery         3.4.2                /usr/local/lib/python3.9/dist-packages pip\n",
            "google-cloud-bigquery-storage 2.19.1               /usr/local/lib/python3.9/dist-packages pip\n",
            "google-cloud-core             2.3.2                /usr/local/lib/python3.9/dist-packages pip\n",
            "google-cloud-datastore        2.11.1               /usr/local/lib/python3.9/dist-packages pip\n",
            "google-cloud-firestore        2.7.3                /usr/local/lib/python3.9/dist-packages pip\n",
            "google-cloud-language         2.6.1                /usr/local/lib/python3.9/dist-packages pip\n",
            "google-cloud-storage          2.7.0                /usr/local/lib/python3.9/dist-packages pip\n",
            "google-cloud-translate        3.8.4                /usr/local/lib/python3.9/dist-packages pip\n",
            "google-colab                  1.0.0                /usr/local/lib/python3.9/dist-packages pip\n",
            "google-crc32c                 1.5.0                /usr/local/lib/python3.9/dist-packages pip\n",
            "google-pasta                  0.2.0                /usr/local/lib/python3.9/dist-packages pip\n",
            "google-resumable-media        2.4.1                /usr/local/lib/python3.9/dist-packages pip\n",
            "googleapis-common-protos      1.59.0               /usr/local/lib/python3.9/dist-packages pip\n",
            "googledrivedownloader         0.4                  /usr/local/lib/python3.9/dist-packages pip\n",
            "graphviz                      0.20.1               /usr/local/lib/python3.9/dist-packages pip\n",
            "greenlet                      2.0.2                /usr/local/lib/python3.9/dist-packages pip\n",
            "grpcio                        1.53.0               /usr/local/lib/python3.9/dist-packages pip\n",
            "grpcio-status                 1.48.2               /usr/local/lib/python3.9/dist-packages pip\n",
            "gspread                       3.4.2                /usr/local/lib/python3.9/dist-packages pip\n",
            "gspread-dataframe             3.0.8                /usr/local/lib/python3.9/dist-packages pip\n",
            "gym                           0.25.2               /usr/local/lib/python3.9/dist-packages pip\n",
            "gym-notices                   0.0.8                /usr/local/lib/python3.9/dist-packages pip\n",
            "h5netcdf                      1.1.0                /usr/local/lib/python3.9/dist-packages pip\n",
            "h5py                          3.8.0                /usr/local/lib/python3.9/dist-packages pip\n",
            "HeapDict                      1.0.1                /usr/local/lib/python3.9/dist-packages pip\n",
            "hijri-converter               2.2.4                /usr/local/lib/python3.9/dist-packages pip\n",
            "holidays                      0.22                 /usr/local/lib/python3.9/dist-packages pip\n",
            "holoviews                     1.15.4               /usr/local/lib/python3.9/dist-packages pip\n",
            "html5lib                      1.1                  /usr/local/lib/python3.9/dist-packages pip\n",
            "htmlmin                       0.1.12               /usr/local/lib/python3.9/dist-packages pip\n",
            "httpimport                    1.3.0                /usr/local/lib/python3.9/dist-packages pip\n",
            "httplib2                      0.21.0               /usr/local/lib/python3.9/dist-packages pip\n",
            "humanize                      4.6.0                /usr/local/lib/python3.9/dist-packages pip\n",
            "hyperopt                      0.2.7                /usr/local/lib/python3.9/dist-packages pip\n",
            "idna                          3.4                  /usr/local/lib/python3.9/dist-packages pip\n",
            "ImageHash                     4.3.1                /usr/local/lib/python3.9/dist-packages pip\n",
            "imageio                       2.25.1               /usr/local/lib/python3.9/dist-packages pip\n",
            "imageio-ffmpeg                0.4.8                /usr/local/lib/python3.9/dist-packages pip\n",
            "imagesize                     1.4.1                /usr/local/lib/python3.9/dist-packages pip\n",
            "imbalanced-learn              0.10.1               /usr/local/lib/python3.9/dist-packages pip\n",
            "imgaug                        0.4.0                /usr/local/lib/python3.9/dist-packages pip\n",
            "importlib-metadata            6.1.0                /usr/local/lib/python3.9/dist-packages pip\n",
            "importlib-resources           5.12.0               /usr/local/lib/python3.9/dist-packages pip\n",
            "imutils                       0.5.4                /usr/local/lib/python3.9/dist-packages pip\n",
            "inflect                       6.0.2                /usr/local/lib/python3.9/dist-packages pip\n",
            "iniconfig                     2.0.0                /usr/local/lib/python3.9/dist-packages pip\n",
            "intel-openmp                  2023.1.0             /usr/local/lib/python3.9/dist-packages pip\n",
            "ipykernel                     5.5.6                /usr/local/lib/python3.9/dist-packages pip\n",
            "ipython                       7.34.0               /usr/local/lib/python3.9/dist-packages pip\n",
            "ipython-genutils              0.2.0                /usr/local/lib/python3.9/dist-packages pip\n",
            "ipython-sql                   0.4.1                /usr/local/lib/python3.9/dist-packages pip\n",
            "ipywidgets                    7.7.1                /usr/local/lib/python3.9/dist-packages pip\n",
            "itsdangerous                  2.1.2                /usr/local/lib/python3.9/dist-packages pip\n",
            "jax                           0.4.7                /usr/local/lib/python3.9/dist-packages pip\n",
            "jaxlib                        0.4.7+cuda11.cudnn86 /usr/local/lib/python3.9/dist-packages pip\n",
            "jieba                         0.42.1               /usr/local/lib/python3.9/dist-packages pip\n",
            "Jinja2                        3.1.2                /usr/local/lib/python3.9/dist-packages pip\n",
            "joblib                        1.1.1                /usr/local/lib/python3.9/dist-packages pip\n",
            "jsonpickle                    3.0.1                /usr/local/lib/python3.9/dist-packages pip\n",
            "jsonschema                    4.3.3                /usr/local/lib/python3.9/dist-packages pip\n",
            "jupyter-client                6.1.12               /usr/local/lib/python3.9/dist-packages pip\n",
            "jupyter-console               6.1.0                /usr/local/lib/python3.9/dist-packages pip\n",
            "jupyter_core                  5.3.0                /usr/local/lib/python3.9/dist-packages pip\n",
            "jupyter-server                1.23.6               /usr/local/lib/python3.9/dist-packages pip\n",
            "jupyterlab-pygments           0.2.2                /usr/local/lib/python3.9/dist-packages pip\n",
            "jupyterlab-widgets            3.0.7                /usr/local/lib/python3.9/dist-packages pip\n",
            "kaggle                        1.5.13               /usr/local/lib/python3.9/dist-packages pip\n",
            "keras                         2.12.0               /usr/local/lib/python3.9/dist-packages pip\n",
            "keras-vis                     0.4.1                /usr/local/lib/python3.9/dist-packages pip\n",
            "kiwisolver                    1.4.4                /usr/local/lib/python3.9/dist-packages pip\n",
            "korean-lunar-calendar         0.3.1                /usr/local/lib/python3.9/dist-packages pip\n",
            "langcodes                     3.3.0                /usr/local/lib/python3.9/dist-packages pip\n",
            "lazy_loader                   0.2                  /usr/local/lib/python3.9/dist-packages pip\n",
            "libclang                      16.0.0               /usr/local/lib/python3.9/dist-packages pip\n",
            "librosa                       0.10.0.post2         /usr/local/lib/python3.9/dist-packages pip\n",
            "lightgbm                      3.3.5                /usr/local/lib/python3.9/dist-packages pip\n",
            "lit                           16.0.0               /usr/local/lib/python3.9/dist-packages pip\n",
            "llvmlite                      0.39.1               /usr/local/lib/python3.9/dist-packages pip\n",
            "locket                        1.0.0                /usr/local/lib/python3.9/dist-packages pip\n",
            "logical-unification           0.4.5                /usr/local/lib/python3.9/dist-packages pip\n",
            "LunarCalendar                 0.0.9                /usr/local/lib/python3.9/dist-packages pip\n",
            "lxml                          4.9.2                /usr/local/lib/python3.9/dist-packages pip\n",
            "Markdown                      3.4.3                /usr/local/lib/python3.9/dist-packages pip\n",
            "markdown-it-py                2.2.0                /usr/local/lib/python3.9/dist-packages pip\n",
            "MarkupSafe                    2.1.2                /usr/local/lib/python3.9/dist-packages pip\n",
            "matplotlib                    3.7.1                /usr/local/lib/python3.9/dist-packages pip\n",
            "matplotlib-inline             0.1.6                /usr/local/lib/python3.9/dist-packages pip\n",
            "matplotlib-venn               0.11.9               /usr/local/lib/python3.9/dist-packages pip\n",
            "mdurl                         0.1.2                /usr/local/lib/python3.9/dist-packages pip\n",
            "miniKanren                    1.0.3                /usr/local/lib/python3.9/dist-packages pip\n",
            "missingno                     0.5.2                /usr/local/lib/python3.9/dist-packages pip\n",
            "mistune                       0.8.4                /usr/local/lib/python3.9/dist-packages pip\n",
            "mizani                        0.8.1                /usr/local/lib/python3.9/dist-packages pip\n",
            "mkl                           2019.0               /usr/local/lib/python3.9/dist-packages pip\n",
            "ml-dtypes                     0.0.4                /usr/local/lib/python3.9/dist-packages pip\n",
            "mlxtend                       0.14.0               /usr/local/lib/python3.9/dist-packages pip\n",
            "more-itertools                9.1.0                /usr/local/lib/python3.9/dist-packages pip\n",
            "moviepy                       1.0.3                /usr/local/lib/python3.9/dist-packages pip\n",
            "mpmath                        1.3.0                /usr/local/lib/python3.9/dist-packages pip\n",
            "msgpack                       1.0.5                /usr/local/lib/python3.9/dist-packages pip\n",
            "multimethod                   1.9.1                /usr/local/lib/python3.9/dist-packages pip\n",
            "multipledispatch              0.6.0                /usr/local/lib/python3.9/dist-packages pip\n",
            "multitasking                  0.0.11               /usr/local/lib/python3.9/dist-packages pip\n",
            "murmurhash                    1.0.9                /usr/local/lib/python3.9/dist-packages pip\n",
            "music21                       8.1.0                /usr/local/lib/python3.9/dist-packages pip\n",
            "natsort                       8.3.1                /usr/local/lib/python3.9/dist-packages pip\n",
            "nbclient                      0.7.3                /usr/local/lib/python3.9/dist-packages pip\n",
            "nbconvert                     6.5.4                /usr/local/lib/python3.9/dist-packages pip\n",
            "nbformat                      5.8.0                /usr/local/lib/python3.9/dist-packages pip\n",
            "nest-asyncio                  1.5.6                /usr/local/lib/python3.9/dist-packages pip\n",
            "networkx                      3.0                  /usr/local/lib/python3.9/dist-packages pip\n",
            "nibabel                       3.0.2                /usr/local/lib/python3.9/dist-packages pip\n",
            "nltk                          3.8.1                /usr/local/lib/python3.9/dist-packages pip\n",
            "notebook                      6.4.8                /usr/local/lib/python3.9/dist-packages pip\n",
            "numba                         0.56.4               /usr/local/lib/python3.9/dist-packages pip\n",
            "numexpr                       2.8.4                /usr/local/lib/python3.9/dist-packages pip\n",
            "numpy                         1.22.4               /usr/local/lib/python3.9/dist-packages pip\n",
            "oauth2client                  4.1.3                /usr/local/lib/python3.9/dist-packages pip\n",
            "oauthlib                      3.2.2                /usr/local/lib/python3.9/dist-packages pip\n",
            "opencv-contrib-python         4.7.0.72             /usr/local/lib/python3.9/dist-packages pip\n",
            "opencv-python                 4.7.0.72             /usr/local/lib/python3.9/dist-packages pip\n",
            "opencv-python-headless        4.7.0.72             /usr/local/lib/python3.9/dist-packages pip\n",
            "openpyxl                      3.0.10               /usr/local/lib/python3.9/dist-packages pip\n",
            "opt-einsum                    3.3.0                /usr/local/lib/python3.9/dist-packages pip\n",
            "optax                         0.1.4                /usr/local/lib/python3.9/dist-packages pip\n",
            "orbax                         0.1.7                /usr/local/lib/python3.9/dist-packages pip\n",
            "osqp                          0.6.2.post0          /usr/local/lib/python3.9/dist-packages pip\n",
            "packaging                     23.0                 /usr/local/lib/python3.9/dist-packages pip\n",
            "palettable                    3.3.0                /usr/local/lib/python3.9/dist-packages pip\n",
            "pandas                        1.4.4                /usr/local/lib/python3.9/dist-packages pip\n",
            "pandas-datareader             0.10.0               /usr/local/lib/python3.9/dist-packages pip\n",
            "pandas-gbq                    0.17.9               /usr/local/lib/python3.9/dist-packages pip\n",
            "pandas-profiling              3.2.0                /usr/local/lib/python3.9/dist-packages pip\n",
            "pandocfilters                 1.5.0                /usr/local/lib/python3.9/dist-packages pip\n",
            "panel                         0.14.4               /usr/local/lib/python3.9/dist-packages pip\n",
            "param                         1.13.0               /usr/local/lib/python3.9/dist-packages pip\n",
            "parso                         0.8.3                /usr/local/lib/python3.9/dist-packages pip\n",
            "partd                         1.3.0                /usr/local/lib/python3.9/dist-packages pip\n",
            "pathlib                       1.0.1                /usr/local/lib/python3.9/dist-packages pip\n",
            "pathy                         0.10.1               /usr/local/lib/python3.9/dist-packages pip\n",
            "patsy                         0.5.3                /usr/local/lib/python3.9/dist-packages pip\n",
            "pep517                        0.13.0               /usr/local/lib/python3.9/dist-packages pip\n",
            "pexpect                       4.8.0                /usr/local/lib/python3.9/dist-packages pip\n",
            "phik                          0.12.3               /usr/local/lib/python3.9/dist-packages pip\n",
            "pickleshare                   0.7.5                /usr/local/lib/python3.9/dist-packages pip\n",
            "Pillow                        8.4.0                /usr/local/lib/python3.9/dist-packages pip\n",
            "pip                           22.0.4               /usr/local/lib/python3.9/dist-packages pip\n",
            "pip-tools                     6.6.2                /usr/local/lib/python3.9/dist-packages pip\n",
            "platformdirs                  3.2.0                /usr/local/lib/python3.9/dist-packages pip\n",
            "plotly                        5.13.1               /usr/local/lib/python3.9/dist-packages pip\n",
            "plotnine                      0.10.1               /usr/local/lib/python3.9/dist-packages pip\n",
            "pluggy                        1.0.0                /usr/local/lib/python3.9/dist-packages pip\n",
            "pooch                         1.6.0                /usr/local/lib/python3.9/dist-packages pip\n",
            "portpicker                    1.3.9                /usr/local/lib/python3.9/dist-packages pip\n",
            "prefetch-generator            1.0.3                /usr/local/lib/python3.9/dist-packages pip\n",
            "preshed                       3.0.8                /usr/local/lib/python3.9/dist-packages pip\n",
            "prettytable                   0.7.2                /usr/local/lib/python3.9/dist-packages pip\n",
            "proglog                       0.1.10               /usr/local/lib/python3.9/dist-packages pip\n",
            "progressbar2                  4.2.0                /usr/local/lib/python3.9/dist-packages pip\n",
            "prometheus-client             0.16.0               /usr/local/lib/python3.9/dist-packages pip\n",
            "promise                       2.3                  /usr/local/lib/python3.9/dist-packages pip\n",
            "prompt-toolkit                3.0.38               /usr/local/lib/python3.9/dist-packages pip\n",
            "prophet                       1.1.2                /usr/local/lib/python3.9/dist-packages pip\n",
            "proto-plus                    1.22.2               /usr/local/lib/python3.9/dist-packages pip\n",
            "protobuf                      3.20.3               /usr/local/lib/python3.9/dist-packages pip\n",
            "psutil                        5.9.4                /usr/local/lib/python3.9/dist-packages pip\n",
            "psycopg2                      2.9.6                /usr/local/lib/python3.9/dist-packages pip\n",
            "ptyprocess                    0.7.0                /usr/local/lib/python3.9/dist-packages pip\n",
            "py-cpuinfo                    9.0.0                /usr/local/lib/python3.9/dist-packages pip\n",
            "py4j                          0.10.9.5             /usr/local/lib/python3.9/dist-packages pip\n",
            "pyarrow                       9.0.0                /usr/local/lib/python3.9/dist-packages pip\n",
            "pyasn1                        0.4.8                /usr/local/lib/python3.9/dist-packages pip\n",
            "pyasn1-modules                0.2.8                /usr/local/lib/python3.9/dist-packages pip\n",
            "pycocotools                   2.0.6                /usr/local/lib/python3.9/dist-packages pip\n",
            "pycparser                     2.21                 /usr/local/lib/python3.9/dist-packages pip\n",
            "pyct                          0.5.0                /usr/local/lib/python3.9/dist-packages pip\n",
            "pydantic                      1.10.7               /usr/local/lib/python3.9/dist-packages pip\n",
            "pydata-google-auth            1.7.0                /usr/local/lib/python3.9/dist-packages pip\n",
            "pydot                         1.4.2                /usr/local/lib/python3.9/dist-packages pip\n",
            "pydot-ng                      2.0.0                /usr/local/lib/python3.9/dist-packages pip\n",
            "pydotplus                     2.0.2                /usr/local/lib/python3.9/dist-packages pip\n",
            "PyDrive                       1.3.1                /usr/local/lib/python3.9/dist-packages pip\n",
            "pyerfa                        2.0.0.3              /usr/local/lib/python3.9/dist-packages pip\n",
            "pygame                        2.3.0                /usr/local/lib/python3.9/dist-packages pip\n",
            "Pygments                      2.14.0               /usr/local/lib/python3.9/dist-packages pip\n",
            "PyGObject                     3.36.0               /usr/lib/python3/dist-packages\n",
            "pymc                          5.1.2                /usr/local/lib/python3.9/dist-packages pip\n",
            "PyMeeus                       0.5.12               /usr/local/lib/python3.9/dist-packages pip\n",
            "pymystem3                     0.2.0                /usr/local/lib/python3.9/dist-packages pip\n",
            "PyOpenGL                      3.1.6                /usr/local/lib/python3.9/dist-packages pip\n",
            "pyparsing                     3.0.9                /usr/local/lib/python3.9/dist-packages pip\n",
            "pyrsistent                    0.19.3               /usr/local/lib/python3.9/dist-packages pip\n",
            "PySocks                       1.7.1                /usr/local/lib/python3.9/dist-packages pip\n",
            "pyspark                       3.3.2                /usr/local/lib/python3.9/dist-packages pip\n",
            "pytensor                      2.10.1               /usr/local/lib/python3.9/dist-packages pip\n",
            "pytest                        7.2.2                /usr/local/lib/python3.9/dist-packages pip\n",
            "python-apt                    0.0.0                /usr/local/lib/python3.9/dist-packages\n",
            "python-dateutil               2.8.2                /usr/local/lib/python3.9/dist-packages pip\n",
            "python-louvain                0.16                 /usr/local/lib/python3.9/dist-packages pip\n",
            "python-slugify                8.0.1                /usr/local/lib/python3.9/dist-packages pip\n",
            "python-utils                  3.5.2                /usr/local/lib/python3.9/dist-packages pip\n",
            "pytz                          2022.7.1             /usr/local/lib/python3.9/dist-packages pip\n",
            "pytz-deprecation-shim         0.1.0.post0          /usr/local/lib/python3.9/dist-packages pip\n",
            "pyviz-comms                   2.2.1                /usr/local/lib/python3.9/dist-packages pip\n",
            "PyWavelets                    1.4.1                /usr/local/lib/python3.9/dist-packages pip\n",
            "PyYAML                        6.0                  /usr/local/lib/python3.9/dist-packages pip\n",
            "pyzmq                         23.2.1               /usr/local/lib/python3.9/dist-packages pip\n",
            "qdldl                         0.1.5.post3          /usr/local/lib/python3.9/dist-packages pip\n",
            "qudida                        0.0.4                /usr/local/lib/python3.9/dist-packages pip\n",
            "regex                         2022.10.31           /usr/local/lib/python3.9/dist-packages pip\n",
            "requests                      2.27.1               /usr/local/lib/python3.9/dist-packages pip\n",
            "requests-oauthlib             1.3.1                /usr/local/lib/python3.9/dist-packages pip\n",
            "requests-unixsocket           0.2.0                /usr/lib/python3/dist-packages\n",
            "rich                          13.3.3               /usr/local/lib/python3.9/dist-packages pip\n",
            "rpy2                          3.5.5                /usr/local/lib/python3.9/dist-packages pip\n",
            "rsa                           4.9                  /usr/local/lib/python3.9/dist-packages pip\n",
            "scikit-image                  0.19.3               /usr/local/lib/python3.9/dist-packages pip\n",
            "scikit-learn                  1.2.2                /usr/local/lib/python3.9/dist-packages pip\n",
            "scipy                         1.10.1               /usr/local/lib/python3.9/dist-packages pip\n",
            "scs                           3.2.2                /usr/local/lib/python3.9/dist-packages pip\n",
            "seaborn                       0.12.2               /usr/local/lib/python3.9/dist-packages pip\n",
            "Send2Trash                    1.8.0                /usr/local/lib/python3.9/dist-packages pip\n",
            "setuptools                    67.6.1               /usr/local/lib/python3.9/dist-packages pip\n",
            "shapely                       2.0.1                /usr/local/lib/python3.9/dist-packages pip\n",
            "six                           1.16.0               /usr/local/lib/python3.9/dist-packages pip\n",
            "sklearn-pandas                2.2.0                /usr/local/lib/python3.9/dist-packages pip\n",
            "smart-open                    6.3.0                /usr/local/lib/python3.9/dist-packages pip\n",
            "sniffio                       1.3.0                /usr/local/lib/python3.9/dist-packages pip\n",
            "snowballstemmer               2.2.0                /usr/local/lib/python3.9/dist-packages pip\n",
            "sortedcontainers              2.4.0                /usr/local/lib/python3.9/dist-packages pip\n",
            "soundfile                     0.12.1               /usr/local/lib/python3.9/dist-packages pip\n",
            "soupsieve                     2.4                  /usr/local/lib/python3.9/dist-packages pip\n",
            "soxr                          0.3.4                /usr/local/lib/python3.9/dist-packages pip\n",
            "spacy                         3.5.1                /usr/local/lib/python3.9/dist-packages pip\n",
            "spacy-legacy                  3.0.12               /usr/local/lib/python3.9/dist-packages pip\n",
            "spacy-loggers                 1.0.4                /usr/local/lib/python3.9/dist-packages pip\n",
            "Sphinx                        3.5.4                /usr/local/lib/python3.9/dist-packages pip\n",
            "sphinxcontrib-applehelp       1.0.4                /usr/local/lib/python3.9/dist-packages pip\n",
            "sphinxcontrib-devhelp         1.0.2                /usr/local/lib/python3.9/dist-packages pip\n",
            "sphinxcontrib-htmlhelp        2.0.1                /usr/local/lib/python3.9/dist-packages pip\n",
            "sphinxcontrib-jsmath          1.0.1                /usr/local/lib/python3.9/dist-packages pip\n",
            "sphinxcontrib-qthelp          1.0.3                /usr/local/lib/python3.9/dist-packages pip\n",
            "sphinxcontrib-serializinghtml 1.1.5                /usr/local/lib/python3.9/dist-packages pip\n",
            "SQLAlchemy                    1.4.47               /usr/local/lib/python3.9/dist-packages pip\n",
            "sqlparse                      0.4.3                /usr/local/lib/python3.9/dist-packages pip\n",
            "srsly                         2.4.6                /usr/local/lib/python3.9/dist-packages pip\n",
            "statsmodels                   0.13.5               /usr/local/lib/python3.9/dist-packages pip\n",
            "sympy                         1.11.1               /usr/local/lib/python3.9/dist-packages pip\n",
            "tables                        3.8.0                /usr/local/lib/python3.9/dist-packages pip\n",
            "tabulate                      0.8.10               /usr/local/lib/python3.9/dist-packages pip\n",
            "tangled-up-in-unicode         0.2.0                /usr/local/lib/python3.9/dist-packages pip\n",
            "tblib                         1.7.0                /usr/local/lib/python3.9/dist-packages pip\n",
            "tenacity                      8.2.2                /usr/local/lib/python3.9/dist-packages pip\n",
            "tensorboard                   2.12.1               /usr/local/lib/python3.9/dist-packages pip\n",
            "tensorboard-data-server       0.7.0                /usr/local/lib/python3.9/dist-packages pip\n",
            "tensorboard-plugin-wit        1.8.1                /usr/local/lib/python3.9/dist-packages pip\n",
            "tensorflow                    2.12.0               /usr/local/lib/python3.9/dist-packages pip\n",
            "tensorflow-datasets           4.8.3                /usr/local/lib/python3.9/dist-packages pip\n",
            "tensorflow-estimator          2.12.0               /usr/local/lib/python3.9/dist-packages pip\n",
            "tensorflow-gcs-config         2.12.0               /usr/local/lib/python3.9/dist-packages pip\n",
            "tensorflow-hub                0.13.0               /usr/local/lib/python3.9/dist-packages pip\n",
            "tensorflow-io-gcs-filesystem  0.32.0               /usr/local/lib/python3.9/dist-packages pip\n",
            "tensorflow-metadata           1.13.0               /usr/local/lib/python3.9/dist-packages pip\n",
            "tensorflow-probability        0.19.0               /usr/local/lib/python3.9/dist-packages pip\n",
            "tensorstore                   0.1.35               /usr/local/lib/python3.9/dist-packages pip\n",
            "termcolor                     2.2.0                /usr/local/lib/python3.9/dist-packages pip\n",
            "terminado                     0.17.1               /usr/local/lib/python3.9/dist-packages pip\n",
            "text-unidecode                1.3                  /usr/local/lib/python3.9/dist-packages pip\n",
            "textblob                      0.17.1               /usr/local/lib/python3.9/dist-packages pip\n",
            "tf-slim                       1.1.0                /usr/local/lib/python3.9/dist-packages pip\n",
            "thinc                         8.1.9                /usr/local/lib/python3.9/dist-packages pip\n",
            "threadpoolctl                 3.1.0                /usr/local/lib/python3.9/dist-packages pip\n",
            "tifffile                      2023.3.21            /usr/local/lib/python3.9/dist-packages pip\n",
            "tinycss2                      1.2.1                /usr/local/lib/python3.9/dist-packages pip\n",
            "toml                          0.10.2               /usr/local/lib/python3.9/dist-packages pip\n",
            "tomli                         2.0.1                /usr/local/lib/python3.9/dist-packages pip\n",
            "toolz                         0.12.0               /usr/local/lib/python3.9/dist-packages pip\n",
            "torch                         2.0.0+cu118          /usr/local/lib/python3.9/dist-packages pip\n",
            "torchaudio                    2.0.1+cu118          /usr/local/lib/python3.9/dist-packages pip\n",
            "torchdata                     0.6.0                /usr/local/lib/python3.9/dist-packages pip\n",
            "torchsummary                  1.5.1                /usr/local/lib/python3.9/dist-packages pip\n",
            "torchtext                     0.15.1               /usr/local/lib/python3.9/dist-packages pip\n",
            "torchvision                   0.15.1+cu118         /usr/local/lib/python3.9/dist-packages pip\n",
            "tornado                       6.2                  /usr/local/lib/python3.9/dist-packages pip\n",
            "tqdm                          4.65.0               /usr/local/lib/python3.9/dist-packages pip\n",
            "traitlets                     5.7.1                /usr/local/lib/python3.9/dist-packages pip\n",
            "triton                        2.0.0                /usr/local/lib/python3.9/dist-packages pip\n",
            "tweepy                        4.13.0               /usr/local/lib/python3.9/dist-packages pip\n",
            "typer                         0.7.0                /usr/local/lib/python3.9/dist-packages pip\n",
            "typing_extensions             4.5.0                /usr/local/lib/python3.9/dist-packages pip\n",
            "tzdata                        2023.3               /usr/local/lib/python3.9/dist-packages pip\n",
            "tzlocal                       4.3                  /usr/local/lib/python3.9/dist-packages pip\n",
            "uritemplate                   4.1.1                /usr/local/lib/python3.9/dist-packages pip\n",
            "urllib3                       1.26.15              /usr/local/lib/python3.9/dist-packages pip\n",
            "vega-datasets                 0.9.0                /usr/local/lib/python3.9/dist-packages pip\n",
            "visions                       0.7.4                /usr/local/lib/python3.9/dist-packages pip\n",
            "wasabi                        1.1.1                /usr/local/lib/python3.9/dist-packages pip\n",
            "wcwidth                       0.2.6                /usr/local/lib/python3.9/dist-packages pip\n",
            "webcolors                     1.13                 /usr/local/lib/python3.9/dist-packages pip\n",
            "webencodings                  0.5.1                /usr/local/lib/python3.9/dist-packages pip\n",
            "websocket-client              1.5.1                /usr/local/lib/python3.9/dist-packages pip\n",
            "Werkzeug                      2.2.3                /usr/local/lib/python3.9/dist-packages pip\n",
            "wheel                         0.40.0               /usr/local/lib/python3.9/dist-packages pip\n",
            "widgetsnbextension            3.6.4                /usr/local/lib/python3.9/dist-packages pip\n",
            "wordcloud                     1.8.2.2              /usr/local/lib/python3.9/dist-packages pip\n",
            "wrapt                         1.14.1               /usr/local/lib/python3.9/dist-packages pip\n",
            "xarray                        2022.12.0            /usr/local/lib/python3.9/dist-packages pip\n",
            "xarray-einstats               0.5.1                /usr/local/lib/python3.9/dist-packages pip\n",
            "xgboost                       1.7.5                /usr/local/lib/python3.9/dist-packages pip\n",
            "xlrd                          2.0.1                /usr/local/lib/python3.9/dist-packages pip\n",
            "yellowbrick                   1.5                  /usr/local/lib/python3.9/dist-packages pip\n",
            "yfinance                      0.2.14               /usr/local/lib/python3.9/dist-packages pip\n",
            "zict                          2.2.0                /usr/local/lib/python3.9/dist-packages pip\n",
            "zipp                          3.15.0               /usr/local/lib/python3.9/dist-packages pip\n"
          ]
        }
      ]
    },
    {
      "cell_type": "markdown",
      "source": [
        " # Pobranie archiwum danych z Stackexchange"
      ],
      "metadata": {
        "id": "07GZqaWEVMGD"
      }
    },
    {
      "cell_type": "code",
      "source": [
        "!wget https://archive.org/download/stackexchange/webapps.stackexchange.com.7z -P /content/input/ > /dev/null"
      ],
      "metadata": {
        "colab": {
          "base_uri": "https://localhost:8080/"
        },
        "id": "eBZxivlyZQFk",
        "outputId": "18d9ea43-1d75-48a0-8980-4c4a08974021"
      },
      "execution_count": 5,
      "outputs": [
        {
          "output_type": "stream",
          "name": "stdout",
          "text": [
            "--2023-04-06 11:32:33--  https://archive.org/download/stackexchange/webapps.stackexchange.com.7z\n",
            "Resolving archive.org (archive.org)... 207.241.224.2\n",
            "Connecting to archive.org (archive.org)|207.241.224.2|:443... connected.\n",
            "HTTP request sent, awaiting response... 302 Found\n",
            "Location: https://ia800107.us.archive.org/27/items/stackexchange/webapps.stackexchange.com.7z [following]\n",
            "--2023-04-06 11:32:33--  https://ia800107.us.archive.org/27/items/stackexchange/webapps.stackexchange.com.7z\n",
            "Resolving ia800107.us.archive.org (ia800107.us.archive.org)... 207.241.232.17\n",
            "Connecting to ia800107.us.archive.org (ia800107.us.archive.org)|207.241.232.17|:443... connected.\n",
            "HTTP request sent, awaiting response... 200 OK\n",
            "Length: 69259627 (66M) [application/x-7z-compressed]\n",
            "Saving to: ‘/content/input/webapps.stackexchange.com.7z’\n",
            "\n",
            "webapps.stackexchan 100%[===================>]  66.05M  5.03MB/s    in 42s     \n",
            "\n",
            "2023-04-06 11:33:15 (1.58 MB/s) - ‘/content/input/webapps.stackexchange.com.7z’ saved [69259627/69259627]\n",
            "\n"
          ]
        }
      ]
    },
    {
      "cell_type": "markdown",
      "source": [
        "#### Rozpakowanie archiwum danych"
      ],
      "metadata": {
        "id": "VWVdaBdZ7Zfr"
      }
    },
    {
      "cell_type": "code",
      "source": [
        "####EXTRACT DATA FROM 7ZIP ARCHIWUM\n",
        "!7za e -y /content/input/webapps.stackexchange.com.7z -o/content/input/ > /dev/null"
      ],
      "metadata": {
        "id": "hznIGKtyKDfg"
      },
      "execution_count": 6,
      "outputs": []
    },
    {
      "cell_type": "markdown",
      "source": [
        "# Utworzenie sesji środowiska PySpark"
      ],
      "metadata": {
        "id": "AoyoYqbl7yGR"
      }
    },
    {
      "cell_type": "code",
      "source": [
        "import pyspark\n",
        "from pyspark.sql import SparkSession\n",
        "from pyspark.sql.types import StructType, StructField, LongType, StringType, BooleanType, DateType \n",
        "from pyspark.sql.functions import to_timestamp, date_format, col\n",
        "\n",
        "spark = SparkSession \\\n",
        "    .builder \\\n",
        "    .master(\"local[*]\") \\\n",
        "    .appName('ARDiplomaWork') \\\n",
        "    .config('spark.jars.packages', 'com.databricks:spark-xml_2.12:0.6.0') \\\n",
        "    .getOrCreate()"
      ],
      "metadata": {
        "id": "WuiPfbOKVzGi"
      },
      "execution_count": 7,
      "outputs": []
    },
    {
      "cell_type": "markdown",
      "source": [
        "# Tworzenie struktur analitycznych w formacie Parquet"
      ],
      "metadata": {
        "id": "oKEJa1xGBpx9"
      }
    },
    {
      "cell_type": "markdown",
      "source": [
        "#### Odczyt, partycjonowanie i zapis zbioru POSTS.XML"
      ],
      "metadata": {
        "id": "CBxtCJYV9lBl"
      }
    },
    {
      "cell_type": "code",
      "source": [
        "schema = StructType([ \\\n",
        "    StructField(\"_AnswerCount\", LongType(), True), \\\n",
        "    StructField(\"_Body\", StringType(), True), \\\n",
        "    StructField(\"_CommentCount\", LongType(), True), \\\n",
        "    StructField(\"_CreationDate\", StringType(), True), \\\n",
        "    StructField(\"_Id\", LongType(), True), \\\n",
        "    StructField(\"_LastActivityDate\", StringType(), True), \\\n",
        "    StructField(\"_OwnerUserId\", LongType(), True), \\\n",
        "    StructField(\"_ParentId\", LongType(), True), \\\n",
        "    StructField(\"_PostTypeId\", LongType(), True), \\\n",
        "    StructField(\"_AcceptedAnswerId\", LongType(), True), \\\n",
        "    StructField(\"_Score\", LongType(), True), \\\n",
        "    StructField(\"_Tags\", StringType(), True), \\\n",
        "    StructField(\"_Title\", StringType(), True), \\\n",
        "    StructField(\"_ViewCount\", LongType(), True), \\\n",
        "    StructField(\"Year\", LongType(), True), \\\n",
        "    StructField(\"Month\", LongType(), True), \\\n",
        "    StructField(\"Day\", LongType(), True) \\\n",
        "]) \n",
        "\n",
        "postsDF = spark.read \\\n",
        "          .format('com.databricks.spark.xml') \\\n",
        "          .options(rootTag='posts') \\\n",
        "          .options(rowTag='row') \\\n",
        "          .schema(schema) \\\n",
        "          .load('/content/input/Posts.xml')     \n",
        "\n",
        "postsDF = postsDF \\\n",
        "          .withColumnRenamed(\"_AnswerCount\", \"AnswerCount\") \\\n",
        "          .withColumnRenamed(\"_Body\", \"Body\") \\\n",
        "          .withColumnRenamed(\"_CommentCount\", \"CommentCount\") \\\n",
        "          .withColumnRenamed(\"_CreationDate\", \"CreationDate\") \\\n",
        "          .withColumnRenamed(\"_Id\", \"Id\") \\\n",
        "          .withColumnRenamed(\"_LastActivityDate\", \"LastActivityDate\") \\\n",
        "          .withColumnRenamed(\"_OwnerUserId\", \"OwnerUserId\") \\\n",
        "          .withColumnRenamed(\"_ParentId\", \"ParentId\") \\\n",
        "          .withColumnRenamed(\"_PostTypeId\", \"PostTypeId\") \\\n",
        "          .withColumnRenamed(\"_AcceptedAnswerId\", \"AcceptedAnswerId\") \\\n",
        "          .withColumnRenamed(\"_Score\", \"Score\") \\\n",
        "          .withColumnRenamed(\"_Tags\", \"Tags\") \\\n",
        "          .withColumnRenamed(\"_Title\", \"Title\") \\\n",
        "          .withColumnRenamed(\"_ViewCount\", \"ViewCount\")\n",
        "\n",
        "postsDF = postsDF \\\n",
        "          .select([\"Id\", \"ParentId\", \"PostTypeId\", \"AcceptedAnswerId\", \"OwnerUserId\", \\\n",
        "                  to_timestamp(\"CreationDate\").alias(\"CreationDate\"), \"Score\", \\\n",
        "                  \"ViewCount\", \"AnswerCount\", \\\n",
        "                  \"CommentCount\", to_timestamp(\"LastActivityDate\").alias(\"LastActivityDate\"), \\\n",
        "                  \"Tags\", \"Title\", \"Body\"]) \\\n",
        "          .withColumn(\"Year\", date_format(col(\"CreationDate\"), \"y\").cast(\"integer\")) \\\n",
        "          .withColumn(\"Month\", date_format(col(\"CreationDate\"), \"M\").cast(\"integer\")) \\\n",
        "          .withColumn(\"Day\", date_format(col(\"CreationDate\"), \"d\").cast(\"integer\")) \\\n",
        "\n",
        "postsDF.printSchema()   \n",
        "postsDF.show(n=10, truncate=False)\n",
        "\n",
        "postsDF = postsDF \\\n",
        "          .write \\\n",
        "          .partitionBy(\"Year\", \"Month\", \"Day\") \\\n",
        "          .mode(\"overwrite\") \\\n",
        "          .parquet(\"/content/output/posts.parquet\")      "
      ],
      "metadata": {
        "colab": {
          "base_uri": "https://localhost:8080/"
        },
        "id": "tz2kAJ8Hk_L7",
        "outputId": "e66e2c62-9436-4f1e-ee61-48baf715c938"
      },
      "execution_count": 8,
      "outputs": [
        {
          "output_type": "stream",
          "name": "stdout",
          "text": [
            "root\n",
            " |-- Id: long (nullable = true)\n",
            " |-- ParentId: long (nullable = true)\n",
            " |-- PostTypeId: long (nullable = true)\n",
            " |-- AcceptedAnswerId: long (nullable = true)\n",
            " |-- OwnerUserId: long (nullable = true)\n",
            " |-- CreationDate: timestamp (nullable = true)\n",
            " |-- Score: long (nullable = true)\n",
            " |-- ViewCount: long (nullable = true)\n",
            " |-- AnswerCount: long (nullable = true)\n",
            " |-- CommentCount: long (nullable = true)\n",
            " |-- LastActivityDate: timestamp (nullable = true)\n",
            " |-- Tags: string (nullable = true)\n",
            " |-- Title: string (nullable = true)\n",
            " |-- Body: string (nullable = true)\n",
            " |-- Year: integer (nullable = true)\n",
            " |-- Month: integer (nullable = true)\n",
            " |-- Day: integer (nullable = true)\n",
            "\n",
            "+---+--------+----------+----------------+-----------+-----------------------+-----+---------+-----------+------------+-----------------------+------------------------------------------------+-------------------------------------------------------------------+-------------------------------------------------------------------------------------------------------------------------------------------------------------------------------------------------------------------------------------------------------------------------------------------------------------------------------------------------------------------------------------------------------------------------------------------------------------------------------------------------------------------------------------------------------------------------------------------------------------------------------------------------------------------------------------------------------------------------------------------------------------------------------------------------------------------------------------------------------------------------------------------------------------------------------------------------------------------------------------------------------------------------------------------------------------------------------------------------------------------------------------------------------------------------------------------+----+-----+---+\n",
            "|Id |ParentId|PostTypeId|AcceptedAnswerId|OwnerUserId|CreationDate           |Score|ViewCount|AnswerCount|CommentCount|LastActivityDate       |Tags                                            |Title                                                              |Body                                                                                                                                                                                                                                                                                                                                                                                                                                                                                                                                                                                                                                                                                                                                                                                                                                                                                                                                                                                                                                                                                                                                                                                       |Year|Month|Day|\n",
            "+---+--------+----------+----------------+-----------+-----------------------+-----+---------+-----------+------------+-----------------------+------------------------------------------------+-------------------------------------------------------------------+-------------------------------------------------------------------------------------------------------------------------------------------------------------------------------------------------------------------------------------------------------------------------------------------------------------------------------------------------------------------------------------------------------------------------------------------------------------------------------------------------------------------------------------------------------------------------------------------------------------------------------------------------------------------------------------------------------------------------------------------------------------------------------------------------------------------------------------------------------------------------------------------------------------------------------------------------------------------------------------------------------------------------------------------------------------------------------------------------------------------------------------------------------------------------------------------+----+-----+---+\n",
            "|1  |null    |1         |22              |17         |2010-06-30 18:46:26.453|161  |52283    |3          |2           |2018-07-03 20:12:27.46 |<facebook><account-management><facebook-account>|How do I delete my Facebook account?                               |<p>I don't trust Facebook's new privacy settings and have decided to delete my account, but I can't find the kill switch.</p>\\n\\n<p>Does anyone know how I can delete my Facebook account?</p>\\n                                                                                                                                                                                                                                                                                                                                                                                                                                                                                                                                                                                                                                                                                                                                                                                                                                                                                                                                                                                           |2010|6    |30 |\n",
            "|2  |null    |1         |15              |17         |2010-06-30 18:48:59.367|35   |625885   |2          |0           |2020-06-02 14:04:04.68 |<gmail>                                         |How do I delete all my mail from my Gmail account?                 |<p>I want to clear my mail from my Gmail account, but don't feel like selecting every message (also the archived ones).</p>\\n\\n<p>Is there an easy way to delete all my mail from Gmail without having to delete my account?</p>\\n                                                                                                                                                                                                                                                                                                                                                                                                                                                                                                                                                                                                                                                                                                                                                                                                                                                                                                                                                         |2010|6    |30 |\n",
            "|3  |null    |1         |45              |17         |2010-06-30 18:53:28.03 |20   |11739    |5          |0           |2016-06-08 08:17:56.687|<outlook><google-calendar><sync>                |How do I sync Google Calendar with my Outlook Calendar?            |<p>At work we use Outlook, but I want an easy way to sync it with my private Google Calendar.</p>\\n\\n<p>However, I tried looking at the Outlook (2010) settings and couldn't find how to make a link.</p>\\n\\n<p>So how do I sync my Google Calendar with my Outlook one?</p>\\n                                                                                                                                                                                                                                                                                                                                                                                                                                                                                                                                                                                                                                                                                                                                                                                                                                                                                                             |2010|6    |30 |\n",
            "|5  |null    |1         |12              |17         |2010-06-30 19:07:36.267|18   |20887    |1          |0           |2017-11-13 16:31:49.43 |<gmail><email-forwarding>                       |Can I auto-forward my Gmail to another address?                    |<p>I'm kind of paranoid about my email and I don't want it to be on Google's servers only. Especially after my account got hacked and all my email got deleted.</p>\\n\\n<p>So I would like to auto-forward my Gmail to another address, but are there any settings I have to enable?</p>\\n                                                                                                                                                                                                                                                                                                                                                                                                                                                                                                                                                                                                                                                                                                                                                                                                                                                                                                  |2010|6    |30 |\n",
            "|6  |null    |1         |37              |17         |2010-06-30 19:11:26.07 |8    |564      |3          |0           |2017-10-08 03:59:56.71 |<blogger><wordpress><migrate-data>              |How do I transfer my blog posts from Google's Blogger to WordPress?|<p>I have a blog on Google's Blogger, but now I want to move to WordPress.</p>\\n\\n<p>Is there an easy way to transfer all my old blog posts from Blogger to WordPress?</p>\\n                                                                                                                                                                                                                                                                                                                                                                                                                                                                                                                                                                                                                                                                                                                                                                                                                                                                                                                                                                                                               |2010|6    |30 |\n",
            "|8  |null    |1         |817             |17         |2010-06-30 19:31:04.167|10   |1367     |1          |0           |2015-06-03 00:47:31.897|<picasa-web-albums>                             |Is Picasa's face tag data stored in the photo itself?              |<p>I tagged all my contacts on my Picasa Web Albums, but I was wondering if this data is stored in the photo itself or would I have to retag every picture when I import them to my desktop or share them with someone else?</p>\\n                                                                                                                                                                                                                                                                                                                                                                                                                                                                                                                                                                                                                                                                                                                                                                                                                                                                                                                                                         |2010|6    |30 |\n",
            "|9  |null    |1         |120             |17         |2010-06-30 19:32:53.99 |53   |292814   |7          |0           |2017-09-02 19:56:48.813|<twitter><search>                               |How do I search within someone's tweets?                           |<p>I remember Jeff Atwood (<a href=\"https://twitter.com/codinghorror\" rel=\"noreferrer\">@codinghorror</a>) had posted a tweet about a new website, but I can't seem to find the link.</p>\\n\\n<p>Is there any way I can search within someone's tweets to find that link?</p>\\n                                                                                                                                                                                                                                                                                                                                                                                                                                                                                                                                                                                                                                                                                                                                                                                                                                                                                                              |2010|6    |30 |\n",
            "|10 |null    |1         |27              |17         |2010-06-30 19:35:59.537|7    |10461    |4          |0           |2017-12-24 17:09:06.33 |<twitter><permissions><followers>               |How can I control who follows me on Twitter?                       |<p>I tend to get a bunch of emails every week that say:</p>\\n\\n<blockquote>\\n  <p>JaneDoe (JaneDoe343) is now following\\n  your tweets on Twitter.is now\\n  following you.</p>\\n  \\n  <p>A little information about JaneDoe:</p>\\n\\n<pre><code>0 followers\\n1 tweet\\nfollowing 483 people\\n</code></pre>\\n</blockquote>\\n\\n<p>I prefer my followers to be real people, so is there any way I can control who follows me?</p>\\n                                                                                                                                                                                                                                                                                                                                                                                                                                                                                                                                                                                                                                                                                                                                                             |2010|6    |30 |\n",
            "|12 |5       |2         |null            |22         |2010-06-30 20:25:06.22 |26   |null     |null       |0           |2012-12-06 09:34:27.253|null                                            |null                                                               |<p>In Gmail: <strong>Settings</strong> → <strong>Forwarding and POP/IMAP</strong> → <strong>Forward a copy of incoming mail to...</strong></p>\\n                                                                                                                                                                                                                                                                                                                                                                                                                                                                                                                                                                                                                                                                                                                                                                                                                                                                                                                                                                                                                                           |2010|6    |30 |\n",
            "|15 |2       |2         |null            |32         |2010-06-30 20:26:41.273|37   |null     |null       |5           |2011-10-07 15:32:20.47 |null                                            |null                                                               |<p>Go to your \\n<a href=\"https://mail.google.com/mail/?shva=1#all\"><strong>All mail</strong> view</a>, \\nand click \"Select all\" (or the drop down option <strong>All</strong> from the checkbox far left of <strong>Archive | Spam | Delete</strong> buttons). </p>\\n\\n<p>Underneath the | Archive | Spam | Delete | + | - | Move to Inbox | Labels | More |\\nbuttons... \\nYou'll see a message appear in a yellow bar that says:</p>\\n\\n<blockquote>\\n  <p>All 100 conversations on this page are selected. Select all 73795 conversations in All Mail</p>\\n</blockquote>\\n\\n<p>Click on the \"Select all conversations\" link on the right side of the message, then click delete. </p>\\n\\n<p>The actual deletion process may take a very, very long time, during which you will be unable to use Gmail or log in (don't worry, it's still churning away in the background, even if it gives you an error!)</p>\\n\\n<p>When it's done, all conversations (except spam) will be in the trash and you should see a message that says \"You don't have any mail! Our servers are feeling unloved.\" </p>\\n\\n<p>Now just empty the trash and delete all spam, and your account is now empty.</p>\\n|2010|6    |30 |\n",
            "+---+--------+----------+----------------+-----------+-----------------------+-----+---------+-----------+------------+-----------------------+------------------------------------------------+-------------------------------------------------------------------+-------------------------------------------------------------------------------------------------------------------------------------------------------------------------------------------------------------------------------------------------------------------------------------------------------------------------------------------------------------------------------------------------------------------------------------------------------------------------------------------------------------------------------------------------------------------------------------------------------------------------------------------------------------------------------------------------------------------------------------------------------------------------------------------------------------------------------------------------------------------------------------------------------------------------------------------------------------------------------------------------------------------------------------------------------------------------------------------------------------------------------------------------------------------------------------------+----+-----+---+\n",
            "only showing top 10 rows\n",
            "\n"
          ]
        }
      ]
    },
    {
      "cell_type": "markdown",
      "source": [
        "#### Odczyt, partycjonowanie i zapis zbioru BADGES.XML"
      ],
      "metadata": {
        "id": "zj073VtF-IDk"
      }
    },
    {
      "cell_type": "code",
      "source": [
        "schema = StructType([ \\\n",
        "    StructField(\"_Class\", LongType(), True), \\\n",
        "    StructField(\"_Date\", StringType(), True), \\\n",
        "    StructField(\"_CommentCount\", LongType(), True), \\\n",
        "    StructField(\"_Id\", LongType(), True), \\\n",
        "    StructField(\"_Name\", StringType(), True), \\\n",
        "    StructField(\"_TagBased\", BooleanType(), True), \\\n",
        "    StructField(\"_UserId\", LongType(), True), \\\n",
        "    StructField(\"Year\", LongType(), True), \\\n",
        "    StructField(\"Month\", LongType(), True), \\\n",
        "    StructField(\"Day\", LongType(), True)\n",
        "])\n",
        "\n",
        "badgesDF = spark.read \\\n",
        "          .format('com.databricks.spark.xml') \\\n",
        "          .options(rootTag='badges') \\\n",
        "          .options(rowTag='row') \\\n",
        "          .schema(schema) \\\n",
        "          .load('/content/input/Badges.xml')\n",
        "\n",
        "badgesDF = badgesDF \\\n",
        "           .withColumnRenamed(\"_Class\", \"Class\") \\\n",
        "           .withColumnRenamed(\"_Date\", \"Date\") \\\n",
        "           .withColumnRenamed(\"_CommentCount\", \"CommentCount\") \\\n",
        "           .withColumnRenamed(\"_Id\", \"Id\") \\\n",
        "           .withColumnRenamed(\"_Name\", \"Name\") \\\n",
        "           .withColumnRenamed(\"_TagBased\", \"TagBased\") \\\n",
        "           .withColumnRenamed(\"_UserId\", \"UserId\")\n",
        "\n",
        "badgesDF = badgesDF \\\n",
        "           .select([\"Id\", \"UserId\", \"Class\", \"Date\", \"CommentCount\", \"TagBased\",\"Name\"]) \\\n",
        "           .withColumn(\"Year\", date_format(col(\"Date\"), \"y\").cast(\"integer\")) \\\n",
        "           .withColumn(\"Month\", date_format(col(\"Date\"), \"M\").cast(\"integer\")) \\\n",
        "           .withColumn(\"Day\", date_format(col(\"Date\"), \"d\").cast(\"integer\"))\n",
        "\n",
        "badgesDF.printSchema()\n",
        "badgesDF.show(n=10, truncate=False)\n",
        "\n",
        "badgesDF = badgesDF \\\n",
        "          .write \\\n",
        "          .partitionBy(\"Year\", \"Month\", \"Day\") \\\n",
        "          .mode(\"overwrite\") \\\n",
        "          .parquet(\"/content/output/badges.parquet\")"
      ],
      "metadata": {
        "id": "k0mWYqay1eJR",
        "outputId": "784e90ee-bfbc-4b9d-fa48-9cfd89a96b0d",
        "colab": {
          "base_uri": "https://localhost:8080/"
        }
      },
      "execution_count": 9,
      "outputs": [
        {
          "output_type": "stream",
          "name": "stdout",
          "text": [
            "root\n",
            " |-- Id: long (nullable = true)\n",
            " |-- UserId: long (nullable = true)\n",
            " |-- Class: long (nullable = true)\n",
            " |-- Date: string (nullable = true)\n",
            " |-- CommentCount: long (nullable = true)\n",
            " |-- TagBased: boolean (nullable = true)\n",
            " |-- Name: string (nullable = true)\n",
            " |-- Year: integer (nullable = true)\n",
            " |-- Month: integer (nullable = true)\n",
            " |-- Day: integer (nullable = true)\n",
            "\n",
            "+---+------+-----+-----------------------+------------+--------+-------+----+-----+---+\n",
            "|Id |UserId|Class|Date                   |CommentCount|TagBased|Name   |Year|Month|Day|\n",
            "+---+------+-----+-----------------------+------------+--------+-------+----+-----+---+\n",
            "|1  |10    |3    |2010-06-30T20:33:03.520|null        |false   |Teacher|2010|6    |30 |\n",
            "|2  |20    |3    |2010-06-30T20:33:03.520|null        |false   |Teacher|2010|6    |30 |\n",
            "|3  |22    |3    |2010-06-30T20:33:03.520|null        |false   |Teacher|2010|6    |30 |\n",
            "|4  |25    |3    |2010-06-30T20:33:03.520|null        |false   |Teacher|2010|6    |30 |\n",
            "|5  |32    |3    |2010-06-30T20:33:03.520|null        |false   |Teacher|2010|6    |30 |\n",
            "|6  |35    |3    |2010-06-30T20:33:03.533|null        |false   |Teacher|2010|6    |30 |\n",
            "|7  |56    |3    |2010-06-30T20:33:03.533|null        |false   |Teacher|2010|6    |30 |\n",
            "|8  |17    |3    |2010-06-30T20:33:03.550|null        |false   |Student|2010|6    |30 |\n",
            "|9  |21    |3    |2010-06-30T20:33:03.550|null        |false   |Student|2010|6    |30 |\n",
            "|10 |23    |3    |2010-06-30T20:33:03.550|null        |false   |Student|2010|6    |30 |\n",
            "+---+------+-----+-----------------------+------------+--------+-------+----+-----+---+\n",
            "only showing top 10 rows\n",
            "\n"
          ]
        }
      ]
    },
    {
      "cell_type": "markdown",
      "source": [
        "#### Odczyt, partycjonowanie i zapis zbioru COMMENTS.XML"
      ],
      "metadata": {
        "id": "aSDZrFA0-eEl"
      }
    },
    {
      "cell_type": "code",
      "source": [
        "schema = StructType([ \\\n",
        "    StructField(\"_ContentLicense\", StringType(), True), \\\n",
        "    StructField(\"_CreationDate\", StringType(), True), \\\n",
        "    StructField(\"_Id\", LongType(), True), \\\n",
        "    StructField(\"_PostId\", LongType(), True), \\\n",
        "    StructField(\"_Score\", LongType(), True), \\\n",
        "    StructField(\"_Text\", StringType(), True), \\\n",
        "    StructField(\"_UserDisplayName\", StringType(), True), \\\n",
        "    StructField(\"_UserId\", LongType(), True),\n",
        "    StructField(\"Year\", LongType(), True), \\\n",
        "    StructField(\"Month\", LongType(), True), \\\n",
        "    StructField(\"Day\", LongType(), True)        \n",
        "])\n",
        "\n",
        "commentsDF = spark.read \\\n",
        "            .format('com.databricks.spark.xml') \\\n",
        "            .options(rootTag='comments') \\\n",
        "            .options(rowTag='row') \\\n",
        "            .schema(schema) \\\n",
        "            .load('/content/input/Comments.xml')\n",
        "\n",
        "commentsDF = commentsDF \\\n",
        "             .withColumnRenamed(\"_ContentLicense\", \"ContentLicense\") \\\n",
        "             .withColumnRenamed(\"_CreationDate\", \"CreationDate\") \\\n",
        "             .withColumnRenamed(\"_Id\", \"Id\") \\\n",
        "             .withColumnRenamed(\"_PostId\", \"PostId\") \\\n",
        "             .withColumnRenamed(\"_Score\", \"Score\") \\\n",
        "             .withColumnRenamed(\"_Text\", \"Text\") \\\n",
        "             .withColumnRenamed(\"_UserDisplayName\", \"UserDisplayName\") \\\n",
        "             .withColumnRenamed(\"_UserId\", \"UserId\") \\\n",
        "\n",
        "commentsDF = commentsDF \\\n",
        "            .select([\"Id\", \"PostId\", \"UserId\", \"CreationDate\", \"ContentLicense\", \\\n",
        "                    \"UserDisplayName\", \"Score\", \"Text\"]) \\\n",
        "            .withColumn(\"Year\", date_format(col(\"CreationDate\"), \"y\").cast(\"integer\")) \\\n",
        "            .withColumn(\"Month\", date_format(col(\"CreationDate\"), \"M\").cast(\"integer\")) \\\n",
        "            .withColumn(\"Day\", date_format(col(\"CreationDate\"), \"d\").cast(\"integer\"))\n",
        "\n",
        "commentsDF.printSchema()\n",
        "commentsDF.show(n=10, truncate=False)\n",
        "\n",
        "commentsDF = commentsDF \\\n",
        "            .write \\\n",
        "            .partitionBy(\"Year\", \"Month\", \"Day\") \\\n",
        "            .mode(\"overwrite\") \\\n",
        "            .parquet(\"/content/output/comments.parquet\")"
      ],
      "metadata": {
        "id": "oSb3uY7F12HG",
        "outputId": "863cd520-fb45-4e00-92a5-3ec65a810826",
        "colab": {
          "base_uri": "https://localhost:8080/"
        }
      },
      "execution_count": 10,
      "outputs": [
        {
          "output_type": "stream",
          "name": "stdout",
          "text": [
            "root\n",
            " |-- Id: long (nullable = true)\n",
            " |-- PostId: long (nullable = true)\n",
            " |-- UserId: long (nullable = true)\n",
            " |-- CreationDate: string (nullable = true)\n",
            " |-- ContentLicense: string (nullable = true)\n",
            " |-- UserDisplayName: string (nullable = true)\n",
            " |-- Score: long (nullable = true)\n",
            " |-- Text: string (nullable = true)\n",
            " |-- Year: integer (nullable = true)\n",
            " |-- Month: integer (nullable = true)\n",
            " |-- Day: integer (nullable = true)\n",
            "\n",
            "+---+------+------+-----------------------+--------------+---------------+-----+-----------------------------------------------------------------------------------------------------------------------------------------------------------------------------------------------------------------------------------------------------------------------------------------------------+----+-----+---+\n",
            "|Id |PostId|UserId|CreationDate           |ContentLicense|UserDisplayName|Score|Text                                                                                                                                                                                                                                                                                                 |Year|Month|Day|\n",
            "+---+------+------+-----------------------+--------------+---------------+-----+-----------------------------------------------------------------------------------------------------------------------------------------------------------------------------------------------------------------------------------------------------------------------------------------------------+----+-----+---+\n",
            "|8  |27    |55    |2010-06-30T20:36:17.223|CC BY-SA 2.5  |null           |3    |When you report an account as spam, it also blocks it.                                                                                                                                                                                                                                               |2010|6    |30 |\n",
            "|9  |45    |17    |2010-06-30T20:37:28.923|CC BY-SA 2.5  |null           |0    |It doesn't (yet) work with 2010, though there might have been a recent update                                                                                                                                                                                                                        |2010|6    |30 |\n",
            "|11 |26    |23    |2010-06-30T20:37:53.960|CC BY-SA 2.5  |null           |0    |Do they allow HD?                                                                                                                                                                                                                                                                                    |2010|6    |30 |\n",
            "|14 |26    |95    |2010-06-30T20:41:21.660|CC BY-SA 2.5  |null           |6    |Article on steps to become a partner: http://www.edubook.com/how-to-become-a-youtube-partner/6585/                                                                                                                                                                                                   |2010|6    |30 |\n",
            "|17 |22    |72    |2010-06-30T20:41:39.770|CC BY-SA 2.5  |null           |8    |What if other sites, like CNet have you setup via Facebook Connect, will visiting c|net count as using it within that two week period?                                                                                                                                                               |2010|6    |30 |\n",
            "|20 |52    |32    |2010-06-30T20:43:04.103|CC BY-SA 2.5  |null           |2    |Unfortunately, that doesn't really help me know what they define \"egregious\" to be... I was hoping someone would have had some specific experience with what they'll allow or not allow                                                                                                              |2010|6    |30 |\n",
            "|21 |47    |33    |2010-06-30T20:43:10.173|CC BY-SA 2.5  |null           |2    |I feel that some people let facebook log into their web email accounts, which would give facebook a collection of a bunch of email addresses that are associated in some way... so if someone has you and someone else in their address book, facebook could guess that you might know of each other.|2010|6    |30 |\n",
            "|22 |38    |21    |2010-06-30T20:43:11.420|CC BY-SA 2.5  |null           |0    |The embarrassing thing is I have actually forgotten how to do this!                                                                                                                                                                                                                                  |2010|6    |30 |\n",
            "|23 |56    |20    |2010-06-30T20:43:11.450|CC BY-SA 2.5  |null           |1    |Wouldn't work as i'd want to be logged-into the OpenID-powered site as well.                                                                                                                                                                                                                         |2010|6    |30 |\n",
            "|26 |72    |111   |2010-06-30T20:47:02.533|CC BY-SA 2.5  |null           |1    |What country are you in, what ISP are you using?                                                                                                                                                                                                                                                     |2010|6    |30 |\n",
            "+---+------+------+-----------------------+--------------+---------------+-----+-----------------------------------------------------------------------------------------------------------------------------------------------------------------------------------------------------------------------------------------------------------------------------------------------------+----+-----+---+\n",
            "only showing top 10 rows\n",
            "\n"
          ]
        }
      ]
    },
    {
      "cell_type": "markdown",
      "source": [
        "#### Odczyt, partycjonowanie i zapis zbioru POSTHISTORY.XML"
      ],
      "metadata": {
        "id": "tf2A25A6-nix"
      }
    },
    {
      "cell_type": "code",
      "source": [
        "schema = StructType([ \\\n",
        "    StructField(\"_Comment\", StringType(), True), \\\n",
        "    StructField(\"_ContentLicense\", StringType(), True), \\\n",
        "    StructField(\"_CreationDate\", StringType(), True), \\\n",
        "    StructField(\"_Id\", LongType(), True), \\\n",
        "    StructField(\"_PostHistoryTypeId\", LongType(), True), \\\n",
        "    StructField(\"_PostId\", LongType(), True), \\\n",
        "    StructField(\"_RevisionGUID\", StringType(), True), \\\n",
        "    StructField(\"_Text\", StringType(), True), \\\n",
        "    StructField(\"_UserDisplayName\", StringType(), True), \\\n",
        "    StructField(\"_UserId\", LongType(), True), \\\n",
        "    StructField(\"Year\", LongType(), True), \\\n",
        "    StructField(\"Month\", LongType(), True), \\\n",
        "    StructField(\"Day\", LongType(), True)    \n",
        "])\n",
        "\n",
        "postHistoryDF = spark.read \\\n",
        "                .format('com.databricks.spark.xml') \\\n",
        "                .options(rootTag='posthistory') \\\n",
        "                .options(rowTag='row') \\\n",
        "                .schema(schema) \\\n",
        "                .load('/content/input/PostHistory.xml')\n",
        "               \n",
        "postHistoryDF = postHistoryDF \\\n",
        "                .withColumnRenamed(\"_Comment\", \"Comment\") \\\n",
        "                .withColumnRenamed(\"_ContentLicense\", \"ContentLicense\") \\\n",
        "                .withColumnRenamed(\"_CreationDate\", \"CreationDate\") \\\n",
        "                .withColumnRenamed(\"_Id\", \"Id\") \\\n",
        "                .withColumnRenamed(\"_PostHistoryTypeId\", \"PostHistoryTypeId\") \\\n",
        "                .withColumnRenamed(\"_PostId\", \"PostId\") \\\n",
        "                .withColumnRenamed(\"_RevisionGUID\", \"RevisionGUID\") \\\n",
        "                .withColumnRenamed(\"_Text\", \"Text\") \\\n",
        "                .withColumnRenamed(\"_UserDisplayName\", \"UserDisplayName\") \\\n",
        "                .withColumnRenamed(\"_UserId\", \"UserId\") \\\n",
        "\n",
        "postHistoryDF = postHistoryDF \\\n",
        "                .select([\"Id\", \"PostId\", \"PostHistoryTypeId\", \"UserId\", \\\n",
        "                         \"CreationDate\", \"RevisionGUID\", \"ContentLicense\", \"UserDisplayName\", \"Comment\", \"Text\"]) \\\n",
        "                .withColumn(\"Year\", date_format(col(\"CreationDate\"), \"y\").cast(\"integer\")) \\\n",
        "                .withColumn(\"Month\", date_format(col(\"CreationDate\"), \"M\").cast(\"integer\")) \\\n",
        "                .withColumn(\"Day\", date_format(col(\"CreationDate\"), \"d\").cast(\"integer\"))                       \n",
        "\n",
        "postHistoryDF.printSchema()\n",
        "postHistoryDF.show(n=10, truncate=False)  \n",
        "\n",
        "postHistoryDF = postHistoryDF \\\n",
        "                .write \\\n",
        "                .partitionBy(\"Year\", \"Month\", \"Day\") \\\n",
        "                .mode(\"overwrite\") \\\n",
        "                .parquet(\"/content/output/posthistory.parquet\")  "
      ],
      "metadata": {
        "id": "qJGp6ztT2FdS",
        "outputId": "62c702fb-1c03-402b-9739-c2819901eec8",
        "colab": {
          "base_uri": "https://localhost:8080/"
        }
      },
      "execution_count": 11,
      "outputs": [
        {
          "output_type": "stream",
          "name": "stdout",
          "text": [
            "root\n",
            " |-- Id: long (nullable = true)\n",
            " |-- PostId: long (nullable = true)\n",
            " |-- PostHistoryTypeId: long (nullable = true)\n",
            " |-- UserId: long (nullable = true)\n",
            " |-- CreationDate: string (nullable = true)\n",
            " |-- RevisionGUID: string (nullable = true)\n",
            " |-- ContentLicense: string (nullable = true)\n",
            " |-- UserDisplayName: string (nullable = true)\n",
            " |-- Comment: string (nullable = true)\n",
            " |-- Text: string (nullable = true)\n",
            " |-- Year: integer (nullable = true)\n",
            " |-- Month: integer (nullable = true)\n",
            " |-- Day: integer (nullable = true)\n",
            "\n",
            "+---+------+-----------------+------+-----------------------+------------------------------------+--------------+---------------+-------+-----------------------------------------------------------------------------------------------------------------------------------------------------------------------------------------------------------------------------------------------------------------------------+----+-----+---+\n",
            "|Id |PostId|PostHistoryTypeId|UserId|CreationDate           |RevisionGUID                        |ContentLicense|UserDisplayName|Comment|Text                                                                                                                                                                                                                                                                         |Year|Month|Day|\n",
            "+---+------+-----------------+------+-----------------------+------------------------------------+--------------+---------------+-------+-----------------------------------------------------------------------------------------------------------------------------------------------------------------------------------------------------------------------------------------------------------------------------+----+-----+---+\n",
            "|1  |1     |2                |17    |2010-06-30T18:46:26.453|47ced08e-d723-4318-8fcd-c410d7edd550|CC BY-SA 2.5  |null           |null   |I don't trust Facebook's new privacy settings and have decided to delete my account, but I can't find the kill switch.\\r\\n\\r\\nDoes anyone know how I can delete my Facebook account?                                                                                         |2010|6    |30 |\n",
            "|2  |1     |1                |17    |2010-06-30T18:46:26.453|47ced08e-d723-4318-8fcd-c410d7edd550|CC BY-SA 2.5  |null           |null   |How do I delete my Facebook account?                                                                                                                                                                                                                                         |2010|6    |30 |\n",
            "|3  |1     |3                |17    |2010-06-30T18:46:26.453|47ced08e-d723-4318-8fcd-c410d7edd550|CC BY-SA 2.5  |null           |null   |<facebook><delete><account-management>                                                                                                                                                                                                                                       |2010|6    |30 |\n",
            "|4  |2     |2                |17    |2010-06-30T18:48:59.367|b769ccb9-3ae8-45bb-ad71-c4fb199cced1|CC BY-SA 2.5  |null           |null   |I want to clear my mail from my Gmail account, but don't feel like selecting every message (also the archived ones).\\r\\n\\r\\nIs there an easy way to delete all my mail from Gmail without having to delete my account?                                                       |2010|6    |30 |\n",
            "|5  |2     |1                |17    |2010-06-30T18:48:59.367|b769ccb9-3ae8-45bb-ad71-c4fb199cced1|CC BY-SA 2.5  |null           |null   |How do I delete all my mail from my Gmail account?                                                                                                                                                                                                                           |2010|6    |30 |\n",
            "|6  |2     |3                |17    |2010-06-30T18:48:59.367|b769ccb9-3ae8-45bb-ad71-c4fb199cced1|CC BY-SA 2.5  |null           |null   |<delete><gmail>                                                                                                                                                                                                                                                              |2010|6    |30 |\n",
            "|7  |3     |2                |17    |2010-06-30T18:53:28.030|98234b90-7327-4e06-b324-33e2b6fe5bb5|CC BY-SA 2.5  |null           |null   |At work we use Outlook, but I want an easy way to sync it with my private Google Calendar.\\r\\n\\r\\nHowever, I tried looking at the Outlook (2010) settings and couldn't find how to make a link.\\r\\n\\r\\nSo how do I sync my Google Calendar with my Outlook one?              |2010|6    |30 |\n",
            "|8  |3     |1                |17    |2010-06-30T18:53:28.030|98234b90-7327-4e06-b324-33e2b6fe5bb5|CC BY-SA 2.5  |null           |null   |How do I sync Google Calendar with my Outlook Calendar?                                                                                                                                                                                                                      |2010|6    |30 |\n",
            "|9  |3     |3                |17    |2010-06-30T18:53:28.030|98234b90-7327-4e06-b324-33e2b6fe5bb5|CC BY-SA 2.5  |null           |null   |<outlook><google-calendar><sync>                                                                                                                                                                                                                                             |2010|6    |30 |\n",
            "|13 |5     |2                |17    |2010-06-30T19:07:36.267|4f0020e5-389a-49c0-bb2f-62489e1952e2|CC BY-SA 2.5  |null           |null   |I'm kind of paranoid about my email and I don't want it to be on Google's servers only. Especially after my account got hacked and all my email got deleted.\\r\\n\\r\\nSo I would like to auto-forward my Gmail to another address, but are there any settings I have to enable?|2010|6    |30 |\n",
            "+---+------+-----------------+------+-----------------------+------------------------------------+--------------+---------------+-------+-----------------------------------------------------------------------------------------------------------------------------------------------------------------------------------------------------------------------------------------------------------------------------+----+-----+---+\n",
            "only showing top 10 rows\n",
            "\n"
          ]
        }
      ]
    },
    {
      "cell_type": "markdown",
      "source": [
        "#### Odczyt, partycjonowanie i zapis zbioru TAGS.XML DATASET"
      ],
      "metadata": {
        "id": "0Kxfkq-K-xIi"
      }
    },
    {
      "cell_type": "code",
      "source": [
        "schema = StructType([ \\\n",
        "    StructField(\"_Count\", LongType(), True), \\\n",
        "    StructField(\"_ExcerptPostId\", LongType(), True), \\\n",
        "    StructField(\"_Id\", LongType(), True), \\\n",
        "    StructField(\"_TagName\", StringType(), True), \\\n",
        "    StructField(\"_WikiPostId\", LongType(), True)    \n",
        "])\n",
        "\n",
        "tagsDF = spark.read \\\n",
        "         .format('com.databricks.spark.xml') \\\n",
        "         .options(rootTag='tags') \\\n",
        "         .options(rowTag='row') \\\n",
        "         .schema(schema) \\\n",
        "         .load('/content/input/Tags.xml')\n",
        "\n",
        "tagsDF = tagsDF \\\n",
        "         .withColumnRenamed(\"_Count\", \"Count\") \\\n",
        "         .withColumnRenamed(\"_ExcerptPostId\", \"ExcerptPostId\") \\\n",
        "         .withColumnRenamed(\"_Id\", \"Id\") \\\n",
        "         .withColumnRenamed(\"_TagName\", \"TagName\") \\\n",
        "         .withColumnRenamed(\"_WikiPostId\", \"WikiPostId\")\n",
        "\n",
        "tagsDF = tagsDF \\\n",
        "        .select([\"Id\", \"ExcerptPostId\", \"WikiPostId\", \"Count\", \"TagName\"])\n",
        "\n",
        "tagsDF.printSchema()\n",
        "tagsDF.show(n=10, truncate=False)\n",
        "\n",
        "tagsDF = tagsDF \\\n",
        "         .write \\\n",
        "         .partitionBy(\"Id\") \\\n",
        "         .mode(\"overwrite\") \\\n",
        "         .parquet(\"/content/output/tags.parquet\") "
      ],
      "metadata": {
        "id": "facMBeo036Oq",
        "outputId": "bee33570-b226-4952-89ca-0c57d6d3eb9f",
        "colab": {
          "base_uri": "https://localhost:8080/"
        }
      },
      "execution_count": 12,
      "outputs": [
        {
          "output_type": "stream",
          "name": "stdout",
          "text": [
            "root\n",
            " |-- Id: long (nullable = true)\n",
            " |-- ExcerptPostId: long (nullable = true)\n",
            " |-- WikiPostId: long (nullable = true)\n",
            " |-- Count: long (nullable = true)\n",
            " |-- TagName: string (nullable = true)\n",
            "\n",
            "+---+-------------+----------+-----+------------------+\n",
            "|Id |ExcerptPostId|WikiPostId|Count|TagName           |\n",
            "+---+-------------+----------+-----+------------------+\n",
            "|1  |6404         |6373      |3176 |facebook          |\n",
            "|2  |20843        |20842     |58   |delete            |\n",
            "|3  |13439        |13438     |310  |account-management|\n",
            "|4  |6420         |6291      |4157 |gmail             |\n",
            "|5  |20668        |20667     |83   |outlook           |\n",
            "|6  |12816        |12815     |774  |google-calendar   |\n",
            "|7  |13362        |13361     |44   |sync              |\n",
            "|8  |12818        |12817     |93   |google-reader     |\n",
            "|12 |13348        |13347     |356  |email             |\n",
            "|13 |12471        |12470     |242  |blogger           |\n",
            "+---+-------------+----------+-----+------------------+\n",
            "only showing top 10 rows\n",
            "\n"
          ]
        }
      ]
    },
    {
      "cell_type": "markdown",
      "source": [
        "#### Odczyt, partycjonowanie i zapis USERS.XML"
      ],
      "metadata": {
        "id": "oHPm50wM-4JQ"
      }
    },
    {
      "cell_type": "code",
      "source": [
        "from pyspark.sql.functions import *\n",
        "\n",
        "schema = StructType([ \\\n",
        "    StructField(\"_AboutMe\", StringType(), True), \\\n",
        "    StructField(\"_AccountId\", LongType(), True), \\\n",
        "    StructField(\"_CreationDate\", StringType(), True), \\\n",
        "    StructField(\"_DisplayName\", StringType(), True), \\\n",
        "    StructField(\"_DownVotes\", LongType(), True), \\\n",
        "    StructField(\"_Id\", LongType(), True), \\\n",
        "    StructField(\"_LastAccessDate\", StringType(), True), \\\n",
        "    StructField(\"_Location\", StringType(), True), \\\n",
        "    StructField(\"_ProfileImageUrl\", StringType(), True), \\\n",
        "    StructField(\"_Reputation\", LongType(), True), \\\n",
        "    StructField(\"_UpVotes\", LongType(), True), \\\n",
        "    StructField(\"_Views\", LongType(), True), \\\n",
        "    StructField(\"_WebsiteUrl\", StringType(), True), \\\n",
        "    StructField(\"Year\", LongType(), True), \\\n",
        "    StructField(\"Month\", LongType(), True), \\\n",
        "    StructField(\"Day\", LongType(), True)\n",
        "])\n",
        "\n",
        "usersDF = spark.read \\\n",
        "          .format('com.databricks.spark.xml') \\\n",
        "          .options(rootTag='Users') \\\n",
        "          .options(rowTag='row') \\\n",
        "          .schema(schema) \\\n",
        "          .load('/content/input/Users.xml')\n",
        "\n",
        "usersDF = usersDF \\\n",
        "          .withColumnRenamed(\"_AboutMe\", \"AboutMe\") \\\n",
        "          .withColumnRenamed(\"_AccountId\", \"AccountId\") \\\n",
        "          .withColumnRenamed(\"_CreationDate\", \"CreationDate\") \\\n",
        "          .withColumnRenamed(\"_DisplayName\", \"DisplayName\") \\\n",
        "          .withColumnRenamed(\"_DownVotes\", \"DownVotes\") \\\n",
        "          .withColumnRenamed(\"_Id\", \"Id\") \\\n",
        "          .withColumnRenamed(\"_LastAccessDate\", \"LastAccessDate\") \\\n",
        "          .withColumnRenamed(\"_Location\", \"Location\") \\\n",
        "          .withColumnRenamed(\"_ProfileImageUrl\", \"ProfileImageUrl\") \\\n",
        "          .withColumnRenamed(\"_Reputation\", \"Reputation\") \\\n",
        "          .withColumnRenamed(\"_UpVotes\", \"UpVotes\") \\\n",
        "          .withColumnRenamed(\"_Views\", \"Views\") \\\n",
        "          .withColumnRenamed(\"_WebsiteUrl\", \"WebsiteUrl\") \\\n",
        "\n",
        "usersDF = usersDF \\\n",
        "          .select([\"Id\", \"AccountId\", to_timestamp(\"CreationDate\").alias(\"CreationDate\"), \\\n",
        "                  to_timestamp(\"LastAccessDate\").alias(\"LastAccessDate\"), \"DownVotes\", \\\n",
        "                  \"UpVotes\", \"Reputation\", \"Views\", \"WebsiteUrl\", \"ProfileImageUrl\", \\\n",
        "                  \"Location\", \"DisplayName\", \"AboutMe\"           \n",
        "                  ]) \\\n",
        "          .withColumn(\"Year\", date_format(col(\"CreationDate\"), \"y\")) \\\n",
        "          .withColumn(\"Month\", date_format(col(\"CreationDate\"), \"M\")) \\\n",
        "          .withColumn(\"Day\", date_format(col(\"CreationDate\"), \"d\"))\n",
        "\n",
        "usersDF.printSchema()\n",
        "usersDF.show(n=10, truncate=False) \n",
        "\n",
        "usersDF = usersDF \\\n",
        "          .write \\\n",
        "          .partitionBy(\"Year\", \"Month\", \"Day\") \\\n",
        "          .mode(\"overwrite\") \\\n",
        "          .parquet(\"/content/output/users.parquet\")"
      ],
      "metadata": {
        "id": "hvnYCooN4GVs",
        "outputId": "37414901-e05a-458b-c530-b95044f526ed",
        "colab": {
          "base_uri": "https://localhost:8080/"
        }
      },
      "execution_count": 13,
      "outputs": [
        {
          "output_type": "stream",
          "name": "stdout",
          "text": [
            "root\n",
            " |-- Id: long (nullable = true)\n",
            " |-- AccountId: long (nullable = true)\n",
            " |-- CreationDate: timestamp (nullable = true)\n",
            " |-- LastAccessDate: timestamp (nullable = true)\n",
            " |-- DownVotes: long (nullable = true)\n",
            " |-- UpVotes: long (nullable = true)\n",
            " |-- Reputation: long (nullable = true)\n",
            " |-- Views: long (nullable = true)\n",
            " |-- WebsiteUrl: string (nullable = true)\n",
            " |-- ProfileImageUrl: string (nullable = true)\n",
            " |-- Location: string (nullable = true)\n",
            " |-- DisplayName: string (nullable = true)\n",
            " |-- AboutMe: string (nullable = true)\n",
            " |-- Year: string (nullable = true)\n",
            " |-- Month: string (nullable = true)\n",
            " |-- Day: string (nullable = true)\n",
            "\n",
            "+---+---------+-----------------------+-----------------------+---------+-------+----------+-----+------------------------------+---------------+---------------------------+---------------+-------------------------------------------------------------------------------------------------------------------------------------------------------------------------------------------------------------------------------------------------------------------------------------------------------------------------------------------------------------------------------------------------------------------------------------------------------------------------------------------------------------------------------------------------------------------------------------------------------------------------------------------------------------------------------------------------------------------------------------------------------------------------------------------------------------------------------------------------------------------------------------------------------------------------------------------------------------------------------------------------------------------------------------------------------------------------------------------------------------------------------------------------------------------------------------------------------------------------------------------------------------------------------------------------------------------------------------------------------------------------------------------------------------------------------------------------------------------------------------------------------------------------------------------------------------------------------------------------------------------------------------------------------------------------------------------------------------------------------------+----+-----+---+\n",
            "|Id |AccountId|CreationDate           |LastAccessDate         |DownVotes|UpVotes|Reputation|Views|WebsiteUrl                    |ProfileImageUrl|Location                   |DisplayName    |AboutMe                                                                                                                                                                                                                                                                                                                                                                                                                                                                                                                                                                                                                                                                                                                                                                                                                                                                                                                                                                                                                                                                                                                                                                                                                                                                                                                                                                                                                                                                                                                                                                                                                                                                                                                              |Year|Month|Day|\n",
            "+---+---------+-----------------------+-----------------------+---------+-------+----------+-----+------------------------------+---------------+---------------------------+---------------+-------------------------------------------------------------------------------------------------------------------------------------------------------------------------------------------------------------------------------------------------------------------------------------------------------------------------------------------------------------------------------------------------------------------------------------------------------------------------------------------------------------------------------------------------------------------------------------------------------------------------------------------------------------------------------------------------------------------------------------------------------------------------------------------------------------------------------------------------------------------------------------------------------------------------------------------------------------------------------------------------------------------------------------------------------------------------------------------------------------------------------------------------------------------------------------------------------------------------------------------------------------------------------------------------------------------------------------------------------------------------------------------------------------------------------------------------------------------------------------------------------------------------------------------------------------------------------------------------------------------------------------------------------------------------------------------------------------------------------------+----+-----+---+\n",
            "|-1 |-1       |2010-06-23 18:30:43.297|2010-06-23 18:30:43.297|30354    |13616  |1         |2549 |http://meta.stackexchange.com/|null           |on the server farm         |Community      |<p>Hi, I'm not really a person.</p>\\n\\n<p>I'm a background process that helps keep this site clean!</p>\\n\\n<p>I do things like</p>\\n\\n<ul>\\n<li>Randomly poke old unanswered questions every hour so they get some attention</li>\\n<li>Own community questions and answers so nobody gets unnecessary reputation from them</li>\\n<li>Own downvotes on spam/evil posts that get permanently deleted</li>\\n<li>Own suggested edits from anonymous users</li>\\n<li><a href=\"http://meta.stackexchange.com/a/92006\">Remove abandoned questions</a></li>\\n</ul>\\n                                                                                                                                                                                                                                                                                                                                                                                                                                                                                                                                                                                                                                                                                                                                                                                                                                                                                                                                                                                                                                                                                                                                                                         |2010|6    |23 |\n",
            "|2  |2        |2010-06-23 19:17:45.427|2020-05-08 20:59:55.597|0        |20     |344       |76   |http://stackoverflow.com      |null           |Corvallis, OR              |Geoff Dalgas   |<p>Dev #2 who helped create Stack Overflow currently working at Microsoft. I love all people willing to share their knowledge. Without community we are nothing.</p>\\n<p>Find me on:</p>\\n<p><a href=\"http://www.twitter.com/SuperDalgas\" rel=\"nofollow noreferrer\">Twitter</a>\\n<br><br>\\n<a href=\"http://blog.stackoverflow.com/2009/05/welcome-stack-overflow-valued-associate-00003/\">Stack Overflow Valued Associate #00003</a></p>\\n                                                                                                                                                                                                                                                                                                                                                                                                                                                                                                                                                                                                                                                                                                                                                                                                                                                                                                                                                                                                                                                                                                                                                                                                                                                                                           |2010|6    |23 |\n",
            "|3  |3        |2010-06-30 06:02:40.717|2021-08-23 17:31:14.54 |0        |115    |201       |54   |http://jarroddixon.com        |null           |Johnson City, TN, USA      |Jarrod Dixon   |<p>Former <a href=\"http://blog.stackoverflow.com/2009/01/welcome-stack-overflow-valued-associate-00002/\">Developer on the Stack Overflow team</a>.</p>\\n<p>Was dubbed <strong>SALTY SAILOR</strong> by Jeff Atwood, as filth and flarn would oft-times fly when dealing with a particularly nasty bug!</p>\\n<ul>\\n<li>Twitter me: <a href=\"http://twitter.com/jarrod_dixon\" rel=\"nofollow noreferrer\">jarrod_dixon</a></li>\\n<li>Email me: jarrod.m.dixon@gmail.com</li>\\n</ul>\\n                                                                                                                                                                                                                                                                                                                                                                                                                                                                                                                                                                                                                                                                                                                                                                                                                                                                                                                                                                                                                                                                                                                                                                                                                                                    |2010|6    |30 |\n",
            "|4  |29738    |2010-06-30 06:09:34.807|2022-08-04 20:17:02.327|0        |35     |101       |19   |https://kevinmontrose.com     |null           |New York, NY, United States|Kevin Montrose |<p><a href=\"http://blog.stackoverflow.com/2010/03/welcome-stack-overflow-valued-associate-000004/\">Stack Overflow Valued Associate #00004</a></p>\\n<p><s>For no good reason, <a href=\"http://twitter.com/kevinmontrose\" rel=\"nofollow noreferrer\">I'm on twitter</a>.  I hear its compelling... somehow.<br/></s></p>\\n<p><a href=\"https://infosec.exchange/@kevinmontrose\" rel=\"nofollow noreferrer\">I'm on Mastodon now</a>, all hail the new flesh.</p>\\n<p>I also have a <a href=\"http://kevinmontrose.com\" rel=\"nofollow noreferrer\">blog</a>.</p>\\n                                                                                                                                                                                                                                                                                                                                                                                                                                                                                                                                                                                                                                                                                                                                                                                                                                                                                                                                                                                                                                                                                                                                                                            |2010|6    |30 |\n",
            "|5  |9321     |2010-06-30 06:15:17.663|2022-03-01 23:49:29.517|0        |4      |346       |34   |http://samsaffron.com         |null           |Sydney, Australia          |Sam Saffron    |<p>Co-founder: <a href=\"http://www.discourse.org\" rel=\"nofollow noreferrer\">http://www.discourse.org</a> </p>\\n\\n<p>email: sam.saffron@gmail.com<br>\\nblog: <a href=\"http://samsaffron.com\" rel=\"nofollow noreferrer\">http://samsaffron.com</a><br>\\ntwitter: <a href=\"https://twitter.com/@samsaffron\" rel=\"nofollow noreferrer\">@samsaffron</a>   </p>\\n\\n<p>Ex <a href=\"http://blog.stackoverflow.com/2010/06/welcome-stack-overflow-valued-associate-00008/\">Stack Overflow Valued Associate #00008</a>, creator of <a href=\"http://data.stackexchange.com/\" rel=\"nofollow noreferrer\">Stack Exchange Data Explorer</a>, co-creator of Media Browser ( now Emby ) </p>\\n\\n<p>Other Projects:</p>\\n\\n<ul>\\n<li>Logster : <a href=\"https://github.com/discourse/logster\" rel=\"nofollow noreferrer\">https://github.com/discourse/logster</a></li>\\n<li>rack-mini-profiler : <a href=\"https://github.com/MiniProfiler/rack-mini-profiler\" rel=\"nofollow noreferrer\">https://github.com/MiniProfiler/rack-mini-profiler</a></li>\\n<li>message_bus : <a href=\"https://github.com/SamSaffron/message_bus\" rel=\"nofollow noreferrer\">https://github.com/SamSaffron/message_bus</a></li>\\n<li>memory_profiler: <a href=\"https://github.com/SamSaffron/memory_profiler\" rel=\"nofollow noreferrer\">https://github.com/SamSaffron/memory_profiler</a></li>\\n<li>flamegraph : <a href=\"https://github.com/SamSaffron/flamegraph\" rel=\"nofollow noreferrer\">https://github.com/SamSaffron/flamegraph</a></li>\\n</ul>\\n\\n<p>\\nAll original source snippets I post on Stack Overflow are dedicated to the <a href=\"http://en.wikipedia.org/wiki/Public_Domain\" rel=\"nofollow noreferrer\">public domain</a>. Do with them as you see fit. \\n</p>\\n|2010|6    |30 |\n",
            "|7  |1        |2010-06-30 06:16:25.4  |2022-12-06 19:20:41.943|9        |317    |3283      |990  |https://blog.codinghorror.com/|null           |El Cerrito, CA             |Jeff Atwood    |<p><a href=\"https://blog.codinghorror.com/stack-overflow-none-of-us-is-as-dumb-as-all-of-us/\" rel=\"nofollow noreferrer\">Stack Overflow Valued Associate #00001</a></p>\\n<p>Wondering how our software development process works? <a href=\"https://www.youtube.com/watch?v=qM4zMofsI7w\" rel=\"nofollow noreferrer\">Take a look!</a></p>\\n<p>Find me <a href=\"https://twitter.com/codinghorror\" rel=\"nofollow noreferrer\">on twitter</a>, or <a href=\"https://blog.codinghorror.com/\" rel=\"nofollow noreferrer\">read my blog</a>. Don't say I didn't warn you <em>because I totally did</em>.</p>\\n<p>However, <a href=\"https://blog.codinghorror.com/farewell-stack-exchange/\" rel=\"nofollow noreferrer\">I no longer work at Stack Exchange, Inc</a>. I'll miss you all. Well, <em>some</em> of you, anyway. :)</p>\\n                                                                                                                                                                                                                                                                                                                                                                                                                                                                                                                                                                                                                                                                                                                                                                                                                                                                                                                  |2010|6    |30 |\n",
            "|8  |21721    |2010-06-30 06:31:20.613|2020-01-30 00:41:20.58 |0        |26     |642       |245  |http://www.8164.org           |null           |Raleigh, NC                |Jin            |<p>I used to design stuff for Stack Exchange. Also a professional bacon eater.</p>\\n<p>blog: <a href=\"http://www.8164.org\" rel=\"nofollow noreferrer\">8164.org</a></p>\\n<p>twitter: <a href=\"http://twitter.com/jzy\" rel=\"nofollow noreferrer\">@jzy</a></p>\\n                                                                                                                                                                                                                                                                                                                                                                                                                                                                                                                                                                                                                                                                                                                                                                                                                                                                                                                                                                                                                                                                                                                                                                                                                                                                                                                                                                                                                                                                         |2010|6    |30 |\n",
            "|9  |4188     |2010-06-30 11:35:01.72 |2023-01-14 23:49:36.32 |0        |3      |279       |39   |http://jasonpunyon.com        |null           |Buffalo, NY                |Jason Punyon   |<p>Chaotic Good w a splash of Data. Dad x2. Stack Overflow. He/him.</p>\\n                                                                                                                                                                                                                                                                                                                                                                                                                                                                                                                                                                                                                                                                                                                                                                                                                                                                                                                                                                                                                                                                                                                                                                                                                                                                                                                                                                                                                                                                                                                                                                                                                                                            |2010|6    |30 |\n",
            "|10 |34933    |2010-06-30 13:14:19.213|2021-08-27 14:33:56.95 |27       |16     |477       |155  |                              |null           |Palm Bay, FL               |Robert Cartaino|<p><a href=\"http://blog.stackoverflow.com/2010/04/welcome-stack-overflow-valued-associate-00005/\">Stack Exchange Valued Associate #00005</a></p>\\n\\n<p>I was the Director of Community Development for the Stack Overflow Network for 10 years (<strong>120 million</strong> visitors per month!)</p>\\n\\n<p><strong>CURRENTLY LOOKING FOR A NEW ADVENTURE:</strong></p>\\n\\n<p>If anyone is looking to develop their brand's online community with someone who has a heck of a track record in innovative product and feature design, let's talk!</p>\\n\\n<p>&#114;&#99;&#97;&#114;&#116;&#97;&#105;&#110;&#111;&#64;&#121;&#97;&#104;&#111;&#111;&#46;&#99;&#111;&#109;</p>\\n                                                                                                                                                                                                                                                                                                                                                                                                                                                                                                                                                                                                                                                                                                                                                                                                                                                                                                                                                                                                                                                         |2010|6    |30 |\n",
            "|11 |77247    |2010-06-30 13:16:16.2  |2019-04-01 17:31:10.6  |0        |11     |654       |66   |null                          |null           |Brooklyn, NY               |Korneel Bouman |null                                                                                                                                                                                                                                                                                                                                                                                                                                                                                                                                                                                                                                                                                                                                                                                                                                                                                                                                                                                                                                                                                                                                                                                                                                                                                                                                                                                                                                                                                                                                                                                                                                                                                                                                 |2010|6    |30 |\n",
            "+---+---------+-----------------------+-----------------------+---------+-------+----------+-----+------------------------------+---------------+---------------------------+---------------+-------------------------------------------------------------------------------------------------------------------------------------------------------------------------------------------------------------------------------------------------------------------------------------------------------------------------------------------------------------------------------------------------------------------------------------------------------------------------------------------------------------------------------------------------------------------------------------------------------------------------------------------------------------------------------------------------------------------------------------------------------------------------------------------------------------------------------------------------------------------------------------------------------------------------------------------------------------------------------------------------------------------------------------------------------------------------------------------------------------------------------------------------------------------------------------------------------------------------------------------------------------------------------------------------------------------------------------------------------------------------------------------------------------------------------------------------------------------------------------------------------------------------------------------------------------------------------------------------------------------------------------------------------------------------------------------------------------------------------------+----+-----+---+\n",
            "only showing top 10 rows\n",
            "\n"
          ]
        }
      ]
    },
    {
      "cell_type": "markdown",
      "source": [
        "#### Odczyt, partycjonowanie i zapis zbioru VOTES.XML"
      ],
      "metadata": {
        "id": "KxPL78oC_DAV"
      }
    },
    {
      "cell_type": "code",
      "source": [
        "schema = StructType([ \\\n",
        "    StructField(\"_BountyAmount\", LongType(), True), \\\n",
        "    StructField(\"_CreationDate\", StringType(), True), \\\n",
        "    StructField(\"_Id\", LongType(), True), \\\n",
        "    StructField(\"_PostId\", LongType(), True), \\\n",
        "    StructField(\"_UserId\", LongType(), True), \\\n",
        "    StructField(\"_VoteTypeId\", LongType(), True), \\\n",
        "    StructField(\"Year\", LongType(), True), \\\n",
        "    StructField(\"Month\", LongType(), True), \\\n",
        "    StructField(\"Day\", LongType(), True)\n",
        "])\n",
        "\n",
        "votesDF = spark.read \\\n",
        "          .format('com.databricks.spark.xml') \\\n",
        "          .options(rootTag='votes') \\\n",
        "          .options(rowTag='row') \\\n",
        "          .schema(schema) \\\n",
        "          .load('/content/input/Votes.xml')\n",
        "\n",
        "votesDF = votesDF \\\n",
        "          .withColumnRenamed(\"_BountyAmount\", \"BountyAmount\") \\\n",
        "          .withColumnRenamed(\"_CreationDate\", \"CreationDate\") \\\n",
        "          .withColumnRenamed(\"_Id\", \"Id\") \\\n",
        "          .withColumnRenamed(\"_PostId\", \"PostId\") \\\n",
        "          .withColumnRenamed(\"_UserId\", \"UserId\") \\\n",
        "          .withColumnRenamed(\"_VoteTypeId\", \"VoteTypeId\") \\\n",
        "\n",
        "votesDF = votesDF \\\n",
        "          .select([\"Id\", \"PostId\", \"UserId\", \"VoteTypeId\", \\\n",
        "                  to_timestamp(\"CreationDate\").alias(\"CreationDate\"), \"BountyAmount\"]) \\\n",
        "          .withColumn(\"Year\", date_format(col(\"CreationDate\"), \"y\")) \\\n",
        "          .withColumn(\"Month\", date_format(col(\"CreationDate\"), \"M\")) \\\n",
        "          .withColumn(\"Day\", date_format(col(\"CreationDate\"), \"d\"))  \n",
        "\n",
        "votesDF.printSchema()\n",
        "votesDF.show(n=10, truncate=False) \n",
        "\n",
        "votesDF = votesDF \\\n",
        "          .write \\\n",
        "          .partitionBy(\"Year\", \"Month\", \"Day\") \\\n",
        "          .mode(\"overwrite\") \\\n",
        "          .parquet(\"/content/output/votes.parquet\")"
      ],
      "metadata": {
        "id": "Yi0BV1LA43QM",
        "outputId": "d36b0448-fe0b-4411-89ad-7d05d0ad080c",
        "colab": {
          "base_uri": "https://localhost:8080/"
        }
      },
      "execution_count": 14,
      "outputs": [
        {
          "output_type": "stream",
          "name": "stdout",
          "text": [
            "root\n",
            " |-- Id: long (nullable = true)\n",
            " |-- PostId: long (nullable = true)\n",
            " |-- UserId: long (nullable = true)\n",
            " |-- VoteTypeId: long (nullable = true)\n",
            " |-- CreationDate: timestamp (nullable = true)\n",
            " |-- BountyAmount: long (nullable = true)\n",
            " |-- Year: string (nullable = true)\n",
            " |-- Month: string (nullable = true)\n",
            " |-- Day: string (nullable = true)\n",
            "\n",
            "+---+------+------+----------+-------------------+------------+----+-----+---+\n",
            "|Id |PostId|UserId|VoteTypeId|CreationDate       |BountyAmount|Year|Month|Day|\n",
            "+---+------+------+----------+-------------------+------------+----+-----+---+\n",
            "|1  |1     |null  |2         |2010-06-30 00:00:00|null        |2010|6    |30 |\n",
            "|2  |1     |null  |2         |2010-06-30 00:00:00|null        |2010|6    |30 |\n",
            "|3  |2     |null  |2         |2010-06-30 00:00:00|null        |2010|6    |30 |\n",
            "|4  |1     |null  |2         |2010-06-30 00:00:00|null        |2010|6    |30 |\n",
            "|5  |5     |null  |2         |2010-06-30 00:00:00|null        |2010|6    |30 |\n",
            "|6  |6     |null  |2         |2010-06-30 00:00:00|null        |2010|6    |30 |\n",
            "|7  |4     |null  |2         |2010-06-30 00:00:00|null        |2010|6    |30 |\n",
            "|8  |3     |null  |2         |2010-06-30 00:00:00|null        |2010|6    |30 |\n",
            "|9  |1     |null  |2         |2010-06-30 00:00:00|null        |2010|6    |30 |\n",
            "|10 |1     |null  |2         |2010-06-30 00:00:00|null        |2010|6    |30 |\n",
            "+---+------+------+----------+-------------------+------------+----+-----+---+\n",
            "only showing top 10 rows\n",
            "\n"
          ]
        }
      ]
    },
    {
      "cell_type": "markdown",
      "source": [
        "# Przypadki analizy danych"
      ],
      "metadata": {
        "id": "M-NjWZ4UYBq9"
      }
    },
    {
      "cell_type": "markdown",
      "source": [
        "#### Przypadek analizy 4A\n",
        "Liczba postów na przestrzeni czasu (lineplot/barplot)"
      ],
      "metadata": {
        "id": "94hwd-HAzXDv"
      }
    },
    {
      "cell_type": "code",
      "source": [
        "### ANALITYKA POSTS\n",
        "\n",
        "from matplotlib import pyplot as plt\n",
        "import numpy as np\n",
        "import pandas as pd\n",
        "plt.rcParams[\"figure.figsize\"] = [10, 6]\n",
        "\n",
        "postsDF1 = spark.read.parquet(\"/content/output/posts.parquet\")\n",
        "\n",
        "postsDF1 = postsDF1 \\\n",
        "  .groupBy(\"Year\", \"Month\") \\\n",
        "  .count() \\\n",
        "  .orderBy(col(\"Year\").desc(), col(\"Month\").asc()) \\\n",
        "  .withColumnRenamed(\"count\", \"Count\") \\\n",
        "  .withColumn(\"Month1\", when(col(\"Month\") == 1, 'Styczneń') \\\n",
        "              .when(col(\"Month\") == 2, 'Luty') \\\n",
        "              .when(col(\"Month\") == 3, 'Marzec') \\\n",
        "              .when(col(\"Month\") == 4, 'Kwiecień') \\\n",
        "              .when(col(\"Month\") == 5, 'Maj') \\\n",
        "              .when(col(\"Month\") == 6, 'Czerwiec') \\\n",
        "              .when(col(\"Month\") == 7, 'Lipiec') \\\n",
        "              .when(col(\"Month\") == 8, 'Sierpień') \\\n",
        "              .when(col(\"Month\") == 9, 'Wrzesień') \\\n",
        "              .when(col(\"Month\") == 10, 'Pażdziernik') \\\n",
        "              .when(col(\"Month\") == 11, 'Listopad') \\\n",
        "              .when(col(\"Month\") == 12, 'Grudzień') \\\n",
        "              .otherwise('Unknown'))\n",
        "\n",
        "postsDF1 = postsDF1.cache()\n",
        "\n",
        "pdDF = postsDF1.toPandas()\n",
        "\n",
        "pdDF = pdDF.pivot(index='Month', columns='Year', values='Count')\n",
        "\n",
        "print(pdDF)\n",
        "\n",
        "plotdata = pdDF\n",
        "ax=plotdata.plot(kind='bar', stacked=True, figsize=(20, 15))\n",
        "#ax2 = ax.twinx()\n",
        "#ax2.set_ylabel('Total number of posts', color = 'b', fontsize=18)\n",
        "ax.set_ylabel(\"Total number of posts\", color = 'g', fontsize=18)\n",
        "plt.style.use('ggplot')\n",
        "plt.title(\"Post ratings\")\n",
        "plt.xlabel(\"Months\")\n",
        "plt.ylabel(\"Number of posts\") \n",
        "plt.legend(loc=\"upper left\")\n",
        "\n",
        "\n",
        "# .patches is everything inside of the chart\n",
        "for rect in ax.patches:\n",
        "    # Find where everything is located\n",
        "    height = rect.get_height()\n",
        "    width = rect.get_width()\n",
        "    x = rect.get_x()\n",
        "    y = rect.get_y()\n",
        "    \n",
        "    # The height of the bar is the data value and can be used as the label\n",
        "    label_text = f'{height}'  # f'{height:.2f}' to format decimal values\n",
        "    \n",
        "    # ax.text(x, y, text)\n",
        "    label_x = x + width / 2\n",
        "    label_y = y + height / 2\n",
        "\n",
        "    # plot only when height is greater than specified value\n",
        "    if height > 0:\n",
        "        ax.text(label_x, label_y, label_text, ha='center', va='center', fontsize=8)\n",
        "    \n",
        "ax.legend(bbox_to_anchor=(1.05, 1), loc='upper left', borderaxespad=0.)    \n",
        "ax.set_ylabel(\"Total number of posts\", fontsize=18)\n",
        "ax.set_xlabel(\"Months\", fontsize=18)\n",
        "plt.show()\n",
        "\n",
        "# for c in plt.containers:\n",
        "\n",
        "#     # Optional: if the segment is small or 0, customize the labels\n",
        "#     labels = [v.get_height() if v.get_height() > 0 else '' for v in c]\n",
        "    \n",
        "#     # remove the labels parameter if it's not needed for customized labels\n",
        "#     plt.bar_label(c, labels=labels, label_type='center')\n",
        "\n",
        "# plt.show()\n",
        "\n",
        "\n",
        "labels = ['missing', '<25', '25-34', '35-44', '45-54','55-64','65+']\n",
        "missing = np.array([0.000095, 0.024830, 0.028665, 0.029477, 0.031918,0.037073,0.026699])\n",
        "man = np.array([0.000147, 0.036311, 0.038684, 0.044761, 0.051269, 0.059542, 0.054259])\n",
        "women = np.array([0.004035, 0.032935, 0.035351, 0.041778, 0.048437, 0.056236,0.048091])\n",
        "ind = [x for x, _ in enumerate(labels)]\n",
        "\n",
        "plt.figure(figsize=(10,8))\n",
        "plt.bar(ind, women, width=0.8, label='women', color='gold', bottom=man+missing)\n",
        "plt.bar(ind, man, width=0.8, label='man', color='silver', bottom=missing)\n",
        "plt.bar(ind, missing, width=0.8, label='missing', color='#CD853F')\n",
        "\n",
        "plt.xticks(ind, labels)\n",
        "plt.ylabel(\"percentage\")\n",
        "plt.legend(loc=\"upper left\")\n",
        "plt.title(\"demo\")\n",
        "\n",
        "plt.show()\n",
        "\n"
      ],
      "metadata": {
        "id": "_NztslrDUTSZ",
        "outputId": "c788ea15-0bee-4c62-b4ce-5c3eea2eea57",
        "colab": {
          "base_uri": "https://localhost:8080/",
          "height": 1000
        }
      },
      "execution_count": 15,
      "outputs": [
        {
          "output_type": "stream",
          "name": "stdout",
          "text": [
            "Year   2009    2010   2011   2012    2013   2014   2015   2016   2017   2018  \\\n",
            "Month                                                                          \n",
            "1       NaN    14.0  538.0  689.0  1070.0  809.0  530.0  684.0  547.0  497.0   \n",
            "2       NaN    14.0  638.0  614.0   650.0  697.0  529.0  613.0  603.0  360.0   \n",
            "3       NaN     5.0  591.0  559.0   713.0  673.0  632.0  585.0  685.0  510.0   \n",
            "4       NaN     2.0  524.0  664.0   679.0  649.0  573.0  579.0  536.0  476.0   \n",
            "5       NaN    14.0  552.0  825.0   650.0  547.0  632.0  520.0  532.0  444.0   \n",
            "6       NaN   371.0  594.0  557.0   603.0  429.0  668.0  539.0  421.0  393.0   \n",
            "7      27.0  2938.0  662.0  611.0   625.0  478.0  740.0  442.0  446.0  557.0   \n",
            "8      28.0   845.0  507.0  650.0   650.0  487.0  579.0  530.0  623.0  542.0   \n",
            "9      36.0   684.0  560.0  605.0   550.0  472.0  588.0  497.0  608.0  416.0   \n",
            "10     25.0   944.0  508.0  752.0   629.0  595.0  629.0  466.0  611.0  433.0   \n",
            "11     18.0   529.0  865.0  667.0   617.0  553.0  593.0  482.0  534.0  361.0   \n",
            "12     20.0   553.0  578.0  653.0   668.0  467.0  575.0  466.0  667.0  416.0   \n",
            "\n",
            "Year    2019   2020   2021   2022   2023  \n",
            "Month                                     \n",
            "1      781.0  444.0  479.0  362.0  355.0  \n",
            "2      585.0  398.0  404.0  303.0  387.0  \n",
            "3      678.0  400.0  420.0  400.0   64.0  \n",
            "4      702.0  479.0  446.0  383.0    NaN  \n",
            "5      732.0  554.0  420.0  417.0    NaN  \n",
            "6      611.0  450.0  385.0  325.0    NaN  \n",
            "7      631.0  401.0  373.0  393.0    NaN  \n",
            "8      474.0  382.0  367.0  365.0    NaN  \n",
            "9      491.0  313.0  266.0  410.0    NaN  \n",
            "10     469.0  350.0  363.0  451.0    NaN  \n",
            "11     449.0  347.0  341.0  340.0    NaN  \n",
            "12     451.0  415.0  297.0  341.0    NaN  \n"
          ]
        },
        {
          "output_type": "display_data",
          "data": {
            "text/plain": [
              "<Figure size 2000x1500 with 1 Axes>"
            ],
            "image/png": "[encoded data removed]"
          },
          "metadata": {}
        },
        {
          "output_type": "display_data",
          "data": {
            "text/plain": [
              "<Figure size 1000x800 with 1 Axes>"
            ],
            "image/png": "[encoded data removed]"
          },
          "metadata": {}
        }
      ]
    },
    {
      "cell_type": "markdown",
      "source": [
        "#### Przypadek analizy 4B\n",
        "Czas na forum (od pojawienia się użytkownika do ostatniego posta/komentarza) 10 najdłużej aktywnych użytkowników (pomijając boty) (barplot)"
      ],
      "metadata": {
        "id": "7sA_thE4Wc30"
      }
    },
    {
      "cell_type": "code",
      "source": [
        "postsDFAnalize2A = spark.read.parquet(\"/content/output/posts.parquet\") \\\n",
        "    .filter( (col(\"OwnerUserId\").isNotNull()) | (col(\"OwnerUserId\") != -1) ) \\\n",
        "    .groupBy(\"OwnerUserId\") \\\n",
        "    .agg(min(\"CreationDate\").alias(\"CreationDateMin\"), \\\n",
        "         max(\"LastActivityDate\").alias(\"LastActivityDateMax\")) \\\n",
        "    .withColumn(\"DiffInSeconds\", col(\"LastActivityDateMax\").cast(\"long\") - col(\"CreationDateMin\").cast(\"long\")) \\\n",
        "    .withColumn(\"DiffInMinutes\", floor(col(\"DiffInSeconds\") / 60)) \\\n",
        "    .withColumn(\"DiffInHours\", floor(col(\"DiffInSeconds\") / 3_600)) \\\n",
        "    .withColumn(\"DiffInDays\", floor(col(\"DiffInHours\") / 24)) \\\n",
        "    .withColumn(\"DiffInYears\", floor(col(\"DiffInDays\") / 365)) \\\n",
        "    .orderBy(col(\"DiffInSeconds\").desc()) \\\n",
        "    .cache() \\\n",
        "    .show(n=10, truncate=False)"
      ],
      "metadata": {
        "colab": {
          "base_uri": "https://localhost:8080/"
        },
        "id": "ZNyp9F7KWiyq",
        "outputId": "a507c669-f5ce-419f-cd24-7b301a575d4c"
      },
      "execution_count": 16,
      "outputs": [
        {
          "output_type": "stream",
          "name": "stdout",
          "text": [
            "+-----------+-----------------------+-----------------------+-------------+-------------+-----------+----------+-----------+\n",
            "|OwnerUserId|CreationDateMin        |LastActivityDateMax    |DiffInSeconds|DiffInMinutes|DiffInHours|DiffInDays|DiffInYears|\n",
            "+-----------+-----------------------+-----------------------+-------------+-------------+-----------+----------+-----------+\n",
            "|410        |2009-08-10 09:14:41.517|2023-02-07 17:12:02.65 |425894241    |7098237      |118303     |4929      |13         |\n",
            "|60433      |2009-07-21 13:53:19.377|2023-01-09 16:54:08.99 |425098849    |7084980      |118083     |4920      |13         |\n",
            "|1530       |2009-08-10 08:57:21.677|2023-01-15 08:06:50.8  |423875369    |7064589      |117743     |4905      |13         |\n",
            "|21         |2009-09-11 09:14:13.42 |2023-02-07 17:09:11.173|423129298    |7052154      |117535     |4897      |13         |\n",
            "|29675      |2009-09-16 19:19:16.97 |2023-02-06 21:38:05.443|422590729    |7043178      |117386     |4891      |13         |\n",
            "|183        |2009-10-02 22:00:09.173|2023-01-20 16:14:17.94 |419710448    |6995174      |116586     |4857      |13         |\n",
            "|2264       |2009-09-19 01:23:52.89 |2022-12-13 00:02:00.203|417566288    |6959438      |115990     |4832      |13         |\n",
            "|1395       |2009-07-31 15:10:52.343|2022-10-23 11:50:13.937|417472761    |6957879      |115964     |4831      |13         |\n",
            "|88         |2009-12-01 13:25:19.737|2022-12-31 01:21:20.497|412775761    |6879596      |114659     |4777      |13         |\n",
            "|4328       |2009-09-19 09:51:23.837|2022-08-21 18:01:33.62 |407751010    |6795850      |113264     |4719      |12         |\n",
            "+-----------+-----------------------+-----------------------+-------------+-------------+-----------+----------+-----------+\n",
            "only showing top 10 rows\n",
            "\n"
          ]
        }
      ]
    },
    {
      "cell_type": "markdown",
      "source": [
        "#### Przypadek analizy 4C\n",
        "Porównanie najwyżej i najniżej ocenianych pytań (długość, tagi, liczba odpowiedzi)"
      ],
      "metadata": {
        "id": "SWurcwHhzSGz"
      }
    },
    {
      "cell_type": "markdown",
      "source": [
        "#### Przypadek analizy 4D\n",
        "Procent przypadków kiedy najwyżej oceniana odpowiedź to nie zaakceptowana odpowiedź"
      ],
      "metadata": {
        "id": "klwFNfzMzNue"
      }
    },
    {
      "cell_type": "markdown",
      "source": [
        "#### Przypadek analizy 4E\n",
        "Rozkład ocen odpowiedzi zaakceptowanych vs pozostałych (średnia, odchylenie, minimum, maksimum)"
      ],
      "metadata": {
        "id": "JJTwfvBlzHcX"
      }
    },
    {
      "cell_type": "markdown",
      "source": [
        "#### Przypadek analizy 4F\n",
        "Top N tagów które wygenerowały najwięcej wyświetleń"
      ],
      "metadata": {
        "id": "0sc9y8TdzCh6"
      }
    },
    {
      "cell_type": "markdown",
      "source": [],
      "metadata": {
        "id": "HuJR5b9gLXag"
      }
    },
    {
      "cell_type": "code",
      "source": [
        "from pyspark.sql.functions import col, explode, regexp_replace, split, format_number, countDistinct\n",
        "\n",
        "postsDFAnalize4F = spark \\\n",
        "                   .read \\\n",
        "                   .parquet(\"/content/output/posts.parquet\") \\\n",
        "                   .cache() \\\n",
        "                   .filter( (col('PostTypeId') == 1) ) \\\n",
        "                   .withColumn(\"Tags\", explode(split(col(\"Tags\"), \"><\"))) \\\n",
        "                   .withColumn(\"Tags\", regexp_replace(col(\"Tags\"), \"(^\\<)|(\\>$)\", \"\")) \\\n",
        "                   .groupBy(col('Tags')) \\\n",
        "                   .agg(sum(\"ViewCount\").alias(\"Viewed\")) \\\n",
        "                   .orderBy(col('Viewed').desc()) \\\n",
        "                   .withColumn(\"Viewed\", format_number(\"Viewed\" ,0)) \\\n",
        "                   .show(n=10, truncate=False)                                "
      ],
      "metadata": {
        "id": "YXho17j01CLv",
        "outputId": "32ac789a-2623-45b5-c330-7104fe9f713e",
        "colab": {
          "base_uri": "https://localhost:8080/"
        }
      },
      "execution_count": 17,
      "outputs": [
        {
          "output_type": "stream",
          "name": "stdout",
          "text": [
            "+------------------+----------+\n",
            "|Tags              |Viewed    |\n",
            "+------------------+----------+\n",
            "|gmail             |44,455,963|\n",
            "|facebook          |39,925,686|\n",
            "|google-sheets     |39,246,597|\n",
            "|youtube           |14,913,148|\n",
            "|google-docs       |14,145,962|\n",
            "|google-account    |13,523,150|\n",
            "|google-drive      |13,031,157|\n",
            "|google-apps-script|8,205,646 |\n",
            "|twitter           |7,933,733 |\n",
            "|facebook-messenger|7,040,854 |\n",
            "+------------------+----------+\n",
            "only showing top 10 rows\n",
            "\n"
          ]
        }
      ]
    },
    {
      "cell_type": "markdown",
      "source": [
        "#### Przypadek analizy 4G\n",
        "Liczba postów w czasie dla każdego z top N tagów (lineplot/barplot)"
      ],
      "metadata": {
        "id": "_fbkgX7ty9x2"
      }
    },
    {
      "cell_type": "markdown",
      "source": [
        "#### Przypadek analizy 4H\n",
        "Najczęściej pojawiające się słowa w tytułach (z pominięciem stopwords)"
      ],
      "metadata": {
        "id": "n2evyz-Xy6c0"
      }
    },
    {
      "cell_type": "code",
      "source": [
        "from pyspark.ml.feature import StopWordsRemover\n",
        "\n",
        "# Define a list of stop words or use default list\n",
        "remover = StopWordsRemover()\n",
        "stopwords = remover.getStopWords() \n",
        "\n",
        "postsDFAnaliza4H = spark.read.parquet(\"/content/output/posts.parquet\") \\\n",
        "                   .select(col('Title')) \\\n",
        "                   .filter(col(\"Title\").isNotNull()) \\\n",
        "                   .cache()\n",
        "\n",
        "resultDFAnalize4H = postsDFAnaliza4H.withColumn('Word', f.explode(f.split(f.col('Title'), ' '))) \\\n",
        "                   .filter(~lower(col(\"Word\")).isin(stopwords)) \\\n",
        "                   .groupBy('Word') \\\n",
        "                   .count() \\\n",
        "                   .sort('Count', ascending=False) \\\n",
        "                   .withColumnRenamed(\"count\", \"WordsCount\") \\\n",
        "                   .withColumn(\"WordsCount\", format_number(\"WordsCount\" ,0)) \\\n",
        "\n",
        "resultDFAnalize4H.show(n=20, truncate=False)"
      ],
      "metadata": {
        "colab": {
          "base_uri": "https://localhost:8080/"
        },
        "id": "Q7_De0Z5Xmd9",
        "outputId": "8ca0d8b3-ec54-41fc-e3d8-6d3ccae9c4e2"
      },
      "execution_count": 87,
      "outputs": [
        {
          "output_type": "stream",
          "name": "stdout",
          "text": [
            "+--------+----------+\n",
            "|Word    |WordsCount|\n",
            "+--------+----------+\n",
            "|Google  |10,475    |\n",
            "|Gmail   |2,489     |\n",
            "|Facebook|2,467     |\n",
            "|Sheets  |1,667     |\n",
            "|email   |1,368     |\n",
            "|cell    |1,315     |\n",
            "|account |1,138     |\n",
            "|way     |1,063     |\n",
            "|YouTube |1,048     |\n",
            "|search  |998       |\n",
            "|get     |991       |\n",
            "|data    |977       |\n",
            "|one     |940       |\n",
            "|multiple|913       |\n",
            "|another |861       |\n",
            "|column  |818       |\n",
            "|using   |778       |\n",
            "|new     |759       |\n",
            "|list    |746       |\n",
            "|use     |745       |\n",
            "+--------+----------+\n",
            "only showing top 20 rows\n",
            "\n"
          ]
        }
      ]
    },
    {
      "cell_type": "markdown",
      "source": [
        "#### Przypadek analizy 4I\n",
        "Procent użytkowników, którzy nigdy nic nie zapostowali\n"
      ],
      "metadata": {
        "id": "FzIiLNspyqT8"
      }
    },
    {
      "cell_type": "code",
      "source": [
        "from pyspark.sql.window import Window\n",
        "import sys\n",
        "\n",
        "print(f'Evidence of registered users count :: {spark.read.parquet(\"/content/output/users.parquet\").count()}')\n",
        "\n",
        "postsDFAnalize4I = spark.read.parquet(\"/content/output/posts.parquet\") \\\n",
        "                  .select(col('OwnerUserId')) \\\n",
        "                  .cache()\n",
        "usersDFAnalize4I = spark.read.parquet(\"/content/output/users.parquet\") \\\n",
        "                  .select(col('Id'), col('DisplayName')) \\\n",
        "                  .cache()\n",
        "\n",
        "resultDFAnalize4I = usersDFAnalize4I \\\n",
        "                    .join(postsDFAnalize4I, postsDFAnalize4I.OwnerUserId == usersDFAnalize4I.Id, 'left') \\\n",
        "                    .select(col('Id'), when(col('OwnerUserId').isNull(), 0).otherwise(1).alias('isnullable')) \\\n",
        "                    .groupBy(\"isnullable\") \\\n",
        "                    .agg(countDistinct(\"Id\",\"isnullable\").alias(\"isnullable_count\")) \\\n",
        "                    .orderBy(col('isnullable_count').desc()) \\\n",
        "                    .withColumn('percent', col('isnullable_count') / sum('isnullable_count').over(Window.partitionBy())*100) \\\n",
        "                    .withColumn('cumulate_percent', sum(col('percent')).over(Window.partitionBy().orderBy().rowsBetween(-sys.maxsize, 0))) \\\n",
        "                    .show()\n",
        "                    "
      ],
      "metadata": {
        "id": "1Iohco2VjSyO",
        "outputId": "ad378f86-e782-42ee-cbc2-6def57e866a9",
        "colab": {
          "base_uri": "https://localhost:8080/"
        }
      },
      "execution_count": 30,
      "outputs": [
        {
          "output_type": "stream",
          "name": "stdout",
          "text": [
            "Evidence of registered users count :: 227004\n",
            "+----------+----------------+------------------+-----------------+\n",
            "|isnullable|isnullable_count|           percent| cumulate_percent|\n",
            "+----------+----------------+------------------+-----------------+\n",
            "|         0|          193891| 85.41303236947367|85.41303236947367|\n",
            "|         1|           33113|14.586967630526335|            100.0|\n",
            "+----------+----------------+------------------+-----------------+\n",
            "\n"
          ]
        }
      ]
    },
    {
      "cell_type": "markdown",
      "source": [
        "#### Przypadek analizy 4J\n",
        "Średni czas od pojawienia się pytania do pojawienia się zaakceptowanej odpowiedzi"
      ],
      "metadata": {
        "id": "0ngNmlBXydmv"
      }
    },
    {
      "cell_type": "code",
      "source": [
        "postsDFAnalize4J = spark.read.parquet(\"/content/output/posts.parquet\") \\\n",
        "                  .filter( (col('AcceptedAnswerId').isNotNull()) ) \\\n",
        "                  .orderBy(col('Id')) \\\n",
        "                  .show(n=10, truncate=False)"
      ],
      "metadata": {
        "id": "MCCdQ9N-zjPS",
        "outputId": "c9efe7e3-bf2b-4ceb-d7d8-415986458e4a",
        "colab": {
          "base_uri": "https://localhost:8080/"
        }
      },
      "execution_count": 19,
      "outputs": [
        {
          "output_type": "stream",
          "name": "stdout",
          "text": [
            "+---+--------+----------+----------------+-----------+-----------------------+-----+---------+-----------+------------+-----------------------+------------------------------------------------+-------------------------------------------------------------------+---------------------------------------------------------------------------------------------------------------------------------------------------------------------------------------------------------------------------------------------------------------------------------------------------------------------------------------------------------------------------------------------------------------------------------------------------------------------------------------------------------------------------------+----+-----+---+\n",
            "|Id |ParentId|PostTypeId|AcceptedAnswerId|OwnerUserId|CreationDate           |Score|ViewCount|AnswerCount|CommentCount|LastActivityDate       |Tags                                            |Title                                                              |Body                                                                                                                                                                                                                                                                                                                                                                                                                                                                                                                             |Year|Month|Day|\n",
            "+---+--------+----------+----------------+-----------+-----------------------+-----+---------+-----------+------------+-----------------------+------------------------------------------------+-------------------------------------------------------------------+---------------------------------------------------------------------------------------------------------------------------------------------------------------------------------------------------------------------------------------------------------------------------------------------------------------------------------------------------------------------------------------------------------------------------------------------------------------------------------------------------------------------------------+----+-----+---+\n",
            "|1  |null    |1         |22              |17         |2010-06-30 18:46:26.453|161  |52283    |3          |2           |2018-07-03 20:12:27.46 |<facebook><account-management><facebook-account>|How do I delete my Facebook account?                               |<p>I don't trust Facebook's new privacy settings and have decided to delete my account, but I can't find the kill switch.</p>\\n\\n<p>Does anyone know how I can delete my Facebook account?</p>\\n                                                                                                                                                                                                                                                                                                                                 |2010|6    |30 |\n",
            "|2  |null    |1         |15              |17         |2010-06-30 18:48:59.367|35   |625885   |2          |0           |2020-06-02 14:04:04.68 |<gmail>                                         |How do I delete all my mail from my Gmail account?                 |<p>I want to clear my mail from my Gmail account, but don't feel like selecting every message (also the archived ones).</p>\\n\\n<p>Is there an easy way to delete all my mail from Gmail without having to delete my account?</p>\\n                                                                                                                                                                                                                                                                                               |2010|6    |30 |\n",
            "|3  |null    |1         |45              |17         |2010-06-30 18:53:28.03 |20   |11739    |5          |0           |2016-06-08 08:17:56.687|<outlook><google-calendar><sync>                |How do I sync Google Calendar with my Outlook Calendar?            |<p>At work we use Outlook, but I want an easy way to sync it with my private Google Calendar.</p>\\n\\n<p>However, I tried looking at the Outlook (2010) settings and couldn't find how to make a link.</p>\\n\\n<p>So how do I sync my Google Calendar with my Outlook one?</p>\\n                                                                                                                                                                                                                                                   |2010|6    |30 |\n",
            "|5  |null    |1         |12              |17         |2010-06-30 19:07:36.267|18   |20887    |1          |0           |2017-11-13 16:31:49.43 |<gmail><email-forwarding>                       |Can I auto-forward my Gmail to another address?                    |<p>I'm kind of paranoid about my email and I don't want it to be on Google's servers only. Especially after my account got hacked and all my email got deleted.</p>\\n\\n<p>So I would like to auto-forward my Gmail to another address, but are there any settings I have to enable?</p>\\n                                                                                                                                                                                                                                        |2010|6    |30 |\n",
            "|6  |null    |1         |37              |17         |2010-06-30 19:11:26.07 |8    |564      |3          |0           |2017-10-08 03:59:56.71 |<blogger><wordpress><migrate-data>              |How do I transfer my blog posts from Google's Blogger to WordPress?|<p>I have a blog on Google's Blogger, but now I want to move to WordPress.</p>\\n\\n<p>Is there an easy way to transfer all my old blog posts from Blogger to WordPress?</p>\\n                                                                                                                                                                                                                                                                                                                                                     |2010|6    |30 |\n",
            "|8  |null    |1         |817             |17         |2010-06-30 19:31:04.167|10   |1367     |1          |0           |2015-06-03 00:47:31.897|<picasa-web-albums>                             |Is Picasa's face tag data stored in the photo itself?              |<p>I tagged all my contacts on my Picasa Web Albums, but I was wondering if this data is stored in the photo itself or would I have to retag every picture when I import them to my desktop or share them with someone else?</p>\\n                                                                                                                                                                                                                                                                                               |2010|6    |30 |\n",
            "|9  |null    |1         |120             |17         |2010-06-30 19:32:53.99 |53   |292814   |7          |0           |2017-09-02 19:56:48.813|<twitter><search>                               |How do I search within someone's tweets?                           |<p>I remember Jeff Atwood (<a href=\"https://twitter.com/codinghorror\" rel=\"noreferrer\">@codinghorror</a>) had posted a tweet about a new website, but I can't seem to find the link.</p>\\n\\n<p>Is there any way I can search within someone's tweets to find that link?</p>\\n                                                                                                                                                                                                                                                    |2010|6    |30 |\n",
            "|10 |null    |1         |27              |17         |2010-06-30 19:35:59.537|7    |10461    |4          |0           |2017-12-24 17:09:06.33 |<twitter><permissions><followers>               |How can I control who follows me on Twitter?                       |<p>I tend to get a bunch of emails every week that say:</p>\\n\\n<blockquote>\\n  <p>JaneDoe (JaneDoe343) is now following\\n  your tweets on Twitter.is now\\n  following you.</p>\\n  \\n  <p>A little information about JaneDoe:</p>\\n\\n<pre><code>0 followers\\n1 tweet\\nfollowing 483 people\\n</code></pre>\\n</blockquote>\\n\\n<p>I prefer my followers to be real people, so is there any way I can control who follows me?</p>\\n                                                                                                   |2010|6    |30 |\n",
            "|16 |null    |1         |31              |17         |2010-06-30 20:26:49.057|15   |1002     |4          |0           |2016-11-07 16:10:14.427|<facebook>                                      |How do I make Facebook block a friend’s Mafia Wars updates?        |<p>I like Facebook to connect with friends, but I don't like the way their favorite games spam me.</p>\\n\\n<p>They just keep giving me Mafia Wars updates!</p>\\n\\n<p>Is there any way to block a friend's Mafia Wars update? Or any other Facebook game for that matter.</p>\\n                                                                                                                                                                                                                                                    |2010|6    |30 |\n",
            "|18 |null    |1         |494             |20         |2010-06-30 20:27:07.933|5    |550      |2          |0           |2016-10-15 22:17:54.763|<google-account><openid>                        |Use Google as an OpenID without logging into the rest of it?       |<p>Every time I login to Google as my OpenID I stay signed-in. This can get annoying as I feel safer searching Google without being logged-in, even if my dynamic IP is logged.</p>\\n\\n<p>Obviously I can just immediately go to Google and log-out, but as this is a pain, i'm hoping there's a better way.</p>\\n\\n<p>I know that unchecking <strong>remember me</strong> would stop it persisting across browser sessions, but I don't want to be logged-in when I next go to Google, whether in the same session or not.</p>\\n|2010|6    |30 |\n",
            "+---+--------+----------+----------------+-----------+-----------------------+-----+---------+-----------+------------+-----------------------+------------------------------------------------+-------------------------------------------------------------------+---------------------------------------------------------------------------------------------------------------------------------------------------------------------------------------------------------------------------------------------------------------------------------------------------------------------------------------------------------------------------------------------------------------------------------------------------------------------------------------------------------------------------------+----+-----+---+\n",
            "only showing top 10 rows\n",
            "\n"
          ]
        }
      ]
    },
    {
      "cell_type": "code",
      "source": [
        "#postsDFAnalize4J = spark.read.parquet(\"/content/output/posts.parquet\").filter( (col('Id')==157305) | (col('ParentId') ==157305) | (col('Id') ==157313)  ).show(n=10, truncate=False)\n",
        "#postsDFAnalize4J = spark.read.parquet(\"/content/output/posts.parquet\").filter(col('ParentId') == 1096).show(n=10, truncate=False)\n",
        "#votesDFAnalize4J = spark.read.parquet(\"/content/output/votes.parquet\").filter(col('PostId') == 157305).show(n=10, truncate=False)\n",
        "#tagsDFAnalize4J = spark.read.parquet(\"/content/output/posthistory.parquet\").filter(col('PostId') == 157305).show(n=10, truncate=False)\n",
        "#3tagsDFAnalize4J = spark.read.parquet(\"/content/output/users.parquet\").filter( (col('Id') == 44960 ) | (col('Id') == 10917) ).show(n=10, truncate=False)\n",
        "        \n",
        "#312\n",
        "#1096\n",
        "\n",
        "# postsDFAnalize4j = spark.read.parquet(\"/content/output/posts.parquet\") \\ \n",
        "#     .cache() \\\n",
        "#     .show(n=10, truncate=False)\n",
        "\n",
        "\n",
        "#GRUPOWANIE \n",
        "\n",
        "#display(pdDF)\n",
        "\n",
        "# postsDF1 \\\n",
        "#   .withColumn('word', explode(f.split(f.col('Description'), ' ')))\\\n",
        "#   .groupBy('word')\\\n",
        "#   .count()\\\n",
        "#   .sort('count', ascending=False)\\\n",
        "#   .show()\n",
        "\n",
        "# import pandas as pd\n",
        "# import matplotlib.pyplot as plt\n",
        "\n",
        "# plotdata = pd.DataFrame({\n",
        "#     \"2010\":[18,13,10,19, 11], #MIESIĄC/ILOŚĆ\n",
        "#     \"2017\":[7,7,7,3, 33],\n",
        "#     \"2018\":[57,67,77,83, 32],\n",
        "#     \"2019\":[68,73,80,79, 32],    \n",
        "#     \"2020\":[73,78,80,85, 34]},\n",
        "#     index=[\"Django\", \"Gafur\", \"Tommy\", \"Ronnie\", \"Python\"]) #LATA\n",
        "# plotdata.plot(kind='bar', stacked=True, figsize=(15, 8))\n",
        "\n",
        "# plt.title(\"Post ratings\")\n",
        "\n",
        "# plt.xlabel(\"Years\")\n",
        "\n",
        "# plt.ylabel(\"Number of posts\")    \n",
        "\n",
        "#plt.bar(df['Year'], df['Sample Size'])\n",
        "#plt.plot(plotdata['2017'], plotdata[7,7,7,3], '-o', color='orange')\n",
        "#https://www.dataquest.io/blog/how-to-plot-a-bar-graph-matplotlib/\n",
        "\n",
        "# from plotly.subplots import make_subplots\n",
        "\n",
        "# speed = [0.1, 17.5, 40, 48, 52, 69, 88]\n",
        "# lifespan = [2, 8, 70, 1.5, 25, 12, 28]\n",
        "# index = ['snail', 'pig', 'elephant', 'rabbit', 'giraffe', 'coyote', 'horse']\n",
        "# df = pd.DataFrame({'speed': speed,'lifespan': lifespan}, index=index)\n",
        "# df.plot.bar()\n",
        "\n",
        "\n",
        "import pyspark\n",
        "from pyspark.sql import SparkSession\n",
        "from pyspark.sql.functions import col,sum,avg,max\n",
        "\n",
        "spark = SparkSession.builder.appName('SparkByExamples.com').getOrCreate()\n",
        "\n",
        "simpleData = [(\"James\",\"Sales\",\"NY\",90000,34,10000),\n",
        "    (\"Michael\",\"Sales\",\"NY\",86000,56,20000),\n",
        "    (\"Robert\",\"Sales\",\"CA\",81000,30,23000),\n",
        "    (\"Maria\",\"Finance\",\"CA\",90000,24,23000),\n",
        "    (\"Raman\",\"Finance\",\"CA\",99000,40,24000),\n",
        "    (\"Scott\",\"Finance\",\"NY\",83000,36,19000),\n",
        "    (\"Jen\",\"Finance\",\"NY\",79000,53,15000),\n",
        "    (\"Jeff\",\"Marketing\",\"CA\",80000,25,18000),\n",
        "    (\"Kumar\",\"Marketing\",\"NY\",91000,50,21000)\n",
        "  ]\n",
        "\n",
        "schema = [\"employee_name\",\"department\",\"state\",\"salary\",\"age\",\"bonus\"]\n",
        "df = spark.createDataFrame(data=simpleData, schema = schema)\n",
        "df.printSchema()\n",
        "df.show(truncate=False)\n",
        "\n",
        "df.groupBy(\"department\").sum(\"salary\").show(truncate=False)\n",
        "\n",
        "df.groupBy(\"department\").count().show(truncate=False)\n",
        "\n",
        "\n",
        "df.groupBy(\"department\",\"state\") \\\n",
        "    .sum(\"salary\",\"bonus\") \\\n",
        "   .show(truncate=False)\n",
        "\n",
        "df.groupBy(\"department\") \\\n",
        "    .agg(sum(\"salary\").alias(\"sum_salary\"), \\\n",
        "         avg(\"salary\").alias(\"avg_salary\"), \\\n",
        "         sum(\"bonus\").alias(\"sum_bonus\"), \\\n",
        "         max(\"bonus\").alias(\"max_bonus\") \\\n",
        "     ) \\\n",
        "    .show(truncate=False)\n",
        "    \n",
        "df.groupBy(\"department\") \\\n",
        "    .agg(sum(\"salary\").alias(\"sum_salary\"), \\\n",
        "      avg(\"salary\").alias(\"avg_salary\"), \\\n",
        "      sum(\"bonus\").alias(\"sum_bonus\"), \\\n",
        "      max(\"bonus\").alias(\"max_bonus\")) \\\n",
        "    .where(col(\"sum_bonus\") >= 50000) \\\n",
        "    .show(truncate=False)"
      ],
      "metadata": {
        "id": "f3Q2FpjotfMY",
        "colab": {
          "base_uri": "https://localhost:8080/"
        },
        "outputId": "867b242f-e1de-4a9f-f596-8e72e3f37246"
      },
      "execution_count": 20,
      "outputs": [
        {
          "output_type": "stream",
          "name": "stdout",
          "text": [
            "root\n",
            " |-- employee_name: string (nullable = true)\n",
            " |-- department: string (nullable = true)\n",
            " |-- state: string (nullable = true)\n",
            " |-- salary: long (nullable = true)\n",
            " |-- age: long (nullable = true)\n",
            " |-- bonus: long (nullable = true)\n",
            "\n",
            "+-------------+----------+-----+------+---+-----+\n",
            "|employee_name|department|state|salary|age|bonus|\n",
            "+-------------+----------+-----+------+---+-----+\n",
            "|James        |Sales     |NY   |90000 |34 |10000|\n",
            "|Michael      |Sales     |NY   |86000 |56 |20000|\n",
            "|Robert       |Sales     |CA   |81000 |30 |23000|\n",
            "|Maria        |Finance   |CA   |90000 |24 |23000|\n",
            "|Raman        |Finance   |CA   |99000 |40 |24000|\n",
            "|Scott        |Finance   |NY   |83000 |36 |19000|\n",
            "|Jen          |Finance   |NY   |79000 |53 |15000|\n",
            "|Jeff         |Marketing |CA   |80000 |25 |18000|\n",
            "|Kumar        |Marketing |NY   |91000 |50 |21000|\n",
            "+-------------+----------+-----+------+---+-----+\n",
            "\n",
            "+----------+-----------+\n",
            "|department|sum(salary)|\n",
            "+----------+-----------+\n",
            "|Sales     |257000     |\n",
            "|Finance   |351000     |\n",
            "|Marketing |171000     |\n",
            "+----------+-----------+\n",
            "\n",
            "+----------+-----+\n",
            "|department|count|\n",
            "+----------+-----+\n",
            "|Sales     |3    |\n",
            "|Finance   |4    |\n",
            "|Marketing |2    |\n",
            "+----------+-----+\n",
            "\n",
            "+----------+-----+-----------+----------+\n",
            "|department|state|sum(salary)|sum(bonus)|\n",
            "+----------+-----+-----------+----------+\n",
            "|Sales     |CA   |81000      |23000     |\n",
            "|Finance   |CA   |189000     |47000     |\n",
            "|Sales     |NY   |176000     |30000     |\n",
            "|Finance   |NY   |162000     |34000     |\n",
            "|Marketing |NY   |91000      |21000     |\n",
            "|Marketing |CA   |80000      |18000     |\n",
            "+----------+-----+-----------+----------+\n",
            "\n",
            "+----------+----------+-----------------+---------+---------+\n",
            "|department|sum_salary|avg_salary       |sum_bonus|max_bonus|\n",
            "+----------+----------+-----------------+---------+---------+\n",
            "|Sales     |257000    |85666.66666666667|53000    |23000    |\n",
            "|Finance   |351000    |87750.0          |81000    |24000    |\n",
            "|Marketing |171000    |85500.0          |39000    |21000    |\n",
            "+----------+----------+-----------------+---------+---------+\n",
            "\n",
            "+----------+----------+-----------------+---------+---------+\n",
            "|department|sum_salary|avg_salary       |sum_bonus|max_bonus|\n",
            "+----------+----------+-----------------+---------+---------+\n",
            "|Sales     |257000    |85666.66666666667|53000    |23000    |\n",
            "|Finance   |351000    |87750.0          |81000    |24000    |\n",
            "+----------+----------+-----------------+---------+---------+\n",
            "\n"
          ]
        }
      ]
    }
  ]
}
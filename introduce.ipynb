{
  "nbformat": 4,
  "nbformat_minor": 0,
  "metadata": {
    "colab": {
      "provenance": [],
      "authorship_tag": "ABX9TyOug15varKDxmzUO2/qLjXq",
      "include_colab_link": true
    },
    "kernelspec": {
      "name": "python3",
      "display_name": "Python 3"
    },
    "language_info": {
      "name": "python"
    },
    "gpuClass": "standard"
  },
  "cells": [
    {
      "cell_type": "markdown",
      "metadata": {
        "id": "view-in-github",
        "colab_type": "text"
      },
      "source": [
        "<a href=\"https://colab.research.google.com/github/andyradz/aplios.solutions/blob/master/introduce.ipynb\" target=\"_parent\"><img src=\"https://colab.research.google.com/assets/colab-badge.svg\" alt=\"Open In Colab\"/></a>"
      ]
    },
    {
      "cell_type": "markdown",
      "source": [
        "# Praca dyplomowa\n",
        "##### Student    :: Andrzej Radziszewski\n",
        "\n",
        "##### Kierunek   :: BigData\n",
        "\n",
        "##### Nr indeksu :: 0000"
      ],
      "metadata": {
        "id": "D8heaOw48eGP"
      }
    },
    {
      "cell_type": "markdown",
      "source": [
        "# Konfiguracja środowiska"
      ],
      "metadata": {
        "id": "R2G-8VGrXlt9"
      }
    },
    {
      "cell_type": "markdown",
      "source": [
        "#### Montowanie zasobu Google Drive Volume"
      ],
      "metadata": {
        "id": "JoFm2ebZ8wMP"
      }
    },
    {
      "cell_type": "markdown",
      "source": [],
      "metadata": {
        "id": "RS4fTjK-8s-X"
      }
    },
    {
      "cell_type": "code",
      "execution_count": 1,
      "metadata": {
        "colab": {
          "base_uri": "https://localhost:8080/"
        },
        "id": "HNEHQd6EtyLP",
        "outputId": "2c7534d5-1002-4785-ef57-71923979cb1b"
      },
      "outputs": [
        {
          "output_type": "stream",
          "name": "stdout",
          "text": [
            "Drive already mounted at /content/gdrive; to attempt to forcibly remount, call drive.mount(\"/content/gdrive\", force_remount=True).\n"
          ]
        }
      ],
      "source": [
        "## MOUNT GOOGLE DRIVE VOLUME\n",
        "\n",
        "from google.colab import drive\n",
        "drive.mount('/content/gdrive')"
      ]
    },
    {
      "cell_type": "markdown",
      "source": [
        "#### Listowanie zawartości zasobu Google Drive Volume\n"
      ],
      "metadata": {
        "id": "VRENRNID9FHj"
      }
    },
    {
      "cell_type": "markdown",
      "source": [],
      "metadata": {
        "id": "hbqb3Ems-2q3"
      }
    },
    {
      "cell_type": "code",
      "source": [
        "## LIST GOOGLE DRIVE VOLUME\n",
        "!ls -laFtA --full-time /content/gdrive \n",
        "\n",
        "### CREATE REQUIRED DATA FOLDERS\n",
        "\n",
        "!mkdir input\n",
        "!mkdir output"
      ],
      "metadata": {
        "colab": {
          "base_uri": "https://localhost:8080/"
        },
        "id": "lS9HUpvUuiZE",
        "outputId": "113748c7-cec5-4139-9827-224ffa2d41e8"
      },
      "execution_count": 2,
      "outputs": [
        {
          "output_type": "stream",
          "name": "stdout",
          "text": [
            "total 16\n",
            "dr-x------  2 root root 4096 2023-04-27 08:02:39.000000000 +0000 .file-revisions-by-id/\n",
            "drwx------ 22 root root 4096 2023-04-27 08:02:39.000000000 +0000 MyDrive/\n",
            "dr-x------  2 root root 4096 2023-04-27 08:02:39.000000000 +0000 .shortcut-targets-by-id/\n",
            "drwx------  5 root root 4096 2023-04-27 08:02:39.000000000 +0000 .Trash-0/\n",
            "mkdir: cannot create directory ‘input’: File exists\n",
            "mkdir: cannot create directory ‘output’: File exists\n"
          ]
        }
      ]
    },
    {
      "cell_type": "markdown",
      "source": [
        "Aktualizacja natywnego systemu"
      ],
      "metadata": {
        "id": "7toAZ5592ufF"
      }
    },
    {
      "cell_type": "code",
      "source": [
        "!apt update\n",
        "\n",
        "!apt upgrade"
      ],
      "metadata": {
        "id": "B-z5kbz-17B-",
        "outputId": "f887f842-4c3d-49fd-a0f6-64d4b619ee33",
        "colab": {
          "base_uri": "https://localhost:8080/"
        }
      },
      "execution_count": 3,
      "outputs": [
        {
          "output_type": "stream",
          "name": "stdout",
          "text": [
            "\u001b[33m\r0% [Working]\u001b[0m\r            \rHit:1 http://security.ubuntu.com/ubuntu focal-security InRelease\n",
            "\u001b[33m\r0% [Connecting to archive.ubuntu.com] [Connected to cloud.r-project.org (52.85.\u001b[0m\r                                                                               \rHit:2 https://cloud.r-project.org/bin/linux/ubuntu focal-cran40/ InRelease\n",
            "\u001b[33m\r0% [Connecting to archive.ubuntu.com] [Connecting to ppa.launchpad.net] [Waitin\u001b[0m\r                                                                               \rHit:3 https://developer.download.nvidia.com/compute/cuda/repos/ubuntu2004/x86_64  InRelease\n",
            "\u001b[33m\r0% [Connecting to archive.ubuntu.com (91.189.91.38)] [Connecting to ppa.launchp\u001b[0m\r                                                                               \rHit:4 http://archive.ubuntu.com/ubuntu focal InRelease\n",
            "\u001b[33m\r                                                                               \r0% [Waiting for headers] [Connecting to ppa.launchpad.net (185.125.190.52)]\u001b[0m\r                                                                           \rHit:5 http://archive.ubuntu.com/ubuntu focal-updates InRelease\n",
            "\u001b[33m\r0% [Waiting for headers] [Connecting to ppa.launchpad.net (185.125.190.52)]\u001b[0m\r                                                                           \rHit:6 http://archive.ubuntu.com/ubuntu focal-backports InRelease\n",
            "Hit:7 http://ppa.launchpad.net/c2d4u.team/c2d4u4.0+/ubuntu focal InRelease\n",
            "Hit:8 http://ppa.launchpad.net/cran/libgit2/ubuntu focal InRelease\n",
            "Hit:9 http://ppa.launchpad.net/deadsnakes/ppa/ubuntu focal InRelease\n",
            "Hit:10 http://ppa.launchpad.net/graphics-drivers/ppa/ubuntu focal InRelease\n",
            "Hit:11 http://ppa.launchpad.net/ubuntugis/ppa/ubuntu focal InRelease\n",
            "Reading package lists... Done\n",
            "Building dependency tree       \n",
            "Reading state information... Done\n",
            "4 packages can be upgraded. Run 'apt list --upgradable' to see them.\n",
            "Reading package lists... Done\n",
            "Building dependency tree       \n",
            "Reading state information... Done\n",
            "Calculating upgrade... Done\n",
            "The following packages were automatically installed and are no longer required:\n",
            "  linux-headers-5.4.0-147 linux-headers-5.4.0-147-generic\n",
            "Use 'apt autoremove' to remove them.\n",
            "The following packages have been kept back:\n",
            "  libcudnn8 libcudnn8-dev libnccl-dev libnccl2\n",
            "0 upgraded, 0 newly installed, 0 to remove and 4 not upgraded.\n"
          ]
        }
      ]
    },
    {
      "cell_type": "markdown",
      "source": [
        "#### Instalacja komponentu Java Development Kit"
      ],
      "metadata": {
        "id": "Kasigenj0szW"
      }
    },
    {
      "cell_type": "code",
      "source": [
        "### DOWNLOAD AND INSTALL JAVA VIRTUAL MACHINE(JVM)\n",
        "\n",
        "!apt-get install openjdk-11-jdk-headless -qq > /dev/null"
      ],
      "metadata": {
        "id": "l07_EefG9i9t"
      },
      "execution_count": 4,
      "outputs": []
    },
    {
      "cell_type": "markdown",
      "source": [
        "#### Instalacja komponentu Hadoop"
      ],
      "metadata": {
        "id": "oYBO00HF299i"
      }
    },
    {
      "cell_type": "code",
      "source": [
        "### DOWNLOAD APACHE SPARK AND HADOOP ENVIRONMENT\n",
        "!wget https://archive.apache.org/dist/spark/spark-3.3.2/spark-3.3.2-bin-hadoop3.tgz > /dev/null\n",
        "\n",
        "### UNZIP SPARK ENVIRONMENT\n",
        "!tar xf spark-3.3.2-bin-hadoop3.tgz > /dev/null"
      ],
      "metadata": {
        "colab": {
          "base_uri": "https://localhost:8080/"
        },
        "id": "hErp8jy39pHI",
        "outputId": "9c3d726c-9baf-42ee-94c3-62ccfc0a1a3d"
      },
      "execution_count": 5,
      "outputs": [
        {
          "output_type": "stream",
          "name": "stdout",
          "text": [
            "--2023-04-27 08:06:22--  https://archive.apache.org/dist/spark/spark-3.3.2/spark-3.3.2-bin-hadoop3.tgz\n",
            "Resolving archive.apache.org (archive.apache.org)... 138.201.131.134, 2a01:4f8:172:2ec5::2\n",
            "Connecting to archive.apache.org (archive.apache.org)|138.201.131.134|:443... connected.\n",
            "HTTP request sent, awaiting response... 200 OK\n",
            "Length: 299360284 (285M) [application/x-gzip]\n",
            "Saving to: ‘spark-3.3.2-bin-hadoop3.tgz.1’\n",
            "\n",
            "spark-3.3.2-bin-had 100%[===================>] 285.49M  6.33MB/s    in 33s     \n",
            "\n",
            "2023-04-27 08:06:56 (8.58 MB/s) - ‘spark-3.3.2-bin-hadoop3.tgz.1’ saved [299360284/299360284]\n",
            "\n"
          ]
        }
      ]
    },
    {
      "cell_type": "markdown",
      "source": [
        "#### Ustawienie zmiennych środowiskowych dla Python"
      ],
      "metadata": {
        "id": "XTcBb7pE3IF5"
      }
    },
    {
      "cell_type": "code",
      "source": [
        "### SET SYSTEM VARIABLES FOR PYSPARK\n",
        "\n",
        "import os\n",
        "os.environ[\"JAVA_HOME\"] = \"/usr/lib/jvm/java-11-openjdk-amd64\"\n",
        "os.environ[\"SPARK_HOME\"] = '/content/spark-3.3.2-bin-hadoop3'\n",
        "os.environ['PYSPARK_SUBMIT_ARGS'] = '---jars /content/spark-3.3.2-bin-hadoop3/jars/spark-xml_2.12-0.11.0.jar pyspark-shell'\n",
        "!java --version"
      ],
      "metadata": {
        "id": "KHhDUqQ-9uU4",
        "outputId": "261fe872-0b2f-467c-d0c0-34f34ce14c1c",
        "colab": {
          "base_uri": "https://localhost:8080/"
        }
      },
      "execution_count": 6,
      "outputs": [
        {
          "output_type": "stream",
          "name": "stdout",
          "text": [
            "openjdk 11.0.18 2023-01-17\n",
            "OpenJDK Runtime Environment (build 11.0.18+10-post-Ubuntu-0ubuntu120.04.1)\n",
            "OpenJDK 64-Bit Server VM (build 11.0.18+10-post-Ubuntu-0ubuntu120.04.1, mixed mode, sharing)\n"
          ]
        }
      ]
    },
    {
      "cell_type": "markdown",
      "source": [
        "#### Instalacja komponentu PySpark"
      ],
      "metadata": {
        "id": "r9kCaQNJ3W4E"
      }
    },
    {
      "cell_type": "code",
      "source": [
        "### INSTALL PYSPARK ENVIRONMENT\n",
        "! pip install -q pyspark > /dev/null\n",
        "\n",
        "### INSTALL LIBRARY FIND PYSPARK\n",
        "! pip install -q findspark > /dev/null\n",
        "\n",
        "### INITIAL PYSPARK ENVIRONMENT\n",
        "import findspark\n",
        "findspark.init()\n",
        "\n",
        "### CHECK PYSPARK LOCATION\n",
        "findspark.find()\n",
        "#print(pyspark.__version__)"
      ],
      "metadata": {
        "colab": {
          "base_uri": "https://localhost:8080/",
          "height": 36
        },
        "id": "L2jBbISv9zh2",
        "outputId": "ea5836e2-339e-4e0a-b001-f2bf6ce7da16"
      },
      "execution_count": 6,
      "outputs": [
        {
          "output_type": "execute_result",
          "data": {
            "text/plain": [
              "'/usr/local/lib/python3.9/dist-packages/pyspark'"
            ],
            "application/vnd.google.colaboratory.intrinsic+json": {
              "type": "string"
            }
          },
          "metadata": {},
          "execution_count": 6
        }
      ]
    },
    {
      "cell_type": "code",
      "source": [
        "! wget https://bin.equinox.io/c/4VmDzA7iaHb/ngrok-stable-linux-amd64.zip\n",
        "! unzip ngrok-stable-linux-amd64.zip\n",
        "get_ipython().system_raw('./ngrok http 4050 &')\n",
        "! curl -s http://localhost:4040/api/tunnels"
      ],
      "metadata": {
        "id": "wdHV7F5Fu117",
        "outputId": "a23439f3-9bac-4377-fc16-de04f704324e",
        "colab": {
          "base_uri": "https://localhost:8080/"
        }
      },
      "execution_count": 13,
      "outputs": [
        {
          "output_type": "stream",
          "name": "stdout",
          "text": [
            "--2023-04-27 08:22:30--  https://bin.equinox.io/c/4VmDzA7iaHb/ngrok-stable-linux-amd64.zip\n",
            "Resolving bin.equinox.io (bin.equinox.io)... 52.202.168.65, 18.205.222.128, 54.161.241.46, ...\n",
            "Connecting to bin.equinox.io (bin.equinox.io)|52.202.168.65|:443... connected.\n",
            "HTTP request sent, awaiting response... 200 OK\n",
            "Length: 13921656 (13M) [application/octet-stream]\n",
            "Saving to: ‘ngrok-stable-linux-amd64.zip.5’\n",
            "\n",
            "\r          ngrok-sta   0%[                    ]       0  --.-KB/s               \rngrok-stable-linux- 100%[===================>]  13.28M  --.-KB/s    in 0.1s    \n",
            "\n",
            "2023-04-27 08:22:30 (96.5 MB/s) - ‘ngrok-stable-linux-amd64.zip.5’ saved [13921656/13921656]\n",
            "\n",
            "Archive:  ngrok-stable-linux-amd64.zip\n",
            "replace ngrok? [y]es, [n]o, [A]ll, [N]one, [r]ename: y\n",
            "  inflating: ngrok                   \n",
            "<html>\n",
            "<head>\n",
            "<meta http-equiv=\"Content-Type\" content=\"text/html;charset=ISO-8859-1\"/>\n",
            "<title>Error 404 Not Found</title>\n",
            "</head>\n",
            "<body><h2>HTTP ERROR 404 Not Found</h2>\n",
            "<table>\n",
            "<tr><th>URI:</th><td>/api/tunnels</td></tr>\n",
            "<tr><th>STATUS:</th><td>404</td></tr>\n",
            "<tr><th>MESSAGE:</th><td>Not Found</td></tr>\n",
            "<tr><th>SERVLET:</th><td>org.glassfish.jersey.servlet.ServletContainer-13d5aa7a</td></tr>\n",
            "</table>\n",
            "<hr/><a href=\"https://eclipse.org/jetty\">Powered by Jetty:// 9.4.50.v20221201</a><hr/>\n",
            "\n",
            "</body>\n",
            "</html>\n"
          ]
        }
      ]
    },
    {
      "cell_type": "markdown",
      "source": [
        " #### Instalacja aplikacji 7Zip"
      ],
      "metadata": {
        "id": "77ilT8-53qwG"
      }
    },
    {
      "cell_type": "code",
      "source": [
        "!sudo apt install --assume-yes p7zip-full\n",
        "\n",
        "!type(7z)"
      ],
      "metadata": {
        "colab": {
          "base_uri": "https://localhost:8080/"
        },
        "id": "JmWAJ2d7vOPp",
        "outputId": "aa8f3521-7185-4242-86c1-be414267baa8"
      },
      "execution_count": 11,
      "outputs": [
        {
          "output_type": "stream",
          "name": "stdout",
          "text": [
            "Reading package lists... Done\n",
            "Building dependency tree       \n",
            "Reading state information... Done\n",
            "p7zip-full is already the newest version (16.02+dfsg-7build1).\n",
            "The following packages were automatically installed and are no longer required:\n",
            "  linux-headers-5.4.0-147 linux-headers-5.4.0-147-generic\n",
            "Use 'sudo apt autoremove' to remove them.\n",
            "0 upgraded, 0 newly installed, 0 to remove and 4 not upgraded.\n",
            "/bin/bash: -c: line 0: syntax error near unexpected token `7z'\n",
            "/bin/bash: -c: line 0: `type(7z)'\n"
          ]
        }
      ]
    },
    {
      "cell_type": "markdown",
      "source": [
        "#### Listowanie pakietów Python"
      ],
      "metadata": {
        "id": "oLsstViy3uwq"
      }
    },
    {
      "cell_type": "code",
      "source": [
        "### LIST PYTHON INSTALLED PACKAGES\n",
        "\n",
        "!pip3 list -v\n"
      ],
      "metadata": {
        "id": "21B8dajJ-Bm2",
        "colab": {
          "base_uri": "https://localhost:8080/"
        },
        "outputId": "61eb69a2-8c45-4460-9094-bc1a9950282b"
      },
      "execution_count": 8,
      "outputs": [
        {
          "output_type": "stream",
          "name": "stdout",
          "text": [
            "Package                       Version              Location                               Installer\n",
            "----------------------------- -------------------- -------------------------------------- ---------\n",
            "absl-py                       1.4.0                /usr/local/lib/python3.9/dist-packages pip\n",
            "alabaster                     0.7.13               /usr/local/lib/python3.9/dist-packages pip\n",
            "albumentations                1.2.1                /usr/local/lib/python3.9/dist-packages pip\n",
            "altair                        4.2.2                /usr/local/lib/python3.9/dist-packages pip\n",
            "anyio                         3.6.2                /usr/local/lib/python3.9/dist-packages pip\n",
            "appdirs                       1.4.4                /usr/local/lib/python3.9/dist-packages pip\n",
            "argon2-cffi                   21.3.0               /usr/local/lib/python3.9/dist-packages pip\n",
            "argon2-cffi-bindings          21.2.0               /usr/local/lib/python3.9/dist-packages pip\n",
            "arviz                         0.15.1               /usr/local/lib/python3.9/dist-packages pip\n",
            "astropy                       5.2.2                /usr/local/lib/python3.9/dist-packages pip\n",
            "astunparse                    1.6.3                /usr/local/lib/python3.9/dist-packages pip\n",
            "attrs                         23.1.0               /usr/local/lib/python3.9/dist-packages pip\n",
            "audioread                     3.0.0                /usr/local/lib/python3.9/dist-packages pip\n",
            "autograd                      1.5                  /usr/local/lib/python3.9/dist-packages pip\n",
            "Babel                         2.12.1               /usr/local/lib/python3.9/dist-packages pip\n",
            "backcall                      0.2.0                /usr/local/lib/python3.9/dist-packages pip\n",
            "beautifulsoup4                4.11.2               /usr/local/lib/python3.9/dist-packages pip\n",
            "bleach                        6.0.0                /usr/local/lib/python3.9/dist-packages pip\n",
            "blis                          0.7.9                /usr/local/lib/python3.9/dist-packages pip\n",
            "blosc2                        2.0.0                /usr/local/lib/python3.9/dist-packages pip\n",
            "bokeh                         2.4.3                /usr/local/lib/python3.9/dist-packages pip\n",
            "branca                        0.6.0                /usr/local/lib/python3.9/dist-packages pip\n",
            "CacheControl                  0.12.11              /usr/local/lib/python3.9/dist-packages pip\n",
            "cached-property               1.5.2                /usr/local/lib/python3.9/dist-packages pip\n",
            "cachetools                    5.3.0                /usr/local/lib/python3.9/dist-packages pip\n",
            "catalogue                     2.0.8                /usr/local/lib/python3.9/dist-packages pip\n",
            "certifi                       2022.12.7            /usr/local/lib/python3.9/dist-packages pip\n",
            "cffi                          1.15.1               /usr/local/lib/python3.9/dist-packages pip\n",
            "chardet                       4.0.0                /usr/local/lib/python3.9/dist-packages pip\n",
            "charset-normalizer            2.0.12               /usr/local/lib/python3.9/dist-packages pip\n",
            "chex                          0.1.7                /usr/local/lib/python3.9/dist-packages pip\n",
            "click                         8.1.3                /usr/local/lib/python3.9/dist-packages pip\n",
            "cloudpickle                   2.2.1                /usr/local/lib/python3.9/dist-packages pip\n",
            "cmake                         3.25.2               /usr/local/lib/python3.9/dist-packages pip\n",
            "cmdstanpy                     1.1.0                /usr/local/lib/python3.9/dist-packages pip\n",
            "colorcet                      3.0.1                /usr/local/lib/python3.9/dist-packages pip\n",
            "colorlover                    0.3.0                /usr/local/lib/python3.9/dist-packages pip\n",
            "community                     1.0.0b1              /usr/local/lib/python3.9/dist-packages pip\n",
            "confection                    0.0.4                /usr/local/lib/python3.9/dist-packages pip\n",
            "cons                          0.4.5                /usr/local/lib/python3.9/dist-packages pip\n",
            "contextlib2                   0.6.0.post1          /usr/local/lib/python3.9/dist-packages pip\n",
            "contourpy                     1.0.7                /usr/local/lib/python3.9/dist-packages pip\n",
            "convertdate                   2.4.0                /usr/local/lib/python3.9/dist-packages pip\n",
            "cryptography                  40.0.2               /usr/local/lib/python3.9/dist-packages pip\n",
            "cufflinks                     0.17.3               /usr/local/lib/python3.9/dist-packages pip\n",
            "cvxopt                        1.3.0                /usr/local/lib/python3.9/dist-packages pip\n",
            "cvxpy                         1.3.1                /usr/local/lib/python3.9/dist-packages pip\n",
            "cycler                        0.11.0               /usr/local/lib/python3.9/dist-packages pip\n",
            "cymem                         2.0.7                /usr/local/lib/python3.9/dist-packages pip\n",
            "Cython                        0.29.34              /usr/local/lib/python3.9/dist-packages pip\n",
            "dask                          2022.12.1            /usr/local/lib/python3.9/dist-packages pip\n",
            "datascience                   0.17.6               /usr/local/lib/python3.9/dist-packages pip\n",
            "db-dtypes                     1.1.1                /usr/local/lib/python3.9/dist-packages pip\n",
            "dbus-python                   1.2.16               /usr/lib/python3/dist-packages\n",
            "debugpy                       1.6.6                /usr/local/lib/python3.9/dist-packages pip\n",
            "decorator                     4.4.2                /usr/local/lib/python3.9/dist-packages pip\n",
            "defusedxml                    0.7.1                /usr/local/lib/python3.9/dist-packages pip\n",
            "distributed                   2022.12.1            /usr/local/lib/python3.9/dist-packages pip\n",
            "dlib                          19.24.1              /usr/local/lib/python3.9/dist-packages pip\n",
            "dm-tree                       0.1.8                /usr/local/lib/python3.9/dist-packages pip\n",
            "docutils                      0.16                 /usr/local/lib/python3.9/dist-packages pip\n",
            "dopamine-rl                   4.0.6                /usr/local/lib/python3.9/dist-packages pip\n",
            "duckdb                        0.7.1                /usr/local/lib/python3.9/dist-packages pip\n",
            "earthengine-api               0.1.350              /usr/local/lib/python3.9/dist-packages pip\n",
            "easydict                      1.10                 /usr/local/lib/python3.9/dist-packages pip\n",
            "ecos                          2.0.12               /usr/local/lib/python3.9/dist-packages pip\n",
            "editdistance                  0.6.2                /usr/local/lib/python3.9/dist-packages pip\n",
            "en-core-web-sm                3.5.0                /usr/local/lib/python3.9/dist-packages pip\n",
            "entrypoints                   0.4                  /usr/local/lib/python3.9/dist-packages pip\n",
            "ephem                         4.1.4                /usr/local/lib/python3.9/dist-packages pip\n",
            "et-xmlfile                    1.1.0                /usr/local/lib/python3.9/dist-packages pip\n",
            "etils                         1.2.0                /usr/local/lib/python3.9/dist-packages pip\n",
            "etuples                       0.3.8                /usr/local/lib/python3.9/dist-packages pip\n",
            "exceptiongroup                1.1.1                /usr/local/lib/python3.9/dist-packages pip\n",
            "fastai                        2.7.12               /usr/local/lib/python3.9/dist-packages pip\n",
            "fastcore                      1.5.29               /usr/local/lib/python3.9/dist-packages pip\n",
            "fastdownload                  0.0.7                /usr/local/lib/python3.9/dist-packages pip\n",
            "fastjsonschema                2.16.3               /usr/local/lib/python3.9/dist-packages pip\n",
            "fastprogress                  1.0.3                /usr/local/lib/python3.9/dist-packages pip\n",
            "fastrlock                     0.8.1                /usr/local/lib/python3.9/dist-packages pip\n",
            "filelock                      3.12.0               /usr/local/lib/python3.9/dist-packages pip\n",
            "findspark                     2.0.1                /usr/local/lib/python3.9/dist-packages pip\n",
            "firebase-admin                5.3.0                /usr/local/lib/python3.9/dist-packages pip\n",
            "Flask                         2.2.3                /usr/local/lib/python3.9/dist-packages pip\n",
            "flatbuffers                   23.3.3               /usr/local/lib/python3.9/dist-packages pip\n",
            "flax                          0.6.9                /usr/local/lib/python3.9/dist-packages pip\n",
            "folium                        0.14.0               /usr/local/lib/python3.9/dist-packages pip\n",
            "fonttools                     4.39.3               /usr/local/lib/python3.9/dist-packages pip\n",
            "frozendict                    2.3.7                /usr/local/lib/python3.9/dist-packages pip\n",
            "fsspec                        2023.4.0             /usr/local/lib/python3.9/dist-packages pip\n",
            "future                        0.18.3               /usr/local/lib/python3.9/dist-packages pip\n",
            "gast                          0.4.0                /usr/local/lib/python3.9/dist-packages pip\n",
            "GDAL                          3.3.2                /usr/local/lib/python3.9/dist-packages pip\n",
            "gdown                         4.6.6                /usr/local/lib/python3.9/dist-packages pip\n",
            "gensim                        4.3.1                /usr/local/lib/python3.9/dist-packages pip\n",
            "geographiclib                 2.0                  /usr/local/lib/python3.9/dist-packages pip\n",
            "geopy                         2.3.0                /usr/local/lib/python3.9/dist-packages pip\n",
            "gin-config                    0.5.0                /usr/local/lib/python3.9/dist-packages pip\n",
            "glob2                         0.7                  /usr/local/lib/python3.9/dist-packages pip\n",
            "google                        2.0.3                /usr/local/lib/python3.9/dist-packages pip\n",
            "google-api-core               2.11.0               /usr/local/lib/python3.9/dist-packages pip\n",
            "google-api-python-client      2.84.0               /usr/local/lib/python3.9/dist-packages pip\n",
            "google-auth                   2.17.3               /usr/local/lib/python3.9/dist-packages pip\n",
            "google-auth-httplib2          0.1.0                /usr/local/lib/python3.9/dist-packages pip\n",
            "google-auth-oauthlib          1.0.0                /usr/local/lib/python3.9/dist-packages pip\n",
            "google-cloud-bigquery         3.9.0                /usr/local/lib/python3.9/dist-packages pip\n",
            "google-cloud-bigquery-storage 2.19.1               /usr/local/lib/python3.9/dist-packages pip\n",
            "google-cloud-core             2.3.2                /usr/local/lib/python3.9/dist-packages pip\n",
            "google-cloud-datastore        2.15.1               /usr/local/lib/python3.9/dist-packages pip\n",
            "google-cloud-firestore        2.11.0               /usr/local/lib/python3.9/dist-packages pip\n",
            "google-cloud-language         2.9.1                /usr/local/lib/python3.9/dist-packages pip\n",
            "google-cloud-storage          2.8.0                /usr/local/lib/python3.9/dist-packages pip\n",
            "google-cloud-translate        3.11.1               /usr/local/lib/python3.9/dist-packages pip\n",
            "google-colab                  1.0.0                /usr/local/lib/python3.9/dist-packages pip\n",
            "google-crc32c                 1.5.0                /usr/local/lib/python3.9/dist-packages pip\n",
            "google-pasta                  0.2.0                /usr/local/lib/python3.9/dist-packages pip\n",
            "google-resumable-media        2.4.1                /usr/local/lib/python3.9/dist-packages pip\n",
            "googleapis-common-protos      1.59.0               /usr/local/lib/python3.9/dist-packages pip\n",
            "googledrivedownloader         0.4                  /usr/local/lib/python3.9/dist-packages pip\n",
            "graphviz                      0.20.1               /usr/local/lib/python3.9/dist-packages pip\n",
            "greenlet                      2.0.2                /usr/local/lib/python3.9/dist-packages pip\n",
            "grpcio                        1.54.0               /usr/local/lib/python3.9/dist-packages pip\n",
            "grpcio-status                 1.48.2               /usr/local/lib/python3.9/dist-packages pip\n",
            "gspread                       3.4.2                /usr/local/lib/python3.9/dist-packages pip\n",
            "gspread-dataframe             3.0.8                /usr/local/lib/python3.9/dist-packages pip\n",
            "gym                           0.25.2               /usr/local/lib/python3.9/dist-packages pip\n",
            "gym-notices                   0.0.8                /usr/local/lib/python3.9/dist-packages pip\n",
            "h5netcdf                      1.1.0                /usr/local/lib/python3.9/dist-packages pip\n",
            "h5py                          3.8.0                /usr/local/lib/python3.9/dist-packages pip\n",
            "hijri-converter               2.2.4                /usr/local/lib/python3.9/dist-packages pip\n",
            "holidays                      0.23                 /usr/local/lib/python3.9/dist-packages pip\n",
            "holoviews                     1.15.4               /usr/local/lib/python3.9/dist-packages pip\n",
            "html5lib                      1.1                  /usr/local/lib/python3.9/dist-packages pip\n",
            "httpimport                    1.3.0                /usr/local/lib/python3.9/dist-packages pip\n",
            "httplib2                      0.21.0               /usr/local/lib/python3.9/dist-packages pip\n",
            "humanize                      4.6.0                /usr/local/lib/python3.9/dist-packages pip\n",
            "hyperopt                      0.2.7                /usr/local/lib/python3.9/dist-packages pip\n",
            "idna                          3.4                  /usr/local/lib/python3.9/dist-packages pip\n",
            "imageio                       2.25.1               /usr/local/lib/python3.9/dist-packages pip\n",
            "imageio-ffmpeg                0.4.8                /usr/local/lib/python3.9/dist-packages pip\n",
            "imagesize                     1.4.1                /usr/local/lib/python3.9/dist-packages pip\n",
            "imbalanced-learn              0.10.1               /usr/local/lib/python3.9/dist-packages pip\n",
            "imgaug                        0.4.0                /usr/local/lib/python3.9/dist-packages pip\n",
            "importlib-metadata            6.6.0                /usr/local/lib/python3.9/dist-packages pip\n",
            "importlib-resources           5.12.0               /usr/local/lib/python3.9/dist-packages pip\n",
            "imutils                       0.5.4                /usr/local/lib/python3.9/dist-packages pip\n",
            "inflect                       6.0.4                /usr/local/lib/python3.9/dist-packages pip\n",
            "iniconfig                     2.0.0                /usr/local/lib/python3.9/dist-packages pip\n",
            "intel-openmp                  2023.1.0             /usr/local/lib/python3.9/dist-packages pip\n",
            "ipykernel                     5.5.6                /usr/local/lib/python3.9/dist-packages pip\n",
            "ipython                       7.34.0               /usr/local/lib/python3.9/dist-packages pip\n",
            "ipython-genutils              0.2.0                /usr/local/lib/python3.9/dist-packages pip\n",
            "ipython-sql                   0.4.1                /usr/local/lib/python3.9/dist-packages pip\n",
            "ipywidgets                    7.7.1                /usr/local/lib/python3.9/dist-packages pip\n",
            "itsdangerous                  2.1.2                /usr/local/lib/python3.9/dist-packages pip\n",
            "jax                           0.4.8                /usr/local/lib/python3.9/dist-packages pip\n",
            "jaxlib                        0.4.7+cuda11.cudnn86 /usr/local/lib/python3.9/dist-packages pip\n",
            "jieba                         0.42.1               /usr/local/lib/python3.9/dist-packages pip\n",
            "Jinja2                        3.1.2                /usr/local/lib/python3.9/dist-packages pip\n",
            "joblib                        1.2.0                /usr/local/lib/python3.9/dist-packages pip\n",
            "jsonpickle                    3.0.1                /usr/local/lib/python3.9/dist-packages pip\n",
            "jsonschema                    4.3.3                /usr/local/lib/python3.9/dist-packages pip\n",
            "jupyter-client                6.1.12               /usr/local/lib/python3.9/dist-packages pip\n",
            "jupyter-console               6.1.0                /usr/local/lib/python3.9/dist-packages pip\n",
            "jupyter_core                  5.3.0                /usr/local/lib/python3.9/dist-packages pip\n",
            "jupyter-server                1.24.0               /usr/local/lib/python3.9/dist-packages pip\n",
            "jupyterlab-pygments           0.2.2                /usr/local/lib/python3.9/dist-packages pip\n",
            "jupyterlab-widgets            3.0.7                /usr/local/lib/python3.9/dist-packages pip\n",
            "kaggle                        1.5.13               /usr/local/lib/python3.9/dist-packages pip\n",
            "keras                         2.12.0               /usr/local/lib/python3.9/dist-packages pip\n",
            "keras-vis                     0.4.1                /usr/local/lib/python3.9/dist-packages pip\n",
            "kiwisolver                    1.4.4                /usr/local/lib/python3.9/dist-packages pip\n",
            "korean-lunar-calendar         0.3.1                /usr/local/lib/python3.9/dist-packages pip\n",
            "langcodes                     3.3.0                /usr/local/lib/python3.9/dist-packages pip\n",
            "lazy_loader                   0.2                  /usr/local/lib/python3.9/dist-packages pip\n",
            "libclang                      16.0.0               /usr/local/lib/python3.9/dist-packages pip\n",
            "librosa                       0.10.0.post2         /usr/local/lib/python3.9/dist-packages pip\n",
            "lightgbm                      3.3.5                /usr/local/lib/python3.9/dist-packages pip\n",
            "lit                           16.0.2               /usr/local/lib/python3.9/dist-packages pip\n",
            "llvmlite                      0.39.1               /usr/local/lib/python3.9/dist-packages pip\n",
            "locket                        1.0.0                /usr/local/lib/python3.9/dist-packages pip\n",
            "logical-unification           0.4.5                /usr/local/lib/python3.9/dist-packages pip\n",
            "LunarCalendar                 0.0.9                /usr/local/lib/python3.9/dist-packages pip\n",
            "lxml                          4.9.2                /usr/local/lib/python3.9/dist-packages pip\n",
            "Markdown                      3.4.3                /usr/local/lib/python3.9/dist-packages pip\n",
            "markdown-it-py                2.2.0                /usr/local/lib/python3.9/dist-packages pip\n",
            "MarkupSafe                    2.1.2                /usr/local/lib/python3.9/dist-packages pip\n",
            "matplotlib                    3.7.1                /usr/local/lib/python3.9/dist-packages pip\n",
            "matplotlib-inline             0.1.6                /usr/local/lib/python3.9/dist-packages pip\n",
            "matplotlib-venn               0.11.9               /usr/local/lib/python3.9/dist-packages pip\n",
            "mdurl                         0.1.2                /usr/local/lib/python3.9/dist-packages pip\n",
            "miniKanren                    1.0.3                /usr/local/lib/python3.9/dist-packages pip\n",
            "missingno                     0.5.2                /usr/local/lib/python3.9/dist-packages pip\n",
            "mistune                       0.8.4                /usr/local/lib/python3.9/dist-packages pip\n",
            "mizani                        0.8.1                /usr/local/lib/python3.9/dist-packages pip\n",
            "mkl                           2019.0               /usr/local/lib/python3.9/dist-packages pip\n",
            "ml-dtypes                     0.1.0                /usr/local/lib/python3.9/dist-packages pip\n",
            "mlxtend                       0.14.0               /usr/local/lib/python3.9/dist-packages pip\n",
            "more-itertools                9.1.0                /usr/local/lib/python3.9/dist-packages pip\n",
            "moviepy                       1.0.3                /usr/local/lib/python3.9/dist-packages pip\n",
            "mpmath                        1.3.0                /usr/local/lib/python3.9/dist-packages pip\n",
            "msgpack                       1.0.5                /usr/local/lib/python3.9/dist-packages pip\n",
            "multipledispatch              0.6.0                /usr/local/lib/python3.9/dist-packages pip\n",
            "multitasking                  0.0.11               /usr/local/lib/python3.9/dist-packages pip\n",
            "murmurhash                    1.0.9                /usr/local/lib/python3.9/dist-packages pip\n",
            "music21                       8.1.0                /usr/local/lib/python3.9/dist-packages pip\n",
            "natsort                       8.3.1                /usr/local/lib/python3.9/dist-packages pip\n",
            "nbclient                      0.7.3                /usr/local/lib/python3.9/dist-packages pip\n",
            "nbconvert                     6.5.4                /usr/local/lib/python3.9/dist-packages pip\n",
            "nbformat                      5.8.0                /usr/local/lib/python3.9/dist-packages pip\n",
            "nest-asyncio                  1.5.6                /usr/local/lib/python3.9/dist-packages pip\n",
            "networkx                      3.1                  /usr/local/lib/python3.9/dist-packages pip\n",
            "nibabel                       3.0.2                /usr/local/lib/python3.9/dist-packages pip\n",
            "nltk                          3.8.1                /usr/local/lib/python3.9/dist-packages pip\n",
            "notebook                      6.4.8                /usr/local/lib/python3.9/dist-packages pip\n",
            "numba                         0.56.4               /usr/local/lib/python3.9/dist-packages pip\n",
            "numexpr                       2.8.4                /usr/local/lib/python3.9/dist-packages pip\n",
            "numpy                         1.22.4               /usr/local/lib/python3.9/dist-packages pip\n",
            "oauth2client                  4.1.3                /usr/local/lib/python3.9/dist-packages pip\n",
            "oauthlib                      3.2.2                /usr/local/lib/python3.9/dist-packages pip\n",
            "opencv-contrib-python         4.7.0.72             /usr/local/lib/python3.9/dist-packages pip\n",
            "opencv-python                 4.7.0.72             /usr/local/lib/python3.9/dist-packages pip\n",
            "opencv-python-headless        4.7.0.72             /usr/local/lib/python3.9/dist-packages pip\n",
            "openpyxl                      3.0.10               /usr/local/lib/python3.9/dist-packages pip\n",
            "opt-einsum                    3.3.0                /usr/local/lib/python3.9/dist-packages pip\n",
            "optax                         0.1.5                /usr/local/lib/python3.9/dist-packages pip\n",
            "orbax-checkpoint              0.2.1                /usr/local/lib/python3.9/dist-packages pip\n",
            "osqp                          0.6.2.post0          /usr/local/lib/python3.9/dist-packages pip\n",
            "packaging                     23.1                 /usr/local/lib/python3.9/dist-packages pip\n",
            "palettable                    3.3.3                /usr/local/lib/python3.9/dist-packages pip\n",
            "pandas                        1.5.3                /usr/local/lib/python3.9/dist-packages pip\n",
            "pandas-datareader             0.10.0               /usr/local/lib/python3.9/dist-packages pip\n",
            "pandas-gbq                    0.17.9               /usr/local/lib/python3.9/dist-packages pip\n",
            "pandocfilters                 1.5.0                /usr/local/lib/python3.9/dist-packages pip\n",
            "panel                         0.14.4               /usr/local/lib/python3.9/dist-packages pip\n",
            "param                         1.13.0               /usr/local/lib/python3.9/dist-packages pip\n",
            "parso                         0.8.3                /usr/local/lib/python3.9/dist-packages pip\n",
            "partd                         1.4.0                /usr/local/lib/python3.9/dist-packages pip\n",
            "pathlib                       1.0.1                /usr/local/lib/python3.9/dist-packages pip\n",
            "pathy                         0.10.1               /usr/local/lib/python3.9/dist-packages pip\n",
            "patsy                         0.5.3                /usr/local/lib/python3.9/dist-packages pip\n",
            "pep517                        0.13.0               /usr/local/lib/python3.9/dist-packages pip\n",
            "pexpect                       4.8.0                /usr/local/lib/python3.9/dist-packages pip\n",
            "pickleshare                   0.7.5                /usr/local/lib/python3.9/dist-packages pip\n",
            "Pillow                        8.4.0                /usr/local/lib/python3.9/dist-packages pip\n",
            "pip                           23.0.1               /usr/local/lib/python3.9/dist-packages pip\n",
            "pip-tools                     6.6.2                /usr/local/lib/python3.9/dist-packages pip\n",
            "platformdirs                  3.2.0                /usr/local/lib/python3.9/dist-packages pip\n",
            "plotly                        5.13.1               /usr/local/lib/python3.9/dist-packages pip\n",
            "plotnine                      0.10.1               /usr/local/lib/python3.9/dist-packages pip\n",
            "pluggy                        1.0.0                /usr/local/lib/python3.9/dist-packages pip\n",
            "polars                        0.17.3               /usr/local/lib/python3.9/dist-packages pip\n",
            "pooch                         1.6.0                /usr/local/lib/python3.9/dist-packages pip\n",
            "portpicker                    1.3.9                /usr/local/lib/python3.9/dist-packages pip\n",
            "prefetch-generator            1.0.3                /usr/local/lib/python3.9/dist-packages pip\n",
            "preshed                       3.0.8                /usr/local/lib/python3.9/dist-packages pip\n",
            "prettytable                   0.7.2                /usr/local/lib/python3.9/dist-packages pip\n",
            "proglog                       0.1.10               /usr/local/lib/python3.9/dist-packages pip\n",
            "progressbar2                  4.2.0                /usr/local/lib/python3.9/dist-packages pip\n",
            "prometheus-client             0.16.0               /usr/local/lib/python3.9/dist-packages pip\n",
            "promise                       2.3                  /usr/local/lib/python3.9/dist-packages pip\n",
            "prompt-toolkit                3.0.38               /usr/local/lib/python3.9/dist-packages pip\n",
            "prophet                       1.1.2                /usr/local/lib/python3.9/dist-packages pip\n",
            "proto-plus                    1.22.2               /usr/local/lib/python3.9/dist-packages pip\n",
            "protobuf                      3.20.3               /usr/local/lib/python3.9/dist-packages pip\n",
            "psutil                        5.9.5                /usr/local/lib/python3.9/dist-packages pip\n",
            "psycopg2                      2.9.6                /usr/local/lib/python3.9/dist-packages pip\n",
            "ptyprocess                    0.7.0                /usr/local/lib/python3.9/dist-packages pip\n",
            "py-cpuinfo                    9.0.0                /usr/local/lib/python3.9/dist-packages pip\n",
            "py4j                          0.10.9.7             /usr/local/lib/python3.9/dist-packages pip\n",
            "pyarrow                       9.0.0                /usr/local/lib/python3.9/dist-packages pip\n",
            "pyasn1                        0.5.0                /usr/local/lib/python3.9/dist-packages pip\n",
            "pyasn1-modules                0.3.0                /usr/local/lib/python3.9/dist-packages pip\n",
            "pycocotools                   2.0.6                /usr/local/lib/python3.9/dist-packages pip\n",
            "pycparser                     2.21                 /usr/local/lib/python3.9/dist-packages pip\n",
            "pyct                          0.5.0                /usr/local/lib/python3.9/dist-packages pip\n",
            "pydantic                      1.10.7               /usr/local/lib/python3.9/dist-packages pip\n",
            "pydata-google-auth            1.7.0                /usr/local/lib/python3.9/dist-packages pip\n",
            "pydot                         1.4.2                /usr/local/lib/python3.9/dist-packages pip\n",
            "pydot-ng                      2.0.0                /usr/local/lib/python3.9/dist-packages pip\n",
            "pydotplus                     2.0.2                /usr/local/lib/python3.9/dist-packages pip\n",
            "PyDrive                       1.3.1                /usr/local/lib/python3.9/dist-packages pip\n",
            "pyerfa                        2.0.0.3              /usr/local/lib/python3.9/dist-packages pip\n",
            "pygame                        2.3.0                /usr/local/lib/python3.9/dist-packages pip\n",
            "Pygments                      2.14.0               /usr/local/lib/python3.9/dist-packages pip\n",
            "PyGObject                     3.36.0               /usr/lib/python3/dist-packages\n",
            "pymc                          5.1.2                /usr/local/lib/python3.9/dist-packages pip\n",
            "PyMeeus                       0.5.12               /usr/local/lib/python3.9/dist-packages pip\n",
            "pymystem3                     0.2.0                /usr/local/lib/python3.9/dist-packages pip\n",
            "PyOpenGL                      3.1.6                /usr/local/lib/python3.9/dist-packages pip\n",
            "pyparsing                     3.0.9                /usr/local/lib/python3.9/dist-packages pip\n",
            "pyrsistent                    0.19.3               /usr/local/lib/python3.9/dist-packages pip\n",
            "PySocks                       1.7.1                /usr/local/lib/python3.9/dist-packages pip\n",
            "pyspark                       3.4.0                /usr/local/lib/python3.9/dist-packages pip\n",
            "pytensor                      2.10.1               /usr/local/lib/python3.9/dist-packages pip\n",
            "pytest                        7.2.2                /usr/local/lib/python3.9/dist-packages pip\n",
            "python-apt                    0.0.0                /usr/local/lib/python3.9/dist-packages\n",
            "python-dateutil               2.8.2                /usr/local/lib/python3.9/dist-packages pip\n",
            "python-louvain                0.16                 /usr/local/lib/python3.9/dist-packages pip\n",
            "python-slugify                8.0.1                /usr/local/lib/python3.9/dist-packages pip\n",
            "python-utils                  3.5.2                /usr/local/lib/python3.9/dist-packages pip\n",
            "pytz                          2022.7.1             /usr/local/lib/python3.9/dist-packages pip\n",
            "pytz-deprecation-shim         0.1.0.post0          /usr/local/lib/python3.9/dist-packages pip\n",
            "pyviz-comms                   2.2.1                /usr/local/lib/python3.9/dist-packages pip\n",
            "PyWavelets                    1.4.1                /usr/local/lib/python3.9/dist-packages pip\n",
            "PyYAML                        6.0                  /usr/local/lib/python3.9/dist-packages pip\n",
            "pyzmq                         23.2.1               /usr/local/lib/python3.9/dist-packages pip\n",
            "qdldl                         0.1.7                /usr/local/lib/python3.9/dist-packages pip\n",
            "qudida                        0.0.4                /usr/local/lib/python3.9/dist-packages pip\n",
            "regex                         2022.10.31           /usr/local/lib/python3.9/dist-packages pip\n",
            "requests                      2.27.1               /usr/local/lib/python3.9/dist-packages pip\n",
            "requests-oauthlib             1.3.1                /usr/local/lib/python3.9/dist-packages pip\n",
            "requests-unixsocket           0.2.0                /usr/lib/python3/dist-packages\n",
            "rich                          13.3.4               /usr/local/lib/python3.9/dist-packages pip\n",
            "rpy2                          3.5.5                /usr/local/lib/python3.9/dist-packages pip\n",
            "rsa                           4.9                  /usr/local/lib/python3.9/dist-packages pip\n",
            "scikit-image                  0.19.3               /usr/local/lib/python3.9/dist-packages pip\n",
            "scikit-learn                  1.2.2                /usr/local/lib/python3.9/dist-packages pip\n",
            "scipy                         1.10.1               /usr/local/lib/python3.9/dist-packages pip\n",
            "scs                           3.2.3                /usr/local/lib/python3.9/dist-packages pip\n",
            "seaborn                       0.12.2               /usr/local/lib/python3.9/dist-packages pip\n",
            "Send2Trash                    1.8.0                /usr/local/lib/python3.9/dist-packages pip\n",
            "setuptools                    67.7.2               /usr/local/lib/python3.9/dist-packages pip\n",
            "shapely                       2.0.1                /usr/local/lib/python3.9/dist-packages pip\n",
            "six                           1.16.0               /usr/local/lib/python3.9/dist-packages pip\n",
            "sklearn-pandas                2.2.0                /usr/local/lib/python3.9/dist-packages pip\n",
            "smart-open                    6.3.0                /usr/local/lib/python3.9/dist-packages pip\n",
            "sniffio                       1.3.0                /usr/local/lib/python3.9/dist-packages pip\n",
            "snowballstemmer               2.2.0                /usr/local/lib/python3.9/dist-packages pip\n",
            "sortedcontainers              2.4.0                /usr/local/lib/python3.9/dist-packages pip\n",
            "soundfile                     0.12.1               /usr/local/lib/python3.9/dist-packages pip\n",
            "soupsieve                     2.4.1                /usr/local/lib/python3.9/dist-packages pip\n",
            "soxr                          0.3.5                /usr/local/lib/python3.9/dist-packages pip\n",
            "spacy                         3.5.2                /usr/local/lib/python3.9/dist-packages pip\n",
            "spacy-legacy                  3.0.12               /usr/local/lib/python3.9/dist-packages pip\n",
            "spacy-loggers                 1.0.4                /usr/local/lib/python3.9/dist-packages pip\n",
            "Sphinx                        3.5.4                /usr/local/lib/python3.9/dist-packages pip\n",
            "sphinxcontrib-applehelp       1.0.4                /usr/local/lib/python3.9/dist-packages pip\n",
            "sphinxcontrib-devhelp         1.0.2                /usr/local/lib/python3.9/dist-packages pip\n",
            "sphinxcontrib-htmlhelp        2.0.1                /usr/local/lib/python3.9/dist-packages pip\n",
            "sphinxcontrib-jsmath          1.0.1                /usr/local/lib/python3.9/dist-packages pip\n",
            "sphinxcontrib-qthelp          1.0.3                /usr/local/lib/python3.9/dist-packages pip\n",
            "sphinxcontrib-serializinghtml 1.1.5                /usr/local/lib/python3.9/dist-packages pip\n",
            "SQLAlchemy                    2.0.10               /usr/local/lib/python3.9/dist-packages pip\n",
            "sqlparse                      0.4.4                /usr/local/lib/python3.9/dist-packages pip\n",
            "srsly                         2.4.6                /usr/local/lib/python3.9/dist-packages pip\n",
            "statsmodels                   0.13.5               /usr/local/lib/python3.9/dist-packages pip\n",
            "sympy                         1.11.1               /usr/local/lib/python3.9/dist-packages pip\n",
            "tables                        3.8.0                /usr/local/lib/python3.9/dist-packages pip\n",
            "tabulate                      0.8.10               /usr/local/lib/python3.9/dist-packages pip\n",
            "tblib                         1.7.0                /usr/local/lib/python3.9/dist-packages pip\n",
            "tenacity                      8.2.2                /usr/local/lib/python3.9/dist-packages pip\n",
            "tensorboard                   2.12.2               /usr/local/lib/python3.9/dist-packages pip\n",
            "tensorboard-data-server       0.7.0                /usr/local/lib/python3.9/dist-packages pip\n",
            "tensorboard-plugin-wit        1.8.1                /usr/local/lib/python3.9/dist-packages pip\n",
            "tensorflow                    2.12.0               /usr/local/lib/python3.9/dist-packages pip\n",
            "tensorflow-datasets           4.8.3                /usr/local/lib/python3.9/dist-packages pip\n",
            "tensorflow-estimator          2.12.0               /usr/local/lib/python3.9/dist-packages pip\n",
            "tensorflow-gcs-config         2.12.0               /usr/local/lib/python3.9/dist-packages pip\n",
            "tensorflow-hub                0.13.0               /usr/local/lib/python3.9/dist-packages pip\n",
            "tensorflow-io-gcs-filesystem  0.32.0               /usr/local/lib/python3.9/dist-packages pip\n",
            "tensorflow-metadata           1.13.1               /usr/local/lib/python3.9/dist-packages pip\n",
            "tensorflow-probability        0.19.0               /usr/local/lib/python3.9/dist-packages pip\n",
            "tensorstore                   0.1.36               /usr/local/lib/python3.9/dist-packages pip\n",
            "termcolor                     2.3.0                /usr/local/lib/python3.9/dist-packages pip\n",
            "terminado                     0.17.1               /usr/local/lib/python3.9/dist-packages pip\n",
            "text-unidecode                1.3                  /usr/local/lib/python3.9/dist-packages pip\n",
            "textblob                      0.17.1               /usr/local/lib/python3.9/dist-packages pip\n",
            "tf-slim                       1.1.0                /usr/local/lib/python3.9/dist-packages pip\n",
            "thinc                         8.1.9                /usr/local/lib/python3.9/dist-packages pip\n",
            "threadpoolctl                 3.1.0                /usr/local/lib/python3.9/dist-packages pip\n",
            "tifffile                      2023.4.12            /usr/local/lib/python3.9/dist-packages pip\n",
            "tinycss2                      1.2.1                /usr/local/lib/python3.9/dist-packages pip\n",
            "toml                          0.10.2               /usr/local/lib/python3.9/dist-packages pip\n",
            "tomli                         2.0.1                /usr/local/lib/python3.9/dist-packages pip\n",
            "toolz                         0.12.0               /usr/local/lib/python3.9/dist-packages pip\n",
            "torch                         2.0.0+cu118          /usr/local/lib/python3.9/dist-packages pip\n",
            "torchaudio                    2.0.1+cu118          /usr/local/lib/python3.9/dist-packages pip\n",
            "torchdata                     0.6.0                /usr/local/lib/python3.9/dist-packages pip\n",
            "torchsummary                  1.5.1                /usr/local/lib/python3.9/dist-packages pip\n",
            "torchtext                     0.15.1               /usr/local/lib/python3.9/dist-packages pip\n",
            "torchvision                   0.15.1+cu118         /usr/local/lib/python3.9/dist-packages pip\n",
            "tornado                       6.2                  /usr/local/lib/python3.9/dist-packages pip\n",
            "tqdm                          4.65.0               /usr/local/lib/python3.9/dist-packages pip\n",
            "traitlets                     5.7.1                /usr/local/lib/python3.9/dist-packages pip\n",
            "triton                        2.0.0                /usr/local/lib/python3.9/dist-packages pip\n",
            "tweepy                        4.13.0               /usr/local/lib/python3.9/dist-packages pip\n",
            "typer                         0.7.0                /usr/local/lib/python3.9/dist-packages pip\n",
            "typing_extensions             4.5.0                /usr/local/lib/python3.9/dist-packages pip\n",
            "tzdata                        2023.3               /usr/local/lib/python3.9/dist-packages pip\n",
            "tzlocal                       4.3                  /usr/local/lib/python3.9/dist-packages pip\n",
            "uritemplate                   4.1.1                /usr/local/lib/python3.9/dist-packages pip\n",
            "urllib3                       1.26.15              /usr/local/lib/python3.9/dist-packages pip\n",
            "vega-datasets                 0.9.0                /usr/local/lib/python3.9/dist-packages pip\n",
            "wasabi                        1.1.1                /usr/local/lib/python3.9/dist-packages pip\n",
            "wcwidth                       0.2.6                /usr/local/lib/python3.9/dist-packages pip\n",
            "webcolors                     1.13                 /usr/local/lib/python3.9/dist-packages pip\n",
            "webencodings                  0.5.1                /usr/local/lib/python3.9/dist-packages pip\n",
            "websocket-client              1.5.1                /usr/local/lib/python3.9/dist-packages pip\n",
            "Werkzeug                      2.2.3                /usr/local/lib/python3.9/dist-packages pip\n",
            "wheel                         0.40.0               /usr/local/lib/python3.9/dist-packages pip\n",
            "widgetsnbextension            3.6.4                /usr/local/lib/python3.9/dist-packages pip\n",
            "wordcloud                     1.8.2.2              /usr/local/lib/python3.9/dist-packages pip\n",
            "wrapt                         1.14.1               /usr/local/lib/python3.9/dist-packages pip\n",
            "xarray                        2022.12.0            /usr/local/lib/python3.9/dist-packages pip\n",
            "xarray-einstats               0.5.1                /usr/local/lib/python3.9/dist-packages pip\n",
            "xgboost                       1.7.5                /usr/local/lib/python3.9/dist-packages pip\n",
            "xlrd                          2.0.1                /usr/local/lib/python3.9/dist-packages pip\n",
            "yellowbrick                   1.5                  /usr/local/lib/python3.9/dist-packages pip\n",
            "yfinance                      0.2.18               /usr/local/lib/python3.9/dist-packages pip\n",
            "zict                          3.0.0                /usr/local/lib/python3.9/dist-packages pip\n",
            "zipp                          3.15.0               /usr/local/lib/python3.9/dist-packages pip\n"
          ]
        }
      ]
    },
    {
      "cell_type": "markdown",
      "source": [
        " # Pobranie archiwum danych z Stackexchange"
      ],
      "metadata": {
        "id": "07GZqaWEVMGD"
      }
    },
    {
      "cell_type": "code",
      "source": [
        "!wget https://archive.org/download/stackexchange/webapps.stackexchange.com.7z -P /content/input/ > /dev/null"
      ],
      "metadata": {
        "colab": {
          "base_uri": "https://localhost:8080/"
        },
        "id": "eBZxivlyZQFk",
        "outputId": "b932b5fb-ecae-4cc7-b776-680c52cc4769"
      },
      "execution_count": 13,
      "outputs": [
        {
          "output_type": "stream",
          "name": "stdout",
          "text": [
            "--2023-04-27 08:09:45--  https://archive.org/download/stackexchange/webapps.stackexchange.com.7z\n",
            "Resolving archive.org (archive.org)... 207.241.224.2\n",
            "Connecting to archive.org (archive.org)|207.241.224.2|:443... connected.\n",
            "HTTP request sent, awaiting response... 302 Found\n",
            "Location: https://ia800107.us.archive.org/27/items/stackexchange/webapps.stackexchange.com.7z [following]\n",
            "--2023-04-27 08:09:48--  https://ia800107.us.archive.org/27/items/stackexchange/webapps.stackexchange.com.7z\n",
            "Resolving ia800107.us.archive.org (ia800107.us.archive.org)... 207.241.232.17\n",
            "Connecting to ia800107.us.archive.org (ia800107.us.archive.org)|207.241.232.17|:443... connected.\n",
            "HTTP request sent, awaiting response... 200 OK\n",
            "Length: 69259627 (66M) [application/x-7z-compressed]\n",
            "Saving to: ‘/content/input/webapps.stackexchange.com.7z’\n",
            "\n",
            "webapps.stackexchan 100%[===================>]  66.05M  27.3MB/s    in 2.4s    \n",
            "\n",
            "2023-04-27 08:09:51 (27.3 MB/s) - ‘/content/input/webapps.stackexchange.com.7z’ saved [69259627/69259627]\n",
            "\n"
          ]
        }
      ]
    },
    {
      "cell_type": "markdown",
      "source": [
        "#### Rozpakowanie archiwum danych"
      ],
      "metadata": {
        "id": "VWVdaBdZ7Zfr"
      }
    },
    {
      "cell_type": "code",
      "source": [
        "####EXTRACT DATA FROM 7ZIP ARCHIWUM\n",
        "!7za e -y /content/input/webapps.stackexchange.com.7z -o/content/input/ > /dev/null"
      ],
      "metadata": {
        "id": "hznIGKtyKDfg"
      },
      "execution_count": 9,
      "outputs": []
    },
    {
      "cell_type": "markdown",
      "source": [
        "# Utworzenie sesji środowiska PySpark"
      ],
      "metadata": {
        "id": "AoyoYqbl7yGR"
      }
    },
    {
      "cell_type": "code",
      "source": [
        "import pyspark\n",
        "from pyspark.sql import SparkSession\n",
        "from pyspark.sql.types import StructType, StructField, LongType, StringType, BooleanType, DateType \n",
        "from pyspark.sql.functions import to_timestamp, date_format, col\n",
        "\n",
        "spark = SparkSession \\\n",
        "    .builder \\\n",
        "    .master(\"local[*]\") \\\n",
        "    .appName('ARDiplomaWork') \\\n",
        "    .config('spark.ui.port', '4050')\\\n",
        "    .config('spark.jars.packages', 'com.databricks:spark-xml_2.12:0.6.0') \\\n",
        "    .getOrCreate()\n",
        "\n",
        "! wget https://bin.equinox.io/c/4VmDzA7iaHb/ngrok-stable-linux-amd64.zip\n",
        "! unzip ngrok-stable-linux-amd64.zip\n",
        "get_ipython().system_raw('./ngrok http 4050 &')\n",
        "! curl -s http://localhost:4050/api/tunnels    \n",
        "\n",
        "spark    "
      ],
      "metadata": {
        "id": "WuiPfbOKVzGi",
        "outputId": "741c1563-045d-4b70-b623-63af77af97ba",
        "colab": {
          "base_uri": "https://localhost:8080/",
          "height": 478
        }
      },
      "execution_count": 16,
      "outputs": [
        {
          "output_type": "stream",
          "name": "stdout",
          "text": [
            "--2023-04-27 09:00:36--  https://bin.equinox.io/c/4VmDzA7iaHb/ngrok-stable-linux-amd64.zip\n",
            "Resolving bin.equinox.io (bin.equinox.io)... 18.205.222.128, 54.237.133.81, 54.161.241.46, ...\n",
            "Connecting to bin.equinox.io (bin.equinox.io)|18.205.222.128|:443... connected.\n",
            "HTTP request sent, awaiting response... 200 OK\n",
            "Length: 13921656 (13M) [application/octet-stream]\n",
            "Saving to: ‘ngrok-stable-linux-amd64.zip.8’\n",
            "\n",
            "ngrok-stable-linux- 100%[===================>]  13.28M  75.1MB/s    in 0.2s    \n",
            "\n",
            "2023-04-27 09:00:36 (75.1 MB/s) - ‘ngrok-stable-linux-amd64.zip.8’ saved [13921656/13921656]\n",
            "\n",
            "Archive:  ngrok-stable-linux-amd64.zip\n",
            "replace ngrok? [y]es, [n]o, [A]ll, [N]one, [r]ename: y\n",
            "  inflating: ngrok                   \n"
          ]
        },
        {
          "output_type": "execute_result",
          "data": {
            "text/plain": [
              "<pyspark.sql.session.SparkSession at 0x7f34880539d0>"
            ],
            "text/html": [
              "\n",
              "            <div>\n",
              "                <p><b>SparkSession - in-memory</b></p>\n",
              "                \n",
              "        <div>\n",
              "            <p><b>SparkContext</b></p>\n",
              "\n",
              "            <p><a href=\"http://fb63dbc4cedb:4040\">Spark UI</a></p>\n",
              "\n",
              "            <dl>\n",
              "              <dt>Version</dt>\n",
              "                <dd><code>v3.4.0</code></dd>\n",
              "              <dt>Master</dt>\n",
              "                <dd><code>local[*]</code></dd>\n",
              "              <dt>AppName</dt>\n",
              "                <dd><code>ARDiplomaWork</code></dd>\n",
              "            </dl>\n",
              "        </div>\n",
              "        \n",
              "            </div>\n",
              "        "
            ]
          },
          "metadata": {},
          "execution_count": 16
        }
      ]
    },
    {
      "cell_type": "markdown",
      "source": [
        "# Tworzenie struktur analitycznych w formacie Parquet"
      ],
      "metadata": {
        "id": "oKEJa1xGBpx9"
      }
    },
    {
      "cell_type": "markdown",
      "source": [
        "#### Odczyt, partycjonowanie i zapis zbioru POSTS.XML"
      ],
      "metadata": {
        "id": "CBxtCJYV9lBl"
      }
    },
    {
      "cell_type": "code",
      "source": [
        "schema = StructType([ \\\n",
        "    StructField(\"_AnswerCount\", LongType(), True), \\\n",
        "    StructField(\"_Body\", StringType(), True), \\\n",
        "    StructField(\"_CommentCount\", LongType(), True), \\\n",
        "    StructField(\"_CreationDate\", StringType(), True), \\\n",
        "    StructField(\"_Id\", LongType(), True), \\\n",
        "    StructField(\"_LastActivityDate\", StringType(), True), \\\n",
        "    StructField(\"_OwnerUserId\", LongType(), True), \\\n",
        "    StructField(\"_ParentId\", LongType(), True), \\\n",
        "    StructField(\"_PostTypeId\", LongType(), True), \\\n",
        "    StructField(\"_AcceptedAnswerId\", LongType(), True), \\\n",
        "    StructField(\"_Score\", LongType(), True), \\\n",
        "    StructField(\"_Tags\", StringType(), True), \\\n",
        "    StructField(\"_Title\", StringType(), True), \\\n",
        "    StructField(\"_ViewCount\", LongType(), True), \\\n",
        "    StructField(\"Year\", LongType(), True), \\\n",
        "    StructField(\"Month\", LongType(), True), \\\n",
        "    StructField(\"Day\", LongType(), True) \\\n",
        "]) \n",
        "\n",
        "postsDF = spark.read \\\n",
        "          .format('com.databricks.spark.xml') \\\n",
        "          .options(rootTag='posts') \\\n",
        "          .options(rowTag='row') \\\n",
        "          .schema(schema) \\\n",
        "          .load('/content/input/Posts.xml')     \n",
        "\n",
        "postsDF = postsDF \\\n",
        "          .withColumnRenamed(\"_AnswerCount\", \"AnswerCount\") \\\n",
        "          .withColumnRenamed(\"_Body\", \"Body\") \\\n",
        "          .withColumnRenamed(\"_CommentCount\", \"CommentCount\") \\\n",
        "          .withColumnRenamed(\"_CreationDate\", \"CreationDate\") \\\n",
        "          .withColumnRenamed(\"_Id\", \"Id\") \\\n",
        "          .withColumnRenamed(\"_LastActivityDate\", \"LastActivityDate\") \\\n",
        "          .withColumnRenamed(\"_OwnerUserId\", \"OwnerUserId\") \\\n",
        "          .withColumnRenamed(\"_ParentId\", \"ParentId\") \\\n",
        "          .withColumnRenamed(\"_PostTypeId\", \"PostTypeId\") \\\n",
        "          .withColumnRenamed(\"_AcceptedAnswerId\", \"AcceptedAnswerId\") \\\n",
        "          .withColumnRenamed(\"_Score\", \"Score\") \\\n",
        "          .withColumnRenamed(\"_Tags\", \"Tags\") \\\n",
        "          .withColumnRenamed(\"_Title\", \"Title\") \\\n",
        "          .withColumnRenamed(\"_ViewCount\", \"ViewCount\")\n",
        "\n",
        "postsDF = postsDF \\\n",
        "          .select([\"Id\", \"ParentId\", \"PostTypeId\", \"AcceptedAnswerId\", \"OwnerUserId\", \\\n",
        "                  to_timestamp(\"CreationDate\").alias(\"CreationDate\"), \"Score\", \\\n",
        "                  \"ViewCount\", \"AnswerCount\", \\\n",
        "                  \"CommentCount\", to_timestamp(\"LastActivityDate\").alias(\"LastActivityDate\"), \\\n",
        "                  \"Tags\", \"Title\", \"Body\"]) \\\n",
        "          .withColumn(\"Year\", date_format(col(\"CreationDate\"), \"y\").cast(\"integer\")) \\\n",
        "          .withColumn(\"Month\", date_format(col(\"CreationDate\"), \"M\").cast(\"integer\")) \\\n",
        "          .withColumn(\"Day\", date_format(col(\"CreationDate\"), \"d\").cast(\"integer\")) \\\n",
        "\n",
        "postsDF.printSchema()   \n",
        "postsDF.show(n=10, truncate=False)\n",
        "\n",
        "postsDF = postsDF \\\n",
        "          .write \\\n",
        "          .partitionBy(\"Year\", \"Month\", \"Day\") \\\n",
        "          .mode(\"overwrite\") \\\n",
        "          .parquet(\"/content/output/posts.parquet\")      "
      ],
      "metadata": {
        "colab": {
          "base_uri": "https://localhost:8080/",
          "height": 1000
        },
        "id": "tz2kAJ8Hk_L7",
        "outputId": "a749ed2d-ca33-4509-a83b-bd8f475641f4"
      },
      "execution_count": 2,
      "outputs": [
        {
          "output_type": "stream",
          "name": "stdout",
          "text": [
            "root\n",
            " |-- Id: long (nullable = true)\n",
            " |-- ParentId: long (nullable = true)\n",
            " |-- PostTypeId: long (nullable = true)\n",
            " |-- AcceptedAnswerId: long (nullable = true)\n",
            " |-- OwnerUserId: long (nullable = true)\n",
            " |-- CreationDate: timestamp (nullable = true)\n",
            " |-- Score: long (nullable = true)\n",
            " |-- ViewCount: long (nullable = true)\n",
            " |-- AnswerCount: long (nullable = true)\n",
            " |-- CommentCount: long (nullable = true)\n",
            " |-- LastActivityDate: timestamp (nullable = true)\n",
            " |-- Tags: string (nullable = true)\n",
            " |-- Title: string (nullable = true)\n",
            " |-- Body: string (nullable = true)\n",
            " |-- Year: integer (nullable = true)\n",
            " |-- Month: integer (nullable = true)\n",
            " |-- Day: integer (nullable = true)\n",
            "\n",
            "+---+--------+----------+----------------+-----------+-----------------------+-----+---------+-----------+------------+-----------------------+------------------------------------------------+-------------------------------------------------------------------+-------------------------------------------------------------------------------------------------------------------------------------------------------------------------------------------------------------------------------------------------------------------------------------------------------------------------------------------------------------------------------------------------------------------------------------------------------------------------------------------------------------------------------------------------------------------------------------------------------------------------------------------------------------------------------------------------------------------------------------------------------------------------------------------------------------------------------------------------------------------------------------------------------------------------------------------------------------------------------------------------------------------------------------------------------------------------------------------------------------------------------------------------------------------------------------------+----+-----+---+\n",
            "|Id |ParentId|PostTypeId|AcceptedAnswerId|OwnerUserId|CreationDate           |Score|ViewCount|AnswerCount|CommentCount|LastActivityDate       |Tags                                            |Title                                                              |Body                                                                                                                                                                                                                                                                                                                                                                                                                                                                                                                                                                                                                                                                                                                                                                                                                                                                                                                                                                                                                                                                                                                                                                                       |Year|Month|Day|\n",
            "+---+--------+----------+----------------+-----------+-----------------------+-----+---------+-----------+------------+-----------------------+------------------------------------------------+-------------------------------------------------------------------+-------------------------------------------------------------------------------------------------------------------------------------------------------------------------------------------------------------------------------------------------------------------------------------------------------------------------------------------------------------------------------------------------------------------------------------------------------------------------------------------------------------------------------------------------------------------------------------------------------------------------------------------------------------------------------------------------------------------------------------------------------------------------------------------------------------------------------------------------------------------------------------------------------------------------------------------------------------------------------------------------------------------------------------------------------------------------------------------------------------------------------------------------------------------------------------------+----+-----+---+\n",
            "|1  |null    |1         |22              |17         |2010-06-30 18:46:26.453|161  |52283    |3          |2           |2018-07-03 20:12:27.46 |<facebook><account-management><facebook-account>|How do I delete my Facebook account?                               |<p>I don't trust Facebook's new privacy settings and have decided to delete my account, but I can't find the kill switch.</p>\\n\\n<p>Does anyone know how I can delete my Facebook account?</p>\\n                                                                                                                                                                                                                                                                                                                                                                                                                                                                                                                                                                                                                                                                                                                                                                                                                                                                                                                                                                                           |2010|6    |30 |\n",
            "|2  |null    |1         |15              |17         |2010-06-30 18:48:59.367|35   |625885   |2          |0           |2020-06-02 14:04:04.68 |<gmail>                                         |How do I delete all my mail from my Gmail account?                 |<p>I want to clear my mail from my Gmail account, but don't feel like selecting every message (also the archived ones).</p>\\n\\n<p>Is there an easy way to delete all my mail from Gmail without having to delete my account?</p>\\n                                                                                                                                                                                                                                                                                                                                                                                                                                                                                                                                                                                                                                                                                                                                                                                                                                                                                                                                                         |2010|6    |30 |\n",
            "|3  |null    |1         |45              |17         |2010-06-30 18:53:28.03 |20   |11739    |5          |0           |2016-06-08 08:17:56.687|<outlook><google-calendar><sync>                |How do I sync Google Calendar with my Outlook Calendar?            |<p>At work we use Outlook, but I want an easy way to sync it with my private Google Calendar.</p>\\n\\n<p>However, I tried looking at the Outlook (2010) settings and couldn't find how to make a link.</p>\\n\\n<p>So how do I sync my Google Calendar with my Outlook one?</p>\\n                                                                                                                                                                                                                                                                                                                                                                                                                                                                                                                                                                                                                                                                                                                                                                                                                                                                                                             |2010|6    |30 |\n",
            "|5  |null    |1         |12              |17         |2010-06-30 19:07:36.267|18   |20887    |1          |0           |2017-11-13 16:31:49.43 |<gmail><email-forwarding>                       |Can I auto-forward my Gmail to another address?                    |<p>I'm kind of paranoid about my email and I don't want it to be on Google's servers only. Especially after my account got hacked and all my email got deleted.</p>\\n\\n<p>So I would like to auto-forward my Gmail to another address, but are there any settings I have to enable?</p>\\n                                                                                                                                                                                                                                                                                                                                                                                                                                                                                                                                                                                                                                                                                                                                                                                                                                                                                                  |2010|6    |30 |\n",
            "|6  |null    |1         |37              |17         |2010-06-30 19:11:26.07 |8    |564      |3          |0           |2017-10-08 03:59:56.71 |<blogger><wordpress><migrate-data>              |How do I transfer my blog posts from Google's Blogger to WordPress?|<p>I have a blog on Google's Blogger, but now I want to move to WordPress.</p>\\n\\n<p>Is there an easy way to transfer all my old blog posts from Blogger to WordPress?</p>\\n                                                                                                                                                                                                                                                                                                                                                                                                                                                                                                                                                                                                                                                                                                                                                                                                                                                                                                                                                                                                               |2010|6    |30 |\n",
            "|8  |null    |1         |817             |17         |2010-06-30 19:31:04.167|10   |1367     |1          |0           |2015-06-03 00:47:31.897|<picasa-web-albums>                             |Is Picasa's face tag data stored in the photo itself?              |<p>I tagged all my contacts on my Picasa Web Albums, but I was wondering if this data is stored in the photo itself or would I have to retag every picture when I import them to my desktop or share them with someone else?</p>\\n                                                                                                                                                                                                                                                                                                                                                                                                                                                                                                                                                                                                                                                                                                                                                                                                                                                                                                                                                         |2010|6    |30 |\n",
            "|9  |null    |1         |120             |17         |2010-06-30 19:32:53.99 |53   |292814   |7          |0           |2017-09-02 19:56:48.813|<twitter><search>                               |How do I search within someone's tweets?                           |<p>I remember Jeff Atwood (<a href=\"https://twitter.com/codinghorror\" rel=\"noreferrer\">@codinghorror</a>) had posted a tweet about a new website, but I can't seem to find the link.</p>\\n\\n<p>Is there any way I can search within someone's tweets to find that link?</p>\\n                                                                                                                                                                                                                                                                                                                                                                                                                                                                                                                                                                                                                                                                                                                                                                                                                                                                                                              |2010|6    |30 |\n",
            "|10 |null    |1         |27              |17         |2010-06-30 19:35:59.537|7    |10461    |4          |0           |2017-12-24 17:09:06.33 |<twitter><permissions><followers>               |How can I control who follows me on Twitter?                       |<p>I tend to get a bunch of emails every week that say:</p>\\n\\n<blockquote>\\n  <p>JaneDoe (JaneDoe343) is now following\\n  your tweets on Twitter.is now\\n  following you.</p>\\n  \\n  <p>A little information about JaneDoe:</p>\\n\\n<pre><code>0 followers\\n1 tweet\\nfollowing 483 people\\n</code></pre>\\n</blockquote>\\n\\n<p>I prefer my followers to be real people, so is there any way I can control who follows me?</p>\\n                                                                                                                                                                                                                                                                                                                                                                                                                                                                                                                                                                                                                                                                                                                                                             |2010|6    |30 |\n",
            "|12 |5       |2         |null            |22         |2010-06-30 20:25:06.22 |26   |null     |null       |0           |2012-12-06 09:34:27.253|null                                            |null                                                               |<p>In Gmail: <strong>Settings</strong> → <strong>Forwarding and POP/IMAP</strong> → <strong>Forward a copy of incoming mail to...</strong></p>\\n                                                                                                                                                                                                                                                                                                                                                                                                                                                                                                                                                                                                                                                                                                                                                                                                                                                                                                                                                                                                                                           |2010|6    |30 |\n",
            "|15 |2       |2         |null            |32         |2010-06-30 20:26:41.273|37   |null     |null       |5           |2011-10-07 15:32:20.47 |null                                            |null                                                               |<p>Go to your \\n<a href=\"https://mail.google.com/mail/?shva=1#all\"><strong>All mail</strong> view</a>, \\nand click \"Select all\" (or the drop down option <strong>All</strong> from the checkbox far left of <strong>Archive | Spam | Delete</strong> buttons). </p>\\n\\n<p>Underneath the | Archive | Spam | Delete | + | - | Move to Inbox | Labels | More |\\nbuttons... \\nYou'll see a message appear in a yellow bar that says:</p>\\n\\n<blockquote>\\n  <p>All 100 conversations on this page are selected. Select all 73795 conversations in All Mail</p>\\n</blockquote>\\n\\n<p>Click on the \"Select all conversations\" link on the right side of the message, then click delete. </p>\\n\\n<p>The actual deletion process may take a very, very long time, during which you will be unable to use Gmail or log in (don't worry, it's still churning away in the background, even if it gives you an error!)</p>\\n\\n<p>When it's done, all conversations (except spam) will be in the trash and you should see a message that says \"You don't have any mail! Our servers are feeling unloved.\" </p>\\n\\n<p>Now just empty the trash and delete all spam, and your account is now empty.</p>\\n|2010|6    |30 |\n",
            "+---+--------+----------+----------------+-----------+-----------------------+-----+---------+-----------+------------+-----------------------+------------------------------------------------+-------------------------------------------------------------------+-------------------------------------------------------------------------------------------------------------------------------------------------------------------------------------------------------------------------------------------------------------------------------------------------------------------------------------------------------------------------------------------------------------------------------------------------------------------------------------------------------------------------------------------------------------------------------------------------------------------------------------------------------------------------------------------------------------------------------------------------------------------------------------------------------------------------------------------------------------------------------------------------------------------------------------------------------------------------------------------------------------------------------------------------------------------------------------------------------------------------------------------------------------------------------------------+----+-----+---+\n",
            "only showing top 10 rows\n",
            "\n"
          ]
        },
        {
          "output_type": "stream",
          "name": "stderr",
          "text": [
            "ERROR:root:KeyboardInterrupt while sending command.\n",
            "Traceback (most recent call last):\n",
            "  File \"/usr/local/lib/python3.9/dist-packages/py4j/java_gateway.py\", line 1038, in send_command\n",
            "    response = connection.send_command(command)\n",
            "  File \"/usr/local/lib/python3.9/dist-packages/py4j/clientserver.py\", line 511, in send_command\n",
            "    answer = smart_decode(self.stream.readline()[:-1])\n",
            "  File \"/usr/lib/python3.9/socket.py\", line 704, in readinto\n",
            "    return self._sock.recv_into(b)\n",
            "KeyboardInterrupt\n"
          ]
        },
        {
          "output_type": "error",
          "ename": "KeyboardInterrupt",
          "evalue": "ignored",
          "traceback": [
            "\u001b[0;31m---------------------------------------------------------------------------\u001b[0m",
            "\u001b[0;31mKeyboardInterrupt\u001b[0m                         Traceback (most recent call last)",
            "\u001b[0;32m<ipython-input-2-1893b8af68b6>\u001b[0m in \u001b[0;36m<cell line: 57>\u001b[0;34m()\u001b[0m\n\u001b[1;32m     55\u001b[0m \u001b[0mpostsDF\u001b[0m\u001b[0;34m.\u001b[0m\u001b[0mshow\u001b[0m\u001b[0;34m(\u001b[0m\u001b[0mn\u001b[0m\u001b[0;34m=\u001b[0m\u001b[0;36m10\u001b[0m\u001b[0;34m,\u001b[0m \u001b[0mtruncate\u001b[0m\u001b[0;34m=\u001b[0m\u001b[0;32mFalse\u001b[0m\u001b[0;34m)\u001b[0m\u001b[0;34m\u001b[0m\u001b[0;34m\u001b[0m\u001b[0m\n\u001b[1;32m     56\u001b[0m \u001b[0;34m\u001b[0m\u001b[0m\n\u001b[0;32m---> 57\u001b[0;31m \u001b[0mpostsDF\u001b[0m \u001b[0;34m=\u001b[0m \u001b[0mpostsDF\u001b[0m\u001b[0;31m \u001b[0m\u001b[0;31m\\\u001b[0m\u001b[0;34m\u001b[0m\u001b[0;34m\u001b[0m\u001b[0m\n\u001b[0m\u001b[1;32m     58\u001b[0m           \u001b[0;34m.\u001b[0m\u001b[0mwrite\u001b[0m\u001b[0;31m \u001b[0m\u001b[0;31m\\\u001b[0m\u001b[0;34m\u001b[0m\u001b[0;34m\u001b[0m\u001b[0m\n\u001b[1;32m     59\u001b[0m           \u001b[0;34m.\u001b[0m\u001b[0mpartitionBy\u001b[0m\u001b[0;34m(\u001b[0m\u001b[0;34m\"Year\"\u001b[0m\u001b[0;34m,\u001b[0m \u001b[0;34m\"Month\"\u001b[0m\u001b[0;34m,\u001b[0m \u001b[0;34m\"Day\"\u001b[0m\u001b[0;34m)\u001b[0m\u001b[0;31m \u001b[0m\u001b[0;31m\\\u001b[0m\u001b[0;34m\u001b[0m\u001b[0;34m\u001b[0m\u001b[0m\n",
            "\u001b[0;32m/usr/local/lib/python3.9/dist-packages/pyspark/sql/readwriter.py\u001b[0m in \u001b[0;36mparquet\u001b[0;34m(self, path, mode, partitionBy, compression)\u001b[0m\n\u001b[1;32m   1654\u001b[0m             \u001b[0mself\u001b[0m\u001b[0;34m.\u001b[0m\u001b[0mpartitionBy\u001b[0m\u001b[0;34m(\u001b[0m\u001b[0mpartitionBy\u001b[0m\u001b[0;34m)\u001b[0m\u001b[0;34m\u001b[0m\u001b[0;34m\u001b[0m\u001b[0m\n\u001b[1;32m   1655\u001b[0m         \u001b[0mself\u001b[0m\u001b[0;34m.\u001b[0m\u001b[0m_set_opts\u001b[0m\u001b[0;34m(\u001b[0m\u001b[0mcompression\u001b[0m\u001b[0;34m=\u001b[0m\u001b[0mcompression\u001b[0m\u001b[0;34m)\u001b[0m\u001b[0;34m\u001b[0m\u001b[0;34m\u001b[0m\u001b[0m\n\u001b[0;32m-> 1656\u001b[0;31m         \u001b[0mself\u001b[0m\u001b[0;34m.\u001b[0m\u001b[0m_jwrite\u001b[0m\u001b[0;34m.\u001b[0m\u001b[0mparquet\u001b[0m\u001b[0;34m(\u001b[0m\u001b[0mpath\u001b[0m\u001b[0;34m)\u001b[0m\u001b[0;34m\u001b[0m\u001b[0;34m\u001b[0m\u001b[0m\n\u001b[0m\u001b[1;32m   1657\u001b[0m \u001b[0;34m\u001b[0m\u001b[0m\n\u001b[1;32m   1658\u001b[0m     def text(\n",
            "\u001b[0;32m/usr/local/lib/python3.9/dist-packages/py4j/java_gateway.py\u001b[0m in \u001b[0;36m__call__\u001b[0;34m(self, *args)\u001b[0m\n\u001b[1;32m   1319\u001b[0m             \u001b[0mproto\u001b[0m\u001b[0;34m.\u001b[0m\u001b[0mEND_COMMAND_PART\u001b[0m\u001b[0;34m\u001b[0m\u001b[0;34m\u001b[0m\u001b[0m\n\u001b[1;32m   1320\u001b[0m \u001b[0;34m\u001b[0m\u001b[0m\n\u001b[0;32m-> 1321\u001b[0;31m         \u001b[0manswer\u001b[0m \u001b[0;34m=\u001b[0m \u001b[0mself\u001b[0m\u001b[0;34m.\u001b[0m\u001b[0mgateway_client\u001b[0m\u001b[0;34m.\u001b[0m\u001b[0msend_command\u001b[0m\u001b[0;34m(\u001b[0m\u001b[0mcommand\u001b[0m\u001b[0;34m)\u001b[0m\u001b[0;34m\u001b[0m\u001b[0;34m\u001b[0m\u001b[0m\n\u001b[0m\u001b[1;32m   1322\u001b[0m         return_value = get_return_value(\n\u001b[1;32m   1323\u001b[0m             answer, self.gateway_client, self.target_id, self.name)\n",
            "\u001b[0;32m/usr/local/lib/python3.9/dist-packages/py4j/java_gateway.py\u001b[0m in \u001b[0;36msend_command\u001b[0;34m(self, command, retry, binary)\u001b[0m\n\u001b[1;32m   1036\u001b[0m         \u001b[0mconnection\u001b[0m \u001b[0;34m=\u001b[0m \u001b[0mself\u001b[0m\u001b[0;34m.\u001b[0m\u001b[0m_get_connection\u001b[0m\u001b[0;34m(\u001b[0m\u001b[0;34m)\u001b[0m\u001b[0;34m\u001b[0m\u001b[0;34m\u001b[0m\u001b[0m\n\u001b[1;32m   1037\u001b[0m         \u001b[0;32mtry\u001b[0m\u001b[0;34m:\u001b[0m\u001b[0;34m\u001b[0m\u001b[0;34m\u001b[0m\u001b[0m\n\u001b[0;32m-> 1038\u001b[0;31m             \u001b[0mresponse\u001b[0m \u001b[0;34m=\u001b[0m \u001b[0mconnection\u001b[0m\u001b[0;34m.\u001b[0m\u001b[0msend_command\u001b[0m\u001b[0;34m(\u001b[0m\u001b[0mcommand\u001b[0m\u001b[0;34m)\u001b[0m\u001b[0;34m\u001b[0m\u001b[0;34m\u001b[0m\u001b[0m\n\u001b[0m\u001b[1;32m   1039\u001b[0m             \u001b[0;32mif\u001b[0m \u001b[0mbinary\u001b[0m\u001b[0;34m:\u001b[0m\u001b[0;34m\u001b[0m\u001b[0;34m\u001b[0m\u001b[0m\n\u001b[1;32m   1040\u001b[0m                 \u001b[0;32mreturn\u001b[0m \u001b[0mresponse\u001b[0m\u001b[0;34m,\u001b[0m \u001b[0mself\u001b[0m\u001b[0;34m.\u001b[0m\u001b[0m_create_connection_guard\u001b[0m\u001b[0;34m(\u001b[0m\u001b[0mconnection\u001b[0m\u001b[0;34m)\u001b[0m\u001b[0;34m\u001b[0m\u001b[0;34m\u001b[0m\u001b[0m\n",
            "\u001b[0;32m/usr/local/lib/python3.9/dist-packages/py4j/clientserver.py\u001b[0m in \u001b[0;36msend_command\u001b[0;34m(self, command)\u001b[0m\n\u001b[1;32m    509\u001b[0m         \u001b[0;32mtry\u001b[0m\u001b[0;34m:\u001b[0m\u001b[0;34m\u001b[0m\u001b[0;34m\u001b[0m\u001b[0m\n\u001b[1;32m    510\u001b[0m             \u001b[0;32mwhile\u001b[0m \u001b[0;32mTrue\u001b[0m\u001b[0;34m:\u001b[0m\u001b[0;34m\u001b[0m\u001b[0;34m\u001b[0m\u001b[0m\n\u001b[0;32m--> 511\u001b[0;31m                 \u001b[0manswer\u001b[0m \u001b[0;34m=\u001b[0m \u001b[0msmart_decode\u001b[0m\u001b[0;34m(\u001b[0m\u001b[0mself\u001b[0m\u001b[0;34m.\u001b[0m\u001b[0mstream\u001b[0m\u001b[0;34m.\u001b[0m\u001b[0mreadline\u001b[0m\u001b[0;34m(\u001b[0m\u001b[0;34m)\u001b[0m\u001b[0;34m[\u001b[0m\u001b[0;34m:\u001b[0m\u001b[0;34m-\u001b[0m\u001b[0;36m1\u001b[0m\u001b[0;34m]\u001b[0m\u001b[0;34m)\u001b[0m\u001b[0;34m\u001b[0m\u001b[0;34m\u001b[0m\u001b[0m\n\u001b[0m\u001b[1;32m    512\u001b[0m                 \u001b[0mlogger\u001b[0m\u001b[0;34m.\u001b[0m\u001b[0mdebug\u001b[0m\u001b[0;34m(\u001b[0m\u001b[0;34m\"Answer received: {0}\"\u001b[0m\u001b[0;34m.\u001b[0m\u001b[0mformat\u001b[0m\u001b[0;34m(\u001b[0m\u001b[0manswer\u001b[0m\u001b[0;34m)\u001b[0m\u001b[0;34m)\u001b[0m\u001b[0;34m\u001b[0m\u001b[0;34m\u001b[0m\u001b[0m\n\u001b[1;32m    513\u001b[0m                 \u001b[0;31m# Happens when a the other end is dead. There might be an empty\u001b[0m\u001b[0;34m\u001b[0m\u001b[0;34m\u001b[0m\u001b[0m\n",
            "\u001b[0;32m/usr/lib/python3.9/socket.py\u001b[0m in \u001b[0;36mreadinto\u001b[0;34m(self, b)\u001b[0m\n\u001b[1;32m    702\u001b[0m         \u001b[0;32mwhile\u001b[0m \u001b[0;32mTrue\u001b[0m\u001b[0;34m:\u001b[0m\u001b[0;34m\u001b[0m\u001b[0;34m\u001b[0m\u001b[0m\n\u001b[1;32m    703\u001b[0m             \u001b[0;32mtry\u001b[0m\u001b[0;34m:\u001b[0m\u001b[0;34m\u001b[0m\u001b[0;34m\u001b[0m\u001b[0m\n\u001b[0;32m--> 704\u001b[0;31m                 \u001b[0;32mreturn\u001b[0m \u001b[0mself\u001b[0m\u001b[0;34m.\u001b[0m\u001b[0m_sock\u001b[0m\u001b[0;34m.\u001b[0m\u001b[0mrecv_into\u001b[0m\u001b[0;34m(\u001b[0m\u001b[0mb\u001b[0m\u001b[0;34m)\u001b[0m\u001b[0;34m\u001b[0m\u001b[0;34m\u001b[0m\u001b[0m\n\u001b[0m\u001b[1;32m    705\u001b[0m             \u001b[0;32mexcept\u001b[0m \u001b[0mtimeout\u001b[0m\u001b[0;34m:\u001b[0m\u001b[0;34m\u001b[0m\u001b[0;34m\u001b[0m\u001b[0m\n\u001b[1;32m    706\u001b[0m                 \u001b[0mself\u001b[0m\u001b[0;34m.\u001b[0m\u001b[0m_timeout_occurred\u001b[0m \u001b[0;34m=\u001b[0m \u001b[0;32mTrue\u001b[0m\u001b[0;34m\u001b[0m\u001b[0;34m\u001b[0m\u001b[0m\n",
            "\u001b[0;31mKeyboardInterrupt\u001b[0m: "
          ]
        }
      ]
    },
    {
      "cell_type": "markdown",
      "source": [
        "#### Odczyt, partycjonowanie i zapis zbioru BADGES.XML"
      ],
      "metadata": {
        "id": "zj073VtF-IDk"
      }
    },
    {
      "cell_type": "code",
      "source": [
        "schema = StructType([ \\\n",
        "    StructField(\"_Class\", LongType(), True), \\\n",
        "    StructField(\"_Date\", StringType(), True), \\\n",
        "    StructField(\"_CommentCount\", LongType(), True), \\\n",
        "    StructField(\"_Id\", LongType(), True), \\\n",
        "    StructField(\"_Name\", StringType(), True), \\\n",
        "    StructField(\"_TagBased\", BooleanType(), True), \\\n",
        "    StructField(\"_UserId\", LongType(), True), \\\n",
        "    StructField(\"Year\", LongType(), True), \\\n",
        "    StructField(\"Month\", LongType(), True), \\\n",
        "    StructField(\"Day\", LongType(), True)\n",
        "])\n",
        "\n",
        "badgesDF = spark.read \\\n",
        "          .format('com.databricks.spark.xml') \\\n",
        "          .options(rootTag='badges') \\\n",
        "          .options(rowTag='row') \\\n",
        "          .schema(schema) \\\n",
        "          .load('/content/input/Badges.xml')\n",
        "\n",
        "badgesDF = badgesDF \\\n",
        "           .withColumnRenamed(\"_Class\", \"Class\") \\\n",
        "           .withColumnRenamed(\"_Date\", \"Date\") \\\n",
        "           .withColumnRenamed(\"_CommentCount\", \"CommentCount\") \\\n",
        "           .withColumnRenamed(\"_Id\", \"Id\") \\\n",
        "           .withColumnRenamed(\"_Name\", \"Name\") \\\n",
        "           .withColumnRenamed(\"_TagBased\", \"TagBased\") \\\n",
        "           .withColumnRenamed(\"_UserId\", \"UserId\")\n",
        "\n",
        "badgesDF = badgesDF \\\n",
        "           .select([\"Id\", \"UserId\", \"Class\", \"Date\", \"CommentCount\", \"TagBased\",\"Name\"]) \\\n",
        "           .withColumn(\"Year\", date_format(col(\"Date\"), \"y\").cast(\"integer\")) \\\n",
        "           .withColumn(\"Month\", date_format(col(\"Date\"), \"M\").cast(\"integer\")) \\\n",
        "           .withColumn(\"Day\", date_format(col(\"Date\"), \"d\").cast(\"integer\"))\n",
        "\n",
        "badgesDF.printSchema()\n",
        "badgesDF.show(n=10, truncate=False)\n",
        "\n",
        "badgesDF = badgesDF \\\n",
        "          .write \\\n",
        "          .partitionBy(\"Year\", \"Month\", \"Day\") \\\n",
        "          .mode(\"overwrite\") \\\n",
        "          .parquet(\"/content/output/badges.parquet\")"
      ],
      "metadata": {
        "id": "k0mWYqay1eJR"
      },
      "execution_count": null,
      "outputs": []
    },
    {
      "cell_type": "markdown",
      "source": [
        "#### Odczyt, partycjonowanie i zapis zbioru COMMENTS.XML"
      ],
      "metadata": {
        "id": "aSDZrFA0-eEl"
      }
    },
    {
      "cell_type": "code",
      "source": [
        "schema = StructType([ \\\n",
        "    StructField(\"_ContentLicense\", StringType(), True), \\\n",
        "    StructField(\"_CreationDate\", StringType(), True), \\\n",
        "    StructField(\"_Id\", LongType(), True), \\\n",
        "    StructField(\"_PostId\", LongType(), True), \\\n",
        "    StructField(\"_Score\", LongType(), True), \\\n",
        "    StructField(\"_Text\", StringType(), True), \\\n",
        "    StructField(\"_UserDisplayName\", StringType(), True), \\\n",
        "    StructField(\"_UserId\", LongType(), True),\n",
        "    StructField(\"Year\", LongType(), True), \\\n",
        "    StructField(\"Month\", LongType(), True), \\\n",
        "    StructField(\"Day\", LongType(), True)        \n",
        "])\n",
        "\n",
        "commentsDF = spark.read \\\n",
        "            .format('com.databricks.spark.xml') \\\n",
        "            .options(rootTag='comments') \\\n",
        "            .options(rowTag='row') \\\n",
        "            .schema(schema) \\\n",
        "            .load('/content/input/Comments.xml')\n",
        "\n",
        "commentsDF = commentsDF \\\n",
        "             .withColumnRenamed(\"_ContentLicense\", \"ContentLicense\") \\\n",
        "             .withColumnRenamed(\"_CreationDate\", \"CreationDate\") \\\n",
        "             .withColumnRenamed(\"_Id\", \"Id\") \\\n",
        "             .withColumnRenamed(\"_PostId\", \"PostId\") \\\n",
        "             .withColumnRenamed(\"_Score\", \"Score\") \\\n",
        "             .withColumnRenamed(\"_Text\", \"Text\") \\\n",
        "             .withColumnRenamed(\"_UserDisplayName\", \"UserDisplayName\") \\\n",
        "             .withColumnRenamed(\"_UserId\", \"UserId\") \\\n",
        "\n",
        "commentsDF = commentsDF \\\n",
        "            .select([\"Id\", \"PostId\", \"UserId\", \"CreationDate\", \"ContentLicense\", \\\n",
        "                    \"UserDisplayName\", \"Score\", \"Text\"]) \\\n",
        "            .withColumn(\"Year\", date_format(col(\"CreationDate\"), \"y\").cast(\"integer\")) \\\n",
        "            .withColumn(\"Month\", date_format(col(\"CreationDate\"), \"M\").cast(\"integer\")) \\\n",
        "            .withColumn(\"Day\", date_format(col(\"CreationDate\"), \"d\").cast(\"integer\"))\n",
        "\n",
        "commentsDF.printSchema()\n",
        "commentsDF.show(n=10, truncate=False)\n",
        "\n",
        "commentsDF = commentsDF \\\n",
        "            .write \\\n",
        "            .partitionBy(\"Year\", \"Month\", \"Day\") \\\n",
        "            .mode(\"overwrite\") \\\n",
        "            .parquet(\"/content/output/comments.parquet\")"
      ],
      "metadata": {
        "id": "oSb3uY7F12HG"
      },
      "execution_count": null,
      "outputs": []
    },
    {
      "cell_type": "markdown",
      "source": [
        "#### Odczyt, partycjonowanie i zapis zbioru POSTHISTORY.XML"
      ],
      "metadata": {
        "id": "tf2A25A6-nix"
      }
    },
    {
      "cell_type": "code",
      "source": [
        "schema = StructType([ \\\n",
        "    StructField(\"_Comment\", StringType(), True), \\\n",
        "    StructField(\"_ContentLicense\", StringType(), True), \\\n",
        "    StructField(\"_CreationDate\", StringType(), True), \\\n",
        "    StructField(\"_Id\", LongType(), True), \\\n",
        "    StructField(\"_PostHistoryTypeId\", LongType(), True), \\\n",
        "    StructField(\"_PostId\", LongType(), True), \\\n",
        "    StructField(\"_RevisionGUID\", StringType(), True), \\\n",
        "    StructField(\"_Text\", StringType(), True), \\\n",
        "    StructField(\"_UserDisplayName\", StringType(), True), \\\n",
        "    StructField(\"_UserId\", LongType(), True), \\\n",
        "    StructField(\"Year\", LongType(), True), \\\n",
        "    StructField(\"Month\", LongType(), True), \\\n",
        "    StructField(\"Day\", LongType(), True)    \n",
        "])\n",
        "\n",
        "postHistoryDF = spark.read \\\n",
        "                .format('com.databricks.spark.xml') \\\n",
        "                .options(rootTag='posthistory') \\\n",
        "                .options(rowTag='row') \\\n",
        "                .schema(schema) \\\n",
        "                .load('/content/input/PostHistory.xml')\n",
        "               \n",
        "postHistoryDF = postHistoryDF \\\n",
        "                .withColumnRenamed(\"_Comment\", \"Comment\") \\\n",
        "                .withColumnRenamed(\"_ContentLicense\", \"ContentLicense\") \\\n",
        "                .withColumnRenamed(\"_CreationDate\", \"CreationDate\") \\\n",
        "                .withColumnRenamed(\"_Id\", \"Id\") \\\n",
        "                .withColumnRenamed(\"_PostHistoryTypeId\", \"PostHistoryTypeId\") \\\n",
        "                .withColumnRenamed(\"_PostId\", \"PostId\") \\\n",
        "                .withColumnRenamed(\"_RevisionGUID\", \"RevisionGUID\") \\\n",
        "                .withColumnRenamed(\"_Text\", \"Text\") \\\n",
        "                .withColumnRenamed(\"_UserDisplayName\", \"UserDisplayName\") \\\n",
        "                .withColumnRenamed(\"_UserId\", \"UserId\") \\\n",
        "\n",
        "postHistoryDF = postHistoryDF \\\n",
        "                .select([\"Id\", \"PostId\", \"PostHistoryTypeId\", \"UserId\", \\\n",
        "                         \"CreationDate\", \"RevisionGUID\", \"ContentLicense\", \"UserDisplayName\", \"Comment\", \"Text\"]) \\\n",
        "                .withColumn(\"Year\", date_format(col(\"CreationDate\"), \"y\").cast(\"integer\")) \\\n",
        "                .withColumn(\"Month\", date_format(col(\"CreationDate\"), \"M\").cast(\"integer\")) \\\n",
        "                .withColumn(\"Day\", date_format(col(\"CreationDate\"), \"d\").cast(\"integer\"))                       \n",
        "\n",
        "postHistoryDF.printSchema()\n",
        "postHistoryDF.show(n=10, truncate=False)  \n",
        "\n",
        "postHistoryDF = postHistoryDF \\\n",
        "                .write \\\n",
        "                .partitionBy(\"Year\", \"Month\", \"Day\") \\\n",
        "                .mode(\"overwrite\") \\\n",
        "                .parquet(\"/content/output/posthistory.parquet\")  "
      ],
      "metadata": {
        "id": "qJGp6ztT2FdS"
      },
      "execution_count": null,
      "outputs": []
    },
    {
      "cell_type": "markdown",
      "source": [
        "#### Odczyt, partycjonowanie i zapis zbioru TAGS.XML DATASET"
      ],
      "metadata": {
        "id": "0Kxfkq-K-xIi"
      }
    },
    {
      "cell_type": "code",
      "source": [
        "schema = StructType([ \\\n",
        "    StructField(\"_Count\", LongType(), True), \\\n",
        "    StructField(\"_ExcerptPostId\", LongType(), True), \\\n",
        "    StructField(\"_Id\", LongType(), True), \\\n",
        "    StructField(\"_TagName\", StringType(), True), \\\n",
        "    StructField(\"_WikiPostId\", LongType(), True)    \n",
        "])\n",
        "\n",
        "tagsDF = spark.read \\\n",
        "         .format('com.databricks.spark.xml') \\\n",
        "         .options(rootTag='tags') \\\n",
        "         .options(rowTag='row') \\\n",
        "         .schema(schema) \\\n",
        "         .load('/content/input/Tags.xml')\n",
        "\n",
        "tagsDF = tagsDF \\\n",
        "         .withColumnRenamed(\"_Count\", \"Count\") \\\n",
        "         .withColumnRenamed(\"_ExcerptPostId\", \"ExcerptPostId\") \\\n",
        "         .withColumnRenamed(\"_Id\", \"Id\") \\\n",
        "         .withColumnRenamed(\"_TagName\", \"TagName\") \\\n",
        "         .withColumnRenamed(\"_WikiPostId\", \"WikiPostId\")\n",
        "\n",
        "tagsDF = tagsDF \\\n",
        "        .select([\"Id\", \"ExcerptPostId\", \"WikiPostId\", \"Count\", \"TagName\"])\n",
        "\n",
        "tagsDF.printSchema()\n",
        "tagsDF.show(n=10, truncate=False)\n",
        "\n",
        "tagsDF = tagsDF \\\n",
        "         .write \\\n",
        "         .partitionBy(\"Id\") \\\n",
        "         .mode(\"overwrite\") \\\n",
        "         .parquet(\"/content/output/tags.parquet\") "
      ],
      "metadata": {
        "id": "facMBeo036Oq"
      },
      "execution_count": null,
      "outputs": []
    },
    {
      "cell_type": "markdown",
      "source": [
        "#### Odczyt, partycjonowanie i zapis USERS.XML"
      ],
      "metadata": {
        "id": "oHPm50wM-4JQ"
      }
    },
    {
      "cell_type": "code",
      "source": [
        "from pyspark.sql.functions import *\n",
        "\n",
        "schema = StructType([ \\\n",
        "    StructField(\"_AboutMe\", StringType(), True), \\\n",
        "    StructField(\"_AccountId\", LongType(), True), \\\n",
        "    StructField(\"_CreationDate\", StringType(), True), \\\n",
        "    StructField(\"_DisplayName\", StringType(), True), \\\n",
        "    StructField(\"_DownVotes\", LongType(), True), \\\n",
        "    StructField(\"_Id\", LongType(), True), \\\n",
        "    StructField(\"_LastAccessDate\", StringType(), True), \\\n",
        "    StructField(\"_Location\", StringType(), True), \\\n",
        "    StructField(\"_ProfileImageUrl\", StringType(), True), \\\n",
        "    StructField(\"_Reputation\", LongType(), True), \\\n",
        "    StructField(\"_UpVotes\", LongType(), True), \\\n",
        "    StructField(\"_Views\", LongType(), True), \\\n",
        "    StructField(\"_WebsiteUrl\", StringType(), True), \\\n",
        "    StructField(\"Year\", LongType(), True), \\\n",
        "    StructField(\"Month\", LongType(), True), \\\n",
        "    StructField(\"Day\", LongType(), True)\n",
        "])\n",
        "\n",
        "usersDF = spark.read \\\n",
        "          .format('com.databricks.spark.xml') \\\n",
        "          .options(rootTag='Users') \\\n",
        "          .options(rowTag='row') \\\n",
        "          .schema(schema) \\\n",
        "          .load('/content/input/Users.xml')\n",
        "\n",
        "usersDF = usersDF \\\n",
        "          .withColumnRenamed(\"_AboutMe\", \"AboutMe\") \\\n",
        "          .withColumnRenamed(\"_AccountId\", \"AccountId\") \\\n",
        "          .withColumnRenamed(\"_CreationDate\", \"CreationDate\") \\\n",
        "          .withColumnRenamed(\"_DisplayName\", \"DisplayName\") \\\n",
        "          .withColumnRenamed(\"_DownVotes\", \"DownVotes\") \\\n",
        "          .withColumnRenamed(\"_Id\", \"Id\") \\\n",
        "          .withColumnRenamed(\"_LastAccessDate\", \"LastAccessDate\") \\\n",
        "          .withColumnRenamed(\"_Location\", \"Location\") \\\n",
        "          .withColumnRenamed(\"_ProfileImageUrl\", \"ProfileImageUrl\") \\\n",
        "          .withColumnRenamed(\"_Reputation\", \"Reputation\") \\\n",
        "          .withColumnRenamed(\"_UpVotes\", \"UpVotes\") \\\n",
        "          .withColumnRenamed(\"_Views\", \"Views\") \\\n",
        "          .withColumnRenamed(\"_WebsiteUrl\", \"WebsiteUrl\") \\\n",
        "\n",
        "usersDF = usersDF \\\n",
        "          .select([\"Id\", \"AccountId\", to_timestamp(\"CreationDate\").alias(\"CreationDate\"), \\\n",
        "                  to_timestamp(\"LastAccessDate\").alias(\"LastAccessDate\"), \"DownVotes\", \\\n",
        "                  \"UpVotes\", \"Reputation\", \"Views\", \"WebsiteUrl\", \"ProfileImageUrl\", \\\n",
        "                  \"Location\", \"DisplayName\", \"AboutMe\"           \n",
        "                  ]) \\\n",
        "          .withColumn(\"Year\", date_format(col(\"CreationDate\"), \"y\")) \\\n",
        "          .withColumn(\"Month\", date_format(col(\"CreationDate\"), \"M\")) \\\n",
        "          .withColumn(\"Day\", date_format(col(\"CreationDate\"), \"d\"))\n",
        "\n",
        "usersDF.printSchema()\n",
        "usersDF.show(n=10, truncate=False) \n",
        "\n",
        "usersDF = usersDF \\\n",
        "          .write \\\n",
        "          .partitionBy(\"Year\", \"Month\", \"Day\") \\\n",
        "          .mode(\"overwrite\") \\\n",
        "          .parquet(\"/content/output/users.parquet\")"
      ],
      "metadata": {
        "id": "hvnYCooN4GVs"
      },
      "execution_count": null,
      "outputs": []
    },
    {
      "cell_type": "markdown",
      "source": [
        "#### Odczyt, partycjonowanie i zapis zbioru VOTES.XML"
      ],
      "metadata": {
        "id": "KxPL78oC_DAV"
      }
    },
    {
      "cell_type": "code",
      "source": [
        "schema = StructType([ \\\n",
        "    StructField(\"_BountyAmount\", LongType(), True), \\\n",
        "    StructField(\"_CreationDate\", StringType(), True), \\\n",
        "    StructField(\"_Id\", LongType(), True), \\\n",
        "    StructField(\"_PostId\", LongType(), True), \\\n",
        "    StructField(\"_UserId\", LongType(), True), \\\n",
        "    StructField(\"_VoteTypeId\", LongType(), True), \\\n",
        "    StructField(\"Year\", LongType(), True), \\\n",
        "    StructField(\"Month\", LongType(), True), \\\n",
        "    StructField(\"Day\", LongType(), True)\n",
        "])\n",
        "\n",
        "votesDF = spark.read \\\n",
        "          .format('com.databricks.spark.xml') \\\n",
        "          .options(rootTag='votes') \\\n",
        "          .options(rowTag='row') \\\n",
        "          .schema(schema) \\\n",
        "          .load('/content/input/Votes.xml')\n",
        "\n",
        "votesDF = votesDF \\\n",
        "          .withColumnRenamed(\"_BountyAmount\", \"BountyAmount\") \\\n",
        "          .withColumnRenamed(\"_CreationDate\", \"CreationDate\") \\\n",
        "          .withColumnRenamed(\"_Id\", \"Id\") \\\n",
        "          .withColumnRenamed(\"_PostId\", \"PostId\") \\\n",
        "          .withColumnRenamed(\"_UserId\", \"UserId\") \\\n",
        "          .withColumnRenamed(\"_VoteTypeId\", \"VoteTypeId\") \\\n",
        "\n",
        "votesDF = votesDF \\\n",
        "          .select([\"Id\", \"PostId\", \"UserId\", \"VoteTypeId\", \\\n",
        "                  to_timestamp(\"CreationDate\").alias(\"CreationDate\"), \"BountyAmount\"]) \\\n",
        "          .withColumn(\"Year\", date_format(col(\"CreationDate\"), \"y\")) \\\n",
        "          .withColumn(\"Month\", date_format(col(\"CreationDate\"), \"M\")) \\\n",
        "          .withColumn(\"Day\", date_format(col(\"CreationDate\"), \"d\"))  \n",
        "\n",
        "votesDF.printSchema()\n",
        "votesDF.show(n=10, truncate=False) \n",
        "\n",
        "votesDF = votesDF \\\n",
        "          .write \\\n",
        "          .partitionBy(\"Year\", \"Month\", \"Day\") \\\n",
        "          .mode(\"overwrite\") \\\n",
        "          .parquet(\"/content/output/votes.parquet\")"
      ],
      "metadata": {
        "id": "Yi0BV1LA43QM"
      },
      "execution_count": null,
      "outputs": []
    },
    {
      "cell_type": "markdown",
      "source": [
        "# Przypadki analizy danych"
      ],
      "metadata": {
        "id": "M-NjWZ4UYBq9"
      }
    },
    {
      "cell_type": "markdown",
      "source": [
        "#### Przypadek analizy 4A\n",
        "Liczba postów na przestrzeni czasu (lineplot/barplot)"
      ],
      "metadata": {
        "id": "94hwd-HAzXDv"
      }
    },
    {
      "cell_type": "code",
      "source": [
        "### ANALITYKA POSTS\n",
        "\n",
        "from matplotlib import pyplot as plt\n",
        "import numpy as np\n",
        "import pandas as pd\n",
        "plt.rcParams[\"figure.figsize\"] = [10, 6]\n",
        "\n",
        "postsDF1 = spark.read.parquet(\"/content/output/posts.parquet\")\n",
        "\n",
        "postsDF1 = postsDF1 \\\n",
        "  .groupBy(\"Year\", \"Month\") \\\n",
        "  .count() \\\n",
        "  .orderBy(col(\"Year\").desc(), col(\"Month\").asc()) \\\n",
        "  .withColumnRenamed(\"count\", \"Count\") \\\n",
        "  .withColumn(\"Month1\", when(col(\"Month\") == 1, 'Styczneń') \\\n",
        "              .when(col(\"Month\") == 2, 'Luty') \\\n",
        "              .when(col(\"Month\") == 3, 'Marzec') \\\n",
        "              .when(col(\"Month\") == 4, 'Kwiecień') \\\n",
        "              .when(col(\"Month\") == 5, 'Maj') \\\n",
        "              .when(col(\"Month\") == 6, 'Czerwiec') \\\n",
        "              .when(col(\"Month\") == 7, 'Lipiec') \\\n",
        "              .when(col(\"Month\") == 8, 'Sierpień') \\\n",
        "              .when(col(\"Month\") == 9, 'Wrzesień') \\\n",
        "              .when(col(\"Month\") == 10, 'Pażdziernik') \\\n",
        "              .when(col(\"Month\") == 11, 'Listopad') \\\n",
        "              .when(col(\"Month\") == 12, 'Grudzień') \\\n",
        "              .otherwise('Unknown'))\n",
        "\n",
        "postsDF1 = postsDF1.cache()\n",
        "\n",
        "pdDF = postsDF1.toPandas()\n",
        "\n",
        "pdDF = pdDF.pivot(index='Month', columns='Year', values='Count')\n",
        "\n",
        "print(pdDF)\n",
        "\n",
        "plotdata = pdDF\n",
        "ax=plotdata.plot(kind='bar', stacked=True, figsize=(20, 15))\n",
        "#ax2 = ax.twinx()\n",
        "#ax2.set_ylabel('Total number of posts', color = 'b', fontsize=18)\n",
        "ax.set_ylabel(\"Total number of posts\", color = 'g', fontsize=18)\n",
        "plt.style.use('ggplot')\n",
        "plt.title(\"Post ratings\")\n",
        "plt.xlabel(\"Months\")\n",
        "plt.ylabel(\"Number of posts\") \n",
        "plt.legend(loc=\"upper left\")\n",
        "\n",
        "\n",
        "# .patches is everything inside of the chart\n",
        "for rect in ax.patches:\n",
        "    # Find where everything is located\n",
        "    height = rect.get_height()\n",
        "    width = rect.get_width()\n",
        "    x = rect.get_x()\n",
        "    y = rect.get_y()\n",
        "    \n",
        "    # The height of the bar is the data value and can be used as the label\n",
        "    label_text = f'{height}'  # f'{height:.2f}' to format decimal values\n",
        "    \n",
        "    # ax.text(x, y, text)\n",
        "    label_x = x + width / 2\n",
        "    label_y = y + height / 2\n",
        "\n",
        "    # plot only when height is greater than specified value\n",
        "    if height > 0:\n",
        "        ax.text(label_x, label_y, label_text, ha='center', va='center', fontsize=8)\n",
        "    \n",
        "ax.legend(bbox_to_anchor=(1.05, 1), loc='upper left', borderaxespad=0.)    \n",
        "ax.set_ylabel(\"Total number of posts\", fontsize=18)\n",
        "ax.set_xlabel(\"Months\", fontsize=18)\n",
        "plt.show()\n",
        "\n",
        "# for c in plt.containers:\n",
        "\n",
        "#     # Optional: if the segment is small or 0, customize the labels\n",
        "#     labels = [v.get_height() if v.get_height() > 0 else '' for v in c]\n",
        "    \n",
        "#     # remove the labels parameter if it's not needed for customized labels\n",
        "#     plt.bar_label(c, labels=labels, label_type='center')\n",
        "\n",
        "# plt.show()\n",
        "\n",
        "\n",
        "labels = ['missing', '<25', '25-34', '35-44', '45-54','55-64','65+']\n",
        "missing = np.array([0.000095, 0.024830, 0.028665, 0.029477, 0.031918,0.037073,0.026699])\n",
        "man = np.array([0.000147, 0.036311, 0.038684, 0.044761, 0.051269, 0.059542, 0.054259])\n",
        "women = np.array([0.004035, 0.032935, 0.035351, 0.041778, 0.048437, 0.056236,0.048091])\n",
        "ind = [x for x, _ in enumerate(labels)]\n",
        "\n",
        "plt.figure(figsize=(10,8))\n",
        "plt.bar(ind, women, width=0.8, label='women', color='gold', bottom=man+missing)\n",
        "plt.bar(ind, man, width=0.8, label='man', color='silver', bottom=missing)\n",
        "plt.bar(ind, missing, width=0.8, label='missing', color='#CD853F')\n",
        "\n",
        "plt.xticks(ind, labels)\n",
        "plt.ylabel(\"percentage\")\n",
        "plt.legend(loc=\"upper left\")\n",
        "plt.title(\"demo\")\n",
        "\n",
        "plt.show()\n",
        "\n"
      ],
      "metadata": {
        "id": "_NztslrDUTSZ"
      },
      "execution_count": null,
      "outputs": []
    },
    {
      "cell_type": "markdown",
      "source": [
        "#### Przypadek analizy 4B\n",
        "Czas na forum (od pojawienia się użytkownika do ostatniego posta/komentarza) 10 najdłużej aktywnych użytkowników (pomijając boty) (barplot)"
      ],
      "metadata": {
        "id": "7sA_thE4Wc30"
      }
    },
    {
      "cell_type": "code",
      "source": [
        "postsDFAnalize2A = spark.read.parquet(\"/content/output/posts.parquet\") \\\n",
        "    .filter( (col(\"OwnerUserId\").isNotNull()) | (col(\"OwnerUserId\") != -1) ) \\\n",
        "    .groupBy(\"OwnerUserId\") \\\n",
        "    .agg(min(\"CreationDate\").alias(\"CreationDateMin\"), \\\n",
        "         max(\"LastActivityDate\").alias(\"LastActivityDateMax\")) \\\n",
        "    .withColumn(\"DiffInSeconds\", col(\"LastActivityDateMax\").cast(\"long\") - col(\"CreationDateMin\").cast(\"long\")) \\\n",
        "    .withColumn(\"DiffInMinutes\", floor(col(\"DiffInSeconds\") / 60)) \\\n",
        "    .withColumn(\"DiffInHours\", floor(col(\"DiffInSeconds\") / 3_600)) \\\n",
        "    .withColumn(\"DiffInDays\", floor(col(\"DiffInHours\") / 24)) \\\n",
        "    .withColumn(\"DiffInYears\", floor(col(\"DiffInDays\") / 365)) \\\n",
        "    .orderBy(col(\"DiffInSeconds\").desc()) \\\n",
        "    .cache() \\\n",
        "    .show(n=10, truncate=False)"
      ],
      "metadata": {
        "id": "ZNyp9F7KWiyq"
      },
      "execution_count": null,
      "outputs": []
    },
    {
      "cell_type": "markdown",
      "source": [
        "#### Przypadek analizy 4C\n",
        "Porównanie najwyżej i najniżej ocenianych pytań (długość, tagi, liczba odpowiedzi)"
      ],
      "metadata": {
        "id": "SWurcwHhzSGz"
      }
    },
    {
      "cell_type": "markdown",
      "source": [
        "#### Przypadek analizy 4D\n",
        "Procent przypadków kiedy najwyżej oceniana odpowiedź to nie zaakceptowana odpowiedź"
      ],
      "metadata": {
        "id": "klwFNfzMzNue"
      }
    },
    {
      "cell_type": "markdown",
      "source": [
        "#### Przypadek analizy 4E\n",
        "Rozkład ocen odpowiedzi zaakceptowanych vs pozostałych (średnia, odchylenie, minimum, maksimum)"
      ],
      "metadata": {
        "id": "JJTwfvBlzHcX"
      }
    },
    {
      "cell_type": "markdown",
      "source": [
        "#### Przypadek analizy 4F\n",
        "Top N tagów które wygenerowały najwięcej wyświetleń"
      ],
      "metadata": {
        "id": "0sc9y8TdzCh6"
      }
    },
    {
      "cell_type": "markdown",
      "source": [],
      "metadata": {
        "id": "HuJR5b9gLXag"
      }
    },
    {
      "cell_type": "code",
      "source": [
        "from pyspark.sql.functions import col, explode, regexp_replace, split, format_number, countDistinct\n",
        "\n",
        "postsDFAnalize4F = spark \\\n",
        "                   .read \\\n",
        "                   .parquet(\"/content/output/posts.parquet\") \\\n",
        "                   .cache() \\\n",
        "                   .filter( (col('PostTypeId') == 1) ) \\\n",
        "                   .withColumn(\"Tags\", explode(split(col(\"Tags\"), \"><\"))) \\\n",
        "                   .withColumn(\"Tags\", regexp_replace(col(\"Tags\"), \"(^\\<)|(\\>$)\", \"\")) \\\n",
        "                   .groupBy(col('Tags')) \\\n",
        "                   .agg(sum(\"ViewCount\").alias(\"Viewed\")) \\\n",
        "                   .orderBy(col('Viewed').desc()) \\\n",
        "                   .withColumn(\"Viewed\", format_number(\"Viewed\" ,0)) \\\n",
        "                   .show(n=10, truncate=False)                                "
      ],
      "metadata": {
        "id": "YXho17j01CLv"
      },
      "execution_count": null,
      "outputs": []
    },
    {
      "cell_type": "markdown",
      "source": [
        "#### Przypadek analizy 4G\n",
        "Liczba postów w czasie dla każdego z top N tagów (lineplot/barplot)"
      ],
      "metadata": {
        "id": "_fbkgX7ty9x2"
      }
    },
    {
      "cell_type": "markdown",
      "source": [
        "#### Przypadek analizy 4H\n",
        "Najczęściej pojawiające się słowa w tytułach (z pominięciem stopwords)"
      ],
      "metadata": {
        "id": "n2evyz-Xy6c0"
      }
    },
    {
      "cell_type": "code",
      "source": [
        "from pyspark.ml.feature import StopWordsRemover\n",
        "\n",
        "# Define a list of stop words or use default list\n",
        "remover = StopWordsRemover()\n",
        "stopwords = remover.getStopWords() \n",
        "\n",
        "postsDFAnaliza4H = spark.read.parquet(\"/content/output/posts.parquet\") \\\n",
        "                   .select(col('Title')) \\\n",
        "                   .filter(col(\"Title\").isNotNull()) \\\n",
        "                   .cache()\n",
        "\n",
        "resultDFAnalize4H = postsDFAnaliza4H.withColumn('Word', explode(split(col('Title'), ' '))) \\\n",
        "                   .filter(~lower(col(\"Word\")).isin(stopwords)) \\\n",
        "                   .groupBy('Word') \\\n",
        "                   .count() \\\n",
        "                   .sort('Count', ascending=False) \\\n",
        "                   .withColumnRenamed(\"count\", \"WordsCount\") \\\n",
        "                   .withColumn(\"WordsCount\", format_number(\"WordsCount\" ,0)) \\\n",
        "\n",
        "resultDFAnalize4H.show(n=20, truncate=False)"
      ],
      "metadata": {
        "id": "Q7_De0Z5Xmd9"
      },
      "execution_count": null,
      "outputs": []
    },
    {
      "cell_type": "markdown",
      "source": [
        "#### Przypadek analizy 4I\n",
        "Procent użytkowników, którzy nigdy nic nie zapostowali\n"
      ],
      "metadata": {
        "id": "FzIiLNspyqT8"
      }
    },
    {
      "cell_type": "code",
      "source": [
        "from pyspark.sql.window import Window\n",
        "import sys\n",
        "\n",
        "print(f'Evidence of registered users count :: {spark.read.parquet(\"/content/output/users.parquet\").count()}')\n",
        "\n",
        "postsDFAnalize4I = spark.read.parquet(\"/content/output/posts.parquet\") \\\n",
        "                  .select(col('OwnerUserId')) \\\n",
        "                  .cache()\n",
        "usersDFAnalize4I = spark.read.parquet(\"/content/output/users.parquet\") \\\n",
        "                  .select(col('Id'), col('DisplayName')) \\\n",
        "                  .cache()\n",
        "\n",
        "resultDFAnalize4I = usersDFAnalize4I \\\n",
        "                    .join(postsDFAnalize4I, postsDFAnalize4I.OwnerUserId == usersDFAnalize4I.Id, 'left') \\\n",
        "                    .select(col('Id'), when(col('OwnerUserId').isNull(), 0).otherwise(1).alias('isnullable')) \\\n",
        "                    .groupBy(\"isnullable\") \\\n",
        "                    .agg(countDistinct(\"Id\",\"isnullable\").alias(\"isnullable_count\")) \\\n",
        "                    .orderBy(col('isnullable_count').desc()) \\\n",
        "                    .withColumn('percent', col('isnullable_count') / sum('isnullable_count').over(Window.partitionBy())*100) \\\n",
        "                    .withColumn('cumulate_percent', sum(col('percent')).over(Window.partitionBy().orderBy().rowsBetween(-sys.maxsize, 0))) \\\n",
        "                    .show()\n",
        "                    "
      ],
      "metadata": {
        "id": "1Iohco2VjSyO"
      },
      "execution_count": null,
      "outputs": []
    },
    {
      "cell_type": "markdown",
      "source": [
        "#### Przypadek analizy 4J\n",
        "Średni czas od pojawienia się pytania do pojawienia się zaakceptowanej odpowiedzi"
      ],
      "metadata": {
        "id": "0ngNmlBXydmv"
      }
    },
    {
      "cell_type": "code",
      "source": [
        "postsDFAnalize4J = spark.read.parquet(\"/content/output/posts.parquet\") \\\n",
        "                  .filter( (col('AcceptedAnswerId').isNotNull()) ) \\\n",
        "                  .orderBy(col('Id')) \\\n",
        "                  .show(n=10, truncate=False)"
      ],
      "metadata": {
        "id": "MCCdQ9N-zjPS"
      },
      "execution_count": null,
      "outputs": []
    },
    {
      "cell_type": "code",
      "source": [
        "#postsDFAnalize4J = spark.read.parquet(\"/content/output/posts.parquet\").filter( (col('Id')==157305) | (col('ParentId') ==157305) | (col('Id') ==157313)  ).show(n=10, truncate=False)\n",
        "#postsDFAnalize4J = spark.read.parquet(\"/content/output/posts.parquet\").filter(col('ParentId') == 1096).show(n=10, truncate=False)\n",
        "#votesDFAnalize4J = spark.read.parquet(\"/content/output/votes.parquet\").filter(col('PostId') == 157305).show(n=10, truncate=False)\n",
        "#tagsDFAnalize4J = spark.read.parquet(\"/content/output/posthistory.parquet\").filter(col('PostId') == 157305).show(n=10, truncate=False)\n",
        "#3tagsDFAnalize4J = spark.read.parquet(\"/content/output/users.parquet\").filter( (col('Id') == 44960 ) | (col('Id') == 10917) ).show(n=10, truncate=False)\n",
        "        \n",
        "#312\n",
        "#1096\n",
        "\n",
        "# postsDFAnalize4j = spark.read.parquet(\"/content/output/posts.parquet\") \\ \n",
        "#     .cache() \\\n",
        "#     .show(n=10, truncate=False)\n",
        "\n",
        "\n",
        "#GRUPOWANIE \n",
        "\n",
        "#display(pdDF)\n",
        "\n",
        "# postsDF1 \\\n",
        "#   .withColumn('word', explode(f.split(f.col('Description'), ' ')))\\\n",
        "#   .groupBy('word')\\\n",
        "#   .count()\\\n",
        "#   .sort('count', ascending=False)\\\n",
        "#   .show()\n",
        "\n",
        "# import pandas as pd\n",
        "# import matplotlib.pyplot as plt\n",
        "\n",
        "# plotdata = pd.DataFrame({\n",
        "#     \"2010\":[18,13,10,19, 11], #MIESIĄC/ILOŚĆ\n",
        "#     \"2017\":[7,7,7,3, 33],\n",
        "#     \"2018\":[57,67,77,83, 32],\n",
        "#     \"2019\":[68,73,80,79, 32],    \n",
        "#     \"2020\":[73,78,80,85, 34]},\n",
        "#     index=[\"Django\", \"Gafur\", \"Tommy\", \"Ronnie\", \"Python\"]) #LATA\n",
        "# plotdata.plot(kind='bar', stacked=True, figsize=(15, 8))\n",
        "\n",
        "# plt.title(\"Post ratings\")\n",
        "\n",
        "# plt.xlabel(\"Years\")\n",
        "\n",
        "# plt.ylabel(\"Number of posts\")    \n",
        "\n",
        "#plt.bar(df['Year'], df['Sample Size'])\n",
        "#plt.plot(plotdata['2017'], plotdata[7,7,7,3], '-o', color='orange')\n",
        "#https://www.dataquest.io/blog/how-to-plot-a-bar-graph-matplotlib/\n",
        "\n",
        "# from plotly.subplots import make_subplots\n",
        "\n",
        "# speed = [0.1, 17.5, 40, 48, 52, 69, 88]\n",
        "# lifespan = [2, 8, 70, 1.5, 25, 12, 28]\n",
        "# index = ['snail', 'pig', 'elephant', 'rabbit', 'giraffe', 'coyote', 'horse']\n",
        "# df = pd.DataFrame({'speed': speed,'lifespan': lifespan}, index=index)\n",
        "# df.plot.bar()\n",
        "\n",
        "\n",
        "import pyspark\n",
        "from pyspark.sql import SparkSession\n",
        "from pyspark.sql.functions import col,sum,avg,max\n",
        "\n",
        "spark = SparkSession.builder.appName('SparkByExamples.com').getOrCreate()\n",
        "\n",
        "simpleData = [(\"James\",\"Sales\",\"NY\",90000,34,10000),\n",
        "    (\"Michael\",\"Sales\",\"NY\",86000,56,20000),\n",
        "    (\"Robert\",\"Sales\",\"CA\",81000,30,23000),\n",
        "    (\"Maria\",\"Finance\",\"CA\",90000,24,23000),\n",
        "    (\"Raman\",\"Finance\",\"CA\",99000,40,24000),\n",
        "    (\"Scott\",\"Finance\",\"NY\",83000,36,19000),\n",
        "    (\"Jen\",\"Finance\",\"NY\",79000,53,15000),\n",
        "    (\"Jeff\",\"Marketing\",\"CA\",80000,25,18000),\n",
        "    (\"Kumar\",\"Marketing\",\"NY\",91000,50,21000)\n",
        "  ]\n",
        "\n",
        "schema = [\"employee_name\",\"department\",\"state\",\"salary\",\"age\",\"bonus\"]\n",
        "df = spark.createDataFrame(data=simpleData, schema = schema)\n",
        "df.printSchema()\n",
        "df.show(truncate=False)\n",
        "\n",
        "df.groupBy(\"department\").sum(\"salary\").show(truncate=False)\n",
        "\n",
        "df.groupBy(\"department\").count().show(truncate=False)\n",
        "\n",
        "\n",
        "df.groupBy(\"department\",\"state\") \\\n",
        "    .sum(\"salary\",\"bonus\") \\\n",
        "   .show(truncate=False)\n",
        "\n",
        "df.groupBy(\"department\") \\\n",
        "    .agg(sum(\"salary\").alias(\"sum_salary\"), \\\n",
        "         avg(\"salary\").alias(\"avg_salary\"), \\\n",
        "         sum(\"bonus\").alias(\"sum_bonus\"), \\\n",
        "         max(\"bonus\").alias(\"max_bonus\") \\\n",
        "     ) \\\n",
        "    .show(truncate=False)\n",
        "    \n",
        "df.groupBy(\"department\") \\\n",
        "    .agg(sum(\"salary\").alias(\"sum_salary\"), \\\n",
        "      avg(\"salary\").alias(\"avg_salary\"), \\\n",
        "      sum(\"bonus\").alias(\"sum_bonus\"), \\\n",
        "      max(\"bonus\").alias(\"max_bonus\")) \\\n",
        "    .where(col(\"sum_bonus\") >= 50000) \\\n",
        "    .show(truncate=False)"
      ],
      "metadata": {
        "id": "f3Q2FpjotfMY"
      },
      "execution_count": null,
      "outputs": []
    }
  ]
}